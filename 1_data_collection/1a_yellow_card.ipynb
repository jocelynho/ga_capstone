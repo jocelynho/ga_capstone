{
 "cells": [
  {
   "cell_type": "markdown",
   "metadata": {},
   "source": [
    "# Data Collection 1: Yellow Card Scheme\n",
    "\n",
    "##### Disclaimer\n",
    "> The MHRA and CHM encourage the use of data from the Yellow Card Scheme in research and for publication, but wish to ensure that the limitations of interpretation of the data are made clear.\n",
    "If you propose to publish information based on Yellow Card data or Interactive Drug Analysis Profiles, the MHRA is most willing to provide advice on how the Yellow Card information might be best used and presented. The MHRA is also willing to provide feedback on manuscripts prior to publication. Please write to the Director, Vigilance and Risk Management of Medicines Division by email.\n",
    "\n",
    "## Overview\n",
    "This notebook includes codes used to download side effect reports on the Yellow Card Scheme Interactive Drug Analysis Profiles (iDAP)."
   ]
  },
  {
   "cell_type": "code",
   "execution_count": 1,
   "metadata": {
    "ExecuteTime": {
     "end_time": "2021-02-09T23:38:27.189638Z",
     "start_time": "2021-02-09T23:38:23.248108Z"
    }
   },
   "outputs": [],
   "source": [
    "# import necessary pacakges\n",
    "import requests\n",
    "import bs4\n",
    "from bs4 import BeautifulSoup\n",
    "import numpy as np\n",
    "from time import sleep\n",
    "import random\n",
    "import pandas as pd\n",
    "from tqdm import tqdm\n",
    "import string"
   ]
  },
  {
   "cell_type": "markdown",
   "metadata": {},
   "source": [
    "# Download files using Selenium\n",
    "\n",
    "## Inspect website elements\n",
    "In order to efficiently download the zip files from Yellow Card iDAP, let's inspect the website elements. This can be done by right-clicking on the item you wish to look at, and selecting the `Inspect` option.\n",
    "1. Element from yellow card list of drugs:\n",
    "`<a href=\"dap.html?drug=./UK_EXTERNAL/NONCOMBINED/UK_NON_000692998184.zip&amp;agency=MHRA\" target=\"_blank\">Zafirlukast</a>`\n",
    "\n",
    "2. Element for downloading csv file:\n",
    "`<a href=\"data/./UK_EXTERNAL/NONCOMBINED/UK_NON_000692998184.zip\">click here</a>`\n",
    "\n",
    "3. Link for downloading csv files:\n",
    "`https://info.mhra.gov.uk/drug-analysis-profiles/data/./UK_EXTERNAL/NONCOMBINED/UK_NON_000692998184.zip`\n",
    "\n",
    "\n",
    "Note that the `UK_NON_` numbers are the same for each drug, for which I call the drug's Yellow Card ID.\n",
    "Also, the downloadable links for each drug's zip file are the same, apart from the `UK_NON_` numbers, i.e. the Yellow Card IDs.\n",
    "\n",
    "The plan to automate this download process is to:\n",
    "1. Obtain each drug's unique Yellow Card ID (the 12-digit number following `UK_NON_`)\n",
    "2. Replace each Yellow Card ID into the link to download all the zip files."
   ]
  },
  {
   "cell_type": "markdown",
   "metadata": {},
   "source": [
    "## Set Up Selenium\n",
    "Selenium is a great tool for dynamic web content in which BeautifulSoup is unable to scrape. It allows for operations such as typing in certain words, clicking certain buttons, and other mouse or keyboard commands.\n",
    "\n",
    "Let's first import the libraries that we need and set up Selenium:\n",
    "> Note:\n",
    "> - This set-up is for Chrome web browser\n",
    "> - Change the `executable path` to the absolute path to where your downloaded `chromedriver` folder is"
   ]
  },
  {
   "cell_type": "code",
   "execution_count": 219,
   "metadata": {
    "ExecuteTime": {
     "end_time": "2021-02-04T09:26:46.574474Z",
     "start_time": "2021-02-04T09:26:32.905163Z"
    }
   },
   "outputs": [
    {
     "data": {
      "text/plain": [
       "True"
      ]
     },
     "execution_count": 219,
     "metadata": {},
     "output_type": "execute_result"
    }
   ],
   "source": [
    "# import necessary packages and functions\n",
    "import selenium\n",
    "from selenium import webdriver\n",
    "from selenium.webdriver.common.keys import Keys\n",
    "from selenium.webdriver.common.by import By\n",
    "from selenium.webdriver.support.ui import WebDriverWait\n",
    "from selenium.webdriver.support import expected_conditions as EC\n",
    "import time\n",
    "\n",
    "# set up web driver for Selenium\n",
    "options = webdriver.ChromeOptions()\n",
    "chrome_options=options\n",
    "options.add_argument('--enable-javascript')\n",
    "driver = webdriver.Chrome(executable_path='/Applications/chromedriver', options=options)"
   ]
  },
  {
   "cell_type": "markdown",
   "metadata": {},
   "source": [
    "## Click onto each alphabet and sub-range\n",
    "Before downloading the files, I need to click onto each drug. To do that, I need to go through each alphabet from A to Z on the webpage, then for each alphabet (e.g. A) I click onto each sub-range (e.g. Aa-Ad), and finally click onto the drug name (e.g. Abacavir).\n",
    "\n",
    "To do this, I now use the `WebDriver` previously set up to visit the Yellow Card web page. Note that upon inspection, the content I need is encapsulated in a `iframe` called `\"e\"`, therefore I used toe function `WebDriverWait` to switch to the iframe before retrieving the information."
   ]
  },
  {
   "cell_type": "code",
   "execution_count": null,
   "metadata": {},
   "outputs": [],
   "source": [
    "# go to the yellow card url\n",
    "driver.get('https://yellowcard.mhra.gov.uk/iDAP/')\n",
    "\n",
    "# wait until the iframe \"e\" is available before commencing web scrape\n",
    "WebDriverWait(driver, 10).until(EC.frame_to_be_available_and_switch_to_it(\"e\"))"
   ]
  },
  {
   "cell_type": "markdown",
   "metadata": {},
   "source": [
    "Once I'm in the correct frame, I now start finding the elements I wish to tell the web driver to click onto."
   ]
  },
  {
   "cell_type": "code",
   "execution_count": null,
   "metadata": {
    "ExecuteTime": {
     "end_time": "2021-02-03T18:28:55.180787Z",
     "start_time": "2021-02-03T15:39:08.476111Z"
    },
    "scrolled": true
   },
   "outputs": [],
   "source": [
    "try:\n",
    "    # create empty lists to store drug names and respective links\n",
    "    drug_names = []\n",
    "    links = []\n",
    "    \n",
    "    # create a list of alphbets to mimic A to Z on webpage\n",
    "    alphabets = list(string.ascii_uppercase)\n",
    "    \n",
    "    # loop through each alphabet\n",
    "    for i, alphabet in enumerate(alphabets):\n",
    "        \n",
    "        # sleep for a few seconds\n",
    "        sleep(random.randint(3, 5))\n",
    "        \n",
    "        # click onto each alphabet section\n",
    "        driver.find_element_by_xpath(f'//*[@id=\"top_index_level\"]/div[{i + 1}]').click()\n",
    "        \n",
    "        # get range of subsets under each alphabet\n",
    "        index = driver.find_element_by_xpath(f'//*[@id=\"top_index_level_{alphabet}\"]')\n",
    "        words = index.text\n",
    "        # e.g. Aa-Ad will be captured by [x:x+5]\n",
    "        ranges = [words[x : x + 5] for x in range(0, len(words), 5)]\n",
    "        \n",
    "        # for each subsection of each alphabet\n",
    "        for j in tqdm(range(len(ranges))):\n",
    "            \n",
    "            # sleep for a few seconds\n",
    "            sleep(random.randint(3, 5))\n",
    "                \n",
    "            # click onto each subsection\n",
    "            driver.find_element_by_xpath(f'//*[@id=\"top_index_level_{alphabet}\"]/div[{j + 1}]').click()\n",
    "            body = driver.find_element_by_tag_name(\"body\")\n",
    "            \n",
    "            # the first 2 elements are not relevant, so we exclude them with [2:]\n",
    "            tmp = body.text.split('\\n')[2:]\n",
    "            # add drug names to list\n",
    "            drug_names.extend(tmp)\n",
    "        \n",
    "            \n",
    "            # loop through each drug name\n",
    "            for drug in tmp:\n",
    "                # get href link for each drug\n",
    "                link = driver.find_element_by_link_text(f'{drug}').get_attribute('href')\n",
    "                # add link to list of links\n",
    "                links.append(link)\n",
    "                \n",
    "                # sleep\n",
    "                sleep(random.randint(3, 5))\n",
    "except:\n",
    "    # prints out error if url or any of the above steps did not work\n",
    "    print('error')"
   ]
  },
  {
   "cell_type": "markdown",
   "metadata": {},
   "source": [
    "## Create a dataframe\n",
    "\n",
    "Now that I obtained the information I need, let's make a data frame."
   ]
  },
  {
   "cell_type": "code",
   "execution_count": 4,
   "metadata": {
    "ExecuteTime": {
     "end_time": "2021-02-05T15:22:12.699670Z",
     "start_time": "2021-02-05T15:22:12.655717Z"
    }
   },
   "outputs": [
    {
     "data": {
      "text/html": [
       "<div>\n",
       "<style scoped>\n",
       "    .dataframe tbody tr th:only-of-type {\n",
       "        vertical-align: middle;\n",
       "    }\n",
       "\n",
       "    .dataframe tbody tr th {\n",
       "        vertical-align: top;\n",
       "    }\n",
       "\n",
       "    .dataframe thead th {\n",
       "        text-align: right;\n",
       "    }\n",
       "</style>\n",
       "<table border=\"1\" class=\"dataframe\">\n",
       "  <thead>\n",
       "    <tr style=\"text-align: right;\">\n",
       "      <th></th>\n",
       "      <th>drug_name</th>\n",
       "      <th>link</th>\n",
       "      <th>yc_id</th>\n",
       "    </tr>\n",
       "  </thead>\n",
       "  <tbody>\n",
       "    <tr>\n",
       "      <th>0</th>\n",
       "      <td>Abacavir</td>\n",
       "      <td>https://info.mhra.gov.uk/drug-analysis-profile...</td>\n",
       "      <td>000040046536</td>\n",
       "    </tr>\n",
       "    <tr>\n",
       "      <th>1</th>\n",
       "      <td>Abatacept</td>\n",
       "      <td>https://info.mhra.gov.uk/drug-analysis-profile...</td>\n",
       "      <td>000561378321</td>\n",
       "    </tr>\n",
       "    <tr>\n",
       "      <th>2</th>\n",
       "      <td>Abciximab</td>\n",
       "      <td>https://info.mhra.gov.uk/drug-analysis-profile...</td>\n",
       "      <td>000231911819</td>\n",
       "    </tr>\n",
       "    <tr>\n",
       "      <th>3</th>\n",
       "      <td>Abemaciclib</td>\n",
       "      <td>https://info.mhra.gov.uk/drug-analysis-profile...</td>\n",
       "      <td>000369408139</td>\n",
       "    </tr>\n",
       "    <tr>\n",
       "      <th>4</th>\n",
       "      <td>Abiraterone</td>\n",
       "      <td>https://info.mhra.gov.uk/drug-analysis-profile...</td>\n",
       "      <td>000968368347</td>\n",
       "    </tr>\n",
       "  </tbody>\n",
       "</table>\n",
       "</div>"
      ],
      "text/plain": [
       "     drug_name                                               link  \\\n",
       "0     Abacavir  https://info.mhra.gov.uk/drug-analysis-profile...   \n",
       "1    Abatacept  https://info.mhra.gov.uk/drug-analysis-profile...   \n",
       "2    Abciximab  https://info.mhra.gov.uk/drug-analysis-profile...   \n",
       "3  Abemaciclib  https://info.mhra.gov.uk/drug-analysis-profile...   \n",
       "4  Abiraterone  https://info.mhra.gov.uk/drug-analysis-profile...   \n",
       "\n",
       "          yc_id  \n",
       "0  000040046536  \n",
       "1  000561378321  \n",
       "2  000231911819  \n",
       "3  000369408139  \n",
       "4  000968368347  "
      ]
     },
     "execution_count": 4,
     "metadata": {},
     "output_type": "execute_result"
    }
   ],
   "source": [
    "# create a dataframe of each drug and respective urls\n",
    "yc = pd.DataFrame({'drug_name': drug_names, 'link': links})\n",
    "\n",
    "# from the urls, extract the yellow card ids that start with UK_NON_\n",
    "yc['yc_id'] = yc['link'].str.extract(r'UK_NON_(.+).zip')\n",
    "yc.head()\n",
    "\n",
    "## save csv\n",
    "# yc.to_csv('yellow_card_links.csv', header = True, index = False)"
   ]
  },
  {
   "cell_type": "code",
   "execution_count": null,
   "metadata": {
    "ExecuteTime": {
     "end_time": "2021-02-09T23:39:41.167073Z",
     "start_time": "2021-02-09T23:39:41.146042Z"
    }
   },
   "outputs": [],
   "source": [
    "## codes used to reload saved csv of the yellow card dataframe\n",
    "# yc = pd.read_csv('/Users/JocelynHo/Desktop/GA Capstone/yellow_card_links.csv', dtype = object)\n",
    "# yc.head()"
   ]
  },
  {
   "cell_type": "code",
   "execution_count": 215,
   "metadata": {
    "ExecuteTime": {
     "end_time": "2021-02-04T09:14:16.823924Z",
     "start_time": "2021-02-04T09:14:16.808470Z"
    }
   },
   "outputs": [
    {
     "data": {
      "text/plain": [
       "0"
      ]
     },
     "execution_count": 215,
     "metadata": {},
     "output_type": "execute_result"
    }
   ],
   "source": [
    "# make sure there are no duplicates\n",
    "yc.duplicated().sum()"
   ]
  },
  {
   "cell_type": "code",
   "execution_count": 6,
   "metadata": {
    "ExecuteTime": {
     "end_time": "2021-02-05T15:24:33.350073Z",
     "start_time": "2021-02-05T15:24:33.320866Z"
    }
   },
   "outputs": [
    {
     "name": "stdout",
     "output_type": "stream",
     "text": [
      "<class 'pandas.core.frame.DataFrame'>\n",
      "RangeIndex: 2339 entries, 0 to 2338\n",
      "Data columns (total 3 columns):\n",
      " #   Column     Non-Null Count  Dtype \n",
      "---  ------     --------------  ----- \n",
      " 0   drug_name  2339 non-null   object\n",
      " 1   link       2339 non-null   object\n",
      " 2   yc_id      2339 non-null   object\n",
      "dtypes: object(3)\n",
      "memory usage: 54.9+ KB\n"
     ]
    }
   ],
   "source": [
    "# overview of dataframe\n",
    "yc.info()"
   ]
  },
  {
   "cell_type": "markdown",
   "metadata": {},
   "source": [
    "## Automate the download process\n",
    "I now loop through each of the Yellow Card IDs extracted from the links, and download the zip file for each drug."
   ]
  },
  {
   "cell_type": "code",
   "execution_count": 221,
   "metadata": {
    "ExecuteTime": {
     "end_time": "2021-02-04T09:41:13.443666Z",
     "start_time": "2021-02-04T09:27:17.964949Z"
    }
   },
   "outputs": [
    {
     "name": "stderr",
     "output_type": "stream",
     "text": [
      "100%|██████████| 2339/2339 [13:55<00:00,  2.80it/s]\n"
     ]
    }
   ],
   "source": [
    "# loop through each id to download zip files from Yellow Card\n",
    "for x in tqdm(yc['yc_id']):\n",
    "    driver.get(f'https://info.mhra.gov.uk/drug-analysis-profiles/data/./UK_EXTERNAL/NONCOMBINED/UK_NON_{x}.zip')"
   ]
  },
  {
   "cell_type": "markdown",
   "metadata": {},
   "source": [
    "Then, looping through each zip file, I unzip the files to extract the respective `.csv` files."
   ]
  },
  {
   "cell_type": "code",
   "execution_count": 223,
   "metadata": {
    "ExecuteTime": {
     "end_time": "2021-02-04T09:43:50.109018Z",
     "start_time": "2021-02-04T09:43:31.611586Z"
    }
   },
   "outputs": [
    {
     "name": "stderr",
     "output_type": "stream",
     "text": [
      "100%|██████████| 2339/2339 [00:18<00:00, 126.68it/s]\n"
     ]
    }
   ],
   "source": [
    "# extract csvs from zip\n",
    "import zipfile\n",
    "\n",
    "for x in tqdm(yc['yc_id']):\n",
    "    with zipfile.ZipFile(f'/Users/JocelynHo/Downloads/UK_NON_{x}.zip', 'r') as zip_ref:\n",
    "        zip_ref.extractall('/Users/JocelynHo/Desktop/GA Capstone/yellow_card_raw_csvs')"
   ]
  },
  {
   "cell_type": "markdown",
   "metadata": {},
   "source": [
    "# Next Steps:\n",
    "Now let's move on to the next Jupyter Notebook: `1b_drugbank`."
   ]
  }
 ],
 "metadata": {
  "kernelspec": {
   "display_name": "Python 3",
   "language": "python",
   "name": "python3"
  },
  "language_info": {
   "codemirror_mode": {
    "name": "ipython",
    "version": 3
   },
   "file_extension": ".py",
   "mimetype": "text/x-python",
   "name": "python",
   "nbconvert_exporter": "python",
   "pygments_lexer": "ipython3",
   "version": "3.8.5"
  },
  "latex_envs": {
   "LaTeX_envs_menu_present": true,
   "autoclose": false,
   "autocomplete": true,
   "bibliofile": "biblio.bib",
   "cite_by": "apalike",
   "current_citInitial": 1,
   "eqLabelWithNumbers": true,
   "eqNumInitial": 1,
   "hotkeys": {
    "equation": "Ctrl-E",
    "itemize": "Ctrl-I"
   },
   "labels_anchors": false,
   "latex_user_defs": false,
   "report_style_numbering": false,
   "user_envs_cfg": false
  },
  "nbTranslate": {
   "displayLangs": [
    "*"
   ],
   "hotkey": "alt-t",
   "langInMainMenu": true,
   "sourceLang": "en",
   "targetLang": "fr",
   "useGoogleTranslate": true
  },
  "toc": {
   "base_numbering": 1,
   "nav_menu": {},
   "number_sections": true,
   "sideBar": true,
   "skip_h1_title": false,
   "title_cell": "Table of Contents",
   "title_sidebar": "Contents",
   "toc_cell": false,
   "toc_position": {},
   "toc_section_display": true,
   "toc_window_display": false
  }
 },
 "nbformat": 4,
 "nbformat_minor": 4
}
