{
 "cells": [
  {
   "cell_type": "markdown",
   "metadata": {},
   "source": [
    "![](./banner.png)\n",
    "\n",
    "# Data Collection 3: UCI Drugs.com reviews dataset\n",
    "\n",
    "##### Citation\n",
    "Felix Gräßer, Surya Kallumadi, Hagen Malberg, and Sebastian Zaunseder. 2018. Aspect-Based Sentiment Analysis of Drug Reviews Applying Cross-Domain and Cross-Data Learning. In Proceedings of the 2018 International Conference on Digital Health (DH '18). ACM, New York, NY, USA, 121-125. DOI: [Web Link](https://dl.acm.org/doi/10.1145/3194658.3194677)\n",
    "\n",
    "\n",
    "## Overview\n",
    "The dataset includes patient reviews on medicinal products, conditions that the product is indicated for, and a 10-star rating reflecting overall patient satisfaction.\n",
    "For full description, please refer to [UCI Machine Learning Repositories](https://archive.ics.uci.edu/ml/datasets/Drug+Review+Dataset+%28Drugs.com%29).\n"
   ]
  },
  {
   "cell_type": "markdown",
   "metadata": {},
   "source": [
    "Let's first import the necessary packages:"
   ]
  },
  {
   "cell_type": "code",
   "execution_count": 401,
   "metadata": {
    "ExecuteTime": {
     "end_time": "2021-03-30T09:11:53.293698Z",
     "start_time": "2021-03-30T09:11:53.288932Z"
    }
   },
   "outputs": [],
   "source": [
    "import numpy as np\n",
    "import pandas as pd"
   ]
  },
  {
   "cell_type": "markdown",
   "metadata": {},
   "source": [
    "## Load the data\n",
    "- The original dataset is split into two separate `csvs`, a training set (75%) and a test set (25%). \n",
    "- I loaded the datasets using the Pandas function `pd.read_csv()`.\n",
    "- The files are in `tsv` format (tab-separated values), therefore I loaded the datasets with `delimiter = '\\t'`."
   ]
  },
  {
   "cell_type": "code",
   "execution_count": 402,
   "metadata": {
    "ExecuteTime": {
     "end_time": "2021-03-30T09:11:55.956745Z",
     "start_time": "2021-03-30T09:11:54.400288Z"
    }
   },
   "outputs": [
    {
     "name": "stdout",
     "output_type": "stream",
     "text": [
      "(161297, 6)\n"
     ]
    }
   ],
   "source": [
    "# import training set csv\n",
    "reviews_train = pd.read_csv('/Users/JocelynHo/Desktop/drugs_com_reviews/drugsComTrain_raw.tsv',\n",
    "                            delimiter = '\\t', index_col = 'Unnamed: 0')\n",
    "\n",
    "# check number of rows, columns\n",
    "print(reviews_train.shape)"
   ]
  },
  {
   "cell_type": "code",
   "execution_count": 403,
   "metadata": {
    "ExecuteTime": {
     "end_time": "2021-03-30T09:11:56.479830Z",
     "start_time": "2021-03-30T09:11:55.962220Z"
    }
   },
   "outputs": [
    {
     "name": "stdout",
     "output_type": "stream",
     "text": [
      "(53766, 6)\n"
     ]
    }
   ],
   "source": [
    "# import test set csv\n",
    "reviews_test = pd.read_csv('/Users/JocelynHo/Desktop/drugs_com_reviews/drugsComTest_raw.tsv',\n",
    "                            delimiter = '\\t', index_col = 'Unnamed: 0')\n",
    "\n",
    "# check number of rows, columns\n",
    "print(reviews_test.shape)"
   ]
  },
  {
   "cell_type": "markdown",
   "metadata": {},
   "source": [
    "## Combine training and test datasets\n",
    "In order to combine this dataset to the Yellow Card dataset I created, I combined them together using `pd.concat()`. Since the original datasets are shuffled (row indices are not in order), I sorted the indices using `.sort_index(inplace = True)`."
   ]
  },
  {
   "cell_type": "code",
   "execution_count": 404,
   "metadata": {
    "ExecuteTime": {
     "end_time": "2021-03-30T09:11:56.659359Z",
     "start_time": "2021-03-30T09:11:56.483680Z"
    }
   },
   "outputs": [
    {
     "name": "stdout",
     "output_type": "stream",
     "text": [
      "(215063, 6)\n"
     ]
    },
    {
     "data": {
      "text/html": [
       "<div>\n",
       "<style scoped>\n",
       "    .dataframe tbody tr th:only-of-type {\n",
       "        vertical-align: middle;\n",
       "    }\n",
       "\n",
       "    .dataframe tbody tr th {\n",
       "        vertical-align: top;\n",
       "    }\n",
       "\n",
       "    .dataframe thead th {\n",
       "        text-align: right;\n",
       "    }\n",
       "</style>\n",
       "<table border=\"1\" class=\"dataframe\">\n",
       "  <thead>\n",
       "    <tr style=\"text-align: right;\">\n",
       "      <th></th>\n",
       "      <th>drugName</th>\n",
       "      <th>condition</th>\n",
       "      <th>review</th>\n",
       "      <th>rating</th>\n",
       "      <th>date</th>\n",
       "      <th>usefulCount</th>\n",
       "    </tr>\n",
       "  </thead>\n",
       "  <tbody>\n",
       "    <tr>\n",
       "      <th>0</th>\n",
       "      <td>Medroxyprogesterone</td>\n",
       "      <td>Abnormal Uterine Bleeding</td>\n",
       "      <td>\"Been on the depo injection since January 2015...</td>\n",
       "      <td>3.0</td>\n",
       "      <td>October 28, 2015</td>\n",
       "      <td>4</td>\n",
       "    </tr>\n",
       "    <tr>\n",
       "      <th>2</th>\n",
       "      <td>Medroxyprogesterone</td>\n",
       "      <td>Amenorrhea</td>\n",
       "      <td>\"I&amp;#039;m 21 years old and recently found out ...</td>\n",
       "      <td>10.0</td>\n",
       "      <td>October 27, 2015</td>\n",
       "      <td>11</td>\n",
       "    </tr>\n",
       "    <tr>\n",
       "      <th>3</th>\n",
       "      <td>Medroxyprogesterone</td>\n",
       "      <td>Abnormal Uterine Bleeding</td>\n",
       "      <td>\"I have been on the shot 11 years and until a ...</td>\n",
       "      <td>8.0</td>\n",
       "      <td>October 27, 2015</td>\n",
       "      <td>7</td>\n",
       "    </tr>\n",
       "    <tr>\n",
       "      <th>4</th>\n",
       "      <td>Medroxyprogesterone</td>\n",
       "      <td>Birth Control</td>\n",
       "      <td>\"Ive had four shots at this point. I was on bi...</td>\n",
       "      <td>9.0</td>\n",
       "      <td>October 26, 2015</td>\n",
       "      <td>12</td>\n",
       "    </tr>\n",
       "    <tr>\n",
       "      <th>5</th>\n",
       "      <td>Medroxyprogesterone</td>\n",
       "      <td>Abnormal Uterine Bleeding</td>\n",
       "      <td>\"I had a total of 3 shots. I got my first one ...</td>\n",
       "      <td>1.0</td>\n",
       "      <td>October 25, 2015</td>\n",
       "      <td>4</td>\n",
       "    </tr>\n",
       "  </tbody>\n",
       "</table>\n",
       "</div>"
      ],
      "text/plain": [
       "              drugName                  condition  \\\n",
       "0  Medroxyprogesterone  Abnormal Uterine Bleeding   \n",
       "2  Medroxyprogesterone                 Amenorrhea   \n",
       "3  Medroxyprogesterone  Abnormal Uterine Bleeding   \n",
       "4  Medroxyprogesterone              Birth Control   \n",
       "5  Medroxyprogesterone  Abnormal Uterine Bleeding   \n",
       "\n",
       "                                              review  rating  \\\n",
       "0  \"Been on the depo injection since January 2015...     3.0   \n",
       "2  \"I&#039;m 21 years old and recently found out ...    10.0   \n",
       "3  \"I have been on the shot 11 years and until a ...     8.0   \n",
       "4  \"Ive had four shots at this point. I was on bi...     9.0   \n",
       "5  \"I had a total of 3 shots. I got my first one ...     1.0   \n",
       "\n",
       "               date  usefulCount  \n",
       "0  October 28, 2015            4  \n",
       "2  October 27, 2015           11  \n",
       "3  October 27, 2015            7  \n",
       "4  October 26, 2015           12  \n",
       "5  October 25, 2015            4  "
      ]
     },
     "execution_count": 404,
     "metadata": {},
     "output_type": "execute_result"
    }
   ],
   "source": [
    "# combine both together\n",
    "reviews = pd.concat([reviews_test, reviews_train])\n",
    "\n",
    "# check number of rows and columns\n",
    "print(reviews.shape)\n",
    "\n",
    "# resort indices to be in order\n",
    "reviews.sort_index(inplace = True)\n",
    "\n",
    "# check first 5 rows\n",
    "reviews.head()"
   ]
  },
  {
   "cell_type": "markdown",
   "metadata": {},
   "source": [
    "Let's take a look at the columns:\n",
    "1. `drugName` (categorical): Brand name of drug\n",
    "2. `condition` (categorical): Name of condition drug is used for\n",
    "3. `review` (text): Patient's review\n",
    "4. `rating` (numerical): Patient's rating out of 10 stars\n",
    "5. `date` (date): Date of review entry\n",
    "6. `usefulCount` (numerical): Number of users who found review useful"
   ]
  },
  {
   "cell_type": "markdown",
   "metadata": {},
   "source": [
    "## Data Cleaning\n",
    "### Drop date column\n",
    "`date` column is not needed, so I decided to drop it."
   ]
  },
  {
   "cell_type": "code",
   "execution_count": 405,
   "metadata": {
    "ExecuteTime": {
     "end_time": "2021-03-30T09:11:58.362822Z",
     "start_time": "2021-03-30T09:11:58.332624Z"
    }
   },
   "outputs": [],
   "source": [
    "# drop date column\n",
    "reviews.drop(columns = 'date', inplace = True)"
   ]
  },
  {
   "cell_type": "markdown",
   "metadata": {},
   "source": [
    "### Rename columns\n",
    "I didn't like how the column names were set up, so I decided to rename them."
   ]
  },
  {
   "cell_type": "code",
   "execution_count": 406,
   "metadata": {
    "ExecuteTime": {
     "end_time": "2021-03-30T09:11:59.429145Z",
     "start_time": "2021-03-30T09:11:59.425519Z"
    }
   },
   "outputs": [],
   "source": [
    "# rename columns\n",
    "reviews.columns = ['drug', 'condition', 'review', 'rating', 'useful_count']"
   ]
  },
  {
   "cell_type": "markdown",
   "metadata": {},
   "source": [
    "### Convert all text to lower case\n",
    "I created a custom function `to_lower()` that converts all strings of texts to lower case, for easier manipulation at later stages. The try-except clause makes sure that if certain values cannot be converted (e.g. nan values), instead of raising an error, the original value will be returned."
   ]
  },
  {
   "cell_type": "code",
   "execution_count": 407,
   "metadata": {
    "ExecuteTime": {
     "end_time": "2021-03-30T09:12:01.455416Z",
     "start_time": "2021-03-30T09:12:00.543411Z"
    }
   },
   "outputs": [],
   "source": [
    "# create function to convert to lowercase\n",
    "def to_lower(x):\n",
    "    try:\n",
    "        return x.lower()\n",
    "    except:\n",
    "        return x\n",
    "\n",
    "# apply custom function to the entire dataframe\n",
    "reviews = reviews.applymap(to_lower)"
   ]
  },
  {
   "cell_type": "markdown",
   "metadata": {},
   "source": [
    "### Convert brand names to drug names\n",
    "The biggest task of this dataset is to address the issue of brand names vs drug names. This dataset is based on each medicinal product's BRAND NAME (e.g. Calpol), instead of the DRUG NAME or active ingredient (e.g. paracetamol).\n",
    "\n",
    "In order to combine this dataset to my Yellow Card dataset, I have to convert all the brand names to their respective drug names."
   ]
  },
  {
   "cell_type": "markdown",
   "metadata": {},
   "source": [
    "##### Trial - manual conversion\n",
    "Initially I tried to manually convert the brand names to drug names, but quickly realised it is too time consuming and decided to then automate the entire process.\n",
    "\n",
    "Here is a snippet of my attempt to manually convert the values"
   ]
  },
  {
   "cell_type": "code",
   "execution_count": 408,
   "metadata": {
    "ExecuteTime": {
     "end_time": "2021-03-30T09:12:02.966146Z",
     "start_time": "2021-03-30T09:12:02.852916Z"
    }
   },
   "outputs": [],
   "source": [
    "# change brand names to drug names\n",
    "reviews.loc[reviews[reviews['drug'] == 'acanya'].index, 'drug'] = 'benzoyl peroxide / clindamycin'\n",
    "reviews.loc[reviews[reviews['drug'] == 'abilify discmelt'].index, 'drug'] = 'aripiprazole'\n",
    "reviews.loc[reviews[reviews['drug'] == 'acnex'].index, 'drug'] = 'salicyic acid'"
   ]
  },
  {
   "cell_type": "code",
   "execution_count": 409,
   "metadata": {
    "ExecuteTime": {
     "end_time": "2021-03-30T09:12:02.991897Z",
     "start_time": "2021-03-30T09:12:02.971101Z"
    }
   },
   "outputs": [
    {
     "ename": "SyntaxError",
     "evalue": "invalid syntax (<ipython-input-409-cb7c6a22faf2>, line 2)",
     "output_type": "error",
     "traceback": [
      "\u001b[0;36m  File \u001b[0;32m\"<ipython-input-409-cb7c6a22faf2>\"\u001b[0;36m, line \u001b[0;32m2\u001b[0m\n\u001b[0;31m    'abilify discmelt', 'aripiprazole',\u001b[0m\n\u001b[0m                      ^\u001b[0m\n\u001b[0;31mSyntaxError\u001b[0m\u001b[0;31m:\u001b[0m invalid syntax\n"
     ]
    }
   ],
   "source": [
    "{'acanya': 'benzoyl peroxide / clindamycin',\n",
    "'abilify discmelt', 'aripiprazole',\n",
    "'acnex': 'salicyic acid',\n",
    "'a / b otic': 'antipyrine / benzocaine',\n",
    "'a + d cracked skin relief': 'benzalkonium chloride / lidocaine',\n",
    "'actifed': 'chlorphenamine / phenylephrine',\n",
    "'activella': 'estradiol / norethindrone',\n",
    "'actoplus met': 'metformin / pioglitazone',\n",
    "'actonel with calcium': 'risedronate / calcium',\n",
    "'adderall xr': 'amphetamine',\n",
    "'addyi': 'flibanserin',\n",
    "'advicor': 'niacin / lovastatin',\n",
    "'advil cold and sinus': 'ibuprofen / pseudoephedrine',\n",
    "'advil liqui-gels': 'ibuprofen / pseudoephedrine',\n",
    "'advil migraine': 'ibuprofen',\n",
    "'afrin original': 'oxymetazoline',\n",
    "'afrin sinus': 'oxymetazoline',\n",
    "'ala-quin': 'clioquinol / hydrocortisone',\n",
    "'alahist lq': 'diphenhydramine / phenylephrine',\n",
    "'alavert': 'loratidine',\n",
    "'aleve-d sinus & cold': 'naproxen / pseudoephedrine',\n",
    "'alka-seltzer plus cold formula sparkling original effervescent tablets': 'aspirin / chlorpheniramine / phenylephrine'}"
   ]
  },
  {
   "cell_type": "markdown",
   "metadata": {},
   "source": [
    "#### Extract unique brand names\n",
    "In order to automate the process, I first extracted all the unique brand names using `.unique()` on the `drug` column."
   ]
  },
  {
   "cell_type": "code",
   "execution_count": 410,
   "metadata": {
    "ExecuteTime": {
     "end_time": "2021-03-30T09:12:03.982451Z",
     "start_time": "2021-03-30T09:12:03.959281Z"
    }
   },
   "outputs": [
    {
     "name": "stdout",
     "output_type": "stream",
     "text": [
      "3669\n"
     ]
    },
    {
     "data": {
      "text/plain": [
       "['medroxyprogesterone',\n",
       " 'phenylephrine',\n",
       " 'silodosin',\n",
       " 'resorcinol / sulfur',\n",
       " 'methylin er',\n",
       " 'clemastine',\n",
       " 'pentosan polysulfate sodium',\n",
       " 'metoprolol tartrate',\n",
       " 'xeljanz xr',\n",
       " 'rituxan',\n",
       " 'torsemide',\n",
       " 'diphenhydramine / hydrocortisone',\n",
       " 'levo-dromoran',\n",
       " 'everolimus',\n",
       " 'tolak',\n",
       " 'fenoprofen',\n",
       " 'metronidazole',\n",
       " 'sumatriptan',\n",
       " 'ibudone',\n",
       " 'triple antibiotic']"
      ]
     },
     "execution_count": 410,
     "metadata": {},
     "output_type": "execute_result"
    }
   ],
   "source": [
    "brands = list(reviews.drug.unique())\n",
    "print(len(brands))\n",
    "brands[:20]"
   ]
  },
  {
   "cell_type": "markdown",
   "metadata": {},
   "source": [
    "#### Clean names to use in Drugs.com\n",
    "First, I need to change the format of the brand names, so that they follow the correct format of Drugs.com urls. This is done using a list comprehension with the following:\n",
    "- Replacing `'/'` with `'-'`\n",
    "- Replacing `' #'` with `'-'`\n",
    "- Replacing `\"'\"` with `'-'`\n",
    "- Replacing `' + '` with `'-'`\n",
    "- Replacing `'.'` with `'-'`\n",
    "- Replacing `'. '` with `'-'`\n",
    "- Replacing `' '` (space) with `'-'`\n",
    "- Removing extra spaces"
   ]
  },
  {
   "cell_type": "code",
   "execution_count": 411,
   "metadata": {
    "ExecuteTime": {
     "end_time": "2021-03-30T09:12:05.097490Z",
     "start_time": "2021-03-30T09:12:05.061364Z"
    }
   },
   "outputs": [
    {
     "name": "stdout",
     "output_type": "stream",
     "text": [
      "3669\n"
     ]
    },
    {
     "data": {
      "text/plain": [
       "['medroxyprogesterone',\n",
       " 'phenylephrine',\n",
       " 'silodosin',\n",
       " 'resorcinol-sulfur',\n",
       " 'methylin-er',\n",
       " 'clemastine',\n",
       " 'pentosan-polysulfate-sodium',\n",
       " 'metoprolol-tartrate',\n",
       " 'xeljanz-xr',\n",
       " 'rituxan',\n",
       " 'torsemide',\n",
       " 'diphenhydramine-hydrocortisone',\n",
       " 'levo-dromoran',\n",
       " 'everolimus',\n",
       " 'tolak',\n",
       " 'fenoprofen',\n",
       " 'metronidazole',\n",
       " 'sumatriptan',\n",
       " 'ibudone',\n",
       " 'triple-antibiotic']"
      ]
     },
     "execution_count": 411,
     "metadata": {},
     "output_type": "execute_result"
    }
   ],
   "source": [
    "# create dictionary containing symbols to be removed\n",
    "x = {' / ': '-', ' #': '-', \"'\": \"-\", ' + ': '-', '+': '-', '.': '-', '. ': '-', ' ': '-'}\n",
    "# create empty lsit to store new brand names\n",
    "brands2 = []\n",
    "\n",
    "# loop through each brand name and remove symbols\n",
    "for i in brands:\n",
    "    for a,b in x.items():\n",
    "        i = i.replace(a, b)\n",
    "    brands2.append(i)\n",
    "\n",
    "# check length\n",
    "print(len(brands2))\n",
    "# show top 20 values\n",
    "brands2[:20]"
   ]
  },
  {
   "cell_type": "markdown",
   "metadata": {},
   "source": [
    "#### Retrieve active ingredients of products using BeautifulSoup\n",
    "##### Import libraries\n",
    "BeautifulSoup lets users extract useful data from html. I first imported the libraries:"
   ]
  },
  {
   "cell_type": "code",
   "execution_count": 412,
   "metadata": {
    "ExecuteTime": {
     "end_time": "2021-03-30T09:12:06.247751Z",
     "start_time": "2021-03-30T09:12:06.239083Z"
    }
   },
   "outputs": [],
   "source": [
    "import requests\n",
    "import bs4\n",
    "from bs4 import BeautifulSoup\n",
    "from time import sleep\n",
    "import random\n",
    "import string\n",
    "from tqdm import tqdm"
   ]
  },
  {
   "cell_type": "markdown",
   "metadata": {},
   "source": [
    "##### Extract drug names from Drugs.com\n",
    "Since reviews from this dataset are extracted from Drugs.com, I decided to extract the respective active ingredients (drug names) from the same site. Work flow will be as follows:\n",
    "- I first created an empty lists `actives`, this will store all the data I extract from Drugs.com.\n",
    "- Then, for each brand in the `brands` list I created above, I try to access their Drugs.com pages by placing each brand name into the url.\n",
    "- If the webpage is accessible, I then extract the `'Generic Name'` listed on the page.\n",
    "- If not, I then try different web pages (e.g. drug interactions page or side effects page) to extract the same information.\n",
    "- If that doesn't work, I simply append a `nan` value to the `actives` list, indicating that the information was not retrievable using this particular method."
   ]
  },
  {
   "cell_type": "code",
   "execution_count": 413,
   "metadata": {
    "ExecuteTime": {
     "end_time": "2021-03-30T15:21:32.930958Z",
     "start_time": "2021-03-30T09:12:07.343562Z"
    }
   },
   "outputs": [
    {
     "name": "stderr",
     "output_type": "stream",
     "text": [
      "100%|██████████| 3669/3669 [6:09:25<00:00,  6.04s/it]  \n"
     ]
    }
   ],
   "source": [
    "# create empty list to store active ingredients\n",
    "actives = []\n",
    "\n",
    "# loop through each brand name\n",
    "for i in tqdm(brands2):\n",
    "    \n",
    "    # wait for a random number of seconds, from 3 to 7 seconds\n",
    "    sleep(random.randint(3, 7))\n",
    "    \n",
    "    try:\n",
    "        \n",
    "        # insert each brand name into the url\n",
    "        url = f'https://www.drugs.com/mtm/{i}.html'\n",
    "        # get a request using the url\n",
    "        r = requests.get(url)\n",
    "        # find the necessary information using beautifulsoup\n",
    "        soup = BeautifulSoup(r.text, 'html.parser')\n",
    "        results = soup.find(\"div\", class_ = 'contentBox')\n",
    "        names = results.find_next(\"p\").text\n",
    "\n",
    "\n",
    "        # if webpage exists, text starts with 'Generic name:'\n",
    "        if names.startswith('Generic'):\n",
    "\n",
    "            # some texts have a long list, we only need the first part before '\\n'\n",
    "            try:\n",
    "                try:\n",
    "                    generic = names.split(' (')[0].split(': ')[1].split('\\n')[0]\n",
    "                    actives.append(generic)\n",
    "                except:\n",
    "                    generic = names.split(' (')[0].split(': ')[1]\n",
    "                    actives.append(generic)\n",
    "            except:\n",
    "                actives.append(np.nan)\n",
    "\n",
    "        # if the /mtm/ url does not work, try with side-effects.html\n",
    "        elif names.startswith('Sorry'):\n",
    "            try:\n",
    "                # insert each brand name into the url\n",
    "                url = f'https://www.drugs.com/sfx/{i}-side-effects.html'\n",
    "                # get a request using the url\n",
    "                r = requests.get(url)\n",
    "                # find the necessary information using beautifulsoup\n",
    "                soup = BeautifulSoup(r.text, 'html.parser')\n",
    "                results = soup.find(\"div\", class_ = 'contentBox')\n",
    "                names = results.find_next(\"p\").text\n",
    "\n",
    "                # only extract the generic names after 'Generic Name: '\n",
    "                try:\n",
    "                    actives.append(names.split(': ')[1])\n",
    "\n",
    "                # safety net to catch any errors and return nan value\n",
    "                except:\n",
    "                    actives.append(np.nan)\n",
    "\n",
    "            # if webpage not accesible, return nan value\n",
    "            except:\n",
    "                actives.append(np.nan)\n",
    "\n",
    "        else:\n",
    "            actives.append(np.nan)\n",
    "            \n",
    "    except:\n",
    "        actives.append(np.nan)"
   ]
  },
  {
   "cell_type": "code",
   "execution_count": 414,
   "metadata": {
    "ExecuteTime": {
     "end_time": "2021-03-30T15:21:33.107188Z",
     "start_time": "2021-03-30T15:21:33.037441Z"
    }
   },
   "outputs": [
    {
     "name": "stdout",
     "output_type": "stream",
     "text": [
      "3669\n"
     ]
    },
    {
     "data": {
      "text/plain": [
       "['medroxyprogesterone', 'phenylephrine', 'silodosin', nan, 'methylphenidate']"
      ]
     },
     "execution_count": 414,
     "metadata": {},
     "output_type": "execute_result"
    }
   ],
   "source": [
    "print(len(actives))\n",
    "actives[:5]"
   ]
  },
  {
   "cell_type": "markdown",
   "metadata": {},
   "source": [
    "##### Create dictionary of brand names to drug names\n",
    "After retrieving the active ingredients (drug names) of each brand, I then created a dictionary that pairs each brand name to the drug names.\n",
    "\n",
    "`zip` pairs each element of the same index in both the `brands` and `actives` list together, and returns a tuple of (brand name, drug names). `i[0]` extracts the brand name, `i[1]` extracts the drug names. I then used the dictionary comprehension method to create the desired dictionary."
   ]
  },
  {
   "cell_type": "code",
   "execution_count": 415,
   "metadata": {
    "ExecuteTime": {
     "end_time": "2021-03-30T15:21:33.193105Z",
     "start_time": "2021-03-30T15:21:33.122220Z"
    }
   },
   "outputs": [],
   "source": [
    "brand_drug_dict = dict(zip(brands2, actives))"
   ]
  },
  {
   "cell_type": "markdown",
   "metadata": {},
   "source": [
    "##### Check for null values\n",
    "I checked for the brand names that I was unable to scrape from Drugs.com:"
   ]
  },
  {
   "cell_type": "code",
   "execution_count": 416,
   "metadata": {
    "ExecuteTime": {
     "end_time": "2021-03-30T15:21:33.231009Z",
     "start_time": "2021-03-30T15:21:33.201629Z"
    }
   },
   "outputs": [
    {
     "name": "stdout",
     "output_type": "stream",
     "text": [
      "465\n"
     ]
    },
    {
     "data": {
      "text/plain": [
       "['resorcinol-sulfur',\n",
       " 'desloratadine-pseudoephedrine',\n",
       " 'brinzolamide',\n",
       " 'mestranol-norethindrone',\n",
       " 'mupirocin',\n",
       " 'acetaminophen-dextromethorphan-doxylamine-pseudoephedrine',\n",
       " 'acrivastine-pseudoephedrine',\n",
       " 'dextromethorphan-quinidine',\n",
       " 'formoterol',\n",
       " 'piperonyl-butoxide-pyrethrins',\n",
       " 'nafarelin',\n",
       " 'norvir',\n",
       " 'atropine-diphenoxylate',\n",
       " 'acetaminophen-aspirin-caffeine-salicylamide',\n",
       " 'capsaicin',\n",
       " 'penciclovir',\n",
       " 'nystatin-triamcinolone',\n",
       " 'piperacillin-tazobactam',\n",
       " 'acetaminophen-pamabrom-pyrilamine',\n",
       " 'tryptophan']"
      ]
     },
     "execution_count": 416,
     "metadata": {},
     "output_type": "execute_result"
    }
   ],
   "source": [
    "not_found = [i for i, j in brand_drug_dict.items() if str(j) == 'nan']\n",
    "print(len(not_found))\n",
    "not_found[:20]"
   ]
  },
  {
   "cell_type": "markdown",
   "metadata": {},
   "source": [
    "##### Re-scrape\n",
    "There is a third url that I can use for scraping, and I decided to try it with the brand names I was not able to find information on, which are the drugs listed in `not_found`."
   ]
  },
  {
   "cell_type": "code",
   "execution_count": 417,
   "metadata": {
    "ExecuteTime": {
     "end_time": "2021-03-30T15:26:23.509276Z",
     "start_time": "2021-03-30T15:21:33.239128Z"
    }
   },
   "outputs": [
    {
     "name": "stderr",
     "output_type": "stream",
     "text": [
      "100%|██████████| 465/465 [04:50<00:00,  1.60it/s]\n"
     ]
    }
   ],
   "source": [
    "# try to re-scrape using a different url\n",
    "actives2 = []\n",
    "\n",
    "for i in tqdm(not_found):\n",
    "    try:\n",
    "        # insert each brand name into the url\n",
    "        url = f'https://www.drugs.com/pro/{i}.html'\n",
    "        # get a request using the url\n",
    "        r = requests.get(url)\n",
    "        # find the necessary information using beautifulsoup\n",
    "        soup = BeautifulSoup(r.text, 'html.parser')\n",
    "        results = soup.find(\"div\", class_ = 'contentBox')\n",
    "        names = results.find_next(\"p\").text\n",
    "\n",
    "        # if webpage exists, text starts with 'Generic name:'\n",
    "        if names.startswith('Generic'):\n",
    "\n",
    "            # some texts have a long list, we only need the first part before '\\n'\n",
    "            try:\n",
    "                try:\n",
    "                    generic = names.split(' (')[0].split(': ')[1].split('\\n')[0]\n",
    "                    actives2.append(generic)\n",
    "                except:\n",
    "                    generic = names.split(' (')[0].split(': ')[1]\n",
    "                    actives2.append(generic)\n",
    "            except:\n",
    "                actives2.append(np.nan)\n",
    "        else:\n",
    "            actives2.append(np.nan)\n",
    "            \n",
    "    # if webpage not accesible, return nan value\n",
    "    except:\n",
    "        actives2.append(np.nan)"
   ]
  },
  {
   "cell_type": "code",
   "execution_count": 418,
   "metadata": {
    "ExecuteTime": {
     "end_time": "2021-03-30T15:26:23.648102Z",
     "start_time": "2021-03-30T15:26:23.525499Z"
    }
   },
   "outputs": [
    {
     "name": "stdout",
     "output_type": "stream",
     "text": [
      "465\n"
     ]
    },
    {
     "data": {
      "text/plain": [
       "[nan,\n",
       " nan,\n",
       " nan,\n",
       " nan,\n",
       " nan,\n",
       " nan,\n",
       " nan,\n",
       " nan,\n",
       " nan,\n",
       " nan,\n",
       " nan,\n",
       " 'ritonavir',\n",
       " nan,\n",
       " nan,\n",
       " nan,\n",
       " nan,\n",
       " nan,\n",
       " nan,\n",
       " nan,\n",
       " nan]"
      ]
     },
     "execution_count": 418,
     "metadata": {},
     "output_type": "execute_result"
    }
   ],
   "source": [
    "print(len(actives2))\n",
    "actives2[:20]"
   ]
  },
  {
   "cell_type": "markdown",
   "metadata": {},
   "source": [
    "##### Update dictionary\n",
    "I managed to obtain a few non-null values from the second scrape, so I updated the original `brand_drug_dict` with the new scraped values. Then, I updated the dictionary keys, so that they contain the original brand names (`brands`) instead of the altered brand names used for scraping (`brands2`)."
   ]
  },
  {
   "cell_type": "code",
   "execution_count": 419,
   "metadata": {
    "ExecuteTime": {
     "end_time": "2021-03-30T15:26:23.659025Z",
     "start_time": "2021-03-30T15:26:23.652817Z"
    }
   },
   "outputs": [],
   "source": [
    "# update dictionary if second scrape values are not nan\n",
    "for i, j in enumerate(actives2):\n",
    "    if str(j) != 'nan':\n",
    "        brand_drug_dict[brands2[i]] = j"
   ]
  },
  {
   "cell_type": "code",
   "execution_count": 420,
   "metadata": {
    "ExecuteTime": {
     "end_time": "2021-03-30T15:26:23.680817Z",
     "start_time": "2021-03-30T15:26:23.673857Z"
    }
   },
   "outputs": [],
   "source": [
    "# create dictionary with original brand names\n",
    "brand_drug_dict = dict(zip(brands, brand_drug_dict.values()))"
   ]
  },
  {
   "cell_type": "markdown",
   "metadata": {},
   "source": [
    "##### Add brand name and drug name columns\n",
    "Now that I have the brand names with their respective drug names (active ingredients), I added those to the reviews data frame. For rows that I wasn't able to scrape the drug names, I found out that most of the brand names were already drug names, so I simply copied the `brand` values over to the `drug` column using `.fillna()`."
   ]
  },
  {
   "cell_type": "code",
   "execution_count": 421,
   "metadata": {
    "ExecuteTime": {
     "end_time": "2021-03-30T15:26:23.976000Z",
     "start_time": "2021-03-30T15:26:23.686612Z"
    }
   },
   "outputs": [
    {
     "data": {
      "text/html": [
       "<div>\n",
       "<style scoped>\n",
       "    .dataframe tbody tr th:only-of-type {\n",
       "        vertical-align: middle;\n",
       "    }\n",
       "\n",
       "    .dataframe tbody tr th {\n",
       "        vertical-align: top;\n",
       "    }\n",
       "\n",
       "    .dataframe thead th {\n",
       "        text-align: right;\n",
       "    }\n",
       "</style>\n",
       "<table border=\"1\" class=\"dataframe\">\n",
       "  <thead>\n",
       "    <tr style=\"text-align: right;\">\n",
       "      <th></th>\n",
       "      <th>brand</th>\n",
       "      <th>condition</th>\n",
       "      <th>review</th>\n",
       "      <th>rating</th>\n",
       "      <th>useful_count</th>\n",
       "      <th>drug</th>\n",
       "    </tr>\n",
       "  </thead>\n",
       "  <tbody>\n",
       "    <tr>\n",
       "      <th>0</th>\n",
       "      <td>medroxyprogesterone</td>\n",
       "      <td>abnormal uterine bleeding</td>\n",
       "      <td>\"been on the depo injection since january 2015...</td>\n",
       "      <td>3.0</td>\n",
       "      <td>4</td>\n",
       "      <td>medroxyprogesterone</td>\n",
       "    </tr>\n",
       "    <tr>\n",
       "      <th>2</th>\n",
       "      <td>medroxyprogesterone</td>\n",
       "      <td>amenorrhea</td>\n",
       "      <td>\"i&amp;#039;m 21 years old and recently found out ...</td>\n",
       "      <td>10.0</td>\n",
       "      <td>11</td>\n",
       "      <td>medroxyprogesterone</td>\n",
       "    </tr>\n",
       "    <tr>\n",
       "      <th>3</th>\n",
       "      <td>medroxyprogesterone</td>\n",
       "      <td>abnormal uterine bleeding</td>\n",
       "      <td>\"i have been on the shot 11 years and until a ...</td>\n",
       "      <td>8.0</td>\n",
       "      <td>7</td>\n",
       "      <td>medroxyprogesterone</td>\n",
       "    </tr>\n",
       "    <tr>\n",
       "      <th>4</th>\n",
       "      <td>medroxyprogesterone</td>\n",
       "      <td>birth control</td>\n",
       "      <td>\"ive had four shots at this point. i was on bi...</td>\n",
       "      <td>9.0</td>\n",
       "      <td>12</td>\n",
       "      <td>medroxyprogesterone</td>\n",
       "    </tr>\n",
       "    <tr>\n",
       "      <th>5</th>\n",
       "      <td>medroxyprogesterone</td>\n",
       "      <td>abnormal uterine bleeding</td>\n",
       "      <td>\"i had a total of 3 shots. i got my first one ...</td>\n",
       "      <td>1.0</td>\n",
       "      <td>4</td>\n",
       "      <td>medroxyprogesterone</td>\n",
       "    </tr>\n",
       "  </tbody>\n",
       "</table>\n",
       "</div>"
      ],
      "text/plain": [
       "                 brand                  condition  \\\n",
       "0  medroxyprogesterone  abnormal uterine bleeding   \n",
       "2  medroxyprogesterone                 amenorrhea   \n",
       "3  medroxyprogesterone  abnormal uterine bleeding   \n",
       "4  medroxyprogesterone              birth control   \n",
       "5  medroxyprogesterone  abnormal uterine bleeding   \n",
       "\n",
       "                                              review  rating  useful_count  \\\n",
       "0  \"been on the depo injection since january 2015...     3.0             4   \n",
       "2  \"i&#039;m 21 years old and recently found out ...    10.0            11   \n",
       "3  \"i have been on the shot 11 years and until a ...     8.0             7   \n",
       "4  \"ive had four shots at this point. i was on bi...     9.0            12   \n",
       "5  \"i had a total of 3 shots. i got my first one ...     1.0             4   \n",
       "\n",
       "                  drug  \n",
       "0  medroxyprogesterone  \n",
       "2  medroxyprogesterone  \n",
       "3  medroxyprogesterone  \n",
       "4  medroxyprogesterone  \n",
       "5  medroxyprogesterone  "
      ]
     },
     "execution_count": 421,
     "metadata": {},
     "output_type": "execute_result"
    }
   ],
   "source": [
    "# rename drug column as brand\n",
    "reviews.rename(columns = {'drug': 'brand'}, inplace = True)\n",
    "\n",
    "# add new drug column by converting brand name to drug names scraped\n",
    "reviews['drug'] = reviews.brand.map(brand_drug_dict)\n",
    "\n",
    "# copy brand name to drug column if null\n",
    "reviews['drug'].fillna(reviews.brand, inplace = True)\n",
    "reviews.head()"
   ]
  },
  {
   "cell_type": "code",
   "execution_count": 422,
   "metadata": {
    "ExecuteTime": {
     "end_time": "2021-03-30T15:26:24.975772Z",
     "start_time": "2021-03-30T15:26:23.985932Z"
    }
   },
   "outputs": [
    {
     "data": {
      "text/plain": [
       "brand              0\n",
       "condition       1194\n",
       "review             0\n",
       "rating             0\n",
       "useful_count       0\n",
       "drug               0\n",
       "dtype: int64"
      ]
     },
     "execution_count": 422,
     "metadata": {},
     "output_type": "execute_result"
    }
   ],
   "source": [
    "# check null value sum\n",
    "reviews.isnull().sum()"
   ]
  },
  {
   "cell_type": "markdown",
   "metadata": {},
   "source": [
    "### Condition column\n",
    "- Some values are incorrect, where the condition says `'_ number of users found this comment useful.'`. I first extracted those and replaced them with null values.\n",
    "- Then, I converted the null values in `condition` column to a string of `'nan'`, so that they will be a separate category when I dummify the column at a later stage."
   ]
  },
  {
   "cell_type": "code",
   "execution_count": 424,
   "metadata": {
    "ExecuteTime": {
     "end_time": "2021-03-31T10:08:55.083065Z",
     "start_time": "2021-03-31T10:08:54.496448Z"
    }
   },
   "outputs": [
    {
     "data": {
      "text/plain": [
       "brand           0\n",
       "condition       0\n",
       "review          0\n",
       "rating          0\n",
       "useful_count    0\n",
       "drug            0\n",
       "dtype: int64"
      ]
     },
     "execution_count": 424,
     "metadata": {},
     "output_type": "execute_result"
    }
   ],
   "source": [
    "# convert nan to a string\n",
    "reviews.condition = reviews.condition.apply(lambda x: 'nan' if str(x) == 'nan' else x)\n",
    "reviews.isnull().sum()"
   ]
  },
  {
   "cell_type": "code",
   "execution_count": 425,
   "metadata": {
    "ExecuteTime": {
     "end_time": "2021-03-31T10:08:58.373464Z",
     "start_time": "2021-03-31T10:08:58.165208Z"
    }
   },
   "outputs": [
    {
     "data": {
      "text/html": [
       "<div>\n",
       "<style scoped>\n",
       "    .dataframe tbody tr th:only-of-type {\n",
       "        vertical-align: middle;\n",
       "    }\n",
       "\n",
       "    .dataframe tbody tr th {\n",
       "        vertical-align: top;\n",
       "    }\n",
       "\n",
       "    .dataframe thead th {\n",
       "        text-align: right;\n",
       "    }\n",
       "</style>\n",
       "<table border=\"1\" class=\"dataframe\">\n",
       "  <thead>\n",
       "    <tr style=\"text-align: right;\">\n",
       "      <th></th>\n",
       "      <th>brand</th>\n",
       "      <th>condition</th>\n",
       "      <th>review</th>\n",
       "      <th>rating</th>\n",
       "      <th>useful_count</th>\n",
       "      <th>drug</th>\n",
       "    </tr>\n",
       "  </thead>\n",
       "  <tbody>\n",
       "    <tr>\n",
       "      <th>1471</th>\n",
       "      <td>triple antibiotic</td>\n",
       "      <td>11&lt;/span&gt; users found this comment helpful.</td>\n",
       "      <td>\"used this product as well as having used neos...</td>\n",
       "      <td>7.0</td>\n",
       "      <td>11</td>\n",
       "      <td>bacitracin, neomycin, and polymyxin B</td>\n",
       "    </tr>\n",
       "    <tr>\n",
       "      <th>1480</th>\n",
       "      <td>ultram odt</td>\n",
       "      <td>44&lt;/span&gt; users found this comment helpful.</td>\n",
       "      <td>\"my experience with ultram is fantastic. i sev...</td>\n",
       "      <td>10.0</td>\n",
       "      <td>44</td>\n",
       "      <td>tramadol</td>\n",
       "    </tr>\n",
       "    <tr>\n",
       "      <th>1675</th>\n",
       "      <td>uricalm</td>\n",
       "      <td>46&lt;/span&gt; users found this comment helpful.</td>\n",
       "      <td>\"great medication. works fast and lasts all da...</td>\n",
       "      <td>10.0</td>\n",
       "      <td>46</td>\n",
       "      <td>chlorpheniramine maleate, methscopolamine nitrate</td>\n",
       "    </tr>\n",
       "    <tr>\n",
       "      <th>2458</th>\n",
       "      <td>enulose</td>\n",
       "      <td>12&lt;/span&gt; users found this comment helpful.</td>\n",
       "      <td>\"headache, flatulence\"</td>\n",
       "      <td>10.0</td>\n",
       "      <td>12</td>\n",
       "      <td>lactulose</td>\n",
       "    </tr>\n",
       "    <tr>\n",
       "      <th>2560</th>\n",
       "      <td>camrese</td>\n",
       "      <td>2&lt;/span&gt; users found this comment helpful.</td>\n",
       "      <td>\"i&amp;#039;m 46 and i have been having menopausal...</td>\n",
       "      <td>2.0</td>\n",
       "      <td>2</td>\n",
       "      <td>ethinyl estradiol / levonorgestrel</td>\n",
       "    </tr>\n",
       "  </tbody>\n",
       "</table>\n",
       "</div>"
      ],
      "text/plain": [
       "                  brand                                    condition  \\\n",
       "1471  triple antibiotic  11</span> users found this comment helpful.   \n",
       "1480         ultram odt  44</span> users found this comment helpful.   \n",
       "1675            uricalm  46</span> users found this comment helpful.   \n",
       "2458            enulose  12</span> users found this comment helpful.   \n",
       "2560            camrese   2</span> users found this comment helpful.   \n",
       "\n",
       "                                                 review  rating  useful_count  \\\n",
       "1471  \"used this product as well as having used neos...     7.0            11   \n",
       "1480  \"my experience with ultram is fantastic. i sev...    10.0            44   \n",
       "1675  \"great medication. works fast and lasts all da...    10.0            46   \n",
       "2458                             \"headache, flatulence\"    10.0            12   \n",
       "2560  \"i&#039;m 46 and i have been having menopausal...     2.0             2   \n",
       "\n",
       "                                                   drug  \n",
       "1471              bacitracin, neomycin, and polymyxin B  \n",
       "1480                                           tramadol  \n",
       "1675  chlorpheniramine maleate, methscopolamine nitrate  \n",
       "2458                                          lactulose  \n",
       "2560                 ethinyl estradiol / levonorgestrel  "
      ]
     },
     "execution_count": 425,
     "metadata": {},
     "output_type": "execute_result"
    }
   ],
   "source": [
    "# extract rows with incorrect condition\n",
    "tmp = reviews[reviews.condition.str.contains('</span>')]\n",
    "tmp.head()"
   ]
  },
  {
   "cell_type": "code",
   "execution_count": 427,
   "metadata": {
    "ExecuteTime": {
     "end_time": "2021-03-31T10:09:17.192123Z",
     "start_time": "2021-03-31T10:09:17.147669Z"
    }
   },
   "outputs": [
    {
     "data": {
      "text/html": [
       "<div>\n",
       "<style scoped>\n",
       "    .dataframe tbody tr th:only-of-type {\n",
       "        vertical-align: middle;\n",
       "    }\n",
       "\n",
       "    .dataframe tbody tr th {\n",
       "        vertical-align: top;\n",
       "    }\n",
       "\n",
       "    .dataframe thead th {\n",
       "        text-align: right;\n",
       "    }\n",
       "</style>\n",
       "<table border=\"1\" class=\"dataframe\">\n",
       "  <thead>\n",
       "    <tr style=\"text-align: right;\">\n",
       "      <th></th>\n",
       "      <th>brand</th>\n",
       "      <th>condition</th>\n",
       "      <th>review</th>\n",
       "      <th>rating</th>\n",
       "      <th>useful_count</th>\n",
       "      <th>drug</th>\n",
       "    </tr>\n",
       "  </thead>\n",
       "  <tbody>\n",
       "    <tr>\n",
       "      <th>1471</th>\n",
       "      <td>triple antibiotic</td>\n",
       "      <td>nan</td>\n",
       "      <td>\"used this product as well as having used neos...</td>\n",
       "      <td>7.0</td>\n",
       "      <td>11</td>\n",
       "      <td>bacitracin, neomycin, and polymyxin B</td>\n",
       "    </tr>\n",
       "    <tr>\n",
       "      <th>1480</th>\n",
       "      <td>ultram odt</td>\n",
       "      <td>nan</td>\n",
       "      <td>\"my experience with ultram is fantastic. i sev...</td>\n",
       "      <td>10.0</td>\n",
       "      <td>44</td>\n",
       "      <td>tramadol</td>\n",
       "    </tr>\n",
       "    <tr>\n",
       "      <th>1675</th>\n",
       "      <td>uricalm</td>\n",
       "      <td>nan</td>\n",
       "      <td>\"great medication. works fast and lasts all da...</td>\n",
       "      <td>10.0</td>\n",
       "      <td>46</td>\n",
       "      <td>chlorpheniramine maleate, methscopolamine nitrate</td>\n",
       "    </tr>\n",
       "    <tr>\n",
       "      <th>2458</th>\n",
       "      <td>enulose</td>\n",
       "      <td>nan</td>\n",
       "      <td>\"headache, flatulence\"</td>\n",
       "      <td>10.0</td>\n",
       "      <td>12</td>\n",
       "      <td>lactulose</td>\n",
       "    </tr>\n",
       "    <tr>\n",
       "      <th>2560</th>\n",
       "      <td>camrese</td>\n",
       "      <td>nan</td>\n",
       "      <td>\"i&amp;#039;m 46 and i have been having menopausal...</td>\n",
       "      <td>2.0</td>\n",
       "      <td>2</td>\n",
       "      <td>ethinyl estradiol / levonorgestrel</td>\n",
       "    </tr>\n",
       "  </tbody>\n",
       "</table>\n",
       "</div>"
      ],
      "text/plain": [
       "                  brand condition  \\\n",
       "1471  triple antibiotic       nan   \n",
       "1480         ultram odt       nan   \n",
       "1675            uricalm       nan   \n",
       "2458            enulose       nan   \n",
       "2560            camrese       nan   \n",
       "\n",
       "                                                 review  rating  useful_count  \\\n",
       "1471  \"used this product as well as having used neos...     7.0            11   \n",
       "1480  \"my experience with ultram is fantastic. i sev...    10.0            44   \n",
       "1675  \"great medication. works fast and lasts all da...    10.0            46   \n",
       "2458                             \"headache, flatulence\"    10.0            12   \n",
       "2560  \"i&#039;m 46 and i have been having menopausal...     2.0             2   \n",
       "\n",
       "                                                   drug  \n",
       "1471              bacitracin, neomycin, and polymyxin B  \n",
       "1480                                           tramadol  \n",
       "1675  chlorpheniramine maleate, methscopolamine nitrate  \n",
       "2458                                          lactulose  \n",
       "2560                 ethinyl estradiol / levonorgestrel  "
      ]
     },
     "execution_count": 427,
     "metadata": {},
     "output_type": "execute_result"
    }
   ],
   "source": [
    "# replace with np.nan\n",
    "reviews.loc[tmp.index, 'condition'] = 'nan'\n",
    "reviews.loc[tmp.index].head()"
   ]
  },
  {
   "cell_type": "markdown",
   "metadata": {},
   "source": [
    "## Address combination of drugs within a product\n",
    "Some products have a combination of two or more active ingredients (drugs), for instance `acetaminophen / aspirin / caffeine / salicylamide`.\n",
    "In order to add these reviews to the Yellow Card data frame, each row has to include one unique drug and all its reviews. This involves the following steps:\n",
    "- Identify brands that have a combination of drugs and create a subset data frame `combos`\n",
    "- `.explode()` on `combos`, so that the combinations are separated, where each drug in that combination has a copy of the original reviews\n",
    "- Map drug names to DrugBank IDs\n",
    "- Regroup the reviews by DrugBank ID "
   ]
  },
  {
   "cell_type": "markdown",
   "metadata": {},
   "source": [
    "### Address combination products\n",
    "#### Convert ',' and 'and' to '/'\n",
    "Most of the combinations are separated by `'/'`, however some use `','`, `'with'` and `'and'`. I decided to first convert these to `'/'`:"
   ]
  },
  {
   "cell_type": "code",
   "execution_count": 428,
   "metadata": {
    "ExecuteTime": {
     "end_time": "2021-03-31T10:09:31.104114Z",
     "start_time": "2021-03-31T10:09:30.936066Z"
    }
   },
   "outputs": [
    {
     "data": {
      "text/html": [
       "<div>\n",
       "<style scoped>\n",
       "    .dataframe tbody tr th:only-of-type {\n",
       "        vertical-align: middle;\n",
       "    }\n",
       "\n",
       "    .dataframe tbody tr th {\n",
       "        vertical-align: top;\n",
       "    }\n",
       "\n",
       "    .dataframe thead th {\n",
       "        text-align: right;\n",
       "    }\n",
       "</style>\n",
       "<table border=\"1\" class=\"dataframe\">\n",
       "  <thead>\n",
       "    <tr style=\"text-align: right;\">\n",
       "      <th></th>\n",
       "      <th>brand</th>\n",
       "      <th>condition</th>\n",
       "      <th>review</th>\n",
       "      <th>rating</th>\n",
       "      <th>useful_count</th>\n",
       "      <th>drug</th>\n",
       "    </tr>\n",
       "  </thead>\n",
       "  <tbody>\n",
       "    <tr>\n",
       "      <th>1469</th>\n",
       "      <td>ibudone</td>\n",
       "      <td>pain</td>\n",
       "      <td>\"i just started taking this medicine.  i have ...</td>\n",
       "      <td>7.0</td>\n",
       "      <td>27</td>\n",
       "      <td>hydrocodone and ibuprofen</td>\n",
       "    </tr>\n",
       "    <tr>\n",
       "      <th>1470</th>\n",
       "      <td>triple antibiotic</td>\n",
       "      <td>bacterial skin infection</td>\n",
       "      <td>\"aaa ointment. it like... gives you wolverine ...</td>\n",
       "      <td>10.0</td>\n",
       "      <td>0</td>\n",
       "      <td>bacitracin, neomycin, and polymyxin B</td>\n",
       "    </tr>\n",
       "    <tr>\n",
       "      <th>1471</th>\n",
       "      <td>triple antibiotic</td>\n",
       "      <td>nan</td>\n",
       "      <td>\"used this product as well as having used neos...</td>\n",
       "      <td>7.0</td>\n",
       "      <td>11</td>\n",
       "      <td>bacitracin, neomycin, and polymyxin B</td>\n",
       "    </tr>\n",
       "    <tr>\n",
       "      <th>2774</th>\n",
       "      <td>vanoxide-hc</td>\n",
       "      <td>acne</td>\n",
       "      <td>\"i use vanoxide after i have been around anima...</td>\n",
       "      <td>10.0</td>\n",
       "      <td>0</td>\n",
       "      <td>benzoyl peroxide and hydrocortisone topical</td>\n",
       "    </tr>\n",
       "    <tr>\n",
       "      <th>2984</th>\n",
       "      <td>claritin-d 24 hour</td>\n",
       "      <td>nasal congestion</td>\n",
       "      <td>\"big mistake taking my first claritin d 24 at ...</td>\n",
       "      <td>5.0</td>\n",
       "      <td>1</td>\n",
       "      <td>loratadine and pseudoephedrine</td>\n",
       "    </tr>\n",
       "  </tbody>\n",
       "</table>\n",
       "</div>"
      ],
      "text/plain": [
       "                   brand                 condition  \\\n",
       "1469             ibudone                      pain   \n",
       "1470   triple antibiotic  bacterial skin infection   \n",
       "1471   triple antibiotic                       nan   \n",
       "2774         vanoxide-hc                      acne   \n",
       "2984  claritin-d 24 hour          nasal congestion   \n",
       "\n",
       "                                                 review  rating  useful_count  \\\n",
       "1469  \"i just started taking this medicine.  i have ...     7.0            27   \n",
       "1470  \"aaa ointment. it like... gives you wolverine ...    10.0             0   \n",
       "1471  \"used this product as well as having used neos...     7.0            11   \n",
       "2774  \"i use vanoxide after i have been around anima...    10.0             0   \n",
       "2984  \"big mistake taking my first claritin d 24 at ...     5.0             1   \n",
       "\n",
       "                                             drug  \n",
       "1469                    hydrocodone and ibuprofen  \n",
       "1470        bacitracin, neomycin, and polymyxin B  \n",
       "1471        bacitracin, neomycin, and polymyxin B  \n",
       "2774  benzoyl peroxide and hydrocortisone topical  \n",
       "2984               loratadine and pseudoephedrine  "
      ]
     },
     "execution_count": 428,
     "metadata": {},
     "output_type": "execute_result"
    }
   ],
   "source": [
    "# look at rows containing the word and\n",
    "reviews[reviews.drug.str.contains('and')].head()"
   ]
  },
  {
   "cell_type": "code",
   "execution_count": 429,
   "metadata": {
    "ExecuteTime": {
     "end_time": "2021-03-31T10:09:32.448577Z",
     "start_time": "2021-03-31T10:09:31.560636Z"
    }
   },
   "outputs": [
    {
     "data": {
      "text/plain": [
       "['medroxyprogesterone',\n",
       " 'phenylephrine',\n",
       " 'silodosin',\n",
       " 'resorcinol  /  sulfur',\n",
       " 'methylphenidate',\n",
       " 'clemastine',\n",
       " 'pentosan polysulfate sodium',\n",
       " 'metoprolol',\n",
       " 'tofacitinib',\n",
       " 'rituximab',\n",
       " 'torsemide',\n",
       " 'ritonavir',\n",
       " 'levorphanol tartrate',\n",
       " 'everolimus',\n",
       " 'fluorouracil topical',\n",
       " 'fenoprofen',\n",
       " 'metronidazole',\n",
       " 'sumatriptan',\n",
       " 'hydrocodone / ibuprofen',\n",
       " 'bacitracin / neomycin / polymyxin B']"
      ]
     },
     "execution_count": 429,
     "metadata": {},
     "output_type": "execute_result"
    }
   ],
   "source": [
    "# create dictionary for replacements\n",
    "combo_replace = {'/': ' / ', ', and ': ' and ', ', ': ' and ',\n",
    "                 ' and ': ' / ', ' with ': ' / '}\n",
    "\n",
    "for i, j in combo_replace.items():\n",
    "    reviews.drug = reviews.drug.str.replace(i, j)\n",
    "\n",
    "# show first 10 values\n",
    "list(reviews.drug.unique())[:20]"
   ]
  },
  {
   "cell_type": "markdown",
   "metadata": {},
   "source": [
    "#### Corrections\n",
    "##### Oral\n",
    "I noticed that there are drugs called `oral liquid` from an error while scraping. So, I extracted the rows with the word `oral`, and copied the `brand` values to overwrite the incorrect `drug` values."
   ]
  },
  {
   "cell_type": "code",
   "execution_count": 430,
   "metadata": {
    "ExecuteTime": {
     "end_time": "2021-03-31T10:09:35.737082Z",
     "start_time": "2021-03-31T10:09:35.567272Z"
    }
   },
   "outputs": [
    {
     "data": {
      "text/html": [
       "<div>\n",
       "<style scoped>\n",
       "    .dataframe tbody tr th:only-of-type {\n",
       "        vertical-align: middle;\n",
       "    }\n",
       "\n",
       "    .dataframe tbody tr th {\n",
       "        vertical-align: top;\n",
       "    }\n",
       "\n",
       "    .dataframe thead th {\n",
       "        text-align: right;\n",
       "    }\n",
       "</style>\n",
       "<table border=\"1\" class=\"dataframe\">\n",
       "  <thead>\n",
       "    <tr style=\"text-align: right;\">\n",
       "      <th></th>\n",
       "      <th>brand</th>\n",
       "      <th>condition</th>\n",
       "      <th>review</th>\n",
       "      <th>rating</th>\n",
       "      <th>useful_count</th>\n",
       "      <th>drug</th>\n",
       "    </tr>\n",
       "  </thead>\n",
       "  <tbody>\n",
       "    <tr>\n",
       "      <th>20922</th>\n",
       "      <td>aspirin / chlorpheniramine / phenylephrine</td>\n",
       "      <td>sinus symptoms</td>\n",
       "      <td>\"i love taking this before bedtime, or when i ...</td>\n",
       "      <td>8.0</td>\n",
       "      <td>2</td>\n",
       "      <td>oral tablet effervescent</td>\n",
       "    </tr>\n",
       "    <tr>\n",
       "      <th>27673</th>\n",
       "      <td>diphenhydramine / phenylephrine</td>\n",
       "      <td>allergic rhinitis</td>\n",
       "      <td>\"this medicine for hayfever and cold leaky sin...</td>\n",
       "      <td>10.0</td>\n",
       "      <td>2</td>\n",
       "      <td>oral liquid / oral suspension extended release...</td>\n",
       "    </tr>\n",
       "    <tr>\n",
       "      <th>38108</th>\n",
       "      <td>enteragam</td>\n",
       "      <td>irritable bowel syndrome</td>\n",
       "      <td>\"i was diagnosed with collagenous colitis/micr...</td>\n",
       "      <td>10.0</td>\n",
       "      <td>15</td>\n",
       "      <td>immune globulin oral</td>\n",
       "    </tr>\n",
       "    <tr>\n",
       "      <th>38109</th>\n",
       "      <td>enteragam</td>\n",
       "      <td>irritable bowel syndrome</td>\n",
       "      <td>\"really liked how enteragam affected my digest...</td>\n",
       "      <td>9.0</td>\n",
       "      <td>7</td>\n",
       "      <td>immune globulin oral</td>\n",
       "    </tr>\n",
       "    <tr>\n",
       "      <th>38110</th>\n",
       "      <td>enteragam</td>\n",
       "      <td>irritable bowel syndrome</td>\n",
       "      <td>\"it took almost two weeks of two packets a day...</td>\n",
       "      <td>9.0</td>\n",
       "      <td>12</td>\n",
       "      <td>immune globulin oral</td>\n",
       "    </tr>\n",
       "  </tbody>\n",
       "</table>\n",
       "</div>"
      ],
      "text/plain": [
       "                                            brand                 condition  \\\n",
       "20922  aspirin / chlorpheniramine / phenylephrine            sinus symptoms   \n",
       "27673             diphenhydramine / phenylephrine         allergic rhinitis   \n",
       "38108                                   enteragam  irritable bowel syndrome   \n",
       "38109                                   enteragam  irritable bowel syndrome   \n",
       "38110                                   enteragam  irritable bowel syndrome   \n",
       "\n",
       "                                                  review  rating  \\\n",
       "20922  \"i love taking this before bedtime, or when i ...     8.0   \n",
       "27673  \"this medicine for hayfever and cold leaky sin...    10.0   \n",
       "38108  \"i was diagnosed with collagenous colitis/micr...    10.0   \n",
       "38109  \"really liked how enteragam affected my digest...     9.0   \n",
       "38110  \"it took almost two weeks of two packets a day...     9.0   \n",
       "\n",
       "       useful_count                                               drug  \n",
       "20922             2                           oral tablet effervescent  \n",
       "27673             2  oral liquid / oral suspension extended release...  \n",
       "38108            15                               immune globulin oral  \n",
       "38109             7                               immune globulin oral  \n",
       "38110            12                               immune globulin oral  "
      ]
     },
     "execution_count": 430,
     "metadata": {},
     "output_type": "execute_result"
    }
   ],
   "source": [
    "tmp = reviews[reviews['drug'].str.contains('oral')]\n",
    "tmp.head()"
   ]
  },
  {
   "cell_type": "code",
   "execution_count": 431,
   "metadata": {
    "ExecuteTime": {
     "end_time": "2021-03-31T10:09:36.206135Z",
     "start_time": "2021-03-31T10:09:36.144239Z"
    }
   },
   "outputs": [
    {
     "data": {
      "text/html": [
       "<div>\n",
       "<style scoped>\n",
       "    .dataframe tbody tr th:only-of-type {\n",
       "        vertical-align: middle;\n",
       "    }\n",
       "\n",
       "    .dataframe tbody tr th {\n",
       "        vertical-align: top;\n",
       "    }\n",
       "\n",
       "    .dataframe thead th {\n",
       "        text-align: right;\n",
       "    }\n",
       "</style>\n",
       "<table border=\"1\" class=\"dataframe\">\n",
       "  <thead>\n",
       "    <tr style=\"text-align: right;\">\n",
       "      <th></th>\n",
       "      <th>brand</th>\n",
       "      <th>condition</th>\n",
       "      <th>review</th>\n",
       "      <th>rating</th>\n",
       "      <th>useful_count</th>\n",
       "      <th>drug</th>\n",
       "    </tr>\n",
       "  </thead>\n",
       "  <tbody>\n",
       "    <tr>\n",
       "      <th>20922</th>\n",
       "      <td>aspirin / chlorpheniramine / phenylephrine</td>\n",
       "      <td>sinus symptoms</td>\n",
       "      <td>\"i love taking this before bedtime, or when i ...</td>\n",
       "      <td>8.0</td>\n",
       "      <td>2</td>\n",
       "      <td>aspirin / chlorpheniramine / phenylephrine</td>\n",
       "    </tr>\n",
       "    <tr>\n",
       "      <th>27673</th>\n",
       "      <td>diphenhydramine / phenylephrine</td>\n",
       "      <td>allergic rhinitis</td>\n",
       "      <td>\"this medicine for hayfever and cold leaky sin...</td>\n",
       "      <td>10.0</td>\n",
       "      <td>2</td>\n",
       "      <td>diphenhydramine / phenylephrine</td>\n",
       "    </tr>\n",
       "    <tr>\n",
       "      <th>38108</th>\n",
       "      <td>enteragam</td>\n",
       "      <td>irritable bowel syndrome</td>\n",
       "      <td>\"i was diagnosed with collagenous colitis/micr...</td>\n",
       "      <td>10.0</td>\n",
       "      <td>15</td>\n",
       "      <td>enteragam</td>\n",
       "    </tr>\n",
       "    <tr>\n",
       "      <th>38109</th>\n",
       "      <td>enteragam</td>\n",
       "      <td>irritable bowel syndrome</td>\n",
       "      <td>\"really liked how enteragam affected my digest...</td>\n",
       "      <td>9.0</td>\n",
       "      <td>7</td>\n",
       "      <td>enteragam</td>\n",
       "    </tr>\n",
       "    <tr>\n",
       "      <th>38110</th>\n",
       "      <td>enteragam</td>\n",
       "      <td>irritable bowel syndrome</td>\n",
       "      <td>\"it took almost two weeks of two packets a day...</td>\n",
       "      <td>9.0</td>\n",
       "      <td>12</td>\n",
       "      <td>enteragam</td>\n",
       "    </tr>\n",
       "  </tbody>\n",
       "</table>\n",
       "</div>"
      ],
      "text/plain": [
       "                                            brand                 condition  \\\n",
       "20922  aspirin / chlorpheniramine / phenylephrine            sinus symptoms   \n",
       "27673             diphenhydramine / phenylephrine         allergic rhinitis   \n",
       "38108                                   enteragam  irritable bowel syndrome   \n",
       "38109                                   enteragam  irritable bowel syndrome   \n",
       "38110                                   enteragam  irritable bowel syndrome   \n",
       "\n",
       "                                                  review  rating  \\\n",
       "20922  \"i love taking this before bedtime, or when i ...     8.0   \n",
       "27673  \"this medicine for hayfever and cold leaky sin...    10.0   \n",
       "38108  \"i was diagnosed with collagenous colitis/micr...    10.0   \n",
       "38109  \"really liked how enteragam affected my digest...     9.0   \n",
       "38110  \"it took almost two weeks of two packets a day...     9.0   \n",
       "\n",
       "       useful_count                                        drug  \n",
       "20922             2  aspirin / chlorpheniramine / phenylephrine  \n",
       "27673             2             diphenhydramine / phenylephrine  \n",
       "38108            15                                   enteragam  \n",
       "38109             7                                   enteragam  \n",
       "38110            12                                   enteragam  "
      ]
     },
     "execution_count": 431,
     "metadata": {},
     "output_type": "execute_result"
    }
   ],
   "source": [
    "reviews.loc[tmp.index, 'drug'] = tmp.brand\n",
    "reviews.loc[tmp.index].head()"
   ]
  },
  {
   "cell_type": "markdown",
   "metadata": {},
   "source": [
    "##### Other routes of administration\n",
    "I decided to also check for other routes of administration:\n",
    "- Topical\n",
    "- Injection\n",
    "- Ophthalmic\n",
    "- Subcutaneous\n",
    "- Rectal\n",
    "- Sublingual\n",
    "- Intravenous\n",
    "- Nasal\n",
    "- Ocular\n",
    "- Buccal\n",
    "- Inhalation\n",
    "- Transdermal\n",
    "- Otic\n",
    "\n",
    "`drug` column values with these words included have the same format of drug name + route, e.g. fluticasone inhalation, estradiol transdermal. I simply removed the words above from the `drug` column using `.replace()`.\n"
   ]
  },
  {
   "cell_type": "code",
   "execution_count": 432,
   "metadata": {
    "ExecuteTime": {
     "end_time": "2021-03-31T10:09:42.499435Z",
     "start_time": "2021-03-31T10:09:38.471579Z"
    }
   },
   "outputs": [],
   "source": [
    "# create dictionary for .replace()\n",
    "routes_replace = {'topical': '', 'injection': '', 'ophthalmic': '', \n",
    "                  'subcutaneous': '', 'rectal': '', 'sublingual': '',\n",
    "                  'intravenous': '', 'nasal': '', 'ocular': '', \n",
    "                  'buccal': '', 'inhalation': '', 'transdermal': '',\n",
    "                  ' otic': '', 'extended release tablets': '',\n",
    "                  'tablet': '', 'tablets': '', 'combination': '',\n",
    "                  'electrolyte solution': '',  'vaginal': '',\n",
    "                  'intrauterine system': '', 'system': '',\n",
    "                  'implant': '', ' oral': ''}\n",
    "\n",
    "# replace drug column looping through each key-value pair in dictionary\n",
    "for i, j in routes_replace.items():\n",
    "    reviews.drug = reviews.drug.str.replace(i, j)\n",
    "\n",
    "# remove space\n",
    "reviews.drug = reviews.drug.apply(lambda x: x.strip())"
   ]
  },
  {
   "cell_type": "markdown",
   "metadata": {},
   "source": [
    "### Manual corrections\n",
    "While skimming through the drug values, I noticed a few minor errors and performed the following manual corrections."
   ]
  },
  {
   "cell_type": "code",
   "execution_count": 433,
   "metadata": {
    "ExecuteTime": {
     "end_time": "2021-03-31T10:09:46.903994Z",
     "start_time": "2021-03-31T10:09:42.502505Z"
    }
   },
   "outputs": [],
   "source": [
    "manual_replace = {'(klye-oh-kwin-ol)': '', '(klye-oh-KWIN-ol)': '',\n",
    "                  'diltiazembrand name': 'diltiazem', 'diltiazemBrand Name': 'diltiazem',\n",
    "                  'polymyxin B sulfate': 'polymyxin B',\n",
    "                  'polymyxin B': 'polymyxin b',\n",
    "                  'ethinyl estradiol': 'ethinylestradiol',\n",
    "                  'atorvastatin calcium': 'atorvastatin',\n",
    "                  'polymyxin B': 'polymyxin b',\n",
    "                  'ethinyl estradiol': 'ethinylestradiol',\n",
    "                  'pseudoephedrine sulfate': 'pseudoephedrine',\n",
    "                  'amlodipine besylate': 'amlodipine',\n",
    "                  'ethyl estradiol': 'ethinylestradiol',\n",
    "                  'von Willebrand factor complex': 'von willebrand factor',\n",
    "                  'esomeprazole sodium': 'esomeprazole',\n",
    "                  'acyclovir': 'aciclovir',\n",
    "                  'emergency contraceptive': '',\n",
    "                  'viscous': '',\n",
    "                  '200mg': '',\n",
    "                  'protein-bound': '',\n",
    "                  'omega 3 supplement': 'omega-3',\n",
    "                  '>': '',\n",
    "                  'for reconstitution / cream / gel / liquid / lotion / soap / spray': '',\n",
    "                  'hypertrichosis of eyelid.  see below for a comprehensive list of adverse effects.': 'bimatoprost',\n",
    "                  'hypertrichosis of eyelid.  See below for a comprehensive list of adverse effects.': 'bimatoprost',\n",
    "                  '(': '', ')': ''}\n",
    "\n",
    "# replace drug column looping through each key-value pair in dictionary\n",
    "for i, j in manual_replace.items():\n",
    "    reviews.drug = reviews.drug.str.replace(i, j)\n",
    "\n",
    "# remove space\n",
    "reviews.drug = reviews.drug.apply(lambda x: x.strip())"
   ]
  },
  {
   "cell_type": "markdown",
   "metadata": {},
   "source": [
    "#### Separate combination and non-combination products\n",
    "Here I extracted rows where the product is a combination product (more than one active ingredient/ drug), and saved it as a new data frame `combos`."
   ]
  },
  {
   "cell_type": "code",
   "execution_count": 434,
   "metadata": {
    "ExecuteTime": {
     "end_time": "2021-03-31T10:09:47.197154Z",
     "start_time": "2021-03-31T10:09:46.909558Z"
    }
   },
   "outputs": [
    {
     "name": "stdout",
     "output_type": "stream",
     "text": [
      "41885\n"
     ]
    },
    {
     "data": {
      "text/html": [
       "<div>\n",
       "<style scoped>\n",
       "    .dataframe tbody tr th:only-of-type {\n",
       "        vertical-align: middle;\n",
       "    }\n",
       "\n",
       "    .dataframe tbody tr th {\n",
       "        vertical-align: top;\n",
       "    }\n",
       "\n",
       "    .dataframe thead th {\n",
       "        text-align: right;\n",
       "    }\n",
       "</style>\n",
       "<table border=\"1\" class=\"dataframe\">\n",
       "  <thead>\n",
       "    <tr style=\"text-align: right;\">\n",
       "      <th></th>\n",
       "      <th>brand</th>\n",
       "      <th>condition</th>\n",
       "      <th>review</th>\n",
       "      <th>rating</th>\n",
       "      <th>useful_count</th>\n",
       "      <th>drug</th>\n",
       "    </tr>\n",
       "  </thead>\n",
       "  <tbody>\n",
       "    <tr>\n",
       "      <th>868</th>\n",
       "      <td>resorcinol / sulfur</td>\n",
       "      <td>acne</td>\n",
       "      <td>\"have loved this product since i began using i...</td>\n",
       "      <td>10.0</td>\n",
       "      <td>3</td>\n",
       "      <td>resorcinol  /  sulfur</td>\n",
       "    </tr>\n",
       "    <tr>\n",
       "      <th>1469</th>\n",
       "      <td>ibudone</td>\n",
       "      <td>pain</td>\n",
       "      <td>\"i just started taking this medicine.  i have ...</td>\n",
       "      <td>7.0</td>\n",
       "      <td>27</td>\n",
       "      <td>hydrocodone / ibuprofen</td>\n",
       "    </tr>\n",
       "    <tr>\n",
       "      <th>1470</th>\n",
       "      <td>triple antibiotic</td>\n",
       "      <td>bacterial skin infection</td>\n",
       "      <td>\"aaa ointment. it like... gives you wolverine ...</td>\n",
       "      <td>10.0</td>\n",
       "      <td>0</td>\n",
       "      <td>bacitracin / neomycin / polymyxin b</td>\n",
       "    </tr>\n",
       "    <tr>\n",
       "      <th>1471</th>\n",
       "      <td>triple antibiotic</td>\n",
       "      <td>nan</td>\n",
       "      <td>\"used this product as well as having used neos...</td>\n",
       "      <td>7.0</td>\n",
       "      <td>11</td>\n",
       "      <td>bacitracin / neomycin / polymyxin b</td>\n",
       "    </tr>\n",
       "    <tr>\n",
       "      <th>1657</th>\n",
       "      <td>uricalm</td>\n",
       "      <td>dysuria</td>\n",
       "      <td>\"i had a uti and it helped with my pain but on...</td>\n",
       "      <td>1.0</td>\n",
       "      <td>0</td>\n",
       "      <td>chlorpheniramine maleate / methscopolamine nit...</td>\n",
       "    </tr>\n",
       "  </tbody>\n",
       "</table>\n",
       "</div>"
      ],
      "text/plain": [
       "                    brand                 condition  \\\n",
       "868   resorcinol / sulfur                      acne   \n",
       "1469              ibudone                      pain   \n",
       "1470    triple antibiotic  bacterial skin infection   \n",
       "1471    triple antibiotic                       nan   \n",
       "1657              uricalm                   dysuria   \n",
       "\n",
       "                                                 review  rating  useful_count  \\\n",
       "868   \"have loved this product since i began using i...    10.0             3   \n",
       "1469  \"i just started taking this medicine.  i have ...     7.0            27   \n",
       "1470  \"aaa ointment. it like... gives you wolverine ...    10.0             0   \n",
       "1471  \"used this product as well as having used neos...     7.0            11   \n",
       "1657  \"i had a uti and it helped with my pain but on...     1.0             0   \n",
       "\n",
       "                                                   drug  \n",
       "868                               resorcinol  /  sulfur  \n",
       "1469                            hydrocodone / ibuprofen  \n",
       "1470                bacitracin / neomycin / polymyxin b  \n",
       "1471                bacitracin / neomycin / polymyxin b  \n",
       "1657  chlorpheniramine maleate / methscopolamine nit...  "
      ]
     },
     "execution_count": 434,
     "metadata": {},
     "output_type": "execute_result"
    }
   ],
   "source": [
    "# separate names with multiple ingredients (contains a slash /)\n",
    "combos = reviews[reviews['drug'].str.contains(' / ')]\n",
    "print(len(combos))\n",
    "combos.head()"
   ]
  },
  {
   "cell_type": "code",
   "execution_count": 435,
   "metadata": {
    "ExecuteTime": {
     "end_time": "2021-03-31T10:10:01.502674Z",
     "start_time": "2021-03-31T10:10:01.368731Z"
    }
   },
   "outputs": [
    {
     "name": "stdout",
     "output_type": "stream",
     "text": [
      "173178\n"
     ]
    },
    {
     "data": {
      "text/html": [
       "<div>\n",
       "<style scoped>\n",
       "    .dataframe tbody tr th:only-of-type {\n",
       "        vertical-align: middle;\n",
       "    }\n",
       "\n",
       "    .dataframe tbody tr th {\n",
       "        vertical-align: top;\n",
       "    }\n",
       "\n",
       "    .dataframe thead th {\n",
       "        text-align: right;\n",
       "    }\n",
       "</style>\n",
       "<table border=\"1\" class=\"dataframe\">\n",
       "  <thead>\n",
       "    <tr style=\"text-align: right;\">\n",
       "      <th></th>\n",
       "      <th>brand</th>\n",
       "      <th>condition</th>\n",
       "      <th>review</th>\n",
       "      <th>rating</th>\n",
       "      <th>useful_count</th>\n",
       "      <th>drug</th>\n",
       "    </tr>\n",
       "  </thead>\n",
       "  <tbody>\n",
       "    <tr>\n",
       "      <th>0</th>\n",
       "      <td>medroxyprogesterone</td>\n",
       "      <td>abnormal uterine bleeding</td>\n",
       "      <td>\"been on the depo injection since january 2015...</td>\n",
       "      <td>3.0</td>\n",
       "      <td>4</td>\n",
       "      <td>medroxyprogesterone</td>\n",
       "    </tr>\n",
       "    <tr>\n",
       "      <th>2</th>\n",
       "      <td>medroxyprogesterone</td>\n",
       "      <td>amenorrhea</td>\n",
       "      <td>\"i&amp;#039;m 21 years old and recently found out ...</td>\n",
       "      <td>10.0</td>\n",
       "      <td>11</td>\n",
       "      <td>medroxyprogesterone</td>\n",
       "    </tr>\n",
       "    <tr>\n",
       "      <th>3</th>\n",
       "      <td>medroxyprogesterone</td>\n",
       "      <td>abnormal uterine bleeding</td>\n",
       "      <td>\"i have been on the shot 11 years and until a ...</td>\n",
       "      <td>8.0</td>\n",
       "      <td>7</td>\n",
       "      <td>medroxyprogesterone</td>\n",
       "    </tr>\n",
       "    <tr>\n",
       "      <th>4</th>\n",
       "      <td>medroxyprogesterone</td>\n",
       "      <td>birth control</td>\n",
       "      <td>\"ive had four shots at this point. i was on bi...</td>\n",
       "      <td>9.0</td>\n",
       "      <td>12</td>\n",
       "      <td>medroxyprogesterone</td>\n",
       "    </tr>\n",
       "    <tr>\n",
       "      <th>5</th>\n",
       "      <td>medroxyprogesterone</td>\n",
       "      <td>abnormal uterine bleeding</td>\n",
       "      <td>\"i had a total of 3 shots. i got my first one ...</td>\n",
       "      <td>1.0</td>\n",
       "      <td>4</td>\n",
       "      <td>medroxyprogesterone</td>\n",
       "    </tr>\n",
       "  </tbody>\n",
       "</table>\n",
       "</div>"
      ],
      "text/plain": [
       "                 brand                  condition  \\\n",
       "0  medroxyprogesterone  abnormal uterine bleeding   \n",
       "2  medroxyprogesterone                 amenorrhea   \n",
       "3  medroxyprogesterone  abnormal uterine bleeding   \n",
       "4  medroxyprogesterone              birth control   \n",
       "5  medroxyprogesterone  abnormal uterine bleeding   \n",
       "\n",
       "                                              review  rating  useful_count  \\\n",
       "0  \"been on the depo injection since january 2015...     3.0             4   \n",
       "2  \"i&#039;m 21 years old and recently found out ...    10.0            11   \n",
       "3  \"i have been on the shot 11 years and until a ...     8.0             7   \n",
       "4  \"ive had four shots at this point. i was on bi...     9.0            12   \n",
       "5  \"i had a total of 3 shots. i got my first one ...     1.0             4   \n",
       "\n",
       "                  drug  \n",
       "0  medroxyprogesterone  \n",
       "2  medroxyprogesterone  \n",
       "3  medroxyprogesterone  \n",
       "4  medroxyprogesterone  \n",
       "5  medroxyprogesterone  "
      ]
     },
     "execution_count": 435,
     "metadata": {},
     "output_type": "execute_result"
    }
   ],
   "source": [
    "non_combos = reviews.copy()\n",
    "non_combos.drop(combos.index, inplace = True)\n",
    "print(len(non_combos))\n",
    "non_combos.head()"
   ]
  },
  {
   "cell_type": "code",
   "execution_count": 436,
   "metadata": {
    "ExecuteTime": {
     "end_time": "2021-03-31T10:10:04.286035Z",
     "start_time": "2021-03-31T10:10:04.275768Z"
    }
   },
   "outputs": [
    {
     "data": {
      "text/plain": [
       "True"
      ]
     },
     "execution_count": 436,
     "metadata": {},
     "output_type": "execute_result"
    }
   ],
   "source": [
    "# check that original data frame is separated correctly\n",
    "len(non_combos) + len(combos) == len(reviews)"
   ]
  },
  {
   "cell_type": "markdown",
   "metadata": {},
   "source": [
    "#### .explode() on combos\n",
    "- I created a custom function `separate_name()` that converts the drugs in `a / b` form to a list `['a', 'b']`.\n",
    "- Then, I applied that function to the drug column.\n",
    "- This way, I was able to use the `.explode()` function to separated out the individual drugs from the combination products."
   ]
  },
  {
   "cell_type": "code",
   "execution_count": 437,
   "metadata": {
    "ExecuteTime": {
     "end_time": "2021-03-31T10:10:10.719251Z",
     "start_time": "2021-03-31T10:10:08.553526Z"
    }
   },
   "outputs": [
    {
     "name": "stderr",
     "output_type": "stream",
     "text": [
      "<ipython-input-437-574079ab0783>:6: SettingWithCopyWarning: \n",
      "A value is trying to be set on a copy of a slice from a DataFrame.\n",
      "Try using .loc[row_indexer,col_indexer] = value instead\n",
      "\n",
      "See the caveats in the documentation: https://pandas.pydata.org/pandas-docs/stable/user_guide/indexing.html#returning-a-view-versus-a-copy\n",
      "  combos['drug'] = combos.apply(separate_name, axis = 1)\n"
     ]
    },
    {
     "name": "stdout",
     "output_type": "stream",
     "text": [
      "91501\n"
     ]
    },
    {
     "data": {
      "text/html": [
       "<div>\n",
       "<style scoped>\n",
       "    .dataframe tbody tr th:only-of-type {\n",
       "        vertical-align: middle;\n",
       "    }\n",
       "\n",
       "    .dataframe tbody tr th {\n",
       "        vertical-align: top;\n",
       "    }\n",
       "\n",
       "    .dataframe thead th {\n",
       "        text-align: right;\n",
       "    }\n",
       "</style>\n",
       "<table border=\"1\" class=\"dataframe\">\n",
       "  <thead>\n",
       "    <tr style=\"text-align: right;\">\n",
       "      <th></th>\n",
       "      <th>brand</th>\n",
       "      <th>condition</th>\n",
       "      <th>review</th>\n",
       "      <th>rating</th>\n",
       "      <th>useful_count</th>\n",
       "      <th>drug</th>\n",
       "    </tr>\n",
       "  </thead>\n",
       "  <tbody>\n",
       "    <tr>\n",
       "      <th>0</th>\n",
       "      <td>resorcinol / sulfur</td>\n",
       "      <td>acne</td>\n",
       "      <td>\"have loved this product since i began using i...</td>\n",
       "      <td>10.0</td>\n",
       "      <td>3</td>\n",
       "      <td>resorcinol</td>\n",
       "    </tr>\n",
       "    <tr>\n",
       "      <th>1</th>\n",
       "      <td>resorcinol / sulfur</td>\n",
       "      <td>acne</td>\n",
       "      <td>\"have loved this product since i began using i...</td>\n",
       "      <td>10.0</td>\n",
       "      <td>3</td>\n",
       "      <td>sulfur</td>\n",
       "    </tr>\n",
       "    <tr>\n",
       "      <th>2</th>\n",
       "      <td>ibudone</td>\n",
       "      <td>pain</td>\n",
       "      <td>\"i just started taking this medicine.  i have ...</td>\n",
       "      <td>7.0</td>\n",
       "      <td>27</td>\n",
       "      <td>hydrocodone</td>\n",
       "    </tr>\n",
       "    <tr>\n",
       "      <th>3</th>\n",
       "      <td>ibudone</td>\n",
       "      <td>pain</td>\n",
       "      <td>\"i just started taking this medicine.  i have ...</td>\n",
       "      <td>7.0</td>\n",
       "      <td>27</td>\n",
       "      <td>ibuprofen</td>\n",
       "    </tr>\n",
       "    <tr>\n",
       "      <th>4</th>\n",
       "      <td>triple antibiotic</td>\n",
       "      <td>bacterial skin infection</td>\n",
       "      <td>\"aaa ointment. it like... gives you wolverine ...</td>\n",
       "      <td>10.0</td>\n",
       "      <td>0</td>\n",
       "      <td>bacitracin</td>\n",
       "    </tr>\n",
       "  </tbody>\n",
       "</table>\n",
       "</div>"
      ],
      "text/plain": [
       "                 brand                 condition  \\\n",
       "0  resorcinol / sulfur                      acne   \n",
       "1  resorcinol / sulfur                      acne   \n",
       "2              ibudone                      pain   \n",
       "3              ibudone                      pain   \n",
       "4    triple antibiotic  bacterial skin infection   \n",
       "\n",
       "                                              review  rating  useful_count  \\\n",
       "0  \"have loved this product since i began using i...    10.0             3   \n",
       "1  \"have loved this product since i began using i...    10.0             3   \n",
       "2  \"i just started taking this medicine.  i have ...     7.0            27   \n",
       "3  \"i just started taking this medicine.  i have ...     7.0            27   \n",
       "4  \"aaa ointment. it like... gives you wolverine ...    10.0             0   \n",
       "\n",
       "          drug  \n",
       "0   resorcinol  \n",
       "1       sulfur  \n",
       "2  hydrocodone  \n",
       "3    ibuprofen  \n",
       "4   bacitracin  "
      ]
     },
     "execution_count": 437,
     "metadata": {},
     "output_type": "execute_result"
    }
   ],
   "source": [
    "# function to separate drug name into list of different drugs\n",
    "def separate_name(x):\n",
    "    return x['drug'].split(' / ')\n",
    "\n",
    "# apply function to drug column\n",
    "combos['drug'] = combos.apply(separate_name, axis = 1)\n",
    "\n",
    "# duplicate row so that each row has one drug from list of drugs\n",
    "combos = combos.apply(lambda x: x.explode())\n",
    "\n",
    "# remove space\n",
    "combos.drug = combos.drug.apply(lambda x: x.strip())\n",
    "\n",
    "# convert to lower case\n",
    "combos.drug = combos.drug.str.lower()\n",
    "\n",
    "# reset index\n",
    "combos.reset_index(drop = True, inplace = True)\n",
    "\n",
    "print(len(combos))\n",
    "combos.head()"
   ]
  },
  {
   "cell_type": "code",
   "execution_count": 438,
   "metadata": {
    "ExecuteTime": {
     "end_time": "2021-03-31T10:10:10.737473Z",
     "start_time": "2021-03-31T10:10:10.723013Z"
    }
   },
   "outputs": [
    {
     "data": {
      "text/plain": [
       "['resorcinol',\n",
       " 'sulfur',\n",
       " 'hydrocodone',\n",
       " 'ibuprofen',\n",
       " 'bacitracin',\n",
       " 'neomycin',\n",
       " 'polymyxin b',\n",
       " 'chlorpheniramine maleate',\n",
       " 'methscopolamine nitrate',\n",
       " 'desloratadine',\n",
       " 'pseudoephedrine',\n",
       " 'mestranol',\n",
       " 'norethindrone',\n",
       " 'ethinylestradiol',\n",
       " 'levonorgestrel',\n",
       " 'acetaminophen',\n",
       " 'dextromethorphan',\n",
       " 'doxylamine',\n",
       " 'benzoyl peroxide',\n",
       " 'hydrocortisone']"
      ]
     },
     "execution_count": 438,
     "metadata": {},
     "output_type": "execute_result"
    }
   ],
   "source": [
    "# view first 20 drug values\n",
    "list(combos.drug.unique())[:20]"
   ]
  },
  {
   "cell_type": "markdown",
   "metadata": {},
   "source": [
    "#### Non-combos data frame\n",
    "Here's a brief overview of the other half of the reviews `non_combos`, with minor adjustments."
   ]
  },
  {
   "cell_type": "code",
   "execution_count": 439,
   "metadata": {
    "ExecuteTime": {
     "end_time": "2021-03-31T10:10:29.968636Z",
     "start_time": "2021-03-31T10:10:29.725915Z"
    }
   },
   "outputs": [
    {
     "data": {
      "text/html": [
       "<div>\n",
       "<style scoped>\n",
       "    .dataframe tbody tr th:only-of-type {\n",
       "        vertical-align: middle;\n",
       "    }\n",
       "\n",
       "    .dataframe tbody tr th {\n",
       "        vertical-align: top;\n",
       "    }\n",
       "\n",
       "    .dataframe thead th {\n",
       "        text-align: right;\n",
       "    }\n",
       "</style>\n",
       "<table border=\"1\" class=\"dataframe\">\n",
       "  <thead>\n",
       "    <tr style=\"text-align: right;\">\n",
       "      <th></th>\n",
       "      <th>brand</th>\n",
       "      <th>condition</th>\n",
       "      <th>review</th>\n",
       "      <th>rating</th>\n",
       "      <th>useful_count</th>\n",
       "      <th>drug</th>\n",
       "    </tr>\n",
       "  </thead>\n",
       "  <tbody>\n",
       "    <tr>\n",
       "      <th>0</th>\n",
       "      <td>medroxyprogesterone</td>\n",
       "      <td>abnormal uterine bleeding</td>\n",
       "      <td>\"been on the depo injection since january 2015...</td>\n",
       "      <td>3.0</td>\n",
       "      <td>4</td>\n",
       "      <td>medroxyprogesterone</td>\n",
       "    </tr>\n",
       "    <tr>\n",
       "      <th>2</th>\n",
       "      <td>medroxyprogesterone</td>\n",
       "      <td>amenorrhea</td>\n",
       "      <td>\"i&amp;#039;m 21 years old and recently found out ...</td>\n",
       "      <td>10.0</td>\n",
       "      <td>11</td>\n",
       "      <td>medroxyprogesterone</td>\n",
       "    </tr>\n",
       "    <tr>\n",
       "      <th>3</th>\n",
       "      <td>medroxyprogesterone</td>\n",
       "      <td>abnormal uterine bleeding</td>\n",
       "      <td>\"i have been on the shot 11 years and until a ...</td>\n",
       "      <td>8.0</td>\n",
       "      <td>7</td>\n",
       "      <td>medroxyprogesterone</td>\n",
       "    </tr>\n",
       "    <tr>\n",
       "      <th>4</th>\n",
       "      <td>medroxyprogesterone</td>\n",
       "      <td>birth control</td>\n",
       "      <td>\"ive had four shots at this point. i was on bi...</td>\n",
       "      <td>9.0</td>\n",
       "      <td>12</td>\n",
       "      <td>medroxyprogesterone</td>\n",
       "    </tr>\n",
       "    <tr>\n",
       "      <th>5</th>\n",
       "      <td>medroxyprogesterone</td>\n",
       "      <td>abnormal uterine bleeding</td>\n",
       "      <td>\"i had a total of 3 shots. i got my first one ...</td>\n",
       "      <td>1.0</td>\n",
       "      <td>4</td>\n",
       "      <td>medroxyprogesterone</td>\n",
       "    </tr>\n",
       "  </tbody>\n",
       "</table>\n",
       "</div>"
      ],
      "text/plain": [
       "                 brand                  condition  \\\n",
       "0  medroxyprogesterone  abnormal uterine bleeding   \n",
       "2  medroxyprogesterone                 amenorrhea   \n",
       "3  medroxyprogesterone  abnormal uterine bleeding   \n",
       "4  medroxyprogesterone              birth control   \n",
       "5  medroxyprogesterone  abnormal uterine bleeding   \n",
       "\n",
       "                                              review  rating  useful_count  \\\n",
       "0  \"been on the depo injection since january 2015...     3.0             4   \n",
       "2  \"i&#039;m 21 years old and recently found out ...    10.0            11   \n",
       "3  \"i have been on the shot 11 years and until a ...     8.0             7   \n",
       "4  \"ive had four shots at this point. i was on bi...     9.0            12   \n",
       "5  \"i had a total of 3 shots. i got my first one ...     1.0             4   \n",
       "\n",
       "                  drug  \n",
       "0  medroxyprogesterone  \n",
       "2  medroxyprogesterone  \n",
       "3  medroxyprogesterone  \n",
       "4  medroxyprogesterone  \n",
       "5  medroxyprogesterone  "
      ]
     },
     "execution_count": 439,
     "metadata": {},
     "output_type": "execute_result"
    }
   ],
   "source": [
    "non_combos.drug = non_combos.drug.str.lower()\n",
    "non_combos.drug = non_combos.drug.str.replace('omega 3 supplement', 'omega-3')\n",
    "non_combos.head()"
   ]
  },
  {
   "cell_type": "markdown",
   "metadata": {},
   "source": [
    "### Combine combos and non_combos back together\n",
    "After exploding the combinations, I now concatinate the two data frames, `combos` and `non_combos` back together."
   ]
  },
  {
   "cell_type": "code",
   "execution_count": 440,
   "metadata": {
    "ExecuteTime": {
     "end_time": "2021-03-31T10:10:34.094437Z",
     "start_time": "2021-03-31T10:10:33.958784Z"
    }
   },
   "outputs": [
    {
     "name": "stdout",
     "output_type": "stream",
     "text": [
      "264679\n"
     ]
    },
    {
     "data": {
      "text/html": [
       "<div>\n",
       "<style scoped>\n",
       "    .dataframe tbody tr th:only-of-type {\n",
       "        vertical-align: middle;\n",
       "    }\n",
       "\n",
       "    .dataframe tbody tr th {\n",
       "        vertical-align: top;\n",
       "    }\n",
       "\n",
       "    .dataframe thead th {\n",
       "        text-align: right;\n",
       "    }\n",
       "</style>\n",
       "<table border=\"1\" class=\"dataframe\">\n",
       "  <thead>\n",
       "    <tr style=\"text-align: right;\">\n",
       "      <th></th>\n",
       "      <th>brand</th>\n",
       "      <th>condition</th>\n",
       "      <th>review</th>\n",
       "      <th>rating</th>\n",
       "      <th>useful_count</th>\n",
       "      <th>drug</th>\n",
       "    </tr>\n",
       "  </thead>\n",
       "  <tbody>\n",
       "    <tr>\n",
       "      <th>0</th>\n",
       "      <td>resorcinol / sulfur</td>\n",
       "      <td>acne</td>\n",
       "      <td>\"have loved this product since i began using i...</td>\n",
       "      <td>10.0</td>\n",
       "      <td>3</td>\n",
       "      <td>resorcinol</td>\n",
       "    </tr>\n",
       "    <tr>\n",
       "      <th>1</th>\n",
       "      <td>resorcinol / sulfur</td>\n",
       "      <td>acne</td>\n",
       "      <td>\"have loved this product since i began using i...</td>\n",
       "      <td>10.0</td>\n",
       "      <td>3</td>\n",
       "      <td>sulfur</td>\n",
       "    </tr>\n",
       "    <tr>\n",
       "      <th>2</th>\n",
       "      <td>ibudone</td>\n",
       "      <td>pain</td>\n",
       "      <td>\"i just started taking this medicine.  i have ...</td>\n",
       "      <td>7.0</td>\n",
       "      <td>27</td>\n",
       "      <td>hydrocodone</td>\n",
       "    </tr>\n",
       "    <tr>\n",
       "      <th>3</th>\n",
       "      <td>ibudone</td>\n",
       "      <td>pain</td>\n",
       "      <td>\"i just started taking this medicine.  i have ...</td>\n",
       "      <td>7.0</td>\n",
       "      <td>27</td>\n",
       "      <td>ibuprofen</td>\n",
       "    </tr>\n",
       "    <tr>\n",
       "      <th>4</th>\n",
       "      <td>triple antibiotic</td>\n",
       "      <td>bacterial skin infection</td>\n",
       "      <td>\"aaa ointment. it like... gives you wolverine ...</td>\n",
       "      <td>10.0</td>\n",
       "      <td>0</td>\n",
       "      <td>bacitracin</td>\n",
       "    </tr>\n",
       "  </tbody>\n",
       "</table>\n",
       "</div>"
      ],
      "text/plain": [
       "                 brand                 condition  \\\n",
       "0  resorcinol / sulfur                      acne   \n",
       "1  resorcinol / sulfur                      acne   \n",
       "2              ibudone                      pain   \n",
       "3              ibudone                      pain   \n",
       "4    triple antibiotic  bacterial skin infection   \n",
       "\n",
       "                                              review  rating  useful_count  \\\n",
       "0  \"have loved this product since i began using i...    10.0             3   \n",
       "1  \"have loved this product since i began using i...    10.0             3   \n",
       "2  \"i just started taking this medicine.  i have ...     7.0            27   \n",
       "3  \"i just started taking this medicine.  i have ...     7.0            27   \n",
       "4  \"aaa ointment. it like... gives you wolverine ...    10.0             0   \n",
       "\n",
       "          drug  \n",
       "0   resorcinol  \n",
       "1       sulfur  \n",
       "2  hydrocodone  \n",
       "3    ibuprofen  \n",
       "4   bacitracin  "
      ]
     },
     "execution_count": 440,
     "metadata": {},
     "output_type": "execute_result"
    }
   ],
   "source": [
    "# combine new combos and non_combos back together\n",
    "rv_exploded = pd.concat([combos, non_combos], axis = 0, ignore_index = True)\n",
    "rv_exploded.reset_index(drop = True, inplace = True)\n",
    "print(len(rv_exploded))\n",
    "rv_exploded.head()"
   ]
  },
  {
   "cell_type": "markdown",
   "metadata": {},
   "source": [
    "### Update drugbank.csv\n",
    "#### Scrape (again) on DrugBank\n",
    "Now we rescrape to get more DrugBank IDs, using the same method from notebook 1b."
   ]
  },
  {
   "cell_type": "code",
   "execution_count": 446,
   "metadata": {
    "ExecuteTime": {
     "end_time": "2021-03-31T10:11:16.773513Z",
     "start_time": "2021-03-31T10:11:16.742601Z"
    }
   },
   "outputs": [
    {
     "data": {
      "text/plain": [
       "['sulfur',\n",
       " 'polymyxin b',\n",
       " 'chlorpheniramine maleate',\n",
       " 'methscopolamine nitrate',\n",
       " 'norethindrone',\n",
       " 'acetaminophen',\n",
       " 'niacin',\n",
       " 'bacitracin',\n",
       " 'propoxyphene',\n",
       " 'piperonyl butoxide',\n",
       " 'pyrethrins',\n",
       " 'sulfacetamide',\n",
       " 'influenza virus vaccine',\n",
       " 'inactivated',\n",
       " 'methscopolamine',\n",
       " 'belladonna',\n",
       " 'ethynodiol diacetate',\n",
       " 'norethindrone acetate',\n",
       " 'ferrous fumarate',\n",
       " 'formoterol']"
      ]
     },
     "execution_count": 446,
     "metadata": {},
     "output_type": "execute_result"
    }
   ],
   "source": [
    "# create list to scrape\n",
    "not_found = list(rv_exploded[rv_exploded.db_id.isnull()].drug.unique())\n",
    "not_found[:20]"
   ]
  },
  {
   "cell_type": "code",
   "execution_count": 447,
   "metadata": {
    "ExecuteTime": {
     "end_time": "2021-03-31T10:11:19.830785Z",
     "start_time": "2021-03-31T10:11:19.820641Z"
    }
   },
   "outputs": [],
   "source": [
    "# import libraries\n",
    "import requests\n",
    "import bs4\n",
    "from bs4 import BeautifulSoup\n",
    "import numpy as np\n",
    "from time import sleep\n",
    "import random\n",
    "import pandas as pd\n",
    "from tqdm import tqdm"
   ]
  },
  {
   "cell_type": "code",
   "execution_count": 448,
   "metadata": {
    "ExecuteTime": {
     "end_time": "2021-03-31T10:11:31.217428Z",
     "start_time": "2021-03-31T10:11:20.433708Z"
    }
   },
   "outputs": [],
   "source": [
    "# set up selenium\n",
    "import selenium\n",
    "from selenium import webdriver\n",
    "from selenium.webdriver.common.keys import Keys\n",
    "from selenium.webdriver.common.by import By\n",
    "from selenium.webdriver.support.ui import WebDriverWait\n",
    "from selenium.webdriver.support import expected_conditions as EC\n",
    "import time\n",
    "\n",
    "# PATH = \"/Applications/chromedriver\"\n",
    "# driver = webdriver.Chrome(PATH)\n",
    "\n",
    "options = webdriver.ChromeOptions()\n",
    "chrome_options=options\n",
    "options.add_argument('--enable-javascript')\n",
    "driver = webdriver.Chrome(executable_path='/Applications/chromedriver', options=options)\n",
    "\n",
    "driver.get('https://go.drugbank.com/drugs/DB00316')"
   ]
  },
  {
   "cell_type": "code",
   "execution_count": 449,
   "metadata": {
    "ExecuteTime": {
     "end_time": "2021-03-31T11:47:20.728174Z",
     "start_time": "2021-03-31T10:11:31.228412Z"
    },
    "scrolled": true
   },
   "outputs": [
    {
     "name": "stderr",
     "output_type": "stream",
     "text": [
      "100%|██████████| 511/511 [1:35:49<00:00, 11.25s/it]\n"
     ]
    }
   ],
   "source": [
    "db_ids = []\n",
    "\n",
    "for x in tqdm(not_found):\n",
    "    try:\n",
    "        # click on search box\n",
    "        driver.find_element_by_xpath('/html/body/header/nav[2]/div[1]/form/div[2]').click()\n",
    "        # enter search keyword\n",
    "        searchbox = driver.find_element_by_xpath('//*[@id=\"query\"]')\n",
    "        # clear search box\n",
    "        searchbox.clear()\n",
    "        # enter search word\n",
    "        searchbox.send_keys(x)\n",
    "        # click enter\n",
    "        searchbox.send_keys(Keys.ENTER)\n",
    "        \n",
    "        # wait 5 seconds\n",
    "        sleep(5)\n",
    "        \n",
    "        try:\n",
    "            # get DrugBank number and add to dataframe\n",
    "            num = driver.find_element_by_xpath('/html/body/main/div/div/div[2]/div[2]/dl[1]/dd[2]').text\n",
    "            db_ids.append(num)\n",
    "        \n",
    "        except:\n",
    "            # get DrugBank number using class\n",
    "            num = driver.find_element_by_class_name(\"col-xl-4 col-md-9 col-sm-8\").text\n",
    "            db_ids.append(num)\n",
    "            \n",
    "        # sleep\n",
    "        sleep(random.randint(5, 8))\n",
    "    \n",
    "    except:\n",
    "        db_ids.append(np.nan)"
   ]
  },
  {
   "cell_type": "code",
   "execution_count": 450,
   "metadata": {
    "ExecuteTime": {
     "end_time": "2021-03-31T11:47:20.789297Z",
     "start_time": "2021-03-31T11:47:20.749773Z"
    }
   },
   "outputs": [
    {
     "name": "stdout",
     "output_type": "stream",
     "text": [
      "511\n"
     ]
    },
    {
     "data": {
      "text/plain": [
       "[nan,\n",
       " 'DB00781',\n",
       " 'DB01114',\n",
       " 'DB11315',\n",
       " 'DB00717',\n",
       " 'DB00316',\n",
       " 'DB00627',\n",
       " 'DB00626',\n",
       " 'DB00647',\n",
       " 'DB09350']"
      ]
     },
     "execution_count": 450,
     "metadata": {},
     "output_type": "execute_result"
    }
   ],
   "source": [
    "print(len(db_ids))\n",
    "db_ids[:10]"
   ]
  },
  {
   "cell_type": "markdown",
   "metadata": {},
   "source": [
    "I added the scraped DrugBank IDs to the original drugbank dataframe `db` using `.append()`."
   ]
  },
  {
   "cell_type": "code",
   "execution_count": 455,
   "metadata": {
    "ExecuteTime": {
     "end_time": "2021-03-31T14:22:15.758266Z",
     "start_time": "2021-03-31T14:22:13.727019Z"
    }
   },
   "outputs": [
    {
     "data": {
      "text/plain": [
       "(3518, 5)"
      ]
     },
     "execution_count": 455,
     "metadata": {},
     "output_type": "execute_result"
    }
   ],
   "source": [
    "# load csv\n",
    "db = pd.read_csv('drugbank_final.csv', dtype = object)\n",
    "\n",
    "for i in range(len(db_ids)):\n",
    "    db = db.append({'drug': not_found[i], 'yc_id': np.nan, 'db_id': db_ids[i],\n",
    "                   'target': np.nan, 'drug_cat': np.nan}, ignore_index = True)\n",
    "db.shape"
   ]
  },
  {
   "cell_type": "markdown",
   "metadata": {},
   "source": [
    "#### Remove duplicate and null rows\n",
    "Some more cleaning out rows with duplicated drugs and those without drugbank ids."
   ]
  },
  {
   "cell_type": "code",
   "execution_count": 456,
   "metadata": {
    "ExecuteTime": {
     "end_time": "2021-04-01T13:30:25.271562Z",
     "start_time": "2021-04-01T13:30:25.197208Z"
    }
   },
   "outputs": [
    {
     "data": {
      "text/html": [
       "<div>\n",
       "<style scoped>\n",
       "    .dataframe tbody tr th:only-of-type {\n",
       "        vertical-align: middle;\n",
       "    }\n",
       "\n",
       "    .dataframe tbody tr th {\n",
       "        vertical-align: top;\n",
       "    }\n",
       "\n",
       "    .dataframe thead th {\n",
       "        text-align: right;\n",
       "    }\n",
       "</style>\n",
       "<table border=\"1\" class=\"dataframe\">\n",
       "  <thead>\n",
       "    <tr style=\"text-align: right;\">\n",
       "      <th></th>\n",
       "      <th>drug</th>\n",
       "      <th>yc_id</th>\n",
       "      <th>db_id</th>\n",
       "      <th>target</th>\n",
       "      <th>drug_cat</th>\n",
       "    </tr>\n",
       "  </thead>\n",
       "  <tbody>\n",
       "    <tr>\n",
       "      <th>3513</th>\n",
       "      <td>eyebright</td>\n",
       "      <td>NaN</td>\n",
       "      <td>NaN</td>\n",
       "      <td>NaN</td>\n",
       "      <td>NaN</td>\n",
       "    </tr>\n",
       "    <tr>\n",
       "      <th>3514</th>\n",
       "      <td>humulin r u-500 concentrated</td>\n",
       "      <td>NaN</td>\n",
       "      <td>NaN</td>\n",
       "      <td>NaN</td>\n",
       "      <td>NaN</td>\n",
       "    </tr>\n",
       "    <tr>\n",
       "      <th>3515</th>\n",
       "      <td>red yeast rice</td>\n",
       "      <td>NaN</td>\n",
       "      <td>NaN</td>\n",
       "      <td>NaN</td>\n",
       "      <td>NaN</td>\n",
       "    </tr>\n",
       "    <tr>\n",
       "      <th>3516</th>\n",
       "      <td>amcinonide</td>\n",
       "      <td>NaN</td>\n",
       "      <td>DB00288</td>\n",
       "      <td>NaN</td>\n",
       "      <td>NaN</td>\n",
       "    </tr>\n",
       "    <tr>\n",
       "      <th>3517</th>\n",
       "      <td>meningococcal group b vaccine</td>\n",
       "      <td>NaN</td>\n",
       "      <td>NaN</td>\n",
       "      <td>NaN</td>\n",
       "      <td>NaN</td>\n",
       "    </tr>\n",
       "  </tbody>\n",
       "</table>\n",
       "</div>"
      ],
      "text/plain": [
       "                               drug yc_id    db_id target drug_cat\n",
       "3513                      eyebright   NaN      NaN    NaN      NaN\n",
       "3514   humulin r u-500 concentrated   NaN      NaN    NaN      NaN\n",
       "3515                 red yeast rice   NaN      NaN    NaN      NaN\n",
       "3516                     amcinonide   NaN  DB00288    NaN      NaN\n",
       "3517  meningococcal group b vaccine   NaN      NaN    NaN      NaN"
      ]
     },
     "execution_count": 456,
     "metadata": {},
     "output_type": "execute_result"
    }
   ],
   "source": [
    "# showing rows with null values\n",
    "db.tail()"
   ]
  },
  {
   "cell_type": "code",
   "execution_count": 457,
   "metadata": {
    "ExecuteTime": {
     "end_time": "2021-04-01T13:30:41.185541Z",
     "start_time": "2021-04-01T13:30:41.119590Z"
    }
   },
   "outputs": [
    {
     "data": {
      "text/html": [
       "<div>\n",
       "<style scoped>\n",
       "    .dataframe tbody tr th:only-of-type {\n",
       "        vertical-align: middle;\n",
       "    }\n",
       "\n",
       "    .dataframe tbody tr th {\n",
       "        vertical-align: top;\n",
       "    }\n",
       "\n",
       "    .dataframe thead th {\n",
       "        text-align: right;\n",
       "    }\n",
       "</style>\n",
       "<table border=\"1\" class=\"dataframe\">\n",
       "  <thead>\n",
       "    <tr style=\"text-align: right;\">\n",
       "      <th></th>\n",
       "      <th>drug</th>\n",
       "      <th>yc_id</th>\n",
       "      <th>db_id</th>\n",
       "      <th>target</th>\n",
       "      <th>drug_cat</th>\n",
       "    </tr>\n",
       "  </thead>\n",
       "  <tbody>\n",
       "    <tr>\n",
       "      <th>169</th>\n",
       "      <td>bacitracin</td>\n",
       "      <td>000255876943</td>\n",
       "      <td>DB00626</td>\n",
       "      <td>['C55-isoprenyl pyrophosphate', 'Insulin-degra...</td>\n",
       "      <td>['X gen pharmaceuticals inc', 'App pharmaceuti...</td>\n",
       "    </tr>\n",
       "    <tr>\n",
       "      <th>1994</th>\n",
       "      <td>bacitracin</td>\n",
       "      <td>NaN</td>\n",
       "      <td>DB00626</td>\n",
       "      <td>NaN</td>\n",
       "      <td>NaN</td>\n",
       "    </tr>\n",
       "    <tr>\n",
       "      <th>2503</th>\n",
       "      <td>bacitracin</td>\n",
       "      <td>NaN</td>\n",
       "      <td>DB00626</td>\n",
       "      <td>NaN</td>\n",
       "      <td>NaN</td>\n",
       "    </tr>\n",
       "    <tr>\n",
       "      <th>3014</th>\n",
       "      <td>bacitracin</td>\n",
       "      <td>NaN</td>\n",
       "      <td>DB00626</td>\n",
       "      <td>NaN</td>\n",
       "      <td>NaN</td>\n",
       "    </tr>\n",
       "  </tbody>\n",
       "</table>\n",
       "</div>"
      ],
      "text/plain": [
       "            drug         yc_id    db_id  \\\n",
       "169   bacitracin  000255876943  DB00626   \n",
       "1994  bacitracin           NaN  DB00626   \n",
       "2503  bacitracin           NaN  DB00626   \n",
       "3014  bacitracin           NaN  DB00626   \n",
       "\n",
       "                                                 target  \\\n",
       "169   ['C55-isoprenyl pyrophosphate', 'Insulin-degra...   \n",
       "1994                                                NaN   \n",
       "2503                                                NaN   \n",
       "3014                                                NaN   \n",
       "\n",
       "                                               drug_cat  \n",
       "169   ['X gen pharmaceuticals inc', 'App pharmaceuti...  \n",
       "1994                                                NaN  \n",
       "2503                                                NaN  \n",
       "3014                                                NaN  "
      ]
     },
     "execution_count": 457,
     "metadata": {},
     "output_type": "execute_result"
    }
   ],
   "source": [
    "# showing rows with the same drug\n",
    "db[db.drug.str.contains('bacitracin')]"
   ]
  },
  {
   "cell_type": "code",
   "execution_count": 466,
   "metadata": {
    "ExecuteTime": {
     "end_time": "2021-04-01T13:34:49.476164Z",
     "start_time": "2021-04-01T13:34:49.458930Z"
    }
   },
   "outputs": [
    {
     "data": {
      "text/plain": [
       "['bacitracin',\n",
       " 'bendamustine hydrochloride',\n",
       " 'ferrous fumarate',\n",
       " 'aldesleukin',\n",
       " 'metaproterenol',\n",
       " 'flibanserin',\n",
       " 'ery-tab',\n",
       " 'oxiconazole',\n",
       " 'terconazole',\n",
       " 'ramelteon']"
      ]
     },
     "execution_count": 466,
     "metadata": {},
     "output_type": "execute_result"
    }
   ],
   "source": [
    "# drop rows without db id\n",
    "db = db[db.db_id.notnull()]\n",
    "\n",
    "# look at drugs that appear in multiple rows\n",
    "dups = list(db.drug.value_counts()[db.drug.value_counts().values > 1].index)\n",
    "dups[:10]"
   ]
  },
  {
   "cell_type": "code",
   "execution_count": 480,
   "metadata": {
    "ExecuteTime": {
     "end_time": "2021-04-01T13:40:58.790699Z",
     "start_time": "2021-04-01T13:40:58.775521Z"
    }
   },
   "outputs": [
    {
     "data": {
      "text/plain": [
       "Series([], Name: drug, dtype: int64)"
      ]
     },
     "execution_count": 480,
     "metadata": {},
     "output_type": "execute_result"
    }
   ],
   "source": [
    "# for each duplicated drug, drop all but first row\n",
    "for drug in dups:\n",
    "    n = db[db.drug == drug].index\n",
    "    db.drop(index = n[1:], inplace = True)\n",
    "    \n",
    "# check for duplicate drugs\n",
    "db.drug.value_counts()[db.drug.value_counts().values > 1]"
   ]
  },
  {
   "cell_type": "code",
   "execution_count": 482,
   "metadata": {
    "ExecuteTime": {
     "end_time": "2021-04-01T13:42:11.817511Z",
     "start_time": "2021-04-01T13:42:11.740254Z"
    }
   },
   "outputs": [
    {
     "name": "stdout",
     "output_type": "stream",
     "text": [
      "<class 'pandas.core.frame.DataFrame'>\n",
      "Int64Index: 2380 entries, 0 to 3005\n",
      "Data columns (total 5 columns):\n",
      " #   Column    Non-Null Count  Dtype \n",
      "---  ------    --------------  ----- \n",
      " 0   drug      2380 non-null   object\n",
      " 1   yc_id     1987 non-null   object\n",
      " 2   db_id     2380 non-null   object\n",
      " 3   target    1565 non-null   object\n",
      " 4   drug_cat  1987 non-null   object\n",
      "dtypes: object(5)\n",
      "memory usage: 111.6+ KB\n"
     ]
    }
   ],
   "source": [
    "db.info()"
   ]
  },
  {
   "cell_type": "markdown",
   "metadata": {},
   "source": [
    "#### Find missing information on target and categories\n",
    "A final scrape to fill in the missing values on `target` and `drug_cat` columns."
   ]
  },
  {
   "cell_type": "code",
   "execution_count": 511,
   "metadata": {
    "ExecuteTime": {
     "end_time": "2021-04-12T08:55:01.285898Z",
     "start_time": "2021-04-12T08:55:01.274825Z"
    }
   },
   "outputs": [
    {
     "data": {
      "text/plain": [
       "['DB13573',\n",
       " 'DB03166',\n",
       " 'DB09055',\n",
       " 'DB11205',\n",
       " 'DB13518',\n",
       " 'DB11100',\n",
       " 'DB13595',\n",
       " 'DB15477',\n",
       " 'DB13509',\n",
       " 'DB15573']"
      ]
     },
     "execution_count": 511,
     "metadata": {},
     "output_type": "execute_result"
    }
   ],
   "source": [
    "# drugbank ids where row has no information on target/ drug category\n",
    "x = list(db.db_id.values[db.target.isnull() | db.drug_cat.isnull()])\n",
    "x[:10]"
   ]
  },
  {
   "cell_type": "code",
   "execution_count": 497,
   "metadata": {
    "ExecuteTime": {
     "end_time": "2021-04-01T15:12:46.698659Z",
     "start_time": "2021-04-01T14:00:17.410126Z"
    }
   },
   "outputs": [
    {
     "name": "stderr",
     "output_type": "stream",
     "text": [
      "100%|██████████| 815/815 [1:12:29<00:00,  5.34s/it]\n"
     ]
    }
   ],
   "source": [
    "# set up headers\n",
    "user_agent = \"Mozilla/5.0 (Macintosh; Intel Mac OS X 10_15_7) AppleWebKit/537.36 (KHTML, like Gecko) Chrome/86.0.4240.183 Safari/537.36\"\n",
    "accept = \"text/html,application/xhtml+xml,application/xml;q=0.9,image/avif,image/webp,image/apng,*/*;q=0.8,application/signed-exchange;v=b3;q=0.9\"\n",
    "encoding = \"gzip, deflate, br\"\n",
    "lang = \"en-GB,en;q=0.9\"\n",
    "headers = {'accept': accept, 'accept-encoding': encoding,\n",
    "           'accept-language': lang, 'user-agent': user_agent}\n",
    "\n",
    "# create empty lists to store scraped information\n",
    "targets = []\n",
    "drug_cats = []\n",
    "\n",
    "# loop throguh each DrugBank ID scraped earlier above\n",
    "for db_id in tqdm(x):\n",
    "\n",
    "    # add the drugbank id to the url to access each drug's page\n",
    "    url = f'https://go.drugbank.com/drugs/{db_id}'\n",
    "    r = requests.get(url, headers=headers)\n",
    "    \n",
    "    # get ahfs code (drug category)\n",
    "    try:\n",
    "        soup = BeautifulSoup(r.text, 'html.parser')\n",
    "        results = soup.find_all(\"ul\", class_ = \"list-unstyled table-list\")\n",
    "        drug_cats.append(results[3].text)\n",
    "    except:\n",
    "        drug_cats.append(np.nan)\n",
    "      \n",
    "    \n",
    "    # read all the tables on the webpage\n",
    "    try:    \n",
    "        # get dataframes\n",
    "        dfs = pd.read_html(r.text)\n",
    "    \n",
    "    # error message that there was no table for the specific url\n",
    "    except:\n",
    "        print('no tables')\n",
    "        targets.append(np.nan)\n",
    "    \n",
    "    else:\n",
    "        target = 0\n",
    "        \n",
    "        # loop through each dataframe stored in dfs\n",
    "        for df in dfs:\n",
    "            \n",
    "            # extract targets\n",
    "            if df.columns[0] == 'Target':\n",
    "                target = 1\n",
    "                targets.append([x[1:] for x in df['Target'].values])\n",
    "\n",
    "            else:\n",
    "                pass\n",
    "            \n",
    "        # once all the dfs are looped through for each drug,\n",
    "        # if no target table is found, append nan value\n",
    "        if target == 0:\n",
    "            targets.append(np.nan)\n",
    "    \n",
    "        # sleep\n",
    "        sleep(random.randint(3, 6))"
   ]
  },
  {
   "cell_type": "code",
   "execution_count": 498,
   "metadata": {
    "ExecuteTime": {
     "end_time": "2021-04-12T08:46:53.457195Z",
     "start_time": "2021-04-12T08:46:53.344881Z"
    }
   },
   "outputs": [
    {
     "data": {
      "text/plain": [
       "(815, 815)"
      ]
     },
     "execution_count": 498,
     "metadata": {},
     "output_type": "execute_result"
    }
   ],
   "source": [
    "# check length\n",
    "len(targets), len(drug_cats)"
   ]
  },
  {
   "cell_type": "code",
   "execution_count": 512,
   "metadata": {
    "ExecuteTime": {
     "end_time": "2021-04-12T08:55:17.638765Z",
     "start_time": "2021-04-12T08:55:16.126846Z"
    }
   },
   "outputs": [
    {
     "name": "stderr",
     "output_type": "stream",
     "text": [
      "815it [00:01, 544.25it/s]\n"
     ]
    }
   ],
   "source": [
    "# update db\n",
    "\n",
    "# loop through each id in list x (those with missing target or category)\n",
    "for e, value in tqdm(enumerate(x)):\n",
    "    \n",
    "    # get index for each db id\n",
    "    i = db[db.db_id == value].index\n",
    "    \n",
    "    # loop through each index (some may return multiple indices)\n",
    "    for j in i:\n",
    "        \n",
    "        # change target and drug_cat values frmo scraped lists\n",
    "        db.loc[j, 'target'] = targets[e]\n",
    "        db.loc[j, 'drug_cat'] = drug_cats[e]"
   ]
  },
  {
   "cell_type": "code",
   "execution_count": 514,
   "metadata": {
    "ExecuteTime": {
     "end_time": "2021-04-12T08:55:37.089783Z",
     "start_time": "2021-04-12T08:55:36.992166Z"
    }
   },
   "outputs": [
    {
     "name": "stdout",
     "output_type": "stream",
     "text": [
      "<class 'pandas.core.frame.DataFrame'>\n",
      "Int64Index: 2380 entries, 0 to 3005\n",
      "Data columns (total 5 columns):\n",
      " #   Column    Non-Null Count  Dtype \n",
      "---  ------    --------------  ----- \n",
      " 0   drug      2380 non-null   object\n",
      " 1   yc_id     1987 non-null   object\n",
      " 2   db_id     2380 non-null   object\n",
      " 3   target    1876 non-null   object\n",
      " 4   drug_cat  1799 non-null   object\n",
      "dtypes: object(5)\n",
      "memory usage: 191.6+ KB\n"
     ]
    }
   ],
   "source": [
    "db.info()"
   ]
  },
  {
   "cell_type": "code",
   "execution_count": 522,
   "metadata": {
    "ExecuteTime": {
     "end_time": "2021-04-12T09:05:24.632446Z",
     "start_time": "2021-04-12T09:05:24.594127Z"
    }
   },
   "outputs": [
    {
     "data": {
      "text/html": [
       "<div>\n",
       "<style scoped>\n",
       "    .dataframe tbody tr th:only-of-type {\n",
       "        vertical-align: middle;\n",
       "    }\n",
       "\n",
       "    .dataframe tbody tr th {\n",
       "        vertical-align: top;\n",
       "    }\n",
       "\n",
       "    .dataframe thead th {\n",
       "        text-align: right;\n",
       "    }\n",
       "</style>\n",
       "<table border=\"1\" class=\"dataframe\">\n",
       "  <thead>\n",
       "    <tr style=\"text-align: right;\">\n",
       "      <th></th>\n",
       "      <th>drug</th>\n",
       "      <th>yc_id</th>\n",
       "      <th>db_id</th>\n",
       "      <th>target</th>\n",
       "      <th>drug_cat</th>\n",
       "    </tr>\n",
       "  </thead>\n",
       "  <tbody>\n",
       "    <tr>\n",
       "      <th>count</th>\n",
       "      <td>2380</td>\n",
       "      <td>1987</td>\n",
       "      <td>2380</td>\n",
       "      <td>1876</td>\n",
       "      <td>1799</td>\n",
       "    </tr>\n",
       "    <tr>\n",
       "      <th>unique</th>\n",
       "      <td>2380</td>\n",
       "      <td>1987</td>\n",
       "      <td>2195</td>\n",
       "      <td>1330</td>\n",
       "      <td>759</td>\n",
       "    </tr>\n",
       "    <tr>\n",
       "      <th>top</th>\n",
       "      <td>triazolam</td>\n",
       "      <td>000724484677</td>\n",
       "      <td>DB00066</td>\n",
       "      <td>['DNA']</td>\n",
       "      <td>['nan']</td>\n",
       "    </tr>\n",
       "    <tr>\n",
       "      <th>freq</th>\n",
       "      <td>1</td>\n",
       "      <td>1</td>\n",
       "      <td>4</td>\n",
       "      <td>20</td>\n",
       "      <td>502</td>\n",
       "    </tr>\n",
       "  </tbody>\n",
       "</table>\n",
       "</div>"
      ],
      "text/plain": [
       "             drug         yc_id    db_id   target drug_cat\n",
       "count        2380          1987     2380     1876     1799\n",
       "unique       2380          1987     2195     1330      759\n",
       "top     triazolam  000724484677  DB00066  ['DNA']  ['nan']\n",
       "freq            1             1        4       20      502"
      ]
     },
     "execution_count": 522,
     "metadata": {},
     "output_type": "execute_result"
    }
   ],
   "source": [
    "db.describe()"
   ]
  },
  {
   "cell_type": "code",
   "execution_count": 516,
   "metadata": {
    "ExecuteTime": {
     "end_time": "2021-04-12T08:58:49.455630Z",
     "start_time": "2021-04-12T08:58:49.438943Z"
    }
   },
   "outputs": [
    {
     "data": {
      "text/html": [
       "<div>\n",
       "<style scoped>\n",
       "    .dataframe tbody tr th:only-of-type {\n",
       "        vertical-align: middle;\n",
       "    }\n",
       "\n",
       "    .dataframe tbody tr th {\n",
       "        vertical-align: top;\n",
       "    }\n",
       "\n",
       "    .dataframe thead th {\n",
       "        text-align: right;\n",
       "    }\n",
       "</style>\n",
       "<table border=\"1\" class=\"dataframe\">\n",
       "  <thead>\n",
       "    <tr style=\"text-align: right;\">\n",
       "      <th></th>\n",
       "      <th>drug</th>\n",
       "      <th>yc_id</th>\n",
       "      <th>db_id</th>\n",
       "      <th>target</th>\n",
       "      <th>drug_cat</th>\n",
       "    </tr>\n",
       "  </thead>\n",
       "  <tbody>\n",
       "    <tr>\n",
       "      <th>0</th>\n",
       "      <td>abacavir</td>\n",
       "      <td>000040046536</td>\n",
       "      <td>DB01048</td>\n",
       "      <td>['Reverse transcriptase/RNaseH', 'HLA class I ...</td>\n",
       "      <td>['08:18.08.20 — Nucleoside and Nucleotide Reve...</td>\n",
       "    </tr>\n",
       "    <tr>\n",
       "      <th>1</th>\n",
       "      <td>abatacept</td>\n",
       "      <td>000561378321</td>\n",
       "      <td>DB01281</td>\n",
       "      <td>['T-lymphocyte activation antigen CD80', 'T-ly...</td>\n",
       "      <td>['Bristol-Myers Squibb Co.', 'Celltrion Inc.',...</td>\n",
       "    </tr>\n",
       "    <tr>\n",
       "      <th>2</th>\n",
       "      <td>abciximab</td>\n",
       "      <td>000231911819</td>\n",
       "      <td>DB00054</td>\n",
       "      <td>['Integrin beta-3', 'Integrin alpha-IIb', 'Low...</td>\n",
       "      <td>['92:00.00 — Miscellaneous Therapeutic Agents']</td>\n",
       "    </tr>\n",
       "    <tr>\n",
       "      <th>3</th>\n",
       "      <td>abemaciclib</td>\n",
       "      <td>000369408139</td>\n",
       "      <td>DB12001</td>\n",
       "      <td>['Cyclin-dependent kinase 4', 'Cyclin-dependen...</td>\n",
       "      <td>['10:00.00 — Antineoplastic Agents']</td>\n",
       "    </tr>\n",
       "    <tr>\n",
       "      <th>4</th>\n",
       "      <td>abiraterone</td>\n",
       "      <td>000968368347</td>\n",
       "      <td>DB05812</td>\n",
       "      <td>['Steroid 17-alpha-hydroxylase/17,20 lyase']</td>\n",
       "      <td>['10:00.00 — Antineoplastic Agents']</td>\n",
       "    </tr>\n",
       "  </tbody>\n",
       "</table>\n",
       "</div>"
      ],
      "text/plain": [
       "          drug         yc_id    db_id  \\\n",
       "0     abacavir  000040046536  DB01048   \n",
       "1    abatacept  000561378321  DB01281   \n",
       "2    abciximab  000231911819  DB00054   \n",
       "3  abemaciclib  000369408139  DB12001   \n",
       "4  abiraterone  000968368347  DB05812   \n",
       "\n",
       "                                              target  \\\n",
       "0  ['Reverse transcriptase/RNaseH', 'HLA class I ...   \n",
       "1  ['T-lymphocyte activation antigen CD80', 'T-ly...   \n",
       "2  ['Integrin beta-3', 'Integrin alpha-IIb', 'Low...   \n",
       "3  ['Cyclin-dependent kinase 4', 'Cyclin-dependen...   \n",
       "4       ['Steroid 17-alpha-hydroxylase/17,20 lyase']   \n",
       "\n",
       "                                            drug_cat  \n",
       "0  ['08:18.08.20 — Nucleoside and Nucleotide Reve...  \n",
       "1  ['Bristol-Myers Squibb Co.', 'Celltrion Inc.',...  \n",
       "2    ['92:00.00 — Miscellaneous Therapeutic Agents']  \n",
       "3               ['10:00.00 — Antineoplastic Agents']  \n",
       "4               ['10:00.00 — Antineoplastic Agents']  "
      ]
     },
     "execution_count": 516,
     "metadata": {},
     "output_type": "execute_result"
    }
   ],
   "source": [
    "db.head()"
   ]
  },
  {
   "cell_type": "markdown",
   "metadata": {},
   "source": [
    "#### Extract lists of single values\n",
    "I made a custome function that extracts lists with single elements (eg. `['nan']`) to `'nan'`."
   ]
  },
  {
   "cell_type": "code",
   "execution_count": 552,
   "metadata": {
    "ExecuteTime": {
     "end_time": "2021-04-12T09:43:34.650858Z",
     "start_time": "2021-04-12T09:43:34.611053Z"
    }
   },
   "outputs": [
    {
     "data": {
      "text/html": [
       "<div>\n",
       "<style scoped>\n",
       "    .dataframe tbody tr th:only-of-type {\n",
       "        vertical-align: middle;\n",
       "    }\n",
       "\n",
       "    .dataframe tbody tr th {\n",
       "        vertical-align: top;\n",
       "    }\n",
       "\n",
       "    .dataframe thead th {\n",
       "        text-align: right;\n",
       "    }\n",
       "</style>\n",
       "<table border=\"1\" class=\"dataframe\">\n",
       "  <thead>\n",
       "    <tr style=\"text-align: right;\">\n",
       "      <th></th>\n",
       "      <th>drug</th>\n",
       "      <th>yc_id</th>\n",
       "      <th>db_id</th>\n",
       "      <th>target</th>\n",
       "      <th>drug_cat</th>\n",
       "    </tr>\n",
       "  </thead>\n",
       "  <tbody>\n",
       "    <tr>\n",
       "      <th>0</th>\n",
       "      <td>abacavir</td>\n",
       "      <td>000040046536</td>\n",
       "      <td>DB01048</td>\n",
       "      <td>[Reverse transcriptase/RNaseH, HLA class I his...</td>\n",
       "      <td>08:18.08.20 — Nucleoside and Nucleotide Revers...</td>\n",
       "    </tr>\n",
       "    <tr>\n",
       "      <th>1</th>\n",
       "      <td>abatacept</td>\n",
       "      <td>000561378321</td>\n",
       "      <td>DB01281</td>\n",
       "      <td>[T-lymphocyte activation antigen CD80, T-lymph...</td>\n",
       "      <td>[Bristol-Myers Squibb Co., Celltrion Inc., E.R...</td>\n",
       "    </tr>\n",
       "    <tr>\n",
       "      <th>2</th>\n",
       "      <td>abciximab</td>\n",
       "      <td>000231911819</td>\n",
       "      <td>DB00054</td>\n",
       "      <td>[Integrin beta-3, Integrin alpha-IIb, Low affi...</td>\n",
       "      <td>92:00.00 — Miscellaneous Therapeutic Agents</td>\n",
       "    </tr>\n",
       "    <tr>\n",
       "      <th>3</th>\n",
       "      <td>abemaciclib</td>\n",
       "      <td>000369408139</td>\n",
       "      <td>DB12001</td>\n",
       "      <td>[Cyclin-dependent kinase 4, Cyclin-dependent k...</td>\n",
       "      <td>10:00.00 — Antineoplastic Agents</td>\n",
       "    </tr>\n",
       "    <tr>\n",
       "      <th>4</th>\n",
       "      <td>abiraterone</td>\n",
       "      <td>000968368347</td>\n",
       "      <td>DB05812</td>\n",
       "      <td>Steroid 17-alpha-hydroxylase/17,20 lyase</td>\n",
       "      <td>10:00.00 — Antineoplastic Agents</td>\n",
       "    </tr>\n",
       "  </tbody>\n",
       "</table>\n",
       "</div>"
      ],
      "text/plain": [
       "          drug         yc_id    db_id  \\\n",
       "0     abacavir  000040046536  DB01048   \n",
       "1    abatacept  000561378321  DB01281   \n",
       "2    abciximab  000231911819  DB00054   \n",
       "3  abemaciclib  000369408139  DB12001   \n",
       "4  abiraterone  000968368347  DB05812   \n",
       "\n",
       "                                              target  \\\n",
       "0  [Reverse transcriptase/RNaseH, HLA class I his...   \n",
       "1  [T-lymphocyte activation antigen CD80, T-lymph...   \n",
       "2  [Integrin beta-3, Integrin alpha-IIb, Low affi...   \n",
       "3  [Cyclin-dependent kinase 4, Cyclin-dependent k...   \n",
       "4           Steroid 17-alpha-hydroxylase/17,20 lyase   \n",
       "\n",
       "                                            drug_cat  \n",
       "0  08:18.08.20 — Nucleoside and Nucleotide Revers...  \n",
       "1  [Bristol-Myers Squibb Co., Celltrion Inc., E.R...  \n",
       "2        92:00.00 — Miscellaneous Therapeutic Agents  \n",
       "3                   10:00.00 — Antineoplastic Agents  \n",
       "4                   10:00.00 — Antineoplastic Agents  "
      ]
     },
     "execution_count": 552,
     "metadata": {},
     "output_type": "execute_result"
    }
   ],
   "source": [
    "#  create custom function\n",
    "def extract_list(x):\n",
    "    try:\n",
    "        if len(x) == 1:\n",
    "            return x[0]\n",
    "        else:\n",
    "            return x\n",
    "    except:\n",
    "        return x\n",
    "\n",
    "# apply function to db_id, target and drug_cat columns\n",
    "db.db_id = db.db_id.apply(extract_list)\n",
    "db.target = db.target.apply(extract_list)\n",
    "db.drug_cat = db.drug_cat.apply(extract_list)\n",
    "db.head()"
   ]
  },
  {
   "cell_type": "code",
   "execution_count": 553,
   "metadata": {
    "ExecuteTime": {
     "end_time": "2021-04-12T09:43:38.384984Z",
     "start_time": "2021-04-12T09:43:38.305592Z"
    }
   },
   "outputs": [
    {
     "data": {
      "text/html": [
       "<div>\n",
       "<style scoped>\n",
       "    .dataframe tbody tr th:only-of-type {\n",
       "        vertical-align: middle;\n",
       "    }\n",
       "\n",
       "    .dataframe tbody tr th {\n",
       "        vertical-align: top;\n",
       "    }\n",
       "\n",
       "    .dataframe thead th {\n",
       "        text-align: right;\n",
       "    }\n",
       "</style>\n",
       "<table border=\"1\" class=\"dataframe\">\n",
       "  <thead>\n",
       "    <tr style=\"text-align: right;\">\n",
       "      <th></th>\n",
       "      <th>drug</th>\n",
       "      <th>yc_id</th>\n",
       "      <th>db_id</th>\n",
       "      <th>target</th>\n",
       "      <th>drug_cat</th>\n",
       "    </tr>\n",
       "  </thead>\n",
       "  <tbody>\n",
       "    <tr>\n",
       "      <th>count</th>\n",
       "      <td>2380</td>\n",
       "      <td>1987</td>\n",
       "      <td>2380</td>\n",
       "      <td>1876</td>\n",
       "      <td>1799</td>\n",
       "    </tr>\n",
       "    <tr>\n",
       "      <th>unique</th>\n",
       "      <td>2380</td>\n",
       "      <td>1987</td>\n",
       "      <td>2195</td>\n",
       "      <td>1271</td>\n",
       "      <td>700</td>\n",
       "    </tr>\n",
       "    <tr>\n",
       "      <th>top</th>\n",
       "      <td>triazolam</td>\n",
       "      <td>000724484677</td>\n",
       "      <td>DB00066</td>\n",
       "      <td>DNA</td>\n",
       "      <td>nan</td>\n",
       "    </tr>\n",
       "    <tr>\n",
       "      <th>freq</th>\n",
       "      <td>1</td>\n",
       "      <td>1</td>\n",
       "      <td>4</td>\n",
       "      <td>26</td>\n",
       "      <td>502</td>\n",
       "    </tr>\n",
       "  </tbody>\n",
       "</table>\n",
       "</div>"
      ],
      "text/plain": [
       "             drug         yc_id    db_id target drug_cat\n",
       "count        2380          1987     2380   1876     1799\n",
       "unique       2380          1987     2195   1271      700\n",
       "top     triazolam  000724484677  DB00066    DNA      nan\n",
       "freq            1             1        4     26      502"
      ]
     },
     "execution_count": 553,
     "metadata": {},
     "output_type": "execute_result"
    }
   ],
   "source": [
    "db.describe()"
   ]
  },
  {
   "cell_type": "markdown",
   "metadata": {},
   "source": [
    "#### Extract drug category codes\n",
    "As we can see from row index 1 above, the drug category value is incorrect. The manufacturer name, `Bristol-Myers Squibb Co.`, was scraped instead of the actual AHFS drug category code.\n",
    "\n",
    "I made a custom function that:\n",
    "- Extracts the code from each cell (e.g. `10:00.00`)\n",
    "- Replaces manufacturer names with `nan`\n",
    "- If there are multiple codes, return the codes as a list"
   ]
  },
  {
   "cell_type": "code",
   "execution_count": 563,
   "metadata": {
    "ExecuteTime": {
     "end_time": "2021-04-12T09:48:50.397760Z",
     "start_time": "2021-04-12T09:48:50.390901Z"
    }
   },
   "outputs": [
    {
     "data": {
      "text/plain": [
       "'Bristol-Myers Squibb Co.'"
      ]
     },
     "execution_count": 563,
     "metadata": {},
     "output_type": "execute_result"
    }
   ],
   "source": [
    "# example\n",
    "db.loc[1,'drug_cat'][0]"
   ]
  },
  {
   "cell_type": "code",
   "execution_count": 583,
   "metadata": {
    "ExecuteTime": {
     "end_time": "2021-04-12T10:03:46.917918Z",
     "start_time": "2021-04-12T10:03:46.867124Z"
    }
   },
   "outputs": [
    {
     "data": {
      "text/html": [
       "<div>\n",
       "<style scoped>\n",
       "    .dataframe tbody tr th:only-of-type {\n",
       "        vertical-align: middle;\n",
       "    }\n",
       "\n",
       "    .dataframe tbody tr th {\n",
       "        vertical-align: top;\n",
       "    }\n",
       "\n",
       "    .dataframe thead th {\n",
       "        text-align: right;\n",
       "    }\n",
       "</style>\n",
       "<table border=\"1\" class=\"dataframe\">\n",
       "  <thead>\n",
       "    <tr style=\"text-align: right;\">\n",
       "      <th></th>\n",
       "      <th>drug</th>\n",
       "      <th>yc_id</th>\n",
       "      <th>db_id</th>\n",
       "      <th>target</th>\n",
       "      <th>drug_cat</th>\n",
       "    </tr>\n",
       "  </thead>\n",
       "  <tbody>\n",
       "    <tr>\n",
       "      <th>0</th>\n",
       "      <td>abacavir</td>\n",
       "      <td>000040046536</td>\n",
       "      <td>DB01048</td>\n",
       "      <td>[Reverse transcriptase/RNaseH, HLA class I his...</td>\n",
       "      <td>08:18.08.20</td>\n",
       "    </tr>\n",
       "    <tr>\n",
       "      <th>1</th>\n",
       "      <td>abatacept</td>\n",
       "      <td>000561378321</td>\n",
       "      <td>DB01281</td>\n",
       "      <td>[T-lymphocyte activation antigen CD80, T-lymph...</td>\n",
       "      <td>NaN</td>\n",
       "    </tr>\n",
       "    <tr>\n",
       "      <th>2</th>\n",
       "      <td>abciximab</td>\n",
       "      <td>000231911819</td>\n",
       "      <td>DB00054</td>\n",
       "      <td>[Integrin beta-3, Integrin alpha-IIb, Low affi...</td>\n",
       "      <td>92:00.00</td>\n",
       "    </tr>\n",
       "    <tr>\n",
       "      <th>3</th>\n",
       "      <td>abemaciclib</td>\n",
       "      <td>000369408139</td>\n",
       "      <td>DB12001</td>\n",
       "      <td>[Cyclin-dependent kinase 4, Cyclin-dependent k...</td>\n",
       "      <td>10:00.00</td>\n",
       "    </tr>\n",
       "    <tr>\n",
       "      <th>4</th>\n",
       "      <td>abiraterone</td>\n",
       "      <td>000968368347</td>\n",
       "      <td>DB05812</td>\n",
       "      <td>Steroid 17-alpha-hydroxylase/17,20 lyase</td>\n",
       "      <td>10:00.00</td>\n",
       "    </tr>\n",
       "  </tbody>\n",
       "</table>\n",
       "</div>"
      ],
      "text/plain": [
       "          drug         yc_id    db_id  \\\n",
       "0     abacavir  000040046536  DB01048   \n",
       "1    abatacept  000561378321  DB01281   \n",
       "2    abciximab  000231911819  DB00054   \n",
       "3  abemaciclib  000369408139  DB12001   \n",
       "4  abiraterone  000968368347  DB05812   \n",
       "\n",
       "                                              target     drug_cat  \n",
       "0  [Reverse transcriptase/RNaseH, HLA class I his...  08:18.08.20  \n",
       "1  [T-lymphocyte activation antigen CD80, T-lymph...          NaN  \n",
       "2  [Integrin beta-3, Integrin alpha-IIb, Low affi...     92:00.00  \n",
       "3  [Cyclin-dependent kinase 4, Cyclin-dependent k...     10:00.00  \n",
       "4           Steroid 17-alpha-hydroxylase/17,20 lyase     10:00.00  "
      ]
     },
     "execution_count": 583,
     "metadata": {},
     "output_type": "execute_result"
    }
   ],
   "source": [
    "# create function\n",
    "def extract_category_codes(x):\n",
    "    try:\n",
    "        # to extract single vategory value\n",
    "        if x[0].isdigit():\n",
    "            return x.split('—')[0].strip()\n",
    "        # to extact multiple category values as a list\n",
    "        elif x[0][0].isdigit():\n",
    "            return [y.split('—')[0].strip() for y in x]\n",
    "        # return nan if company names, e.g. 'Roche pharmaceuticals'\n",
    "        else:\n",
    "            return np.nan\n",
    "    except:\n",
    "        return np.nan\n",
    "\n",
    "# apply to drug_cat column\n",
    "db.drug_cat = db.drug_cat.apply(extract_category_codes)\n",
    "db.head()"
   ]
  },
  {
   "cell_type": "code",
   "execution_count": 584,
   "metadata": {
    "ExecuteTime": {
     "end_time": "2021-04-12T10:05:06.424308Z",
     "start_time": "2021-04-12T10:05:06.334309Z"
    }
   },
   "outputs": [],
   "source": [
    "# save as new db_final.csv\n",
    "# db.to_csv('drugbank_final_2.csv')"
   ]
  },
  {
   "cell_type": "markdown",
   "metadata": {},
   "source": [
    "### Add DrugBank ID\n",
    "#### Add existing IDs\n",
    "- To add drugbank ids to `rv_exploded`, I first load in the csv and create a dictionary, the same way we have done previously.\n",
    "- Then, I created a new column `db_id` in `rv_exploded` that maps drug names to the DrugBank IDs."
   ]
  },
  {
   "cell_type": "code",
   "execution_count": 586,
   "metadata": {
    "ExecuteTime": {
     "end_time": "2021-04-12T10:08:49.736697Z",
     "start_time": "2021-04-12T10:08:49.142323Z"
    }
   },
   "outputs": [
    {
     "data": {
      "text/html": [
       "<div>\n",
       "<style scoped>\n",
       "    .dataframe tbody tr th:only-of-type {\n",
       "        vertical-align: middle;\n",
       "    }\n",
       "\n",
       "    .dataframe tbody tr th {\n",
       "        vertical-align: top;\n",
       "    }\n",
       "\n",
       "    .dataframe thead th {\n",
       "        text-align: right;\n",
       "    }\n",
       "</style>\n",
       "<table border=\"1\" class=\"dataframe\">\n",
       "  <thead>\n",
       "    <tr style=\"text-align: right;\">\n",
       "      <th></th>\n",
       "      <th>brand</th>\n",
       "      <th>condition</th>\n",
       "      <th>review</th>\n",
       "      <th>rating</th>\n",
       "      <th>useful_count</th>\n",
       "      <th>drug</th>\n",
       "      <th>db_id</th>\n",
       "    </tr>\n",
       "  </thead>\n",
       "  <tbody>\n",
       "    <tr>\n",
       "      <th>0</th>\n",
       "      <td>resorcinol / sulfur</td>\n",
       "      <td>acne</td>\n",
       "      <td>\"have loved this product since i began using i...</td>\n",
       "      <td>10.0</td>\n",
       "      <td>3</td>\n",
       "      <td>resorcinol</td>\n",
       "      <td>DB11085</td>\n",
       "    </tr>\n",
       "    <tr>\n",
       "      <th>1</th>\n",
       "      <td>resorcinol / sulfur</td>\n",
       "      <td>acne</td>\n",
       "      <td>\"have loved this product since i began using i...</td>\n",
       "      <td>10.0</td>\n",
       "      <td>3</td>\n",
       "      <td>sulfur</td>\n",
       "      <td>NaN</td>\n",
       "    </tr>\n",
       "    <tr>\n",
       "      <th>2</th>\n",
       "      <td>ibudone</td>\n",
       "      <td>pain</td>\n",
       "      <td>\"i just started taking this medicine.  i have ...</td>\n",
       "      <td>7.0</td>\n",
       "      <td>27</td>\n",
       "      <td>hydrocodone</td>\n",
       "      <td>DB00956</td>\n",
       "    </tr>\n",
       "    <tr>\n",
       "      <th>3</th>\n",
       "      <td>ibudone</td>\n",
       "      <td>pain</td>\n",
       "      <td>\"i just started taking this medicine.  i have ...</td>\n",
       "      <td>7.0</td>\n",
       "      <td>27</td>\n",
       "      <td>ibuprofen</td>\n",
       "      <td>DB01050</td>\n",
       "    </tr>\n",
       "    <tr>\n",
       "      <th>4</th>\n",
       "      <td>triple antibiotic</td>\n",
       "      <td>bacterial skin infection</td>\n",
       "      <td>\"aaa ointment. it like... gives you wolverine ...</td>\n",
       "      <td>10.0</td>\n",
       "      <td>0</td>\n",
       "      <td>bacitracin</td>\n",
       "      <td>DB00626</td>\n",
       "    </tr>\n",
       "  </tbody>\n",
       "</table>\n",
       "</div>"
      ],
      "text/plain": [
       "                 brand                 condition  \\\n",
       "0  resorcinol / sulfur                      acne   \n",
       "1  resorcinol / sulfur                      acne   \n",
       "2              ibudone                      pain   \n",
       "3              ibudone                      pain   \n",
       "4    triple antibiotic  bacterial skin infection   \n",
       "\n",
       "                                              review  rating  useful_count  \\\n",
       "0  \"have loved this product since i began using i...    10.0             3   \n",
       "1  \"have loved this product since i began using i...    10.0             3   \n",
       "2  \"i just started taking this medicine.  i have ...     7.0            27   \n",
       "3  \"i just started taking this medicine.  i have ...     7.0            27   \n",
       "4  \"aaa ointment. it like... gives you wolverine ...    10.0             0   \n",
       "\n",
       "          drug    db_id  \n",
       "0   resorcinol  DB11085  \n",
       "1       sulfur      NaN  \n",
       "2  hydrocodone  DB00956  \n",
       "3    ibuprofen  DB01050  \n",
       "4   bacitracin  DB00626  "
      ]
     },
     "execution_count": 586,
     "metadata": {},
     "output_type": "execute_result"
    }
   ],
   "source": [
    "# create dictionary\n",
    "drug_id = dict(zip(db.drug, db.db_id))\n",
    "\n",
    "# create drugbank id column\n",
    "rv_exploded['db_id'] = rv_exploded.drug.map(drug_id)\n",
    "rv_exploded.head()"
   ]
  },
  {
   "cell_type": "code",
   "execution_count": 587,
   "metadata": {
    "ExecuteTime": {
     "end_time": "2021-04-12T10:08:57.238508Z",
     "start_time": "2021-04-12T10:08:56.540245Z"
    }
   },
   "outputs": [],
   "source": [
    "# more manual corrections\n",
    "rv_exploded.drug = rv_exploded.drug.str.replace('bacitracin zinc', 'bacitracin')\n",
    "rv_exploded.drug = rv_exploded.drug.str.replace('belladonna alkaloids', 'belladonna')\n",
    "rv_exploded.drug = rv_exploded.drug.str.replace('chondroitin', 'chondroitin sulfate')\n",
    "rv_exploded.condition = rv_exploded.condition.str.replace('cance', 'cancer')"
   ]
  },
  {
   "cell_type": "code",
   "execution_count": 589,
   "metadata": {
    "ExecuteTime": {
     "end_time": "2021-04-12T10:09:23.662166Z",
     "start_time": "2021-04-12T10:09:22.036257Z"
    }
   },
   "outputs": [
    {
     "name": "stdout",
     "output_type": "stream",
     "text": [
      "<class 'pandas.core.frame.DataFrame'>\n",
      "RangeIndex: 264679 entries, 0 to 264678\n",
      "Data columns (total 7 columns):\n",
      " #   Column        Non-Null Count   Dtype  \n",
      "---  ------        --------------   -----  \n",
      " 0   brand         264679 non-null  object \n",
      " 1   condition     264679 non-null  object \n",
      " 2   review        264679 non-null  object \n",
      " 3   rating        264679 non-null  float64\n",
      " 4   useful_count  264679 non-null  int64  \n",
      " 5   drug          264679 non-null  object \n",
      " 6   db_id         259655 non-null  object \n",
      "dtypes: float64(1), int64(1), object(5)\n",
      "memory usage: 14.1+ MB\n"
     ]
    }
   ],
   "source": [
    "rv_exploded.info()"
   ]
  },
  {
   "cell_type": "code",
   "execution_count": 595,
   "metadata": {
    "ExecuteTime": {
     "end_time": "2021-04-12T10:12:20.811407Z",
     "start_time": "2021-04-12T10:12:20.526826Z"
    }
   },
   "outputs": [
    {
     "name": "stdout",
     "output_type": "stream",
     "text": [
      "<class 'pandas.core.frame.DataFrame'>\n",
      "RangeIndex: 259655 entries, 0 to 259654\n",
      "Data columns (total 7 columns):\n",
      " #   Column        Non-Null Count   Dtype  \n",
      "---  ------        --------------   -----  \n",
      " 0   brand         259655 non-null  object \n",
      " 1   condition     259655 non-null  object \n",
      " 2   review        259655 non-null  object \n",
      " 3   rating        259655 non-null  float64\n",
      " 4   useful_count  259655 non-null  int64  \n",
      " 5   drug          259655 non-null  object \n",
      " 6   db_id         259655 non-null  object \n",
      "dtypes: float64(1), int64(1), object(5)\n",
      "memory usage: 13.9+ MB\n"
     ]
    }
   ],
   "source": [
    "# remove rows where db_id is null\n",
    "rv_exploded.dropna(inplace = True)\n",
    "rv_exploded.reset_index(inplace = True, drop = True)\n",
    "rv_exploded.info()"
   ]
  },
  {
   "cell_type": "markdown",
   "metadata": {},
   "source": [
    "### Group rv_exploded by db_id\n",
    "Now that the dataframe has no null values, and all the gaps are filled in, I group the reviews by drugbank ID using `.grouby()`. `.agg(pd.Seriies.tolist)` returns, for each db_id, a list of all the grouped values.\n",
    "\n",
    "`pd.unique` retains only the unique values within each aggregated list of values."
   ]
  },
  {
   "cell_type": "code",
   "execution_count": 602,
   "metadata": {
    "ExecuteTime": {
     "end_time": "2021-04-12T10:33:35.482204Z",
     "start_time": "2021-04-12T10:33:34.343002Z"
    }
   },
   "outputs": [
    {
     "data": {
      "text/html": [
       "<div>\n",
       "<style scoped>\n",
       "    .dataframe tbody tr th:only-of-type {\n",
       "        vertical-align: middle;\n",
       "    }\n",
       "\n",
       "    .dataframe tbody tr th {\n",
       "        vertical-align: top;\n",
       "    }\n",
       "\n",
       "    .dataframe thead th {\n",
       "        text-align: right;\n",
       "    }\n",
       "</style>\n",
       "<table border=\"1\" class=\"dataframe\">\n",
       "  <thead>\n",
       "    <tr style=\"text-align: right;\">\n",
       "      <th></th>\n",
       "      <th>brand</th>\n",
       "      <th>condition</th>\n",
       "      <th>review</th>\n",
       "      <th>rating</th>\n",
       "      <th>useful_count</th>\n",
       "      <th>drug</th>\n",
       "    </tr>\n",
       "    <tr>\n",
       "      <th>db_id</th>\n",
       "      <th></th>\n",
       "      <th></th>\n",
       "      <th></th>\n",
       "      <th></th>\n",
       "      <th></th>\n",
       "      <th></th>\n",
       "    </tr>\n",
       "  </thead>\n",
       "  <tbody>\n",
       "    <tr>\n",
       "      <th>DB00002</th>\n",
       "      <td>[erbitux, cetuximab]</td>\n",
       "      <td>[colorectal cancer, head and neck cancer, squa...</td>\n",
       "      <td>[\"i have stage 4 colon cancer with liver mets....</td>\n",
       "      <td>[9.0, 6.0, 1.0, 7.0, 8.0, 9.0, 8.0, 7.0, 9.0, ...</td>\n",
       "      <td>[2, 2, 1, 8, 7, 13, 47, 43, 2, 2, 1, 8, 7, 13,...</td>\n",
       "      <td>[cetuximab]</td>\n",
       "    </tr>\n",
       "    <tr>\n",
       "      <th>DB00003</th>\n",
       "      <td>[dornase alfa, pulmozyme]</td>\n",
       "      <td>[cystic fibrosis]</td>\n",
       "      <td>[\"my outcome/experience with pulmozyme was goo...</td>\n",
       "      <td>[10.0, 10.0]</td>\n",
       "      <td>[9, 9]</td>\n",
       "      <td>[dornase alfa]</td>\n",
       "    </tr>\n",
       "    <tr>\n",
       "      <th>DB00005</th>\n",
       "      <td>[etanercept, enbrel]</td>\n",
       "      <td>[rheumatoid arthritis, psoriatic arthritis, pl...</td>\n",
       "      <td>[\"took enbrel  with methotrexate for four year...</td>\n",
       "      <td>[5.0, 5.0, 10.0, 1.0, 10.0, 5.0, 6.0, 9.0, 10....</td>\n",
       "      <td>[18, 5, 10, 14, 5, 40, 5, 5, 47, 11, 5, 30, 36...</td>\n",
       "      <td>[etanercept]</td>\n",
       "    </tr>\n",
       "    <tr>\n",
       "      <th>DB00006</th>\n",
       "      <td>[bivalirudin, angiomax]</td>\n",
       "      <td>[percutaneous coronary intervention]</td>\n",
       "      <td>[\"excellent one time treatment\", \"excellent on...</td>\n",
       "      <td>[10.0, 10.0]</td>\n",
       "      <td>[0, 0]</td>\n",
       "      <td>[bivalirudin]</td>\n",
       "    </tr>\n",
       "    <tr>\n",
       "      <th>DB00007</th>\n",
       "      <td>[leuprolide, lupron depot-ped, lupron, eligard...</td>\n",
       "      <td>[uterine fibroids, prostate cancer, endometrio...</td>\n",
       "      <td>[\"i was so skeptical about these shots, scared...</td>\n",
       "      <td>[10.0, 10.0, 3.0, 7.0, 2.0, 6.0, 1.0, 4.0, 6.0...</td>\n",
       "      <td>[1, 3, 0, 0, 0, 2, 10, 14, 0, 8, 4, 12, 20, 5,...</td>\n",
       "      <td>[leuprolide]</td>\n",
       "    </tr>\n",
       "  </tbody>\n",
       "</table>\n",
       "</div>"
      ],
      "text/plain": [
       "                                                     brand  \\\n",
       "db_id                                                        \n",
       "DB00002                               [erbitux, cetuximab]   \n",
       "DB00003                          [dornase alfa, pulmozyme]   \n",
       "DB00005                               [etanercept, enbrel]   \n",
       "DB00006                            [bivalirudin, angiomax]   \n",
       "DB00007  [leuprolide, lupron depot-ped, lupron, eligard...   \n",
       "\n",
       "                                                 condition  \\\n",
       "db_id                                                        \n",
       "DB00002  [colorectal cancer, head and neck cancer, squa...   \n",
       "DB00003                                  [cystic fibrosis]   \n",
       "DB00005  [rheumatoid arthritis, psoriatic arthritis, pl...   \n",
       "DB00006               [percutaneous coronary intervention]   \n",
       "DB00007  [uterine fibroids, prostate cancer, endometrio...   \n",
       "\n",
       "                                                    review  \\\n",
       "db_id                                                        \n",
       "DB00002  [\"i have stage 4 colon cancer with liver mets....   \n",
       "DB00003  [\"my outcome/experience with pulmozyme was goo...   \n",
       "DB00005  [\"took enbrel  with methotrexate for four year...   \n",
       "DB00006  [\"excellent one time treatment\", \"excellent on...   \n",
       "DB00007  [\"i was so skeptical about these shots, scared...   \n",
       "\n",
       "                                                    rating  \\\n",
       "db_id                                                        \n",
       "DB00002  [9.0, 6.0, 1.0, 7.0, 8.0, 9.0, 8.0, 7.0, 9.0, ...   \n",
       "DB00003                                       [10.0, 10.0]   \n",
       "DB00005  [5.0, 5.0, 10.0, 1.0, 10.0, 5.0, 6.0, 9.0, 10....   \n",
       "DB00006                                       [10.0, 10.0]   \n",
       "DB00007  [10.0, 10.0, 3.0, 7.0, 2.0, 6.0, 1.0, 4.0, 6.0...   \n",
       "\n",
       "                                              useful_count            drug  \n",
       "db_id                                                                       \n",
       "DB00002  [2, 2, 1, 8, 7, 13, 47, 43, 2, 2, 1, 8, 7, 13,...     [cetuximab]  \n",
       "DB00003                                             [9, 9]  [dornase alfa]  \n",
       "DB00005  [18, 5, 10, 14, 5, 40, 5, 5, 47, 11, 5, 30, 36...    [etanercept]  \n",
       "DB00006                                             [0, 0]   [bivalirudin]  \n",
       "DB00007  [1, 3, 0, 0, 0, 2, 10, 14, 0, 8, 4, 12, 20, 5,...    [leuprolide]  "
      ]
     },
     "execution_count": 602,
     "metadata": {},
     "output_type": "execute_result"
    }
   ],
   "source": [
    "# group rv_exploded on db_id\n",
    "rv_group = rv_exploded.groupby('db_id').agg(pd.Series.tolist)\n",
    "\n",
    "# get only unique values for drug, condition, brand columns\n",
    "rv_group.drug = rv_group.drug.apply(pd.unique)\n",
    "rv_group.condition = rv_group.condition.apply(pd.unique)\n",
    "rv_group.brand = rv_group.brand.apply(pd.unique)\n",
    "\n",
    "rv_group.head()"
   ]
  },
  {
   "cell_type": "code",
   "execution_count": 603,
   "metadata": {
    "ExecuteTime": {
     "end_time": "2021-04-12T10:35:58.459279Z",
     "start_time": "2021-04-12T10:35:50.794704Z"
    }
   },
   "outputs": [],
   "source": [
    "# rv_group.to_csv('rv_grouped.csv')"
   ]
  },
  {
   "cell_type": "markdown",
   "metadata": {},
   "source": [
    "## Data cleaning on rv_group\n",
    "### Rating column\n",
    "Initally, I planned on utilising the `useful_count` column to calculate a weighted mean for each set rating scores. However, because a) not all ratings have a useful count, and b) some useful counts are 0, incorporating the useful counts only resulted in inaccurate means of near-zero values.\n",
    "\n",
    "Therefore, I decided to drop the `useful_count` column and calculate the arithmetic mean using the `.mean()` function in the `statistics` library."
   ]
  },
  {
   "cell_type": "code",
   "execution_count": 613,
   "metadata": {
    "ExecuteTime": {
     "end_time": "2021-04-12T11:01:08.231433Z",
     "start_time": "2021-04-12T11:01:08.227736Z"
    }
   },
   "outputs": [],
   "source": [
    "# # create function to normalize counts\n",
    "# def normalize_counts(x):\n",
    "#     return [(i / x['total_count']) for i in x['useful_count']]\n",
    "\n",
    "# rv_counts['useful_count'] = rv_counts.apply(normalize_counts, axis = 1)\n",
    "# rv_counts.head()"
   ]
  },
  {
   "cell_type": "code",
   "execution_count": 614,
   "metadata": {
    "ExecuteTime": {
     "end_time": "2021-04-12T11:01:10.294346Z",
     "start_time": "2021-04-12T11:01:10.290773Z"
    }
   },
   "outputs": [],
   "source": [
    "# def weighted_mean_rating(x):\n",
    "#     scores = [i * j for i in x['rating'] for j in x['useful_count']]\n",
    "#     return sum(scores) / len(scores)\n",
    "\n",
    "# rv_counts['rating'] = rv_counts.apply(weighted_mean_rating, axis = 1)\n",
    "# rv_counts.head()"
   ]
  },
  {
   "cell_type": "code",
   "execution_count": 612,
   "metadata": {
    "ExecuteTime": {
     "end_time": "2021-04-12T11:00:37.454466Z",
     "start_time": "2021-04-12T11:00:37.418718Z"
    }
   },
   "outputs": [
    {
     "data": {
      "text/html": [
       "<div>\n",
       "<style scoped>\n",
       "    .dataframe tbody tr th:only-of-type {\n",
       "        vertical-align: middle;\n",
       "    }\n",
       "\n",
       "    .dataframe tbody tr th {\n",
       "        vertical-align: top;\n",
       "    }\n",
       "\n",
       "    .dataframe thead th {\n",
       "        text-align: right;\n",
       "    }\n",
       "</style>\n",
       "<table border=\"1\" class=\"dataframe\">\n",
       "  <thead>\n",
       "    <tr style=\"text-align: right;\">\n",
       "      <th></th>\n",
       "      <th>brand</th>\n",
       "      <th>condition</th>\n",
       "      <th>review</th>\n",
       "      <th>rating</th>\n",
       "      <th>drug</th>\n",
       "    </tr>\n",
       "    <tr>\n",
       "      <th>db_id</th>\n",
       "      <th></th>\n",
       "      <th></th>\n",
       "      <th></th>\n",
       "      <th></th>\n",
       "      <th></th>\n",
       "    </tr>\n",
       "  </thead>\n",
       "  <tbody>\n",
       "    <tr>\n",
       "      <th>DB00002</th>\n",
       "      <td>[erbitux, cetuximab]</td>\n",
       "      <td>[colorectal cancer, head and neck cancer, squa...</td>\n",
       "      <td>[\"i have stage 4 colon cancer with liver mets....</td>\n",
       "      <td>6.875000</td>\n",
       "      <td>[cetuximab]</td>\n",
       "    </tr>\n",
       "    <tr>\n",
       "      <th>DB00003</th>\n",
       "      <td>[dornase alfa, pulmozyme]</td>\n",
       "      <td>[cystic fibrosis]</td>\n",
       "      <td>[\"my outcome/experience with pulmozyme was goo...</td>\n",
       "      <td>10.000000</td>\n",
       "      <td>[dornase alfa]</td>\n",
       "    </tr>\n",
       "    <tr>\n",
       "      <th>DB00005</th>\n",
       "      <td>[etanercept, enbrel]</td>\n",
       "      <td>[rheumatoid arthritis, psoriatic arthritis, pl...</td>\n",
       "      <td>[\"took enbrel  with methotrexate for four year...</td>\n",
       "      <td>8.220253</td>\n",
       "      <td>[etanercept]</td>\n",
       "    </tr>\n",
       "    <tr>\n",
       "      <th>DB00006</th>\n",
       "      <td>[bivalirudin, angiomax]</td>\n",
       "      <td>[percutaneous coronary intervention]</td>\n",
       "      <td>[\"excellent one time treatment\", \"excellent on...</td>\n",
       "      <td>10.000000</td>\n",
       "      <td>[bivalirudin]</td>\n",
       "    </tr>\n",
       "    <tr>\n",
       "      <th>DB00007</th>\n",
       "      <td>[leuprolide, lupron depot-ped, lupron, eligard...</td>\n",
       "      <td>[uterine fibroids, prostate cancer, endometrio...</td>\n",
       "      <td>[\"i was so skeptical about these shots, scared...</td>\n",
       "      <td>6.154856</td>\n",
       "      <td>[leuprolide]</td>\n",
       "    </tr>\n",
       "  </tbody>\n",
       "</table>\n",
       "</div>"
      ],
      "text/plain": [
       "                                                     brand  \\\n",
       "db_id                                                        \n",
       "DB00002                               [erbitux, cetuximab]   \n",
       "DB00003                          [dornase alfa, pulmozyme]   \n",
       "DB00005                               [etanercept, enbrel]   \n",
       "DB00006                            [bivalirudin, angiomax]   \n",
       "DB00007  [leuprolide, lupron depot-ped, lupron, eligard...   \n",
       "\n",
       "                                                 condition  \\\n",
       "db_id                                                        \n",
       "DB00002  [colorectal cancer, head and neck cancer, squa...   \n",
       "DB00003                                  [cystic fibrosis]   \n",
       "DB00005  [rheumatoid arthritis, psoriatic arthritis, pl...   \n",
       "DB00006               [percutaneous coronary intervention]   \n",
       "DB00007  [uterine fibroids, prostate cancer, endometrio...   \n",
       "\n",
       "                                                    review     rating  \\\n",
       "db_id                                                                   \n",
       "DB00002  [\"i have stage 4 colon cancer with liver mets....   6.875000   \n",
       "DB00003  [\"my outcome/experience with pulmozyme was goo...  10.000000   \n",
       "DB00005  [\"took enbrel  with methotrexate for four year...   8.220253   \n",
       "DB00006  [\"excellent one time treatment\", \"excellent on...  10.000000   \n",
       "DB00007  [\"i was so skeptical about these shots, scared...   6.154856   \n",
       "\n",
       "                   drug  \n",
       "db_id                    \n",
       "DB00002     [cetuximab]  \n",
       "DB00003  [dornase alfa]  \n",
       "DB00005    [etanercept]  \n",
       "DB00006   [bivalirudin]  \n",
       "DB00007    [leuprolide]  "
      ]
     },
     "execution_count": 612,
     "metadata": {},
     "output_type": "execute_result"
    }
   ],
   "source": [
    "# import library\n",
    "import statistics\n",
    "\n",
    "# apply on rating column\n",
    "rv_group.rating = rv_group.rating.apply(lambda x: statistics.mean(x))\n",
    "\n",
    "# drop useful_count column\n",
    "rv_group.drop(columns = 'useful_count', inplace = True)\n",
    "rv_group.head()"
   ]
  },
  {
   "cell_type": "markdown",
   "metadata": {},
   "source": [
    "### Manual addition of sulfur\n",
    "I later found more information on sulfur, and therefore added that in manually."
   ]
  },
  {
   "cell_type": "code",
   "execution_count": 624,
   "metadata": {
    "ExecuteTime": {
     "end_time": "2021-04-12T11:04:25.574766Z",
     "start_time": "2021-04-12T11:04:25.497342Z"
    },
    "scrolled": true
   },
   "outputs": [
    {
     "data": {
      "text/html": [
       "<div>\n",
       "<style scoped>\n",
       "    .dataframe tbody tr th:only-of-type {\n",
       "        vertical-align: middle;\n",
       "    }\n",
       "\n",
       "    .dataframe tbody tr th {\n",
       "        vertical-align: top;\n",
       "    }\n",
       "\n",
       "    .dataframe thead th {\n",
       "        text-align: right;\n",
       "    }\n",
       "</style>\n",
       "<table border=\"1\" class=\"dataframe\">\n",
       "  <thead>\n",
       "    <tr style=\"text-align: right;\">\n",
       "      <th></th>\n",
       "      <th>drug</th>\n",
       "      <th>brand</th>\n",
       "      <th>condition</th>\n",
       "      <th>review</th>\n",
       "      <th>rating</th>\n",
       "    </tr>\n",
       "    <tr>\n",
       "      <th>db_id</th>\n",
       "      <th></th>\n",
       "      <th></th>\n",
       "      <th></th>\n",
       "      <th></th>\n",
       "      <th></th>\n",
       "    </tr>\n",
       "  </thead>\n",
       "  <tbody>\n",
       "    <tr>\n",
       "      <th>DB11104</th>\n",
       "      <td>sulfur</td>\n",
       "      <td>[resorcinol / sulfur, coal tar / salicylic aci...</td>\n",
       "      <td>[acne, psoriasis, dandruff, seborrheic dermati...</td>\n",
       "      <td>[\"have loved this product since i began using ...</td>\n",
       "      <td>8.71831</td>\n",
       "    </tr>\n",
       "  </tbody>\n",
       "</table>\n",
       "</div>"
      ],
      "text/plain": [
       "           drug                                              brand  \\\n",
       "db_id                                                                \n",
       "DB11104  sulfur  [resorcinol / sulfur, coal tar / salicylic aci...   \n",
       "\n",
       "                                                 condition  \\\n",
       "db_id                                                        \n",
       "DB11104  [acne, psoriasis, dandruff, seborrheic dermati...   \n",
       "\n",
       "                                                    review   rating  \n",
       "db_id                                                                \n",
       "DB11104  [\"have loved this product since i began using ...  8.71831  "
      ]
     },
     "execution_count": 624,
     "metadata": {},
     "output_type": "execute_result"
    }
   ],
   "source": [
    "sulfur = combos[combos.drug == 'sulfur']\n",
    "sulfur = sulfur.groupby('drug').agg(pd.Series.tolist)\n",
    "sulfur.condition = sulfur.condition.apply(pd.unique)\n",
    "sulfur.brand = sulfur.brand.apply(pd.unique)\n",
    "sulfur.rating = sulfur.rating.apply(lambda x: statistics.mean(x))\n",
    "sulfur.drop(columns = 'useful_count', inplace = True)\n",
    "sulfur.reset_index(inplace = True)\n",
    "sulfur['db_id'] = 'DB11104'\n",
    "sulfur.set_index('db_id', inplace = True)\n",
    "sulfur"
   ]
  },
  {
   "cell_type": "code",
   "execution_count": 625,
   "metadata": {
    "ExecuteTime": {
     "end_time": "2021-04-12T11:05:46.521542Z",
     "start_time": "2021-04-12T11:05:46.497763Z"
    }
   },
   "outputs": [],
   "source": [
    "rv_group = rv_group.append(sulfur)"
   ]
  },
  {
   "cell_type": "markdown",
   "metadata": {},
   "source": [
    "### Create number of reviews column\n",
    "I also decided to create a new column that records the total number of reviews each drug has received."
   ]
  },
  {
   "cell_type": "code",
   "execution_count": 633,
   "metadata": {
    "ExecuteTime": {
     "end_time": "2021-04-12T11:09:15.813168Z",
     "start_time": "2021-04-12T11:09:15.732055Z"
    }
   },
   "outputs": [
    {
     "data": {
      "text/html": [
       "<div>\n",
       "<style scoped>\n",
       "    .dataframe tbody tr th:only-of-type {\n",
       "        vertical-align: middle;\n",
       "    }\n",
       "\n",
       "    .dataframe tbody tr th {\n",
       "        vertical-align: top;\n",
       "    }\n",
       "\n",
       "    .dataframe thead th {\n",
       "        text-align: right;\n",
       "    }\n",
       "</style>\n",
       "<table border=\"1\" class=\"dataframe\">\n",
       "  <thead>\n",
       "    <tr style=\"text-align: right;\">\n",
       "      <th></th>\n",
       "      <th>brand</th>\n",
       "      <th>condition</th>\n",
       "      <th>review</th>\n",
       "      <th>rating</th>\n",
       "      <th>drug</th>\n",
       "      <th>n_reviews</th>\n",
       "    </tr>\n",
       "    <tr>\n",
       "      <th>db_id</th>\n",
       "      <th></th>\n",
       "      <th></th>\n",
       "      <th></th>\n",
       "      <th></th>\n",
       "      <th></th>\n",
       "      <th></th>\n",
       "    </tr>\n",
       "  </thead>\n",
       "  <tbody>\n",
       "    <tr>\n",
       "      <th>DB00002</th>\n",
       "      <td>[erbitux, cetuximab]</td>\n",
       "      <td>[colorectal cancer, head and neck cancer, squa...</td>\n",
       "      <td>[\"i have stage 4 colon cancer with liver mets....</td>\n",
       "      <td>6.875000</td>\n",
       "      <td>[cetuximab]</td>\n",
       "      <td>16</td>\n",
       "    </tr>\n",
       "    <tr>\n",
       "      <th>DB00003</th>\n",
       "      <td>[dornase alfa, pulmozyme]</td>\n",
       "      <td>[cystic fibrosis]</td>\n",
       "      <td>[\"my outcome/experience with pulmozyme was goo...</td>\n",
       "      <td>10.000000</td>\n",
       "      <td>[dornase alfa]</td>\n",
       "      <td>2</td>\n",
       "    </tr>\n",
       "    <tr>\n",
       "      <th>DB00005</th>\n",
       "      <td>[etanercept, enbrel]</td>\n",
       "      <td>[rheumatoid arthritis, psoriatic arthritis, pl...</td>\n",
       "      <td>[\"took enbrel  with methotrexate for four year...</td>\n",
       "      <td>8.220253</td>\n",
       "      <td>[etanercept]</td>\n",
       "      <td>395</td>\n",
       "    </tr>\n",
       "    <tr>\n",
       "      <th>DB00006</th>\n",
       "      <td>[bivalirudin, angiomax]</td>\n",
       "      <td>[percutaneous coronary intervention]</td>\n",
       "      <td>[\"excellent one time treatment\", \"excellent on...</td>\n",
       "      <td>10.000000</td>\n",
       "      <td>[bivalirudin]</td>\n",
       "      <td>2</td>\n",
       "    </tr>\n",
       "    <tr>\n",
       "      <th>DB00007</th>\n",
       "      <td>[leuprolide, lupron depot-ped, lupron, eligard...</td>\n",
       "      <td>[uterine fibroids, prostate cancer, endometrio...</td>\n",
       "      <td>[\"i was so skeptical about these shots, scared...</td>\n",
       "      <td>6.154856</td>\n",
       "      <td>[leuprolide]</td>\n",
       "      <td>381</td>\n",
       "    </tr>\n",
       "  </tbody>\n",
       "</table>\n",
       "</div>"
      ],
      "text/plain": [
       "                                                     brand  \\\n",
       "db_id                                                        \n",
       "DB00002                               [erbitux, cetuximab]   \n",
       "DB00003                          [dornase alfa, pulmozyme]   \n",
       "DB00005                               [etanercept, enbrel]   \n",
       "DB00006                            [bivalirudin, angiomax]   \n",
       "DB00007  [leuprolide, lupron depot-ped, lupron, eligard...   \n",
       "\n",
       "                                                 condition  \\\n",
       "db_id                                                        \n",
       "DB00002  [colorectal cancer, head and neck cancer, squa...   \n",
       "DB00003                                  [cystic fibrosis]   \n",
       "DB00005  [rheumatoid arthritis, psoriatic arthritis, pl...   \n",
       "DB00006               [percutaneous coronary intervention]   \n",
       "DB00007  [uterine fibroids, prostate cancer, endometrio...   \n",
       "\n",
       "                                                    review     rating  \\\n",
       "db_id                                                                   \n",
       "DB00002  [\"i have stage 4 colon cancer with liver mets....   6.875000   \n",
       "DB00003  [\"my outcome/experience with pulmozyme was goo...  10.000000   \n",
       "DB00005  [\"took enbrel  with methotrexate for four year...   8.220253   \n",
       "DB00006  [\"excellent one time treatment\", \"excellent on...  10.000000   \n",
       "DB00007  [\"i was so skeptical about these shots, scared...   6.154856   \n",
       "\n",
       "                   drug  n_reviews  \n",
       "db_id                               \n",
       "DB00002     [cetuximab]         16  \n",
       "DB00003  [dornase alfa]          2  \n",
       "DB00005    [etanercept]        395  \n",
       "DB00006   [bivalirudin]          2  \n",
       "DB00007    [leuprolide]        381  "
      ]
     },
     "execution_count": 633,
     "metadata": {},
     "output_type": "execute_result"
    }
   ],
   "source": [
    "rv_group['n_reviews'] = rv_group.review.apply(lambda x: len(x))\n",
    "rv_group.head()"
   ]
  },
  {
   "cell_type": "code",
   "execution_count": 634,
   "metadata": {
    "ExecuteTime": {
     "end_time": "2021-04-12T11:09:30.845476Z",
     "start_time": "2021-04-12T11:09:30.830721Z"
    }
   },
   "outputs": [
    {
     "name": "stdout",
     "output_type": "stream",
     "text": [
      "<class 'pandas.core.frame.DataFrame'>\n",
      "Index: 1133 entries, DB00002 to DB11104\n",
      "Data columns (total 6 columns):\n",
      " #   Column     Non-Null Count  Dtype  \n",
      "---  ------     --------------  -----  \n",
      " 0   brand      1133 non-null   object \n",
      " 1   condition  1133 non-null   object \n",
      " 2   review     1133 non-null   object \n",
      " 3   rating     1133 non-null   float64\n",
      " 4   drug       1133 non-null   object \n",
      " 5   n_reviews  1133 non-null   int64  \n",
      "dtypes: float64(1), int64(1), object(4)\n",
      "memory usage: 102.0+ KB\n"
     ]
    }
   ],
   "source": [
    "rv_group.info()"
   ]
  },
  {
   "cell_type": "code",
   "execution_count": 636,
   "metadata": {
    "ExecuteTime": {
     "end_time": "2021-04-12T11:10:07.118287Z",
     "start_time": "2021-04-12T11:09:59.787534Z"
    }
   },
   "outputs": [],
   "source": [
    "# rv_group.to_csv('reviews_final.csv')"
   ]
  },
  {
   "cell_type": "markdown",
   "metadata": {},
   "source": [
    "# Next step:\n",
    "Finally, reviews data frame is ready. Let's move onto notebook `2a_sql_yellow_card`."
   ]
  }
 ],
 "metadata": {
  "kernelspec": {
   "display_name": "Python 3",
   "language": "python",
   "name": "python3"
  },
  "language_info": {
   "codemirror_mode": {
    "name": "ipython",
    "version": 3
   },
   "file_extension": ".py",
   "mimetype": "text/x-python",
   "name": "python",
   "nbconvert_exporter": "python",
   "pygments_lexer": "ipython3",
   "version": "3.8.5"
  },
  "latex_envs": {
   "LaTeX_envs_menu_present": true,
   "autoclose": false,
   "autocomplete": true,
   "bibliofile": "biblio.bib",
   "cite_by": "apalike",
   "current_citInitial": 1,
   "eqLabelWithNumbers": true,
   "eqNumInitial": 1,
   "hotkeys": {
    "equation": "Ctrl-E",
    "itemize": "Ctrl-I"
   },
   "labels_anchors": false,
   "latex_user_defs": false,
   "report_style_numbering": false,
   "user_envs_cfg": false
  },
  "nbTranslate": {
   "displayLangs": [
    "*"
   ],
   "hotkey": "alt-t",
   "langInMainMenu": true,
   "sourceLang": "en",
   "targetLang": "fr",
   "useGoogleTranslate": true
  },
  "toc": {
   "base_numbering": 1,
   "nav_menu": {},
   "number_sections": true,
   "sideBar": true,
   "skip_h1_title": false,
   "title_cell": "Table of Contents",
   "title_sidebar": "Contents",
   "toc_cell": false,
   "toc_position": {},
   "toc_section_display": true,
   "toc_window_display": false
  }
 },
 "nbformat": 4,
 "nbformat_minor": 4
}
