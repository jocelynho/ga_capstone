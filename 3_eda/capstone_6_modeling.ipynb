{
 "cells": [
  {
   "cell_type": "code",
   "execution_count": 1,
   "metadata": {
    "ExecuteTime": {
     "end_time": "2021-02-14T22:54:37.529574Z",
     "start_time": "2021-02-14T22:54:34.707201Z"
    }
   },
   "outputs": [],
   "source": [
    "import pandas as pd\n",
    "import numpy as np\n",
    "import matplotlib.pyplot as plt\n",
    "import seaborn as sns"
   ]
  },
  {
   "cell_type": "code",
   "execution_count": 7,
   "metadata": {
    "ExecuteTime": {
     "end_time": "2021-02-14T22:55:46.003862Z",
     "start_time": "2021-02-14T22:55:42.730202Z"
    }
   },
   "outputs": [
    {
     "name": "stdout",
     "output_type": "stream",
     "text": [
      "(2038043, 11)\n"
     ]
    },
    {
     "data": {
      "text/html": [
       "<div>\n",
       "<style scoped>\n",
       "    .dataframe tbody tr th:only-of-type {\n",
       "        vertical-align: middle;\n",
       "    }\n",
       "\n",
       "    .dataframe tbody tr th {\n",
       "        vertical-align: top;\n",
       "    }\n",
       "\n",
       "    .dataframe thead th {\n",
       "        text-align: right;\n",
       "    }\n",
       "</style>\n",
       "<table border=\"1\" class=\"dataframe\">\n",
       "  <thead>\n",
       "    <tr style=\"text-align: right;\">\n",
       "      <th></th>\n",
       "      <th>side_effect</th>\n",
       "      <th>category</th>\n",
       "      <th>gender</th>\n",
       "      <th>age</th>\n",
       "      <th>year</th>\n",
       "      <th>sender</th>\n",
       "      <th>is_consumer</th>\n",
       "      <th>is_hcp</th>\n",
       "      <th>severity</th>\n",
       "      <th>yc_id</th>\n",
       "      <th>db_id</th>\n",
       "    </tr>\n",
       "  </thead>\n",
       "  <tbody>\n",
       "    <tr>\n",
       "      <th>0</th>\n",
       "      <td>diabetes mellitus</td>\n",
       "      <td>metab</td>\n",
       "      <td>male</td>\n",
       "      <td>50.0</td>\n",
       "      <td>2001.0</td>\n",
       "      <td>direct</td>\n",
       "      <td>n</td>\n",
       "      <td>y</td>\n",
       "      <td>s</td>\n",
       "      <td>40046536</td>\n",
       "      <td>DB01048</td>\n",
       "    </tr>\n",
       "    <tr>\n",
       "      <th>1</th>\n",
       "      <td>malaise</td>\n",
       "      <td>genrl</td>\n",
       "      <td>male</td>\n",
       "      <td>30.0</td>\n",
       "      <td>2001.0</td>\n",
       "      <td>direct</td>\n",
       "      <td>n</td>\n",
       "      <td>y</td>\n",
       "      <td>n</td>\n",
       "      <td>40046536</td>\n",
       "      <td>DB01048</td>\n",
       "    </tr>\n",
       "    <tr>\n",
       "      <th>2</th>\n",
       "      <td>pyrexia</td>\n",
       "      <td>genrl</td>\n",
       "      <td>male</td>\n",
       "      <td>30.0</td>\n",
       "      <td>2001.0</td>\n",
       "      <td>direct</td>\n",
       "      <td>n</td>\n",
       "      <td>y</td>\n",
       "      <td>n</td>\n",
       "      <td>40046536</td>\n",
       "      <td>DB01048</td>\n",
       "    </tr>\n",
       "    <tr>\n",
       "      <th>3</th>\n",
       "      <td>rash</td>\n",
       "      <td>skin</td>\n",
       "      <td>male</td>\n",
       "      <td>30.0</td>\n",
       "      <td>2001.0</td>\n",
       "      <td>direct</td>\n",
       "      <td>n</td>\n",
       "      <td>y</td>\n",
       "      <td>n</td>\n",
       "      <td>40046536</td>\n",
       "      <td>DB01048</td>\n",
       "    </tr>\n",
       "    <tr>\n",
       "      <th>4</th>\n",
       "      <td>hypersensitivity</td>\n",
       "      <td>immun</td>\n",
       "      <td>male</td>\n",
       "      <td>20.0</td>\n",
       "      <td>2001.0</td>\n",
       "      <td>indirect</td>\n",
       "      <td>n</td>\n",
       "      <td>y</td>\n",
       "      <td>n</td>\n",
       "      <td>40046536</td>\n",
       "      <td>DB01048</td>\n",
       "    </tr>\n",
       "  </tbody>\n",
       "</table>\n",
       "</div>"
      ],
      "text/plain": [
       "         side_effect category gender   age    year    sender is_consumer  \\\n",
       "0  diabetes mellitus    metab   male  50.0  2001.0    direct           n   \n",
       "1            malaise    genrl   male  30.0  2001.0    direct           n   \n",
       "2            pyrexia    genrl   male  30.0  2001.0    direct           n   \n",
       "3               rash     skin   male  30.0  2001.0    direct           n   \n",
       "4   hypersensitivity    immun   male  20.0  2001.0  indirect           n   \n",
       "\n",
       "  is_hcp severity     yc_id    db_id  \n",
       "0      y        s  40046536  DB01048  \n",
       "1      y        n  40046536  DB01048  \n",
       "2      y        n  40046536  DB01048  \n",
       "3      y        n  40046536  DB01048  \n",
       "4      y        n  40046536  DB01048  "
      ]
     },
     "execution_count": 7,
     "metadata": {},
     "output_type": "execute_result"
    }
   ],
   "source": [
    "df1 = pd.read_csv('df1.csv')\n",
    "print(df1.shape)\n",
    "df1.head()"
   ]
  },
  {
   "cell_type": "code",
   "execution_count": 11,
   "metadata": {
    "ExecuteTime": {
     "end_time": "2021-02-14T22:56:52.670298Z",
     "start_time": "2021-02-14T22:56:46.792693Z"
    }
   },
   "outputs": [
    {
     "name": "stdout",
     "output_type": "stream",
     "text": [
      "(1712080, 11)\n"
     ]
    },
    {
     "data": {
      "text/html": [
       "<div>\n",
       "<style scoped>\n",
       "    .dataframe tbody tr th:only-of-type {\n",
       "        vertical-align: middle;\n",
       "    }\n",
       "\n",
       "    .dataframe tbody tr th {\n",
       "        vertical-align: top;\n",
       "    }\n",
       "\n",
       "    .dataframe thead th {\n",
       "        text-align: right;\n",
       "    }\n",
       "</style>\n",
       "<table border=\"1\" class=\"dataframe\">\n",
       "  <thead>\n",
       "    <tr style=\"text-align: right;\">\n",
       "      <th></th>\n",
       "      <th>side_effect</th>\n",
       "      <th>category</th>\n",
       "      <th>gender</th>\n",
       "      <th>age</th>\n",
       "      <th>year</th>\n",
       "      <th>sender</th>\n",
       "      <th>is_consumer</th>\n",
       "      <th>is_hcp</th>\n",
       "      <th>severity</th>\n",
       "      <th>yc_id</th>\n",
       "      <th>db_id</th>\n",
       "    </tr>\n",
       "  </thead>\n",
       "  <tbody>\n",
       "    <tr>\n",
       "      <th>0</th>\n",
       "      <td>diabetes mellitus</td>\n",
       "      <td>metab</td>\n",
       "      <td>male</td>\n",
       "      <td>50.0</td>\n",
       "      <td>2001.0</td>\n",
       "      <td>direct</td>\n",
       "      <td>n</td>\n",
       "      <td>y</td>\n",
       "      <td>s</td>\n",
       "      <td>40046536</td>\n",
       "      <td>DB01048</td>\n",
       "    </tr>\n",
       "    <tr>\n",
       "      <th>1</th>\n",
       "      <td>malaise</td>\n",
       "      <td>genrl</td>\n",
       "      <td>male</td>\n",
       "      <td>30.0</td>\n",
       "      <td>2001.0</td>\n",
       "      <td>direct</td>\n",
       "      <td>n</td>\n",
       "      <td>y</td>\n",
       "      <td>n</td>\n",
       "      <td>40046536</td>\n",
       "      <td>DB01048</td>\n",
       "    </tr>\n",
       "    <tr>\n",
       "      <th>2</th>\n",
       "      <td>pyrexia</td>\n",
       "      <td>genrl</td>\n",
       "      <td>male</td>\n",
       "      <td>30.0</td>\n",
       "      <td>2001.0</td>\n",
       "      <td>direct</td>\n",
       "      <td>n</td>\n",
       "      <td>y</td>\n",
       "      <td>n</td>\n",
       "      <td>40046536</td>\n",
       "      <td>DB01048</td>\n",
       "    </tr>\n",
       "    <tr>\n",
       "      <th>3</th>\n",
       "      <td>rash</td>\n",
       "      <td>skin</td>\n",
       "      <td>male</td>\n",
       "      <td>30.0</td>\n",
       "      <td>2001.0</td>\n",
       "      <td>direct</td>\n",
       "      <td>n</td>\n",
       "      <td>y</td>\n",
       "      <td>n</td>\n",
       "      <td>40046536</td>\n",
       "      <td>DB01048</td>\n",
       "    </tr>\n",
       "    <tr>\n",
       "      <th>4</th>\n",
       "      <td>hypersensitivity</td>\n",
       "      <td>immun</td>\n",
       "      <td>male</td>\n",
       "      <td>20.0</td>\n",
       "      <td>2001.0</td>\n",
       "      <td>indirect</td>\n",
       "      <td>n</td>\n",
       "      <td>y</td>\n",
       "      <td>n</td>\n",
       "      <td>40046536</td>\n",
       "      <td>DB01048</td>\n",
       "    </tr>\n",
       "  </tbody>\n",
       "</table>\n",
       "</div>"
      ],
      "text/plain": [
       "         side_effect category gender   age    year    sender is_consumer  \\\n",
       "0  diabetes mellitus    metab   male  50.0  2001.0    direct           n   \n",
       "1            malaise    genrl   male  30.0  2001.0    direct           n   \n",
       "2            pyrexia    genrl   male  30.0  2001.0    direct           n   \n",
       "3               rash     skin   male  30.0  2001.0    direct           n   \n",
       "4   hypersensitivity    immun   male  20.0  2001.0  indirect           n   \n",
       "\n",
       "  is_hcp severity     yc_id    db_id  \n",
       "0      y        s  40046536  DB01048  \n",
       "1      y        n  40046536  DB01048  \n",
       "2      y        n  40046536  DB01048  \n",
       "3      y        n  40046536  DB01048  \n",
       "4      y        n  40046536  DB01048  "
      ]
     },
     "execution_count": 11,
     "metadata": {},
     "output_type": "execute_result"
    }
   ],
   "source": [
    "print(df[~df.duplicated()].shape)\n",
    "df[~df.duplicated()].head()\n",
    "\n",
    "# different instances but happened multiple times with exact same details\n",
    "# keep all?"
   ]
  },
  {
   "cell_type": "code",
   "execution_count": 13,
   "metadata": {
    "ExecuteTime": {
     "end_time": "2021-02-15T09:13:54.599003Z",
     "start_time": "2021-02-15T09:13:54.241275Z"
    }
   },
   "outputs": [
    {
     "data": {
      "text/plain": [
       "s    0.740823\n",
       "n    0.198160\n",
       "f    0.061017\n",
       "Name: severity, dtype: float64"
      ]
     },
     "execution_count": 13,
     "metadata": {},
     "output_type": "execute_result"
    }
   ],
   "source": [
    "df['severity'].value_counts(normalize = True)"
   ]
  },
  {
   "cell_type": "code",
   "execution_count": null,
   "metadata": {},
   "outputs": [],
   "source": [
    "# join reviews"
   ]
  },
  {
   "cell_type": "code",
   "execution_count": null,
   "metadata": {},
   "outputs": [],
   "source": [
    "# make stop words - drug names, brand names??"
   ]
  },
  {
   "cell_type": "code",
   "execution_count": null,
   "metadata": {},
   "outputs": [],
   "source": [
    "# make X, y\n",
    "# pop severity as y\n",
    "# train test split - stratify = severity"
   ]
  },
  {
   "cell_type": "code",
   "execution_count": null,
   "metadata": {},
   "outputs": [],
   "source": [
    "# coltransformer\n",
    "# cvec: side effect, target, condition\n",
    "# ohe: category, gender, sender, is_consumer, is_hcp, drop first\n",
    "# tvec - review"
   ]
  },
  {
   "cell_type": "code",
   "execution_count": null,
   "metadata": {},
   "outputs": [],
   "source": [
    "# pipeline\n",
    "# coltrans\n",
    "# standard scaler - withmean = False"
   ]
  }
 ],
 "metadata": {
  "kernelspec": {
   "display_name": "Python 3",
   "language": "python",
   "name": "python3"
  },
  "language_info": {
   "codemirror_mode": {
    "name": "ipython",
    "version": 3
   },
   "file_extension": ".py",
   "mimetype": "text/x-python",
   "name": "python",
   "nbconvert_exporter": "python",
   "pygments_lexer": "ipython3",
   "version": "3.8.5"
  },
  "latex_envs": {
   "LaTeX_envs_menu_present": true,
   "autoclose": false,
   "autocomplete": true,
   "bibliofile": "biblio.bib",
   "cite_by": "apalike",
   "current_citInitial": 1,
   "eqLabelWithNumbers": true,
   "eqNumInitial": 1,
   "hotkeys": {
    "equation": "Ctrl-E",
    "itemize": "Ctrl-I"
   },
   "labels_anchors": false,
   "latex_user_defs": false,
   "report_style_numbering": false,
   "user_envs_cfg": false
  },
  "nbTranslate": {
   "displayLangs": [
    "*"
   ],
   "hotkey": "alt-t",
   "langInMainMenu": true,
   "sourceLang": "en",
   "targetLang": "fr",
   "useGoogleTranslate": true
  },
  "toc": {
   "base_numbering": 1,
   "nav_menu": {},
   "number_sections": true,
   "sideBar": true,
   "skip_h1_title": false,
   "title_cell": "Table of Contents",
   "title_sidebar": "Contents",
   "toc_cell": false,
   "toc_position": {},
   "toc_section_display": true,
   "toc_window_display": false
  }
 },
 "nbformat": 4,
 "nbformat_minor": 4
}
