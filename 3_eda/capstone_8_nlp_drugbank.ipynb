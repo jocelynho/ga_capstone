{
 "cells": [
  {
   "cell_type": "code",
   "execution_count": 2,
   "metadata": {
    "ExecuteTime": {
     "end_time": "2021-02-25T13:47:56.002402Z",
     "start_time": "2021-02-25T13:47:53.381468Z"
    }
   },
   "outputs": [],
   "source": [
    "import pandas as pd\n",
    "import numpy as np\n",
    "import matplotlib.pyplot as plt\n",
    "import seaborn as sns\n",
    "\n",
    "\n",
    "plt.style.use('fivethirtyeight')\n",
    "\n",
    "%config InlineBackend.figure_format = 'retina'\n",
    "%matplotlib inline"
   ]
  },
  {
   "cell_type": "code",
   "execution_count": 12,
   "metadata": {
    "ExecuteTime": {
     "end_time": "2021-02-25T13:48:50.339161Z",
     "start_time": "2021-02-25T13:48:50.297806Z"
    }
   },
   "outputs": [
    {
     "name": "stdout",
     "output_type": "stream",
     "text": [
      "<class 'pandas.core.frame.DataFrame'>\n",
      "RangeIndex: 2329 entries, 0 to 2328\n",
      "Data columns (total 5 columns):\n",
      " #   Column    Non-Null Count  Dtype \n",
      "---  ------    --------------  ----- \n",
      " 0   drug      2329 non-null   object\n",
      " 1   yc_id     2329 non-null   int64 \n",
      " 2   target    1576 non-null   object\n",
      " 3   drug_cat  2328 non-null   object\n",
      " 4   db_id     1987 non-null   object\n",
      "dtypes: int64(1), object(4)\n",
      "memory usage: 91.1+ KB\n"
     ]
    }
   ],
   "source": [
    "db = pd.read_csv('drugbank_final.csv')\n",
    "db.info()"
   ]
  },
  {
   "cell_type": "code",
   "execution_count": 3,
   "metadata": {
    "ExecuteTime": {
     "end_time": "2021-02-25T13:00:23.643949Z",
     "start_time": "2021-02-25T13:00:23.565238Z"
    }
   },
   "outputs": [
    {
     "data": {
      "text/html": [
       "<div>\n",
       "<style scoped>\n",
       "    .dataframe tbody tr th:only-of-type {\n",
       "        vertical-align: middle;\n",
       "    }\n",
       "\n",
       "    .dataframe tbody tr th {\n",
       "        vertical-align: top;\n",
       "    }\n",
       "\n",
       "    .dataframe thead th {\n",
       "        text-align: right;\n",
       "    }\n",
       "</style>\n",
       "<table border=\"1\" class=\"dataframe\">\n",
       "  <thead>\n",
       "    <tr style=\"text-align: right;\">\n",
       "      <th></th>\n",
       "      <th>drug</th>\n",
       "      <th>yc_id</th>\n",
       "      <th>target</th>\n",
       "      <th>drug_cat</th>\n",
       "      <th>db_id</th>\n",
       "    </tr>\n",
       "  </thead>\n",
       "  <tbody>\n",
       "    <tr>\n",
       "      <th>0</th>\n",
       "      <td>abacavir</td>\n",
       "      <td>40046536</td>\n",
       "      <td>['Reverse transcriptase/RNaseH', 'HLA class I ...</td>\n",
       "      <td>['08:18.08.20 — Nucleoside and Nucleotide Reve...</td>\n",
       "      <td>DB01048</td>\n",
       "    </tr>\n",
       "    <tr>\n",
       "      <th>1</th>\n",
       "      <td>abatacept</td>\n",
       "      <td>561378321</td>\n",
       "      <td>['T-lymphocyte activation antigen CD80', 'T-ly...</td>\n",
       "      <td>['nan']</td>\n",
       "      <td>DB01281</td>\n",
       "    </tr>\n",
       "    <tr>\n",
       "      <th>2</th>\n",
       "      <td>abciximab</td>\n",
       "      <td>231911819</td>\n",
       "      <td>['Integrin beta-3', 'Integrin alpha-IIb', 'Low...</td>\n",
       "      <td>['92:00.00 — Miscellaneous Therapeutic Agents']</td>\n",
       "      <td>DB00054</td>\n",
       "    </tr>\n",
       "    <tr>\n",
       "      <th>3</th>\n",
       "      <td>abemaciclib</td>\n",
       "      <td>369408139</td>\n",
       "      <td>['Cyclin-dependent kinase 4', 'Cyclin-dependen...</td>\n",
       "      <td>['10:00.00 — Antineoplastic Agents']</td>\n",
       "      <td>DB12001</td>\n",
       "    </tr>\n",
       "    <tr>\n",
       "      <th>4</th>\n",
       "      <td>abiraterone</td>\n",
       "      <td>968368347</td>\n",
       "      <td>['Steroid 17-alpha-hydroxylase/17,20 lyase']</td>\n",
       "      <td>['10:00.00 — Antineoplastic Agents']</td>\n",
       "      <td>DB05812</td>\n",
       "    </tr>\n",
       "  </tbody>\n",
       "</table>\n",
       "</div>"
      ],
      "text/plain": [
       "          drug      yc_id                                             target  \\\n",
       "0     abacavir   40046536  ['Reverse transcriptase/RNaseH', 'HLA class I ...   \n",
       "1    abatacept  561378321  ['T-lymphocyte activation antigen CD80', 'T-ly...   \n",
       "2    abciximab  231911819  ['Integrin beta-3', 'Integrin alpha-IIb', 'Low...   \n",
       "3  abemaciclib  369408139  ['Cyclin-dependent kinase 4', 'Cyclin-dependen...   \n",
       "4  abiraterone  968368347       ['Steroid 17-alpha-hydroxylase/17,20 lyase']   \n",
       "\n",
       "                                            drug_cat    db_id  \n",
       "0  ['08:18.08.20 — Nucleoside and Nucleotide Reve...  DB01048  \n",
       "1                                            ['nan']  DB01281  \n",
       "2    ['92:00.00 — Miscellaneous Therapeutic Agents']  DB00054  \n",
       "3               ['10:00.00 — Antineoplastic Agents']  DB12001  \n",
       "4               ['10:00.00 — Antineoplastic Agents']  DB05812  "
      ]
     },
     "execution_count": 3,
     "metadata": {},
     "output_type": "execute_result"
    }
   ],
   "source": [
    "db.head()"
   ]
  },
  {
   "cell_type": "code",
   "execution_count": 13,
   "metadata": {
    "ExecuteTime": {
     "end_time": "2021-02-25T13:49:07.186698Z",
     "start_time": "2021-02-25T13:49:07.162850Z"
    }
   },
   "outputs": [
    {
     "name": "stdout",
     "output_type": "stream",
     "text": [
      "<class 'pandas.core.frame.DataFrame'>\n",
      "Int64Index: 1987 entries, 0 to 2328\n",
      "Data columns (total 5 columns):\n",
      " #   Column    Non-Null Count  Dtype \n",
      "---  ------    --------------  ----- \n",
      " 0   drug      1987 non-null   object\n",
      " 1   yc_id     1987 non-null   int64 \n",
      " 2   target    1568 non-null   object\n",
      " 3   drug_cat  1986 non-null   object\n",
      " 4   db_id     1987 non-null   object\n",
      "dtypes: int64(1), object(4)\n",
      "memory usage: 93.1+ KB\n"
     ]
    }
   ],
   "source": [
    "db = db[~db.db_id.isnull()]\n",
    "db.info()"
   ]
  },
  {
   "cell_type": "code",
   "execution_count": 27,
   "metadata": {
    "ExecuteTime": {
     "end_time": "2021-02-17T11:14:28.768247Z",
     "start_time": "2021-02-17T11:14:28.760553Z"
    }
   },
   "outputs": [
    {
     "data": {
      "text/plain": [
       "'['"
      ]
     },
     "execution_count": 27,
     "metadata": {},
     "output_type": "execute_result"
    }
   ],
   "source": [
    "tmp.loc[1].drug_cat"
   ]
  },
  {
   "cell_type": "code",
   "execution_count": 14,
   "metadata": {
    "ExecuteTime": {
     "end_time": "2021-02-25T13:49:12.309317Z",
     "start_time": "2021-02-25T13:49:12.273073Z"
    }
   },
   "outputs": [
    {
     "data": {
      "text/html": [
       "<div>\n",
       "<style scoped>\n",
       "    .dataframe tbody tr th:only-of-type {\n",
       "        vertical-align: middle;\n",
       "    }\n",
       "\n",
       "    .dataframe tbody tr th {\n",
       "        vertical-align: top;\n",
       "    }\n",
       "\n",
       "    .dataframe thead th {\n",
       "        text-align: right;\n",
       "    }\n",
       "</style>\n",
       "<table border=\"1\" class=\"dataframe\">\n",
       "  <thead>\n",
       "    <tr style=\"text-align: right;\">\n",
       "      <th></th>\n",
       "      <th>drug</th>\n",
       "      <th>yc_id</th>\n",
       "      <th>target</th>\n",
       "      <th>drug_cat</th>\n",
       "      <th>db_id</th>\n",
       "    </tr>\n",
       "  </thead>\n",
       "  <tbody>\n",
       "    <tr>\n",
       "      <th>0</th>\n",
       "      <td>abacavir</td>\n",
       "      <td>40046536</td>\n",
       "      <td>['Reverse transcriptase/RNaseH', 'HLA class I ...</td>\n",
       "      <td>['08:18.08.20 — Nucleoside and Nucleotide Reve...</td>\n",
       "      <td>DB01048</td>\n",
       "    </tr>\n",
       "    <tr>\n",
       "      <th>1</th>\n",
       "      <td>abatacept</td>\n",
       "      <td>561378321</td>\n",
       "      <td>['T-lymphocyte activation antigen CD80', 'T-ly...</td>\n",
       "      <td>NaN</td>\n",
       "      <td>DB01281</td>\n",
       "    </tr>\n",
       "    <tr>\n",
       "      <th>2</th>\n",
       "      <td>abciximab</td>\n",
       "      <td>231911819</td>\n",
       "      <td>['Integrin beta-3', 'Integrin alpha-IIb', 'Low...</td>\n",
       "      <td>['92:00.00 — Miscellaneous Therapeutic Agents']</td>\n",
       "      <td>DB00054</td>\n",
       "    </tr>\n",
       "    <tr>\n",
       "      <th>3</th>\n",
       "      <td>abemaciclib</td>\n",
       "      <td>369408139</td>\n",
       "      <td>['Cyclin-dependent kinase 4', 'Cyclin-dependen...</td>\n",
       "      <td>['10:00.00 — Antineoplastic Agents']</td>\n",
       "      <td>DB12001</td>\n",
       "    </tr>\n",
       "    <tr>\n",
       "      <th>4</th>\n",
       "      <td>abiraterone</td>\n",
       "      <td>968368347</td>\n",
       "      <td>['Steroid 17-alpha-hydroxylase/17,20 lyase']</td>\n",
       "      <td>['10:00.00 — Antineoplastic Agents']</td>\n",
       "      <td>DB05812</td>\n",
       "    </tr>\n",
       "  </tbody>\n",
       "</table>\n",
       "</div>"
      ],
      "text/plain": [
       "          drug      yc_id                                             target  \\\n",
       "0     abacavir   40046536  ['Reverse transcriptase/RNaseH', 'HLA class I ...   \n",
       "1    abatacept  561378321  ['T-lymphocyte activation antigen CD80', 'T-ly...   \n",
       "2    abciximab  231911819  ['Integrin beta-3', 'Integrin alpha-IIb', 'Low...   \n",
       "3  abemaciclib  369408139  ['Cyclin-dependent kinase 4', 'Cyclin-dependen...   \n",
       "4  abiraterone  968368347       ['Steroid 17-alpha-hydroxylase/17,20 lyase']   \n",
       "\n",
       "                                            drug_cat    db_id  \n",
       "0  ['08:18.08.20 — Nucleoside and Nucleotide Reve...  DB01048  \n",
       "1                                                NaN  DB01281  \n",
       "2    ['92:00.00 — Miscellaneous Therapeutic Agents']  DB00054  \n",
       "3               ['10:00.00 — Antineoplastic Agents']  DB12001  \n",
       "4               ['10:00.00 — Antineoplastic Agents']  DB05812  "
      ]
     },
     "execution_count": 14,
     "metadata": {},
     "output_type": "execute_result"
    }
   ],
   "source": [
    "def extract_nan(x):\n",
    "    try:\n",
    "        if x == \"['nan']\":\n",
    "            return np.nan\n",
    "        else:\n",
    "            return x\n",
    "    except:\n",
    "        return x\n",
    "db.drug_cat = db.drug_cat.apply(extract_nan)\n",
    "db.head()"
   ]
  },
  {
   "cell_type": "code",
   "execution_count": 15,
   "metadata": {
    "ExecuteTime": {
     "end_time": "2021-02-25T13:49:14.824341Z",
     "start_time": "2021-02-25T13:49:14.775421Z"
    }
   },
   "outputs": [
    {
     "data": {
      "text/plain": [
       "array([\"['Reverse transcriptase/RNaseH', 'HLA class I histocompatibility antigen, B-57 alpha chain']\",\n",
       "       \"['T-lymphocyte activation antigen CD80', 'T-lymphocyte activation antigen CD86']\",\n",
       "       \"['Integrin beta-3', 'Integrin alpha-IIb', 'Low affinity immunoglobulin gamma Fc region receptor II-a', 'Low affinity immunoglobulin gamma Fc region receptor II-b', 'Vitronectin']\",\n",
       "       ..., 'Dihydropteroate synthase',\n",
       "       \"['Arachidonate 5-lipoxygenase', 'Prostaglandin G/H synthase 2', 'Prostaglandin G/H synthase 1', 'Peroxisome proliferator-activated receptor gamma', 'Inhibitor of nuclear factor kappa-B kinase subunit', 'Inhibitor of nuclear factor kappa-B kinase subunit', 'Cystine/glutamate transporter', 'Acetyl-CoA acetyltransferase, mitochondrial\\\\tinhibitor', 'Thromboxane-A synthase', 'Phospholipase A2']\",\n",
       "       \"['Sodium/iodide cotransporter', 'Microbial proteins']\"],\n",
       "      dtype='<U6177')"
      ]
     },
     "execution_count": 15,
     "metadata": {},
     "output_type": "execute_result"
    }
   ],
   "source": [
    "db['target'].values.astype(str)"
   ]
  },
  {
   "cell_type": "code",
   "execution_count": 6,
   "metadata": {
    "ExecuteTime": {
     "end_time": "2021-02-20T16:41:07.735559Z",
     "start_time": "2021-02-20T16:41:07.722962Z"
    }
   },
   "outputs": [
    {
     "name": "stdout",
     "output_type": "stream",
     "text": [
      "<class 'pandas.core.frame.DataFrame'>\n",
      "Int64Index: 1987 entries, 0 to 2328\n",
      "Data columns (total 5 columns):\n",
      " #   Column    Non-Null Count  Dtype \n",
      "---  ------    --------------  ----- \n",
      " 0   drug      1987 non-null   object\n",
      " 1   yc_id     1987 non-null   int64 \n",
      " 2   target    1568 non-null   object\n",
      " 3   drug_cat  675 non-null    object\n",
      " 4   db_id     1987 non-null   object\n",
      "dtypes: int64(1), object(4)\n",
      "memory usage: 93.1+ KB\n"
     ]
    }
   ],
   "source": [
    "db.info()"
   ]
  },
  {
   "cell_type": "code",
   "execution_count": 7,
   "metadata": {
    "ExecuteTime": {
     "end_time": "2021-02-20T16:41:09.443620Z",
     "start_time": "2021-02-20T16:41:09.436142Z"
    }
   },
   "outputs": [
    {
     "data": {
      "text/plain": [
       "0.3397081026673377"
      ]
     },
     "execution_count": 7,
     "metadata": {},
     "output_type": "execute_result"
    }
   ],
   "source": [
    "675 / 1987"
   ]
  },
  {
   "cell_type": "code",
   "execution_count": 16,
   "metadata": {
    "ExecuteTime": {
     "end_time": "2021-02-25T13:49:18.010329Z",
     "start_time": "2021-02-25T13:49:17.988517Z"
    }
   },
   "outputs": [
    {
     "data": {
      "text/html": [
       "<div>\n",
       "<style scoped>\n",
       "    .dataframe tbody tr th:only-of-type {\n",
       "        vertical-align: middle;\n",
       "    }\n",
       "\n",
       "    .dataframe tbody tr th {\n",
       "        vertical-align: top;\n",
       "    }\n",
       "\n",
       "    .dataframe thead th {\n",
       "        text-align: right;\n",
       "    }\n",
       "</style>\n",
       "<table border=\"1\" class=\"dataframe\">\n",
       "  <thead>\n",
       "    <tr style=\"text-align: right;\">\n",
       "      <th></th>\n",
       "      <th>drug</th>\n",
       "      <th>yc_id</th>\n",
       "      <th>target</th>\n",
       "      <th>db_id</th>\n",
       "    </tr>\n",
       "  </thead>\n",
       "  <tbody>\n",
       "    <tr>\n",
       "      <th>0</th>\n",
       "      <td>abacavir</td>\n",
       "      <td>40046536</td>\n",
       "      <td>['Reverse transcriptase/RNaseH', 'HLA class I ...</td>\n",
       "      <td>DB01048</td>\n",
       "    </tr>\n",
       "    <tr>\n",
       "      <th>1</th>\n",
       "      <td>abatacept</td>\n",
       "      <td>561378321</td>\n",
       "      <td>['T-lymphocyte activation antigen CD80', 'T-ly...</td>\n",
       "      <td>DB01281</td>\n",
       "    </tr>\n",
       "    <tr>\n",
       "      <th>2</th>\n",
       "      <td>abciximab</td>\n",
       "      <td>231911819</td>\n",
       "      <td>['Integrin beta-3', 'Integrin alpha-IIb', 'Low...</td>\n",
       "      <td>DB00054</td>\n",
       "    </tr>\n",
       "    <tr>\n",
       "      <th>3</th>\n",
       "      <td>abemaciclib</td>\n",
       "      <td>369408139</td>\n",
       "      <td>['Cyclin-dependent kinase 4', 'Cyclin-dependen...</td>\n",
       "      <td>DB12001</td>\n",
       "    </tr>\n",
       "    <tr>\n",
       "      <th>4</th>\n",
       "      <td>abiraterone</td>\n",
       "      <td>968368347</td>\n",
       "      <td>['Steroid 17-alpha-hydroxylase/17,20 lyase']</td>\n",
       "      <td>DB05812</td>\n",
       "    </tr>\n",
       "  </tbody>\n",
       "</table>\n",
       "</div>"
      ],
      "text/plain": [
       "          drug      yc_id                                             target  \\\n",
       "0     abacavir   40046536  ['Reverse transcriptase/RNaseH', 'HLA class I ...   \n",
       "1    abatacept  561378321  ['T-lymphocyte activation antigen CD80', 'T-ly...   \n",
       "2    abciximab  231911819  ['Integrin beta-3', 'Integrin alpha-IIb', 'Low...   \n",
       "3  abemaciclib  369408139  ['Cyclin-dependent kinase 4', 'Cyclin-dependen...   \n",
       "4  abiraterone  968368347       ['Steroid 17-alpha-hydroxylase/17,20 lyase']   \n",
       "\n",
       "     db_id  \n",
       "0  DB01048  \n",
       "1  DB01281  \n",
       "2  DB00054  \n",
       "3  DB12001  \n",
       "4  DB05812  "
      ]
     },
     "execution_count": 16,
     "metadata": {},
     "output_type": "execute_result"
    }
   ],
   "source": [
    "# drop drug_cat as not all drugs have info (only 1/3)\n",
    "db.drop(columns = 'drug_cat', inplace = True)\n",
    "db.head()"
   ]
  },
  {
   "cell_type": "code",
   "execution_count": null,
   "metadata": {},
   "outputs": [],
   "source": []
  },
  {
   "cell_type": "code",
   "execution_count": null,
   "metadata": {},
   "outputs": [],
   "source": []
  },
  {
   "cell_type": "code",
   "execution_count": 8,
   "metadata": {
    "ExecuteTime": {
     "end_time": "2021-02-25T13:48:09.337793Z",
     "start_time": "2021-02-25T13:48:08.622446Z"
    }
   },
   "outputs": [],
   "source": [
    "from sklearn.feature_extraction.text import CountVectorizer, TfidfVectorizer"
   ]
  },
  {
   "cell_type": "code",
   "execution_count": 17,
   "metadata": {
    "ExecuteTime": {
     "end_time": "2021-02-25T13:49:22.637957Z",
     "start_time": "2021-02-25T13:49:22.630367Z"
    }
   },
   "outputs": [],
   "source": [
    "# exclude word receptor\n",
    "cvec = CountVectorizer(stop_words = 'english')\n",
    "stopwords = list(cvec.get_stop_words())\n",
    "stopwords.extend(['receptor', 'nan'])"
   ]
  },
  {
   "cell_type": "code",
   "execution_count": 18,
   "metadata": {
    "ExecuteTime": {
     "end_time": "2021-02-25T13:49:23.074469Z",
     "start_time": "2021-02-25T13:49:22.794457Z"
    }
   },
   "outputs": [
    {
     "data": {
      "text/plain": [
       "voltage dependent type calcium                   103\n",
       "dependent type calcium channel                   103\n",
       "type calcium channel subunit                      96\n",
       "gamma aminobutyric acid subunit                   93\n",
       "calcium channel subunit alpha                     89\n",
       "potassium voltage gated channel                   87\n",
       "voltage gated channel subfamily                   87\n",
       "gated channel subfamily member                    77\n",
       "neuronal acetylcholine subunit alpha              75\n",
       "aminobutyric acid subunit alpha                   73\n",
       "sodium channel protein type                       55\n",
       "affinity immunoglobulin gamma fc                  52\n",
       "subunit alpha gamma aminobutyric                  51\n",
       "alpha gamma aminobutyric acid                     51\n",
       "alpha neuronal acetylcholine subunit              48\n",
       "subunit alpha neuronal acetylcholine              48\n",
       "alpha 1a adrenergic alpha                         48\n",
       "nuclear subfamily group member                    48\n",
       "beta adrenergic beta adrenergic                   47\n",
       "acid subunit alpha gamma                          47\n",
       "sodium dependent noradrenaline transporter        47\n",
       "acetylcholine m1 muscarinic acetylcholine         45\n",
       "muscarinic acetylcholine m1 muscarinic            45\n",
       "acetylcholine m2 muscarinic acetylcholine         43\n",
       "muscarinic acetylcholine m2 muscarinic            43\n",
       "sodium dependent serotonin transporter            43\n",
       "carbonic anhydrase carbonic anhydrase             42\n",
       "protein type subunit alpha                        41\n",
       "channel protein type subunit                      41\n",
       "immunoglobulin gamma fc region                    40\n",
       "prostaglandin synthase prostaglandin synthase     40\n",
       "low affinity immunoglobulin gamma                 40\n",
       "acetylcholine subunit alpha neuronal              39\n",
       "acetylcholine m3 muscarinic acetylcholine         38\n",
       "muscarinic acetylcholine m3 muscarinic            38\n",
       "m1 muscarinic acetylcholine m2                    38\n",
       "vascular endothelial growth factor                37\n",
       "adrenergic alpha 1b adrenergic                    37\n",
       "m2 muscarinic acetylcholine m3                    33\n",
       "member potassium voltage gated                    33\n",
       "alpha 1b adrenergic alpha                         32\n",
       "1a adrenergic alpha 1b                            32\n",
       "alpha 2a adrenergic alpha                         31\n",
       "channel subfamily member potassium                31\n",
       "adrenergic alpha 1d adrenergic                    30\n",
       "m3 muscarinic acetylcholine m4                    29\n",
       "muscarinic acetylcholine m4 muscarinic            29\n",
       "acetylcholine m4 muscarinic acetylcholine         29\n",
       "sodium dependent dopamine transporter             28\n",
       "inward rectifier potassium channel                28\n",
       "dtype: int64"
      ]
     },
     "execution_count": 18,
     "metadata": {},
     "output_type": "execute_result"
    }
   ],
   "source": [
    "cvec = CountVectorizer(stop_words = stopwords,\n",
    "                       max_features = 10000,\n",
    "                       strip_accents = 'unicode',\n",
    "                       lowercase = True,\n",
    "                       decode_error = 'replace',\n",
    "                       ngram_range = (4, 4),\n",
    "                       min_df = 0.001)\n",
    "\n",
    "# get sparse matrix\n",
    "sparse = cvec.fit_transform(db['target'].values.astype(str))\n",
    "\n",
    "# convert to df\n",
    "cvec_df = pd.DataFrame(sparse.toarray(),\n",
    "                       columns = cvec.get_feature_names())\n",
    "\n",
    "# get most frequent words\n",
    "top_targets_db = cvec_df.sum(axis = 0).sort_values(ascending = False)\n",
    "top_targets_db[:50]"
   ]
  },
  {
   "cell_type": "code",
   "execution_count": 20,
   "metadata": {
    "ExecuteTime": {
     "end_time": "2021-02-20T16:42:33.663329Z",
     "start_time": "2021-02-20T16:42:33.655816Z"
    }
   },
   "outputs": [
    {
     "data": {
      "text/plain": [
       "(1987, 1515)"
      ]
     },
     "execution_count": 20,
     "metadata": {},
     "output_type": "execute_result"
    }
   ],
   "source": [
    "cvec_df.shape"
   ]
  },
  {
   "cell_type": "code",
   "execution_count": 19,
   "metadata": {
    "ExecuteTime": {
     "end_time": "2021-02-25T13:49:29.500558Z",
     "start_time": "2021-02-25T13:49:29.470295Z"
    }
   },
   "outputs": [
    {
     "data": {
      "text/html": [
       "<div>\n",
       "<style scoped>\n",
       "    .dataframe tbody tr th:only-of-type {\n",
       "        vertical-align: middle;\n",
       "    }\n",
       "\n",
       "    .dataframe tbody tr th {\n",
       "        vertical-align: top;\n",
       "    }\n",
       "\n",
       "    .dataframe thead th {\n",
       "        text-align: right;\n",
       "    }\n",
       "</style>\n",
       "<table border=\"1\" class=\"dataframe\">\n",
       "  <thead>\n",
       "    <tr style=\"text-align: right;\">\n",
       "      <th></th>\n",
       "      <th>10 neuronal acetylcholine subunit</th>\n",
       "      <th>10 subunit alpha sodium</th>\n",
       "      <th>11 atp sensitive inward</th>\n",
       "      <th>11 solute carrier family</th>\n",
       "      <th>12 member calcium activated</th>\n",
       "      <th>12 member carbonic anhydrase</th>\n",
       "      <th>12 member solute carrier</th>\n",
       "      <th>15 member solute carrier</th>\n",
       "      <th>16s ribosomal rna 30s</th>\n",
       "      <th>17 alpha hydroxylase 17</th>\n",
       "      <th>...</th>\n",
       "      <th>vesicular amine transporter chromaffin</th>\n",
       "      <th>vitamin dependent gamma carboxylase</th>\n",
       "      <th>vitamin epoxide reductase complex</th>\n",
       "      <th>voltage dependent calcium channel</th>\n",
       "      <th>voltage dependent type calcium</th>\n",
       "      <th>voltage gated channel subfamily</th>\n",
       "      <th>voltage gated potassium channels</th>\n",
       "      <th>voltage gated sodium channel</th>\n",
       "      <th>voltage gated type calcium</th>\n",
       "      <th>xiii chain coagulation factor</th>\n",
       "    </tr>\n",
       "  </thead>\n",
       "  <tbody>\n",
       "    <tr>\n",
       "      <th>0</th>\n",
       "      <td>0</td>\n",
       "      <td>0</td>\n",
       "      <td>0</td>\n",
       "      <td>0</td>\n",
       "      <td>0</td>\n",
       "      <td>0</td>\n",
       "      <td>0</td>\n",
       "      <td>0</td>\n",
       "      <td>0</td>\n",
       "      <td>0</td>\n",
       "      <td>...</td>\n",
       "      <td>0</td>\n",
       "      <td>0</td>\n",
       "      <td>0</td>\n",
       "      <td>0</td>\n",
       "      <td>0</td>\n",
       "      <td>0</td>\n",
       "      <td>0</td>\n",
       "      <td>0</td>\n",
       "      <td>0</td>\n",
       "      <td>0</td>\n",
       "    </tr>\n",
       "    <tr>\n",
       "      <th>1</th>\n",
       "      <td>0</td>\n",
       "      <td>0</td>\n",
       "      <td>0</td>\n",
       "      <td>0</td>\n",
       "      <td>0</td>\n",
       "      <td>0</td>\n",
       "      <td>0</td>\n",
       "      <td>0</td>\n",
       "      <td>0</td>\n",
       "      <td>0</td>\n",
       "      <td>...</td>\n",
       "      <td>0</td>\n",
       "      <td>0</td>\n",
       "      <td>0</td>\n",
       "      <td>0</td>\n",
       "      <td>0</td>\n",
       "      <td>0</td>\n",
       "      <td>0</td>\n",
       "      <td>0</td>\n",
       "      <td>0</td>\n",
       "      <td>0</td>\n",
       "    </tr>\n",
       "    <tr>\n",
       "      <th>2</th>\n",
       "      <td>0</td>\n",
       "      <td>0</td>\n",
       "      <td>0</td>\n",
       "      <td>0</td>\n",
       "      <td>0</td>\n",
       "      <td>0</td>\n",
       "      <td>0</td>\n",
       "      <td>0</td>\n",
       "      <td>0</td>\n",
       "      <td>0</td>\n",
       "      <td>...</td>\n",
       "      <td>0</td>\n",
       "      <td>0</td>\n",
       "      <td>0</td>\n",
       "      <td>0</td>\n",
       "      <td>0</td>\n",
       "      <td>0</td>\n",
       "      <td>0</td>\n",
       "      <td>0</td>\n",
       "      <td>0</td>\n",
       "      <td>0</td>\n",
       "    </tr>\n",
       "    <tr>\n",
       "      <th>3</th>\n",
       "      <td>0</td>\n",
       "      <td>0</td>\n",
       "      <td>0</td>\n",
       "      <td>0</td>\n",
       "      <td>0</td>\n",
       "      <td>0</td>\n",
       "      <td>0</td>\n",
       "      <td>0</td>\n",
       "      <td>0</td>\n",
       "      <td>0</td>\n",
       "      <td>...</td>\n",
       "      <td>0</td>\n",
       "      <td>0</td>\n",
       "      <td>0</td>\n",
       "      <td>0</td>\n",
       "      <td>0</td>\n",
       "      <td>0</td>\n",
       "      <td>0</td>\n",
       "      <td>0</td>\n",
       "      <td>0</td>\n",
       "      <td>0</td>\n",
       "    </tr>\n",
       "    <tr>\n",
       "      <th>4</th>\n",
       "      <td>0</td>\n",
       "      <td>0</td>\n",
       "      <td>0</td>\n",
       "      <td>0</td>\n",
       "      <td>0</td>\n",
       "      <td>0</td>\n",
       "      <td>0</td>\n",
       "      <td>0</td>\n",
       "      <td>0</td>\n",
       "      <td>1</td>\n",
       "      <td>...</td>\n",
       "      <td>0</td>\n",
       "      <td>0</td>\n",
       "      <td>0</td>\n",
       "      <td>0</td>\n",
       "      <td>0</td>\n",
       "      <td>0</td>\n",
       "      <td>0</td>\n",
       "      <td>0</td>\n",
       "      <td>0</td>\n",
       "      <td>0</td>\n",
       "    </tr>\n",
       "  </tbody>\n",
       "</table>\n",
       "<p>5 rows × 1455 columns</p>\n",
       "</div>"
      ],
      "text/plain": [
       "   10 neuronal acetylcholine subunit  10 subunit alpha sodium  \\\n",
       "0                                  0                        0   \n",
       "1                                  0                        0   \n",
       "2                                  0                        0   \n",
       "3                                  0                        0   \n",
       "4                                  0                        0   \n",
       "\n",
       "   11 atp sensitive inward  11 solute carrier family  \\\n",
       "0                        0                         0   \n",
       "1                        0                         0   \n",
       "2                        0                         0   \n",
       "3                        0                         0   \n",
       "4                        0                         0   \n",
       "\n",
       "   12 member calcium activated  12 member carbonic anhydrase  \\\n",
       "0                            0                             0   \n",
       "1                            0                             0   \n",
       "2                            0                             0   \n",
       "3                            0                             0   \n",
       "4                            0                             0   \n",
       "\n",
       "   12 member solute carrier  15 member solute carrier  16s ribosomal rna 30s  \\\n",
       "0                         0                         0                      0   \n",
       "1                         0                         0                      0   \n",
       "2                         0                         0                      0   \n",
       "3                         0                         0                      0   \n",
       "4                         0                         0                      0   \n",
       "\n",
       "   17 alpha hydroxylase 17  ...  vesicular amine transporter chromaffin  \\\n",
       "0                        0  ...                                       0   \n",
       "1                        0  ...                                       0   \n",
       "2                        0  ...                                       0   \n",
       "3                        0  ...                                       0   \n",
       "4                        1  ...                                       0   \n",
       "\n",
       "   vitamin dependent gamma carboxylase  vitamin epoxide reductase complex  \\\n",
       "0                                    0                                  0   \n",
       "1                                    0                                  0   \n",
       "2                                    0                                  0   \n",
       "3                                    0                                  0   \n",
       "4                                    0                                  0   \n",
       "\n",
       "   voltage dependent calcium channel  voltage dependent type calcium  \\\n",
       "0                                  0                               0   \n",
       "1                                  0                               0   \n",
       "2                                  0                               0   \n",
       "3                                  0                               0   \n",
       "4                                  0                               0   \n",
       "\n",
       "   voltage gated channel subfamily  voltage gated potassium channels  \\\n",
       "0                                0                                 0   \n",
       "1                                0                                 0   \n",
       "2                                0                                 0   \n",
       "3                                0                                 0   \n",
       "4                                0                                 0   \n",
       "\n",
       "   voltage gated sodium channel  voltage gated type calcium  \\\n",
       "0                             0                           0   \n",
       "1                             0                           0   \n",
       "2                             0                           0   \n",
       "3                             0                           0   \n",
       "4                             0                           0   \n",
       "\n",
       "   xiii chain coagulation factor  \n",
       "0                              0  \n",
       "1                              0  \n",
       "2                              0  \n",
       "3                              0  \n",
       "4                              0  \n",
       "\n",
       "[5 rows x 1455 columns]"
      ]
     },
     "execution_count": 19,
     "metadata": {},
     "output_type": "execute_result"
    }
   ],
   "source": [
    "cvec_df.head()"
   ]
  },
  {
   "cell_type": "code",
   "execution_count": 20,
   "metadata": {
    "ExecuteTime": {
     "end_time": "2021-02-25T13:50:06.986411Z",
     "start_time": "2021-02-25T13:50:06.309892Z"
    }
   },
   "outputs": [],
   "source": [
    "# cvec_df.to_csv('nlp_target_cvec.csv')"
   ]
  },
  {
   "cell_type": "code",
   "execution_count": null,
   "metadata": {},
   "outputs": [],
   "source": []
  }
 ],
 "metadata": {
  "kernelspec": {
   "display_name": "Python 3",
   "language": "python",
   "name": "python3"
  },
  "language_info": {
   "codemirror_mode": {
    "name": "ipython",
    "version": 3
   },
   "file_extension": ".py",
   "mimetype": "text/x-python",
   "name": "python",
   "nbconvert_exporter": "python",
   "pygments_lexer": "ipython3",
   "version": "3.8.5"
  },
  "latex_envs": {
   "LaTeX_envs_menu_present": true,
   "autoclose": false,
   "autocomplete": true,
   "bibliofile": "biblio.bib",
   "cite_by": "apalike",
   "current_citInitial": 1,
   "eqLabelWithNumbers": true,
   "eqNumInitial": 1,
   "hotkeys": {
    "equation": "Ctrl-E",
    "itemize": "Ctrl-I"
   },
   "labels_anchors": false,
   "latex_user_defs": false,
   "report_style_numbering": false,
   "user_envs_cfg": false
  },
  "nbTranslate": {
   "displayLangs": [
    "*"
   ],
   "hotkey": "alt-t",
   "langInMainMenu": true,
   "sourceLang": "en",
   "targetLang": "fr",
   "useGoogleTranslate": true
  },
  "toc": {
   "base_numbering": 1,
   "nav_menu": {},
   "number_sections": true,
   "sideBar": true,
   "skip_h1_title": false,
   "title_cell": "Table of Contents",
   "title_sidebar": "Contents",
   "toc_cell": false,
   "toc_position": {},
   "toc_section_display": true,
   "toc_window_display": false
  }
 },
 "nbformat": 4,
 "nbformat_minor": 4
}
