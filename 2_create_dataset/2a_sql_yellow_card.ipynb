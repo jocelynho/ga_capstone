{
 "cells": [
  {
   "cell_type": "markdown",
   "metadata": {},
   "source": [
    "![](./banner.png)\n",
    "# Create dataset 1: Concatinate Yellow Card Scheme files\n",
    "\n",
    "## Overview\n",
    "Recall from Notebook 1a in the Data Collection process, we downloaded and unzipped all the Yellow Card report files, where we have 3 different `.csv` files for each drug.\n",
    "\n",
    "The 3 `.csv` files are:\n",
    "1. `case`: Summary of each report for the drug, includes patient demographics.\n",
    "2. `event`: Adverse reactions within each report for the drug, there may be multiple events per case.\n",
    "3. `drug`: Method of administration for the drug in each report.\n",
    "\n",
    "For this project, I decided to only use `case` and `event` files for each drug, as the `drug` file provides little useful information.\n",
    "\n",
    "In order to retain each individual side effect incident as a separate data point, I decided to join the `case` file TO the `event` file. This way, I retain the patient-level information, for instance patient gender and age group.\n",
    "\n",
    "I performed the joining using SQL. Let's first install the libraries and create a connection to a SQLite database."
   ]
  },
  {
   "cell_type": "code",
   "execution_count": 32,
   "metadata": {
    "ExecuteTime": {
     "end_time": "2021-03-12T15:21:40.906866Z",
     "start_time": "2021-03-12T15:21:40.863020Z"
    }
   },
   "outputs": [],
   "source": [
    "# import libraries\n",
    "import pandas as pd\n",
    "from pandas.io import sql\n",
    "import sqlite3\n",
    "from tqdm import tqdm\n",
    "\n",
    "# create sqlite connection\n",
    "connection = sqlite3.connect('./yc_db.sqlite')"
   ]
  },
  {
   "cell_type": "markdown",
   "metadata": {},
   "source": [
    "## Trial with one drug\n",
    "To make sure I am joining the files the way I intended to, I first trialled with one drug.\n",
    "\n",
    "### Load csv files\n",
    "I first loaded in the separate csv files:\n",
    "> Note `drugs` was not used in the end."
   ]
  },
  {
   "cell_type": "code",
   "execution_count": 9,
   "metadata": {
    "ExecuteTime": {
     "end_time": "2021-03-12T14:53:56.860055Z",
     "start_time": "2021-03-12T14:53:56.451217Z"
    }
   },
   "outputs": [
    {
     "name": "stdout",
     "output_type": "stream",
     "text": [
      "events: 20751 reports: 8145 drugs: 8797\n"
     ]
    }
   ],
   "source": [
    "# try with one drug\n",
    "\n",
    "# events csv to sql\n",
    "events = pd.read_csv('/Users/JocelynHo/Desktop/yellow_card_raw_csvs/UK_NON_000460896114_event.csv')\n",
    "events.to_sql(name = 'events', con = connection, if_exists = 'replace', index = False)\n",
    "\n",
    "# cases csv to sql\n",
    "reports = pd.read_csv('/Users/JocelynHo/Desktop/yellow_card_raw_csvs/UK_NON_000460896114_case.csv')\n",
    "reports.to_sql(name = 'reports', con = connection, if_exists = 'replace', index = False)\n",
    "\n",
    "# drugs csv to sql\n",
    "drugs = pd.read_csv('/Users/JocelynHo/Desktop/yellow_card_raw_csvs/UK_NON_000460896114_drug.csv')\n",
    "drugs.to_sql(name = 'drugs', con = connection, if_exists = 'replace', index = False)\n",
    "\n",
    "print('events:', len(events), 'reports:', len(reports), 'drugs:', len(drugs))"
   ]
  },
  {
   "cell_type": "markdown",
   "metadata": {},
   "source": [
    "- `Events` has 20751 rows, meaning there are 20751 side effect incidents for this drug.\n",
    "- `Reports` has 8145 rows, meaning there are 8145 reports submitted to the Yellow Card Scheme for this drug, and in these reports there are 20751 events in total.\n",
    "- `Drugs` has 8797 rows, meaning for the 8145 reports, there are multiple routes of administration for this drug, resulting in more rows in drugs than in reports.\n",
    "\n",
    "Let's now look at the individual csv files.\n",
    "\n",
    "### Events.csv\n",
    "Here's a brief explanation of what each column means:\n",
    "- `ADR` - Unique report numbers, corresponds to the ADR numbers in `reports` and `drugs` csv files.\n",
    "- `SEQ` - Indicates different side effect incidents within each report, for example, the first 3 rows show that ADR 1 has 3 different side effects reported.\n",
    "- `PT` - Symptom in preferred terms (defined by MedDRA, Medical Dictionary for Regulatory Activities)\n",
    "- `HLT`,`HLGT` - Symptom in higher level terms\n",
    "- `SOC_ABBREV` - The system organ class that the symptom belongs to, i.e. category of the side effect.\n",
    "- `FATAL_YN` - Whether the side effect was fatal or not. Y indicates Yes, N indicates No."
   ]
  },
  {
   "cell_type": "code",
   "execution_count": 90,
   "metadata": {
    "ExecuteTime": {
     "end_time": "2021-02-13T19:19:28.408655Z",
     "start_time": "2021-02-13T19:19:28.395769Z"
    }
   },
   "outputs": [
    {
     "data": {
      "text/html": [
       "<div>\n",
       "<style scoped>\n",
       "    .dataframe tbody tr th:only-of-type {\n",
       "        vertical-align: middle;\n",
       "    }\n",
       "\n",
       "    .dataframe tbody tr th {\n",
       "        vertical-align: top;\n",
       "    }\n",
       "\n",
       "    .dataframe thead th {\n",
       "        text-align: right;\n",
       "    }\n",
       "</style>\n",
       "<table border=\"1\" class=\"dataframe\">\n",
       "  <thead>\n",
       "    <tr style=\"text-align: right;\">\n",
       "      <th></th>\n",
       "      <th>ADR</th>\n",
       "      <th>SEQ</th>\n",
       "      <th>PT</th>\n",
       "      <th>HLT</th>\n",
       "      <th>HLGT</th>\n",
       "      <th>SOC_ABBREV</th>\n",
       "      <th>FATAL_YN</th>\n",
       "    </tr>\n",
       "  </thead>\n",
       "  <tbody>\n",
       "    <tr>\n",
       "      <th>0</th>\n",
       "      <td>1</td>\n",
       "      <td>1</td>\n",
       "      <td>Chills</td>\n",
       "      <td>Feelings and sensations NEC</td>\n",
       "      <td>General system disorders NEC</td>\n",
       "      <td>Genrl</td>\n",
       "      <td>N</td>\n",
       "    </tr>\n",
       "    <tr>\n",
       "      <th>1</th>\n",
       "      <td>1</td>\n",
       "      <td>2</td>\n",
       "      <td>Malaise</td>\n",
       "      <td>Asthenic conditions</td>\n",
       "      <td>General system disorders NEC</td>\n",
       "      <td>Genrl</td>\n",
       "      <td>N</td>\n",
       "    </tr>\n",
       "    <tr>\n",
       "      <th>2</th>\n",
       "      <td>1</td>\n",
       "      <td>3</td>\n",
       "      <td>Vomiting</td>\n",
       "      <td>Nausea and vomiting symptoms</td>\n",
       "      <td>Gastrointestinal signs and symptoms</td>\n",
       "      <td>Gastr</td>\n",
       "      <td>N</td>\n",
       "    </tr>\n",
       "    <tr>\n",
       "      <th>3</th>\n",
       "      <td>2</td>\n",
       "      <td>1</td>\n",
       "      <td>Oral candidiasis</td>\n",
       "      <td>Candida infections</td>\n",
       "      <td>Fungal infectious disorders</td>\n",
       "      <td>Infec</td>\n",
       "      <td>N</td>\n",
       "    </tr>\n",
       "    <tr>\n",
       "      <th>4</th>\n",
       "      <td>3</td>\n",
       "      <td>1</td>\n",
       "      <td>Photosensitivity reaction</td>\n",
       "      <td>Photosensitivity and photodermatosis conditions</td>\n",
       "      <td>Epidermal and dermal conditions</td>\n",
       "      <td>Skin</td>\n",
       "      <td>N</td>\n",
       "    </tr>\n",
       "  </tbody>\n",
       "</table>\n",
       "</div>"
      ],
      "text/plain": [
       "   ADR  SEQ                         PT  \\\n",
       "0    1    1                     Chills   \n",
       "1    1    2                    Malaise   \n",
       "2    1    3                   Vomiting   \n",
       "3    2    1           Oral candidiasis   \n",
       "4    3    1  Photosensitivity reaction   \n",
       "\n",
       "                                               HLT  \\\n",
       "0                      Feelings and sensations NEC   \n",
       "1                              Asthenic conditions   \n",
       "2                     Nausea and vomiting symptoms   \n",
       "3                               Candida infections   \n",
       "4  Photosensitivity and photodermatosis conditions   \n",
       "\n",
       "                                  HLGT SOC_ABBREV FATAL_YN  \n",
       "0         General system disorders NEC      Genrl        N  \n",
       "1         General system disorders NEC      Genrl        N  \n",
       "2  Gastrointestinal signs and symptoms      Gastr        N  \n",
       "3          Fungal infectious disorders      Infec        N  \n",
       "4      Epidermal and dermal conditions       Skin        N  "
      ]
     },
     "execution_count": 90,
     "metadata": {},
     "output_type": "execute_result"
    }
   ],
   "source": [
    "events.head()"
   ]
  },
  {
   "cell_type": "code",
   "execution_count": 99,
   "metadata": {
    "ExecuteTime": {
     "end_time": "2021-02-13T19:20:41.306239Z",
     "start_time": "2021-02-13T19:20:41.276177Z"
    }
   },
   "outputs": [
    {
     "data": {
      "text/plain": [
       "ADR           0\n",
       "SEQ           0\n",
       "PT            0\n",
       "HLT           0\n",
       "HLGT          0\n",
       "SOC_ABBREV    0\n",
       "FATAL_YN      0\n",
       "dtype: int64"
      ]
     },
     "execution_count": 99,
     "metadata": {},
     "output_type": "execute_result"
    }
   ],
   "source": [
    "# check for any null values\n",
    "events.isnull().sum()"
   ]
  },
  {
   "cell_type": "markdown",
   "metadata": {},
   "source": [
    "### Reports.csv\n",
    "\n",
    "Let's now look at `reports`. Columns include:\n",
    "- `ADR` - unique number for each report within a drug\n",
    "- `AGE` - Age group in ranges of 10 years, number shown indicates the lower bound of each 10-year range (eg. 0 = 0 to 10 years old)\n",
    "- `SENDER_TYPE` - Type of person who sent the report, indirect = from a pharmaceutical company, direct = from a health care professional or the public\n",
    "- `CONSUMER_YN` - Whether the person involved in the side effect incident is a consumer (patient, parent, carer, lawyer)\n",
    "- `NONSERIOUS_SERIOUS_FATAL_NSF` - the severity of side effects.\n",
    "\n",
    "##### Severity of side effects\n",
    "The severity of a side effect is determined by two factors:\n",
    "\n",
    "a) As per definitions determined by the MHRA.\n",
    "\n",
    "b) Whether the original reporter considers it serious.\n",
    "The term 'serious' is determined by a working group of the Council for International Organizations of Medical Sciences (CIOMS), and is defined as 6 possible categories:\n",
    "1. patient died due to reaction\n",
    "2. life threatening\n",
    "3. resulted in hospitalisation or prolonged inpatient hospitalisation\n",
    "4. congenital abnormality and\n",
    "5. involved persistent or significant disability or incapacity, or\n",
    "6. if the reaction was deemed medically significant.\n",
    "\n",
    "These are then grouped into the three categories shown: Non-serious, serious, fatal."
   ]
  },
  {
   "cell_type": "code",
   "execution_count": 93,
   "metadata": {
    "ExecuteTime": {
     "end_time": "2021-02-13T19:19:32.020890Z",
     "start_time": "2021-02-13T19:19:31.994757Z"
    }
   },
   "outputs": [
    {
     "data": {
      "text/html": [
       "<div>\n",
       "<style scoped>\n",
       "    .dataframe tbody tr th:only-of-type {\n",
       "        vertical-align: middle;\n",
       "    }\n",
       "\n",
       "    .dataframe tbody tr th {\n",
       "        vertical-align: top;\n",
       "    }\n",
       "\n",
       "    .dataframe thead th {\n",
       "        text-align: right;\n",
       "    }\n",
       "</style>\n",
       "<table border=\"1\" class=\"dataframe\">\n",
       "  <thead>\n",
       "    <tr style=\"text-align: right;\">\n",
       "      <th></th>\n",
       "      <th>ADR</th>\n",
       "      <th>SEX</th>\n",
       "      <th>AGE_10</th>\n",
       "      <th>RECVD_YEAR</th>\n",
       "      <th>SENDER_TYPE</th>\n",
       "      <th>CONSUMER_YN</th>\n",
       "      <th>HCP_YN</th>\n",
       "      <th>NONSERIOUS_SERIOUS_FATAL_NSF</th>\n",
       "    </tr>\n",
       "  </thead>\n",
       "  <tbody>\n",
       "    <tr>\n",
       "      <th>0</th>\n",
       "      <td>1</td>\n",
       "      <td>Female</td>\n",
       "      <td>40.0</td>\n",
       "      <td>2003</td>\n",
       "      <td>Indirect</td>\n",
       "      <td>N</td>\n",
       "      <td>Y</td>\n",
       "      <td>S</td>\n",
       "    </tr>\n",
       "    <tr>\n",
       "      <th>1</th>\n",
       "      <td>2</td>\n",
       "      <td>Female</td>\n",
       "      <td>50.0</td>\n",
       "      <td>2003</td>\n",
       "      <td>Direct</td>\n",
       "      <td>N</td>\n",
       "      <td>Y</td>\n",
       "      <td>N</td>\n",
       "    </tr>\n",
       "    <tr>\n",
       "      <th>2</th>\n",
       "      <td>3</td>\n",
       "      <td>Female</td>\n",
       "      <td>60.0</td>\n",
       "      <td>2003</td>\n",
       "      <td>Direct</td>\n",
       "      <td>N</td>\n",
       "      <td>Y</td>\n",
       "      <td>S</td>\n",
       "    </tr>\n",
       "    <tr>\n",
       "      <th>3</th>\n",
       "      <td>4</td>\n",
       "      <td>Female</td>\n",
       "      <td>50.0</td>\n",
       "      <td>2003</td>\n",
       "      <td>Direct</td>\n",
       "      <td>N</td>\n",
       "      <td>Y</td>\n",
       "      <td>N</td>\n",
       "    </tr>\n",
       "    <tr>\n",
       "      <th>4</th>\n",
       "      <td>5</td>\n",
       "      <td>Female</td>\n",
       "      <td>40.0</td>\n",
       "      <td>2003</td>\n",
       "      <td>Direct</td>\n",
       "      <td>N</td>\n",
       "      <td>Y</td>\n",
       "      <td>N</td>\n",
       "    </tr>\n",
       "  </tbody>\n",
       "</table>\n",
       "</div>"
      ],
      "text/plain": [
       "   ADR     SEX  AGE_10  RECVD_YEAR SENDER_TYPE CONSUMER_YN HCP_YN  \\\n",
       "0    1  Female    40.0        2003    Indirect           N      Y   \n",
       "1    2  Female    50.0        2003      Direct           N      Y   \n",
       "2    3  Female    60.0        2003      Direct           N      Y   \n",
       "3    4  Female    50.0        2003      Direct           N      Y   \n",
       "4    5  Female    40.0        2003      Direct           N      Y   \n",
       "\n",
       "  NONSERIOUS_SERIOUS_FATAL_NSF  \n",
       "0                            S  \n",
       "1                            N  \n",
       "2                            S  \n",
       "3                            N  \n",
       "4                            N  "
      ]
     },
     "execution_count": 93,
     "metadata": {},
     "output_type": "execute_result"
    }
   ],
   "source": [
    "reports.head()"
   ]
  },
  {
   "cell_type": "markdown",
   "metadata": {
    "ExecuteTime": {
     "end_time": "2021-02-14T14:39:52.413266Z",
     "start_time": "2021-02-14T14:39:52.405758Z"
    }
   },
   "source": [
    "### Join 2 csvs using SQLite\n",
    "\n",
    "Now let's try to join `events` and `reports` together.\n",
    "\n",
    "#### Create custome function for SQL query\n",
    "First, I created a function that takes in a query string (SQL query in the form of a string of texts), and the connection to the SQLite database we created initially."
   ]
  },
  {
   "cell_type": "code",
   "execution_count": 10,
   "metadata": {
    "ExecuteTime": {
     "end_time": "2021-03-12T14:54:08.652543Z",
     "start_time": "2021-03-12T14:54:08.645655Z"
    }
   },
   "outputs": [],
   "source": [
    "# create function to query database\n",
    "def query(string, connection):\n",
    "    df = sql.read_sql(string, con = connection)\n",
    "    return df"
   ]
  },
  {
   "cell_type": "markdown",
   "metadata": {},
   "source": [
    "#### Left join events and reports\n",
    "Then, I left joined the two csvs, adding reports to events, to create the data frame for this particular drug."
   ]
  },
  {
   "cell_type": "code",
   "execution_count": 37,
   "metadata": {
    "ExecuteTime": {
     "end_time": "2021-03-12T15:40:45.291185Z",
     "start_time": "2021-03-12T15:40:45.240118Z"
    }
   },
   "outputs": [
    {
     "data": {
      "text/html": [
       "<div>\n",
       "<style scoped>\n",
       "    .dataframe tbody tr th:only-of-type {\n",
       "        vertical-align: middle;\n",
       "    }\n",
       "\n",
       "    .dataframe tbody tr th {\n",
       "        vertical-align: top;\n",
       "    }\n",
       "\n",
       "    .dataframe thead th {\n",
       "        text-align: right;\n",
       "    }\n",
       "</style>\n",
       "<table border=\"1\" class=\"dataframe\">\n",
       "  <thead>\n",
       "    <tr style=\"text-align: right;\">\n",
       "      <th></th>\n",
       "      <th>adr</th>\n",
       "      <th>seq</th>\n",
       "      <th>side_effect</th>\n",
       "      <th>category</th>\n",
       "      <th>gender</th>\n",
       "      <th>age</th>\n",
       "      <th>year</th>\n",
       "      <th>is_direct</th>\n",
       "      <th>is_consumer</th>\n",
       "      <th>is_hcp</th>\n",
       "      <th>severity</th>\n",
       "    </tr>\n",
       "  </thead>\n",
       "  <tbody>\n",
       "    <tr>\n",
       "      <th>0</th>\n",
       "      <td>1</td>\n",
       "      <td>1</td>\n",
       "      <td>Diabetes mellitus</td>\n",
       "      <td>Metab</td>\n",
       "      <td>Male</td>\n",
       "      <td>50.0</td>\n",
       "      <td>2001</td>\n",
       "      <td>Direct</td>\n",
       "      <td>N</td>\n",
       "      <td>Y</td>\n",
       "      <td>S</td>\n",
       "    </tr>\n",
       "    <tr>\n",
       "      <th>1</th>\n",
       "      <td>2</td>\n",
       "      <td>1</td>\n",
       "      <td>Malaise</td>\n",
       "      <td>Genrl</td>\n",
       "      <td>Male</td>\n",
       "      <td>30.0</td>\n",
       "      <td>2001</td>\n",
       "      <td>Direct</td>\n",
       "      <td>N</td>\n",
       "      <td>Y</td>\n",
       "      <td>N</td>\n",
       "    </tr>\n",
       "    <tr>\n",
       "      <th>2</th>\n",
       "      <td>2</td>\n",
       "      <td>2</td>\n",
       "      <td>Pyrexia</td>\n",
       "      <td>Genrl</td>\n",
       "      <td>Male</td>\n",
       "      <td>30.0</td>\n",
       "      <td>2001</td>\n",
       "      <td>Direct</td>\n",
       "      <td>N</td>\n",
       "      <td>Y</td>\n",
       "      <td>N</td>\n",
       "    </tr>\n",
       "    <tr>\n",
       "      <th>3</th>\n",
       "      <td>2</td>\n",
       "      <td>3</td>\n",
       "      <td>Rash</td>\n",
       "      <td>Skin</td>\n",
       "      <td>Male</td>\n",
       "      <td>30.0</td>\n",
       "      <td>2001</td>\n",
       "      <td>Direct</td>\n",
       "      <td>N</td>\n",
       "      <td>Y</td>\n",
       "      <td>N</td>\n",
       "    </tr>\n",
       "    <tr>\n",
       "      <th>4</th>\n",
       "      <td>3</td>\n",
       "      <td>1</td>\n",
       "      <td>Hypersensitivity</td>\n",
       "      <td>Immun</td>\n",
       "      <td>Male</td>\n",
       "      <td>20.0</td>\n",
       "      <td>2001</td>\n",
       "      <td>Indirect</td>\n",
       "      <td>N</td>\n",
       "      <td>Y</td>\n",
       "      <td>N</td>\n",
       "    </tr>\n",
       "  </tbody>\n",
       "</table>\n",
       "</div>"
      ],
      "text/plain": [
       "   adr  seq        side_effect category gender   age  year is_direct  \\\n",
       "0    1    1  Diabetes mellitus    Metab   Male  50.0  2001    Direct   \n",
       "1    2    1            Malaise    Genrl   Male  30.0  2001    Direct   \n",
       "2    2    2            Pyrexia    Genrl   Male  30.0  2001    Direct   \n",
       "3    2    3               Rash     Skin   Male  30.0  2001    Direct   \n",
       "4    3    1   Hypersensitivity    Immun   Male  20.0  2001  Indirect   \n",
       "\n",
       "  is_consumer is_hcp severity  \n",
       "0           N      Y        S  \n",
       "1           N      Y        N  \n",
       "2           N      Y        N  \n",
       "3           N      Y        N  \n",
       "4           N      Y        N  "
      ]
     },
     "execution_count": 37,
     "metadata": {},
     "output_type": "execute_result"
    }
   ],
   "source": [
    "string = \"\"\"\n",
    "SELECT events.ADR as adr, events.SEQ as seq,\n",
    "        events.PT as side_effect, events.SOC_ABBREV as category,\n",
    "        reports.SEX as gender, reports.AGE_10 as age,\n",
    "        reports.RECVD_YEAR as year, reports.SENDER_TYPE as is_direct,\n",
    "        reports.CONSUMER_YN as is_consumer, reports.HCP_YN as is_hcp,\n",
    "        reports.NONSERIOUS_SERIOUS_FATAL_NSF as severity\n",
    "FROM events\n",
    "LEFT JOIN reports\n",
    "ON events.ADR = reports.ADR\n",
    "\"\"\"\n",
    "\n",
    "x = query(string, connection)\n",
    "x.head()"
   ]
  },
  {
   "cell_type": "code",
   "execution_count": 12,
   "metadata": {
    "ExecuteTime": {
     "end_time": "2021-03-12T14:54:19.908265Z",
     "start_time": "2021-03-12T14:54:19.855459Z"
    }
   },
   "outputs": [
    {
     "data": {
      "text/plain": [
       "0"
      ]
     },
     "execution_count": 12,
     "metadata": {},
     "output_type": "execute_result"
    }
   ],
   "source": [
    "# check if any rows are duplicated\n",
    "len(x[x.duplicated()])"
   ]
  },
  {
   "cell_type": "markdown",
   "metadata": {},
   "source": [
    "### Add Yellow Card ID to each drug\n",
    "\n",
    "Now that I managed to join the two csvs together, the next step is to expand the process for all the drugs in the Yellow Card Scheme data frame.\n",
    "\n",
    "Before doing that, I decided to add the Yellow Card IDs to each drug after joining the csvs, so that there is an ID to identify which drug causes each side effect.\n",
    "\n",
    "Since the IDs are in the csv file names, I can simply loop through the different Yellow Card IDs, join the csvs for each ID, and add the Yellow Card ID to the joined data frame as a new column."
   ]
  },
  {
   "cell_type": "code",
   "execution_count": 26,
   "metadata": {
    "ExecuteTime": {
     "end_time": "2021-03-12T15:17:14.284466Z",
     "start_time": "2021-03-12T15:17:14.231881Z"
    }
   },
   "outputs": [
    {
     "data": {
      "text/html": [
       "<div>\n",
       "<style scoped>\n",
       "    .dataframe tbody tr th:only-of-type {\n",
       "        vertical-align: middle;\n",
       "    }\n",
       "\n",
       "    .dataframe tbody tr th {\n",
       "        vertical-align: top;\n",
       "    }\n",
       "\n",
       "    .dataframe thead th {\n",
       "        text-align: right;\n",
       "    }\n",
       "</style>\n",
       "<table border=\"1\" class=\"dataframe\">\n",
       "  <thead>\n",
       "    <tr style=\"text-align: right;\">\n",
       "      <th></th>\n",
       "      <th>adr</th>\n",
       "      <th>seq</th>\n",
       "      <th>side_effect</th>\n",
       "      <th>category</th>\n",
       "      <th>gender</th>\n",
       "      <th>age</th>\n",
       "      <th>year</th>\n",
       "      <th>is_direct</th>\n",
       "      <th>is_consumer</th>\n",
       "      <th>is_hcp</th>\n",
       "      <th>severity</th>\n",
       "      <th>yc_id</th>\n",
       "    </tr>\n",
       "  </thead>\n",
       "  <tbody>\n",
       "    <tr>\n",
       "      <th>0</th>\n",
       "      <td>1</td>\n",
       "      <td>1</td>\n",
       "      <td>Chills</td>\n",
       "      <td>Genrl</td>\n",
       "      <td>Female</td>\n",
       "      <td>40.0</td>\n",
       "      <td>2003.0</td>\n",
       "      <td>Indirect</td>\n",
       "      <td>N</td>\n",
       "      <td>Y</td>\n",
       "      <td>S</td>\n",
       "      <td>000460896114</td>\n",
       "    </tr>\n",
       "    <tr>\n",
       "      <th>1</th>\n",
       "      <td>1</td>\n",
       "      <td>2</td>\n",
       "      <td>Malaise</td>\n",
       "      <td>Genrl</td>\n",
       "      <td>Female</td>\n",
       "      <td>40.0</td>\n",
       "      <td>2003.0</td>\n",
       "      <td>Indirect</td>\n",
       "      <td>N</td>\n",
       "      <td>Y</td>\n",
       "      <td>S</td>\n",
       "      <td>000460896114</td>\n",
       "    </tr>\n",
       "    <tr>\n",
       "      <th>2</th>\n",
       "      <td>1</td>\n",
       "      <td>3</td>\n",
       "      <td>Vomiting</td>\n",
       "      <td>Gastr</td>\n",
       "      <td>Female</td>\n",
       "      <td>40.0</td>\n",
       "      <td>2003.0</td>\n",
       "      <td>Indirect</td>\n",
       "      <td>N</td>\n",
       "      <td>Y</td>\n",
       "      <td>S</td>\n",
       "      <td>000460896114</td>\n",
       "    </tr>\n",
       "    <tr>\n",
       "      <th>3</th>\n",
       "      <td>2</td>\n",
       "      <td>1</td>\n",
       "      <td>Oral candidiasis</td>\n",
       "      <td>Infec</td>\n",
       "      <td>Female</td>\n",
       "      <td>50.0</td>\n",
       "      <td>2003.0</td>\n",
       "      <td>Direct</td>\n",
       "      <td>N</td>\n",
       "      <td>Y</td>\n",
       "      <td>N</td>\n",
       "      <td>000460896114</td>\n",
       "    </tr>\n",
       "    <tr>\n",
       "      <th>4</th>\n",
       "      <td>3</td>\n",
       "      <td>1</td>\n",
       "      <td>Photosensitivity reaction</td>\n",
       "      <td>Skin</td>\n",
       "      <td>Female</td>\n",
       "      <td>60.0</td>\n",
       "      <td>2003.0</td>\n",
       "      <td>Direct</td>\n",
       "      <td>N</td>\n",
       "      <td>Y</td>\n",
       "      <td>S</td>\n",
       "      <td>000460896114</td>\n",
       "    </tr>\n",
       "  </tbody>\n",
       "</table>\n",
       "</div>"
      ],
      "text/plain": [
       "   adr  seq                side_effect category  gender   age    year  \\\n",
       "0    1    1                     Chills    Genrl  Female  40.0  2003.0   \n",
       "1    1    2                    Malaise    Genrl  Female  40.0  2003.0   \n",
       "2    1    3                   Vomiting    Gastr  Female  40.0  2003.0   \n",
       "3    2    1           Oral candidiasis    Infec  Female  50.0  2003.0   \n",
       "4    3    1  Photosensitivity reaction     Skin  Female  60.0  2003.0   \n",
       "\n",
       "  is_direct is_consumer is_hcp severity         yc_id  \n",
       "0  Indirect           N      Y        S  000460896114  \n",
       "1  Indirect           N      Y        S  000460896114  \n",
       "2  Indirect           N      Y        S  000460896114  \n",
       "3    Direct           N      Y        N  000460896114  \n",
       "4    Direct           N      Y        S  000460896114  "
      ]
     },
     "execution_count": 26,
     "metadata": {},
     "output_type": "execute_result"
    }
   ],
   "source": [
    "x['yc_id'] = '000460896114'\n",
    "x.head()"
   ]
  },
  {
   "cell_type": "markdown",
   "metadata": {},
   "source": [
    "## Automate process for all the drugs\n",
    "Now that the process works for one drug, let's expand it to all the csvs we downloaded and unzipped from the Yellow Card Scheme website.\n",
    "\n",
    "### Load Yellow Card IDs\n",
    "Let's first obtain all the Yellow Card IDs:"
   ]
  },
  {
   "cell_type": "code",
   "execution_count": 31,
   "metadata": {
    "ExecuteTime": {
     "end_time": "2021-03-12T15:20:50.433711Z",
     "start_time": "2021-03-12T15:20:50.391843Z"
    }
   },
   "outputs": [
    {
     "name": "stdout",
     "output_type": "stream",
     "text": [
      "2329\n"
     ]
    },
    {
     "data": {
      "text/plain": [
       "['000040046536',\n",
       " '000561378321',\n",
       " '000231911819',\n",
       " '000369408139',\n",
       " '000968368347']"
      ]
     },
     "execution_count": 31,
     "metadata": {},
     "output_type": "execute_result"
    }
   ],
   "source": [
    "# load yellow_card_link csv\n",
    "db = pd.read_csv('/Users/JocelynHo/Desktop/GA Capstone/drugbank_final.csv',\n",
    "                      dtype = 'object')\n",
    "\n",
    "# obtain all yellow card ids\n",
    "yc_ids = list(db.yc_id.values)\n",
    "\n",
    "# check number of ids\n",
    "print(len(yc_ids))\n",
    "\n",
    "# print out the first 5 ids\n",
    "yc_ids[:5]"
   ]
  },
  {
   "cell_type": "markdown",
   "metadata": {},
   "source": [
    "### Repeat process using for loop\n",
    "Now, I loop through each Yellow Card ID and repeat the entire process:"
   ]
  },
  {
   "cell_type": "code",
   "execution_count": 38,
   "metadata": {
    "ExecuteTime": {
     "end_time": "2021-03-12T15:47:41.706265Z",
     "start_time": "2021-03-12T15:41:04.494172Z"
    }
   },
   "outputs": [
    {
     "name": "stderr",
     "output_type": "stream",
     "text": [
      "100%|██████████| 2329/2329 [06:37<00:00,  5.86it/s]\n"
     ]
    }
   ],
   "source": [
    "# loop through each drug\n",
    "for yc_id in tqdm(yc_ids):\n",
    "    \n",
    "    # load in event csv to sql\n",
    "    events = pd.read_csv(f'/Users/JocelynHo/Desktop/yellow_card_raw_csvs/UK_NON_{yc_id}_event.csv')\n",
    "    events.to_sql(name = 'events', con = connection, if_exists = 'replace')\n",
    "\n",
    "    # load in case csv to sql\n",
    "    reports = pd.read_csv(f'/Users/JocelynHo/Desktop/yellow_card_raw_csvs/UK_NON_{yc_id}_case.csv')\n",
    "    reports.to_sql(name = 'reports', con = connection, if_exists = 'replace')\n",
    "\n",
    "    # create SQL query string\n",
    "    string = \"\"\"\n",
    "    SELECT events.ADR as adr, events.SEQ as seq,\n",
    "            events.PT as side_effect, events.SOC_ABBREV as category,\n",
    "            reports.SEX as gender, reports.AGE_10 as age,\n",
    "            reports.RECVD_YEAR as year, reports.SENDER_TYPE as is_direct,\n",
    "            reports.CONSUMER_YN as is_consumer, reports.HCP_YN as is_hcp,\n",
    "            reports.NONSERIOUS_SERIOUS_FATAL_NSF as severity\n",
    "    FROM events\n",
    "    LEFT JOIN reports\n",
    "    ON events.ADR = reports.ADR\n",
    "    \"\"\"\n",
    "    \n",
    "    # use custom function to query database and save combined tables as dataframe\n",
    "    df = query(string, connection)\n",
    "\n",
    "    # add yellow card id to every row as new column\n",
    "    df['yc_id'] = yc_id\n",
    "    \n",
    "    # create a new table and save to SQL data base\n",
    "    df.to_sql(name = 'df', con = connection, if_exists = 'append')"
   ]
  },
  {
   "cell_type": "markdown",
   "metadata": {
    "ExecuteTime": {
     "end_time": "2021-02-14T15:19:15.128614Z",
     "start_time": "2021-02-14T15:19:01.574753Z"
    }
   },
   "source": [
    "#### Double check number of rows\n",
    "I manually checked the total number of rows in each events csv:"
   ]
  },
  {
   "cell_type": "code",
   "execution_count": 41,
   "metadata": {
    "ExecuteTime": {
     "end_time": "2021-03-12T15:48:56.549606Z",
     "start_time": "2021-03-12T15:48:37.155251Z"
    }
   },
   "outputs": [
    {
     "name": "stderr",
     "output_type": "stream",
     "text": [
      "100%|██████████| 2329/2329 [00:19<00:00, 120.18it/s]\n"
     ]
    },
    {
     "data": {
      "text/plain": [
       "2426954"
      ]
     },
     "execution_count": 41,
     "metadata": {},
     "output_type": "execute_result"
    }
   ],
   "source": [
    "count = 0\n",
    "for yc_id in tqdm(yc_ids):\n",
    "    # events csv to sql\n",
    "    events = pd.read_csv(f'/Users/JocelynHo/Desktop/yellow_card_raw_csvs/UK_NON_{yc_id}_event.csv')\n",
    "    # count total number of rows from all the events\n",
    "    count += len(events)\n",
    "count"
   ]
  },
  {
   "cell_type": "markdown",
   "metadata": {},
   "source": [
    "And compared it against the database I created to make sure they have the same number of rows:"
   ]
  },
  {
   "cell_type": "code",
   "execution_count": 43,
   "metadata": {
    "ExecuteTime": {
     "end_time": "2021-03-12T15:49:37.962085Z",
     "start_time": "2021-03-12T15:49:02.597238Z"
    }
   },
   "outputs": [
    {
     "data": {
      "text/plain": [
       "(2426954, 13)"
      ]
     },
     "execution_count": 43,
     "metadata": {},
     "output_type": "execute_result"
    }
   ],
   "source": [
    "df = query(\"SELECT * FROM df\", connection)\n",
    "df.shape"
   ]
  },
  {
   "cell_type": "markdown",
   "metadata": {},
   "source": [
    "## Overview of data base created "
   ]
  },
  {
   "cell_type": "code",
   "execution_count": 44,
   "metadata": {
    "ExecuteTime": {
     "end_time": "2021-03-12T15:49:42.511744Z",
     "start_time": "2021-03-12T15:49:42.482209Z"
    }
   },
   "outputs": [
    {
     "data": {
      "text/html": [
       "<div>\n",
       "<style scoped>\n",
       "    .dataframe tbody tr th:only-of-type {\n",
       "        vertical-align: middle;\n",
       "    }\n",
       "\n",
       "    .dataframe tbody tr th {\n",
       "        vertical-align: top;\n",
       "    }\n",
       "\n",
       "    .dataframe thead th {\n",
       "        text-align: right;\n",
       "    }\n",
       "</style>\n",
       "<table border=\"1\" class=\"dataframe\">\n",
       "  <thead>\n",
       "    <tr style=\"text-align: right;\">\n",
       "      <th></th>\n",
       "      <th>index</th>\n",
       "      <th>adr</th>\n",
       "      <th>seq</th>\n",
       "      <th>side_effect</th>\n",
       "      <th>category</th>\n",
       "      <th>gender</th>\n",
       "      <th>age</th>\n",
       "      <th>year</th>\n",
       "      <th>is_direct</th>\n",
       "      <th>is_consumer</th>\n",
       "      <th>is_hcp</th>\n",
       "      <th>severity</th>\n",
       "      <th>yc_id</th>\n",
       "    </tr>\n",
       "  </thead>\n",
       "  <tbody>\n",
       "    <tr>\n",
       "      <th>0</th>\n",
       "      <td>0</td>\n",
       "      <td>1</td>\n",
       "      <td>1</td>\n",
       "      <td>Diabetes mellitus</td>\n",
       "      <td>Metab</td>\n",
       "      <td>Male</td>\n",
       "      <td>50.0</td>\n",
       "      <td>2001.0</td>\n",
       "      <td>Direct</td>\n",
       "      <td>N</td>\n",
       "      <td>Y</td>\n",
       "      <td>S</td>\n",
       "      <td>000040046536</td>\n",
       "    </tr>\n",
       "    <tr>\n",
       "      <th>1</th>\n",
       "      <td>1</td>\n",
       "      <td>2</td>\n",
       "      <td>1</td>\n",
       "      <td>Malaise</td>\n",
       "      <td>Genrl</td>\n",
       "      <td>Male</td>\n",
       "      <td>30.0</td>\n",
       "      <td>2001.0</td>\n",
       "      <td>Direct</td>\n",
       "      <td>N</td>\n",
       "      <td>Y</td>\n",
       "      <td>N</td>\n",
       "      <td>000040046536</td>\n",
       "    </tr>\n",
       "    <tr>\n",
       "      <th>2</th>\n",
       "      <td>2</td>\n",
       "      <td>2</td>\n",
       "      <td>2</td>\n",
       "      <td>Pyrexia</td>\n",
       "      <td>Genrl</td>\n",
       "      <td>Male</td>\n",
       "      <td>30.0</td>\n",
       "      <td>2001.0</td>\n",
       "      <td>Direct</td>\n",
       "      <td>N</td>\n",
       "      <td>Y</td>\n",
       "      <td>N</td>\n",
       "      <td>000040046536</td>\n",
       "    </tr>\n",
       "    <tr>\n",
       "      <th>3</th>\n",
       "      <td>3</td>\n",
       "      <td>2</td>\n",
       "      <td>3</td>\n",
       "      <td>Rash</td>\n",
       "      <td>Skin</td>\n",
       "      <td>Male</td>\n",
       "      <td>30.0</td>\n",
       "      <td>2001.0</td>\n",
       "      <td>Direct</td>\n",
       "      <td>N</td>\n",
       "      <td>Y</td>\n",
       "      <td>N</td>\n",
       "      <td>000040046536</td>\n",
       "    </tr>\n",
       "    <tr>\n",
       "      <th>4</th>\n",
       "      <td>4</td>\n",
       "      <td>3</td>\n",
       "      <td>1</td>\n",
       "      <td>Hypersensitivity</td>\n",
       "      <td>Immun</td>\n",
       "      <td>Male</td>\n",
       "      <td>20.0</td>\n",
       "      <td>2001.0</td>\n",
       "      <td>Indirect</td>\n",
       "      <td>N</td>\n",
       "      <td>Y</td>\n",
       "      <td>N</td>\n",
       "      <td>000040046536</td>\n",
       "    </tr>\n",
       "  </tbody>\n",
       "</table>\n",
       "</div>"
      ],
      "text/plain": [
       "   index  adr  seq        side_effect category gender   age    year is_direct  \\\n",
       "0      0    1    1  Diabetes mellitus    Metab   Male  50.0  2001.0    Direct   \n",
       "1      1    2    1            Malaise    Genrl   Male  30.0  2001.0    Direct   \n",
       "2      2    2    2            Pyrexia    Genrl   Male  30.0  2001.0    Direct   \n",
       "3      3    2    3               Rash     Skin   Male  30.0  2001.0    Direct   \n",
       "4      4    3    1   Hypersensitivity    Immun   Male  20.0  2001.0  Indirect   \n",
       "\n",
       "  is_consumer is_hcp severity         yc_id  \n",
       "0           N      Y        S  000040046536  \n",
       "1           N      Y        N  000040046536  \n",
       "2           N      Y        N  000040046536  \n",
       "3           N      Y        N  000040046536  \n",
       "4           N      Y        N  000040046536  "
      ]
     },
     "execution_count": 44,
     "metadata": {},
     "output_type": "execute_result"
    }
   ],
   "source": [
    "# first 5 rows of the database I created\n",
    "df.head()"
   ]
  },
  {
   "cell_type": "code",
   "execution_count": 45,
   "metadata": {
    "ExecuteTime": {
     "end_time": "2021-03-12T15:49:45.888488Z",
     "start_time": "2021-03-12T15:49:42.939347Z"
    }
   },
   "outputs": [
    {
     "data": {
      "text/plain": [
       "index               0\n",
       "adr                 0\n",
       "seq                 0\n",
       "side_effect         0\n",
       "category            0\n",
       "gender            122\n",
       "age            390027\n",
       "year              122\n",
       "is_direct         122\n",
       "is_consumer       122\n",
       "is_hcp            122\n",
       "severity          122\n",
       "yc_id               0\n",
       "dtype: int64"
      ]
     },
     "execution_count": 45,
     "metadata": {},
     "output_type": "execute_result"
    }
   ],
   "source": [
    "# check for null values\n",
    "df.isnull().sum()"
   ]
  },
  {
   "cell_type": "markdown",
   "metadata": {},
   "source": [
    "At first glance, `age` column appears to be missing a lot of values. Data cleaning process will be discussed in the next notebook."
   ]
  },
  {
   "cell_type": "markdown",
   "metadata": {},
   "source": [
    "### Convert Yellow Card ID to DrugBank ID\n",
    "\n",
    "In order to have a common ID to join all the data frames (Yellow Card, DrugBank, Drugs.com reviews) together, I decided to convert the Yellow Card IDs to DrugBank IDs.\n",
    "\n",
    "#### Create a dictionary of Yellow Card IDs to DrugBank IDs\n",
    "First, I loaded in the data I created in the first Notebook 1a. Then, I created a dictionary that maps each Yellow Card ID to their respective DrugBank ID."
   ]
  },
  {
   "cell_type": "code",
   "execution_count": 46,
   "metadata": {
    "ExecuteTime": {
     "end_time": "2021-03-12T15:49:52.925867Z",
     "start_time": "2021-03-12T15:49:52.841592Z"
    }
   },
   "outputs": [
    {
     "data": {
      "text/plain": [
       "{'000040046536': 'DB01048',\n",
       " '000561378321': 'DB01281',\n",
       " '000231911819': 'DB00054',\n",
       " '000369408139': 'DB12001',\n",
       " '000968368347': 'DB05812'}"
      ]
     },
     "execution_count": 46,
     "metadata": {},
     "output_type": "execute_result"
    }
   ],
   "source": [
    "# create dictionary\n",
    "drug_ids = {db['yc_id'].loc[i]: db['db_id'].loc[i] for i in range(len(db))}\n",
    "\n",
    "# show first 5 items in dictionary\n",
    "import itertools\n",
    "dict(itertools.islice(drug_ids.items(), 5))"
   ]
  },
  {
   "cell_type": "markdown",
   "metadata": {
    "ExecuteTime": {
     "end_time": "2021-03-12T15:00:47.988900Z",
     "start_time": "2021-03-12T15:00:47.962149Z"
    }
   },
   "source": [
    "#### Create new column for DrugBank ID\n",
    "Then, I created a new column that contains the DrugBank ID of each drug."
   ]
  },
  {
   "cell_type": "code",
   "execution_count": 47,
   "metadata": {
    "ExecuteTime": {
     "end_time": "2021-03-12T15:49:56.450418Z",
     "start_time": "2021-03-12T15:49:55.674798Z"
    }
   },
   "outputs": [
    {
     "data": {
      "text/html": [
       "<div>\n",
       "<style scoped>\n",
       "    .dataframe tbody tr th:only-of-type {\n",
       "        vertical-align: middle;\n",
       "    }\n",
       "\n",
       "    .dataframe tbody tr th {\n",
       "        vertical-align: top;\n",
       "    }\n",
       "\n",
       "    .dataframe thead th {\n",
       "        text-align: right;\n",
       "    }\n",
       "</style>\n",
       "<table border=\"1\" class=\"dataframe\">\n",
       "  <thead>\n",
       "    <tr style=\"text-align: right;\">\n",
       "      <th></th>\n",
       "      <th>index</th>\n",
       "      <th>adr</th>\n",
       "      <th>seq</th>\n",
       "      <th>side_effect</th>\n",
       "      <th>category</th>\n",
       "      <th>gender</th>\n",
       "      <th>age</th>\n",
       "      <th>year</th>\n",
       "      <th>is_direct</th>\n",
       "      <th>is_consumer</th>\n",
       "      <th>is_hcp</th>\n",
       "      <th>severity</th>\n",
       "      <th>yc_id</th>\n",
       "      <th>db_id</th>\n",
       "    </tr>\n",
       "  </thead>\n",
       "  <tbody>\n",
       "    <tr>\n",
       "      <th>0</th>\n",
       "      <td>0</td>\n",
       "      <td>1</td>\n",
       "      <td>1</td>\n",
       "      <td>Diabetes mellitus</td>\n",
       "      <td>Metab</td>\n",
       "      <td>Male</td>\n",
       "      <td>50.0</td>\n",
       "      <td>2001.0</td>\n",
       "      <td>Direct</td>\n",
       "      <td>N</td>\n",
       "      <td>Y</td>\n",
       "      <td>S</td>\n",
       "      <td>000040046536</td>\n",
       "      <td>DB01048</td>\n",
       "    </tr>\n",
       "    <tr>\n",
       "      <th>1</th>\n",
       "      <td>1</td>\n",
       "      <td>2</td>\n",
       "      <td>1</td>\n",
       "      <td>Malaise</td>\n",
       "      <td>Genrl</td>\n",
       "      <td>Male</td>\n",
       "      <td>30.0</td>\n",
       "      <td>2001.0</td>\n",
       "      <td>Direct</td>\n",
       "      <td>N</td>\n",
       "      <td>Y</td>\n",
       "      <td>N</td>\n",
       "      <td>000040046536</td>\n",
       "      <td>DB01048</td>\n",
       "    </tr>\n",
       "    <tr>\n",
       "      <th>2</th>\n",
       "      <td>2</td>\n",
       "      <td>2</td>\n",
       "      <td>2</td>\n",
       "      <td>Pyrexia</td>\n",
       "      <td>Genrl</td>\n",
       "      <td>Male</td>\n",
       "      <td>30.0</td>\n",
       "      <td>2001.0</td>\n",
       "      <td>Direct</td>\n",
       "      <td>N</td>\n",
       "      <td>Y</td>\n",
       "      <td>N</td>\n",
       "      <td>000040046536</td>\n",
       "      <td>DB01048</td>\n",
       "    </tr>\n",
       "    <tr>\n",
       "      <th>3</th>\n",
       "      <td>3</td>\n",
       "      <td>2</td>\n",
       "      <td>3</td>\n",
       "      <td>Rash</td>\n",
       "      <td>Skin</td>\n",
       "      <td>Male</td>\n",
       "      <td>30.0</td>\n",
       "      <td>2001.0</td>\n",
       "      <td>Direct</td>\n",
       "      <td>N</td>\n",
       "      <td>Y</td>\n",
       "      <td>N</td>\n",
       "      <td>000040046536</td>\n",
       "      <td>DB01048</td>\n",
       "    </tr>\n",
       "    <tr>\n",
       "      <th>4</th>\n",
       "      <td>4</td>\n",
       "      <td>3</td>\n",
       "      <td>1</td>\n",
       "      <td>Hypersensitivity</td>\n",
       "      <td>Immun</td>\n",
       "      <td>Male</td>\n",
       "      <td>20.0</td>\n",
       "      <td>2001.0</td>\n",
       "      <td>Indirect</td>\n",
       "      <td>N</td>\n",
       "      <td>Y</td>\n",
       "      <td>N</td>\n",
       "      <td>000040046536</td>\n",
       "      <td>DB01048</td>\n",
       "    </tr>\n",
       "  </tbody>\n",
       "</table>\n",
       "</div>"
      ],
      "text/plain": [
       "   index  adr  seq        side_effect category gender   age    year is_direct  \\\n",
       "0      0    1    1  Diabetes mellitus    Metab   Male  50.0  2001.0    Direct   \n",
       "1      1    2    1            Malaise    Genrl   Male  30.0  2001.0    Direct   \n",
       "2      2    2    2            Pyrexia    Genrl   Male  30.0  2001.0    Direct   \n",
       "3      3    2    3               Rash     Skin   Male  30.0  2001.0    Direct   \n",
       "4      4    3    1   Hypersensitivity    Immun   Male  20.0  2001.0  Indirect   \n",
       "\n",
       "  is_consumer is_hcp severity         yc_id    db_id  \n",
       "0           N      Y        S  000040046536  DB01048  \n",
       "1           N      Y        N  000040046536  DB01048  \n",
       "2           N      Y        N  000040046536  DB01048  \n",
       "3           N      Y        N  000040046536  DB01048  \n",
       "4           N      Y        N  000040046536  DB01048  "
      ]
     },
     "execution_count": 47,
     "metadata": {},
     "output_type": "execute_result"
    }
   ],
   "source": [
    "df['db_id'] = df['yc_id'].map(drug_ids)\n",
    "df.head()"
   ]
  },
  {
   "cell_type": "code",
   "execution_count": 48,
   "metadata": {
    "ExecuteTime": {
     "end_time": "2021-03-12T15:50:39.727067Z",
     "start_time": "2021-03-12T15:50:13.134366Z"
    }
   },
   "outputs": [],
   "source": [
    "## save as csv\n",
    "# df.to_csv('df_yc_all.csv', index = False, header = True)"
   ]
  },
  {
   "cell_type": "markdown",
   "metadata": {},
   "source": [
    "## Next Step:\n",
    "The next notebook describes steps I took for cleaning this data frame, and adding in data from DrugBank and reviews from Drugs.com."
   ]
  },
  {
   "cell_type": "code",
   "execution_count": null,
   "metadata": {},
   "outputs": [],
   "source": []
  }
 ],
 "metadata": {
  "kernelspec": {
   "display_name": "Python 3",
   "language": "python",
   "name": "python3"
  },
  "language_info": {
   "codemirror_mode": {
    "name": "ipython",
    "version": 3
   },
   "file_extension": ".py",
   "mimetype": "text/x-python",
   "name": "python",
   "nbconvert_exporter": "python",
   "pygments_lexer": "ipython3",
   "version": "3.8.5"
  },
  "latex_envs": {
   "LaTeX_envs_menu_present": true,
   "autoclose": false,
   "autocomplete": true,
   "bibliofile": "biblio.bib",
   "cite_by": "apalike",
   "current_citInitial": 1,
   "eqLabelWithNumbers": true,
   "eqNumInitial": 1,
   "hotkeys": {
    "equation": "Ctrl-E",
    "itemize": "Ctrl-I"
   },
   "labels_anchors": false,
   "latex_user_defs": false,
   "report_style_numbering": false,
   "user_envs_cfg": false
  },
  "nbTranslate": {
   "displayLangs": [
    "*"
   ],
   "hotkey": "alt-t",
   "langInMainMenu": true,
   "sourceLang": "en",
   "targetLang": "fr",
   "useGoogleTranslate": true
  },
  "toc": {
   "base_numbering": 1,
   "nav_menu": {},
   "number_sections": true,
   "sideBar": true,
   "skip_h1_title": false,
   "title_cell": "Table of Contents",
   "title_sidebar": "Contents",
   "toc_cell": false,
   "toc_position": {},
   "toc_section_display": true,
   "toc_window_display": false
  }
 },
 "nbformat": 4,
 "nbformat_minor": 4
}
