{
 "cells": [
  {
   "cell_type": "markdown",
   "metadata": {},
   "source": [
    "![](../banner.png)\n",
    "# Feature engineering + class imbalance\n",
    "This notebook shows feature engineering steps and my approach to addressing the imbalanced class distribution of the data set.\n",
    "## Import libraries\n",
    "As usual, I first imported the required libraries:"
   ]
  },
  {
   "cell_type": "code",
   "execution_count": 1,
   "metadata": {
    "ExecuteTime": {
     "end_time": "2021-04-28T13:17:56.993777Z",
     "start_time": "2021-04-28T13:17:53.283830Z"
    }
   },
   "outputs": [],
   "source": [
    "import pandas as pd\n",
    "from pandas.io import sql\n",
    "import sqlite3\n",
    "import numpy as np\n",
    "import matplotlib.pyplot as plt\n",
    "import seaborn as sns\n",
    " \n",
    "plt.style.use('ggplot')\n",
    "%config InlineBackend.figure_format = 'retina'\n",
    "%matplotlib inline"
   ]
  },
  {
   "cell_type": "markdown",
   "metadata": {},
   "source": [
    "## Import dataset\n",
    "I then imported the dataset I created:"
   ]
  },
  {
   "cell_type": "code",
   "execution_count": 2,
   "metadata": {
    "ExecuteTime": {
     "end_time": "2021-04-22T10:29:42.202973Z",
     "start_time": "2021-04-22T10:29:28.724816Z"
    },
    "scrolled": false
   },
   "outputs": [
    {
     "name": "stdout",
     "output_type": "stream",
     "text": [
      "(2074393, 16)\n"
     ]
    },
    {
     "data": {
      "text/html": [
       "<div>\n",
       "<style scoped>\n",
       "    .dataframe tbody tr th:only-of-type {\n",
       "        vertical-align: middle;\n",
       "    }\n",
       "\n",
       "    .dataframe tbody tr th {\n",
       "        vertical-align: top;\n",
       "    }\n",
       "\n",
       "    .dataframe thead th {\n",
       "        text-align: right;\n",
       "    }\n",
       "</style>\n",
       "<table border=\"1\" class=\"dataframe\">\n",
       "  <thead>\n",
       "    <tr style=\"text-align: right;\">\n",
       "      <th></th>\n",
       "      <th>side_effect</th>\n",
       "      <th>category</th>\n",
       "      <th>gender</th>\n",
       "      <th>age</th>\n",
       "      <th>year</th>\n",
       "      <th>sender_type</th>\n",
       "      <th>is_consumer</th>\n",
       "      <th>is_hcp</th>\n",
       "      <th>severity</th>\n",
       "      <th>db_id</th>\n",
       "      <th>drug</th>\n",
       "      <th>target</th>\n",
       "      <th>drug_cat</th>\n",
       "      <th>condition</th>\n",
       "      <th>rating</th>\n",
       "      <th>n_reviews</th>\n",
       "    </tr>\n",
       "  </thead>\n",
       "  <tbody>\n",
       "    <tr>\n",
       "      <th>0</th>\n",
       "      <td>eosinophilia</td>\n",
       "      <td>blood</td>\n",
       "      <td>female</td>\n",
       "      <td>0.0</td>\n",
       "      <td>1991.0</td>\n",
       "      <td>indirect</td>\n",
       "      <td>n</td>\n",
       "      <td>y</td>\n",
       "      <td>s</td>\n",
       "      <td>DB00125</td>\n",
       "      <td>arginine</td>\n",
       "      <td>['Nitric oxide synthase, endothelial', 'Cation...</td>\n",
       "      <td>NaN</td>\n",
       "      <td>diagnosis and investigation, dietary supplemen...</td>\n",
       "      <td>9.4</td>\n",
       "      <td>5</td>\n",
       "    </tr>\n",
       "    <tr>\n",
       "      <th>1</th>\n",
       "      <td>chest discomfort</td>\n",
       "      <td>genrl</td>\n",
       "      <td>unknown</td>\n",
       "      <td>60.0</td>\n",
       "      <td>1994.0</td>\n",
       "      <td>direct</td>\n",
       "      <td>n</td>\n",
       "      <td>y</td>\n",
       "      <td>s</td>\n",
       "      <td>DB00125</td>\n",
       "      <td>arginine</td>\n",
       "      <td>['Nitric oxide synthase, endothelial', 'Cation...</td>\n",
       "      <td>NaN</td>\n",
       "      <td>diagnosis and investigation, dietary supplemen...</td>\n",
       "      <td>9.4</td>\n",
       "      <td>5</td>\n",
       "    </tr>\n",
       "    <tr>\n",
       "      <th>2</th>\n",
       "      <td>feeling abnormal</td>\n",
       "      <td>genrl</td>\n",
       "      <td>unknown</td>\n",
       "      <td>60.0</td>\n",
       "      <td>1994.0</td>\n",
       "      <td>direct</td>\n",
       "      <td>n</td>\n",
       "      <td>y</td>\n",
       "      <td>s</td>\n",
       "      <td>DB00125</td>\n",
       "      <td>arginine</td>\n",
       "      <td>['Nitric oxide synthase, endothelial', 'Cation...</td>\n",
       "      <td>NaN</td>\n",
       "      <td>diagnosis and investigation, dietary supplemen...</td>\n",
       "      <td>9.4</td>\n",
       "      <td>5</td>\n",
       "    </tr>\n",
       "    <tr>\n",
       "      <th>3</th>\n",
       "      <td>feeling hot</td>\n",
       "      <td>genrl</td>\n",
       "      <td>unknown</td>\n",
       "      <td>60.0</td>\n",
       "      <td>1994.0</td>\n",
       "      <td>direct</td>\n",
       "      <td>n</td>\n",
       "      <td>y</td>\n",
       "      <td>s</td>\n",
       "      <td>DB00125</td>\n",
       "      <td>arginine</td>\n",
       "      <td>['Nitric oxide synthase, endothelial', 'Cation...</td>\n",
       "      <td>NaN</td>\n",
       "      <td>diagnosis and investigation, dietary supplemen...</td>\n",
       "      <td>9.4</td>\n",
       "      <td>5</td>\n",
       "    </tr>\n",
       "    <tr>\n",
       "      <th>4</th>\n",
       "      <td>flushing</td>\n",
       "      <td>vasc</td>\n",
       "      <td>unknown</td>\n",
       "      <td>60.0</td>\n",
       "      <td>1994.0</td>\n",
       "      <td>direct</td>\n",
       "      <td>n</td>\n",
       "      <td>y</td>\n",
       "      <td>s</td>\n",
       "      <td>DB00125</td>\n",
       "      <td>arginine</td>\n",
       "      <td>['Nitric oxide synthase, endothelial', 'Cation...</td>\n",
       "      <td>NaN</td>\n",
       "      <td>diagnosis and investigation, dietary supplemen...</td>\n",
       "      <td>9.4</td>\n",
       "      <td>5</td>\n",
       "    </tr>\n",
       "  </tbody>\n",
       "</table>\n",
       "</div>"
      ],
      "text/plain": [
       "        side_effect category   gender   age    year sender_type is_consumer  \\\n",
       "0      eosinophilia    blood   female   0.0  1991.0    indirect           n   \n",
       "1  chest discomfort    genrl  unknown  60.0  1994.0      direct           n   \n",
       "2  feeling abnormal    genrl  unknown  60.0  1994.0      direct           n   \n",
       "3       feeling hot    genrl  unknown  60.0  1994.0      direct           n   \n",
       "4          flushing     vasc  unknown  60.0  1994.0      direct           n   \n",
       "\n",
       "  is_hcp severity    db_id      drug  \\\n",
       "0      y        s  DB00125  arginine   \n",
       "1      y        s  DB00125  arginine   \n",
       "2      y        s  DB00125  arginine   \n",
       "3      y        s  DB00125  arginine   \n",
       "4      y        s  DB00125  arginine   \n",
       "\n",
       "                                              target drug_cat  \\\n",
       "0  ['Nitric oxide synthase, endothelial', 'Cation...      NaN   \n",
       "1  ['Nitric oxide synthase, endothelial', 'Cation...      NaN   \n",
       "2  ['Nitric oxide synthase, endothelial', 'Cation...      NaN   \n",
       "3  ['Nitric oxide synthase, endothelial', 'Cation...      NaN   \n",
       "4  ['Nitric oxide synthase, endothelial', 'Cation...      NaN   \n",
       "\n",
       "                                           condition  rating  n_reviews  \n",
       "0  diagnosis and investigation, dietary supplemen...     9.4          5  \n",
       "1  diagnosis and investigation, dietary supplemen...     9.4          5  \n",
       "2  diagnosis and investigation, dietary supplemen...     9.4          5  \n",
       "3  diagnosis and investigation, dietary supplemen...     9.4          5  \n",
       "4  diagnosis and investigation, dietary supplemen...     9.4          5  "
      ]
     },
     "execution_count": 2,
     "metadata": {},
     "output_type": "execute_result"
    }
   ],
   "source": [
    "df = pd.read_csv(f'../df_final.csv')\n",
    "df.drop(columns = 'Unnamed: 0', inplace = True)\n",
    "print(df.shape)\n",
    "df.head()"
   ]
  },
  {
   "cell_type": "markdown",
   "metadata": {},
   "source": [
    "Before jumping into addressing the class imbalance, I first performed some feature engineering. \n",
    "\n",
    "# Feature engineering"
   ]
  },
  {
   "cell_type": "markdown",
   "metadata": {},
   "source": [
    "## Sample data set\n",
    "Due to limited computational power, I had to sample a portion of the entire dataset, while retaining the class distributions, to avoid killing the kernel."
   ]
  },
  {
   "cell_type": "code",
   "execution_count": 3,
   "metadata": {
    "ExecuteTime": {
     "end_time": "2021-04-22T10:29:42.439963Z",
     "start_time": "2021-04-22T10:29:42.207776Z"
    }
   },
   "outputs": [
    {
     "data": {
      "text/plain": [
       "s    1552733\n",
       "n     398000\n",
       "f     123660\n",
       "Name: severity, dtype: int64"
      ]
     },
     "execution_count": 3,
     "metadata": {},
     "output_type": "execute_result"
    }
   ],
   "source": [
    "df.severity.value_counts()"
   ]
  },
  {
   "cell_type": "code",
   "execution_count": 4,
   "metadata": {
    "ExecuteTime": {
     "end_time": "2021-04-22T10:29:44.552985Z",
     "start_time": "2021-04-22T10:29:42.455526Z"
    }
   },
   "outputs": [
    {
     "data": {
      "text/plain": [
       "(310547, 79600, 24732)"
      ]
     },
     "execution_count": 4,
     "metadata": {},
     "output_type": "execute_result"
    }
   ],
   "source": [
    "# subset into class 's'\n",
    "s = df[df.severity == 's'].copy()\n",
    "# sample 20% of class 's'\n",
    "sample_s = s.sample(frac = 0.2, random_state = 1)\n",
    "\n",
    "# same for class 'n'\n",
    "n = df[df.severity == 'n'].copy()\n",
    "sample_n = n.sample(frac = 0.2, random_state = 1)\n",
    "\n",
    "# and class 'f'\n",
    "f = df[df.severity == 'f'].copy()\n",
    "sample_f = f.sample(frac = 0.2, random_state = 1)\n",
    "\n",
    "# check lengths\n",
    "len(sample_s), len(sample_n), len(sample_f)"
   ]
  },
  {
   "cell_type": "code",
   "execution_count": 5,
   "metadata": {
    "ExecuteTime": {
     "end_time": "2021-04-22T10:29:44.797730Z",
     "start_time": "2021-04-22T10:29:44.557064Z"
    }
   },
   "outputs": [
    {
     "data": {
      "text/plain": [
       "s    310547\n",
       "n     79600\n",
       "f     24732\n",
       "Name: severity, dtype: int64"
      ]
     },
     "execution_count": 5,
     "metadata": {},
     "output_type": "execute_result"
    }
   ],
   "source": [
    "df_sampled = pd.concat([sample_f, sample_n, sample_s], axis = 0)\n",
    "df_sampled.severity.value_counts()"
   ]
  },
  {
   "cell_type": "code",
   "execution_count": 6,
   "metadata": {
    "ExecuteTime": {
     "end_time": "2021-04-22T10:29:45.264851Z",
     "start_time": "2021-04-22T10:29:44.801426Z"
    }
   },
   "outputs": [
    {
     "data": {
      "text/html": [
       "<div>\n",
       "<style scoped>\n",
       "    .dataframe tbody tr th:only-of-type {\n",
       "        vertical-align: middle;\n",
       "    }\n",
       "\n",
       "    .dataframe tbody tr th {\n",
       "        vertical-align: top;\n",
       "    }\n",
       "\n",
       "    .dataframe thead th {\n",
       "        text-align: right;\n",
       "    }\n",
       "</style>\n",
       "<table border=\"1\" class=\"dataframe\">\n",
       "  <thead>\n",
       "    <tr style=\"text-align: right;\">\n",
       "      <th></th>\n",
       "      <th>side_effect</th>\n",
       "      <th>category</th>\n",
       "      <th>gender</th>\n",
       "      <th>age</th>\n",
       "      <th>year</th>\n",
       "      <th>sender_type</th>\n",
       "      <th>is_consumer</th>\n",
       "      <th>is_hcp</th>\n",
       "      <th>severity</th>\n",
       "      <th>db_id</th>\n",
       "      <th>drug</th>\n",
       "      <th>target</th>\n",
       "      <th>drug_cat</th>\n",
       "      <th>condition</th>\n",
       "      <th>rating</th>\n",
       "      <th>n_reviews</th>\n",
       "    </tr>\n",
       "  </thead>\n",
       "  <tbody>\n",
       "    <tr>\n",
       "      <th>5</th>\n",
       "      <td>pain</td>\n",
       "      <td>genrl</td>\n",
       "      <td>unknown</td>\n",
       "      <td>60.0</td>\n",
       "      <td>1994.0</td>\n",
       "      <td>direct</td>\n",
       "      <td>n</td>\n",
       "      <td>y</td>\n",
       "      <td>s</td>\n",
       "      <td>DB00125</td>\n",
       "      <td>arginine</td>\n",
       "      <td>['Nitric oxide synthase, endothelial', 'Cation...</td>\n",
       "      <td>NaN</td>\n",
       "      <td>diagnosis and investigation, dietary supplemen...</td>\n",
       "      <td>9.4</td>\n",
       "      <td>5</td>\n",
       "    </tr>\n",
       "    <tr>\n",
       "      <th>7</th>\n",
       "      <td>hypersensitivity</td>\n",
       "      <td>immun</td>\n",
       "      <td>female</td>\n",
       "      <td>20.0</td>\n",
       "      <td>1991.0</td>\n",
       "      <td>direct</td>\n",
       "      <td>n</td>\n",
       "      <td>y</td>\n",
       "      <td>n</td>\n",
       "      <td>DB00125</td>\n",
       "      <td>arginine</td>\n",
       "      <td>['Nitric oxide synthase, endothelial', 'Cation...</td>\n",
       "      <td>NaN</td>\n",
       "      <td>diagnosis and investigation, dietary supplemen...</td>\n",
       "      <td>9.4</td>\n",
       "      <td>5</td>\n",
       "    </tr>\n",
       "    <tr>\n",
       "      <th>9</th>\n",
       "      <td>rash macular</td>\n",
       "      <td>skin</td>\n",
       "      <td>female</td>\n",
       "      <td>20.0</td>\n",
       "      <td>1991.0</td>\n",
       "      <td>direct</td>\n",
       "      <td>n</td>\n",
       "      <td>y</td>\n",
       "      <td>n</td>\n",
       "      <td>DB00125</td>\n",
       "      <td>arginine</td>\n",
       "      <td>['Nitric oxide synthase, endothelial', 'Cation...</td>\n",
       "      <td>NaN</td>\n",
       "      <td>diagnosis and investigation, dietary supplemen...</td>\n",
       "      <td>9.4</td>\n",
       "      <td>5</td>\n",
       "    </tr>\n",
       "    <tr>\n",
       "      <th>10</th>\n",
       "      <td>hypersensitivity</td>\n",
       "      <td>immun</td>\n",
       "      <td>female</td>\n",
       "      <td>20.0</td>\n",
       "      <td>1991.0</td>\n",
       "      <td>direct</td>\n",
       "      <td>n</td>\n",
       "      <td>y</td>\n",
       "      <td>n</td>\n",
       "      <td>DB00125</td>\n",
       "      <td>arginine</td>\n",
       "      <td>['Nitric oxide synthase, endothelial', 'Cation...</td>\n",
       "      <td>NaN</td>\n",
       "      <td>diagnosis and investigation, dietary supplemen...</td>\n",
       "      <td>9.4</td>\n",
       "      <td>5</td>\n",
       "    </tr>\n",
       "    <tr>\n",
       "      <th>15</th>\n",
       "      <td>rash erythematous</td>\n",
       "      <td>skin</td>\n",
       "      <td>male</td>\n",
       "      <td>40.0</td>\n",
       "      <td>1992.0</td>\n",
       "      <td>indirect</td>\n",
       "      <td>n</td>\n",
       "      <td>y</td>\n",
       "      <td>n</td>\n",
       "      <td>DB00125</td>\n",
       "      <td>arginine</td>\n",
       "      <td>['Nitric oxide synthase, endothelial', 'Cation...</td>\n",
       "      <td>NaN</td>\n",
       "      <td>diagnosis and investigation, dietary supplemen...</td>\n",
       "      <td>9.4</td>\n",
       "      <td>5</td>\n",
       "    </tr>\n",
       "  </tbody>\n",
       "</table>\n",
       "</div>"
      ],
      "text/plain": [
       "          side_effect category   gender   age    year sender_type is_consumer  \\\n",
       "5                pain    genrl  unknown  60.0  1994.0      direct           n   \n",
       "7    hypersensitivity    immun   female  20.0  1991.0      direct           n   \n",
       "9        rash macular     skin   female  20.0  1991.0      direct           n   \n",
       "10   hypersensitivity    immun   female  20.0  1991.0      direct           n   \n",
       "15  rash erythematous     skin     male  40.0  1992.0    indirect           n   \n",
       "\n",
       "   is_hcp severity    db_id      drug  \\\n",
       "5       y        s  DB00125  arginine   \n",
       "7       y        n  DB00125  arginine   \n",
       "9       y        n  DB00125  arginine   \n",
       "10      y        n  DB00125  arginine   \n",
       "15      y        n  DB00125  arginine   \n",
       "\n",
       "                                               target drug_cat  \\\n",
       "5   ['Nitric oxide synthase, endothelial', 'Cation...      NaN   \n",
       "7   ['Nitric oxide synthase, endothelial', 'Cation...      NaN   \n",
       "9   ['Nitric oxide synthase, endothelial', 'Cation...      NaN   \n",
       "10  ['Nitric oxide synthase, endothelial', 'Cation...      NaN   \n",
       "15  ['Nitric oxide synthase, endothelial', 'Cation...      NaN   \n",
       "\n",
       "                                            condition  rating  n_reviews  \n",
       "5   diagnosis and investigation, dietary supplemen...     9.4          5  \n",
       "7   diagnosis and investigation, dietary supplemen...     9.4          5  \n",
       "9   diagnosis and investigation, dietary supplemen...     9.4          5  \n",
       "10  diagnosis and investigation, dietary supplemen...     9.4          5  \n",
       "15  diagnosis and investigation, dietary supplemen...     9.4          5  "
      ]
     },
     "execution_count": 6,
     "metadata": {},
     "output_type": "execute_result"
    }
   ],
   "source": [
    "df_sampled.sort_index(inplace = True)\n",
    "df_sampled.head()"
   ]
  },
  {
   "cell_type": "code",
   "execution_count": 7,
   "metadata": {
    "ExecuteTime": {
     "end_time": "2021-04-22T10:29:45.271787Z",
     "start_time": "2021-04-22T10:29:45.268207Z"
    }
   },
   "outputs": [],
   "source": [
    "# df_sampled.to_csv('df_sampled_20.csv')"
   ]
  },
  {
   "cell_type": "code",
   "execution_count": 5,
   "metadata": {
    "ExecuteTime": {
     "end_time": "2021-04-28T13:18:59.490689Z",
     "start_time": "2021-04-28T13:18:56.935478Z"
    }
   },
   "outputs": [],
   "source": [
    "df_sampled = pd.read_csv('../df_sampled_20.csv')\n",
    "df_sampled.drop(columns = 'Unnamed: 0', inplace = True)"
   ]
  },
  {
   "cell_type": "code",
   "execution_count": 8,
   "metadata": {
    "ExecuteTime": {
     "end_time": "2021-04-22T10:29:45.284395Z",
     "start_time": "2021-04-22T10:29:45.278619Z"
    }
   },
   "outputs": [
    {
     "data": {
      "text/plain": [
       "((414879, 16), (2074393, 16))"
      ]
     },
     "execution_count": 8,
     "metadata": {},
     "output_type": "execute_result"
    }
   ],
   "source": [
    "df_sampled.shape, df.shape"
   ]
  },
  {
   "cell_type": "code",
   "execution_count": 6,
   "metadata": {
    "ExecuteTime": {
     "end_time": "2021-04-28T13:19:00.050188Z",
     "start_time": "2021-04-28T13:19:00.012504Z"
    }
   },
   "outputs": [
    {
     "data": {
      "text/html": [
       "<div>\n",
       "<style scoped>\n",
       "    .dataframe tbody tr th:only-of-type {\n",
       "        vertical-align: middle;\n",
       "    }\n",
       "\n",
       "    .dataframe tbody tr th {\n",
       "        vertical-align: top;\n",
       "    }\n",
       "\n",
       "    .dataframe thead th {\n",
       "        text-align: right;\n",
       "    }\n",
       "</style>\n",
       "<table border=\"1\" class=\"dataframe\">\n",
       "  <thead>\n",
       "    <tr style=\"text-align: right;\">\n",
       "      <th></th>\n",
       "      <th>side_effect</th>\n",
       "      <th>category</th>\n",
       "      <th>gender</th>\n",
       "      <th>age</th>\n",
       "      <th>year</th>\n",
       "      <th>sender_type</th>\n",
       "      <th>is_consumer</th>\n",
       "      <th>is_hcp</th>\n",
       "      <th>severity</th>\n",
       "      <th>db_id</th>\n",
       "      <th>drug</th>\n",
       "      <th>target</th>\n",
       "      <th>drug_cat</th>\n",
       "      <th>condition</th>\n",
       "      <th>rating</th>\n",
       "      <th>n_reviews</th>\n",
       "    </tr>\n",
       "  </thead>\n",
       "  <tbody>\n",
       "    <tr>\n",
       "      <th>0</th>\n",
       "      <td>pain</td>\n",
       "      <td>genrl</td>\n",
       "      <td>unknown</td>\n",
       "      <td>60.0</td>\n",
       "      <td>1994.0</td>\n",
       "      <td>direct</td>\n",
       "      <td>n</td>\n",
       "      <td>y</td>\n",
       "      <td>s</td>\n",
       "      <td>DB00125</td>\n",
       "      <td>arginine</td>\n",
       "      <td>['Nitric oxide synthase, endothelial', 'Cation...</td>\n",
       "      <td>NaN</td>\n",
       "      <td>diagnosis and investigation, dietary supplemen...</td>\n",
       "      <td>9.4</td>\n",
       "      <td>5</td>\n",
       "    </tr>\n",
       "    <tr>\n",
       "      <th>1</th>\n",
       "      <td>hypersensitivity</td>\n",
       "      <td>immun</td>\n",
       "      <td>female</td>\n",
       "      <td>20.0</td>\n",
       "      <td>1991.0</td>\n",
       "      <td>direct</td>\n",
       "      <td>n</td>\n",
       "      <td>y</td>\n",
       "      <td>n</td>\n",
       "      <td>DB00125</td>\n",
       "      <td>arginine</td>\n",
       "      <td>['Nitric oxide synthase, endothelial', 'Cation...</td>\n",
       "      <td>NaN</td>\n",
       "      <td>diagnosis and investigation, dietary supplemen...</td>\n",
       "      <td>9.4</td>\n",
       "      <td>5</td>\n",
       "    </tr>\n",
       "    <tr>\n",
       "      <th>2</th>\n",
       "      <td>rash macular</td>\n",
       "      <td>skin</td>\n",
       "      <td>female</td>\n",
       "      <td>20.0</td>\n",
       "      <td>1991.0</td>\n",
       "      <td>direct</td>\n",
       "      <td>n</td>\n",
       "      <td>y</td>\n",
       "      <td>n</td>\n",
       "      <td>DB00125</td>\n",
       "      <td>arginine</td>\n",
       "      <td>['Nitric oxide synthase, endothelial', 'Cation...</td>\n",
       "      <td>NaN</td>\n",
       "      <td>diagnosis and investigation, dietary supplemen...</td>\n",
       "      <td>9.4</td>\n",
       "      <td>5</td>\n",
       "    </tr>\n",
       "    <tr>\n",
       "      <th>3</th>\n",
       "      <td>hypersensitivity</td>\n",
       "      <td>immun</td>\n",
       "      <td>female</td>\n",
       "      <td>20.0</td>\n",
       "      <td>1991.0</td>\n",
       "      <td>direct</td>\n",
       "      <td>n</td>\n",
       "      <td>y</td>\n",
       "      <td>n</td>\n",
       "      <td>DB00125</td>\n",
       "      <td>arginine</td>\n",
       "      <td>['Nitric oxide synthase, endothelial', 'Cation...</td>\n",
       "      <td>NaN</td>\n",
       "      <td>diagnosis and investigation, dietary supplemen...</td>\n",
       "      <td>9.4</td>\n",
       "      <td>5</td>\n",
       "    </tr>\n",
       "    <tr>\n",
       "      <th>4</th>\n",
       "      <td>rash erythematous</td>\n",
       "      <td>skin</td>\n",
       "      <td>male</td>\n",
       "      <td>40.0</td>\n",
       "      <td>1992.0</td>\n",
       "      <td>indirect</td>\n",
       "      <td>n</td>\n",
       "      <td>y</td>\n",
       "      <td>n</td>\n",
       "      <td>DB00125</td>\n",
       "      <td>arginine</td>\n",
       "      <td>['Nitric oxide synthase, endothelial', 'Cation...</td>\n",
       "      <td>NaN</td>\n",
       "      <td>diagnosis and investigation, dietary supplemen...</td>\n",
       "      <td>9.4</td>\n",
       "      <td>5</td>\n",
       "    </tr>\n",
       "  </tbody>\n",
       "</table>\n",
       "</div>"
      ],
      "text/plain": [
       "         side_effect category   gender   age    year sender_type is_consumer  \\\n",
       "0               pain    genrl  unknown  60.0  1994.0      direct           n   \n",
       "1   hypersensitivity    immun   female  20.0  1991.0      direct           n   \n",
       "2       rash macular     skin   female  20.0  1991.0      direct           n   \n",
       "3   hypersensitivity    immun   female  20.0  1991.0      direct           n   \n",
       "4  rash erythematous     skin     male  40.0  1992.0    indirect           n   \n",
       "\n",
       "  is_hcp severity    db_id      drug  \\\n",
       "0      y        s  DB00125  arginine   \n",
       "1      y        n  DB00125  arginine   \n",
       "2      y        n  DB00125  arginine   \n",
       "3      y        n  DB00125  arginine   \n",
       "4      y        n  DB00125  arginine   \n",
       "\n",
       "                                              target drug_cat  \\\n",
       "0  ['Nitric oxide synthase, endothelial', 'Cation...      NaN   \n",
       "1  ['Nitric oxide synthase, endothelial', 'Cation...      NaN   \n",
       "2  ['Nitric oxide synthase, endothelial', 'Cation...      NaN   \n",
       "3  ['Nitric oxide synthase, endothelial', 'Cation...      NaN   \n",
       "4  ['Nitric oxide synthase, endothelial', 'Cation...      NaN   \n",
       "\n",
       "                                           condition  rating  n_reviews  \n",
       "0  diagnosis and investigation, dietary supplemen...     9.4          5  \n",
       "1  diagnosis and investigation, dietary supplemen...     9.4          5  \n",
       "2  diagnosis and investigation, dietary supplemen...     9.4          5  \n",
       "3  diagnosis and investigation, dietary supplemen...     9.4          5  \n",
       "4  diagnosis and investigation, dietary supplemen...     9.4          5  "
      ]
     },
     "execution_count": 6,
     "metadata": {},
     "output_type": "execute_result"
    }
   ],
   "source": [
    "df_sampled.head()"
   ]
  },
  {
   "cell_type": "markdown",
   "metadata": {},
   "source": [
    "## Separate out target variable from predicting variables\n",
    "First, I divided the data set into `X` (predicting variables) and `y` (target variable, `severity`)."
   ]
  },
  {
   "cell_type": "code",
   "execution_count": 7,
   "metadata": {
    "ExecuteTime": {
     "end_time": "2021-04-28T13:19:05.091821Z",
     "start_time": "2021-04-28T13:19:04.991299Z"
    }
   },
   "outputs": [],
   "source": [
    "X = df_sampled.copy()\n",
    "y = X.pop('severity')"
   ]
  },
  {
   "cell_type": "code",
   "execution_count": 10,
   "metadata": {
    "ExecuteTime": {
     "end_time": "2021-04-22T10:29:45.337534Z",
     "start_time": "2021-04-22T10:29:45.330539Z"
    }
   },
   "outputs": [
    {
     "data": {
      "text/plain": [
       "Index(['side_effect', 'category', 'gender', 'age', 'year', 'sender_type',\n",
       "       'is_consumer', 'is_hcp', 'db_id', 'drug', 'target', 'drug_cat',\n",
       "       'condition', 'rating', 'n_reviews'],\n",
       "      dtype='object')"
      ]
     },
     "execution_count": 10,
     "metadata": {},
     "output_type": "execute_result"
    }
   ],
   "source": [
    "# columns in X data frame\n",
    "X.columns"
   ]
  },
  {
   "cell_type": "markdown",
   "metadata": {},
   "source": [
    "## Data Cleaning\n",
    "### Drop db_id column\n",
    "I dropped the Drugbank ID column as it is not needed for modelling."
   ]
  },
  {
   "cell_type": "code",
   "execution_count": 8,
   "metadata": {
    "ExecuteTime": {
     "end_time": "2021-04-28T13:19:08.252910Z",
     "start_time": "2021-04-28T13:19:08.128006Z"
    }
   },
   "outputs": [],
   "source": [
    "X.drop(columns = 'db_id', inplace = True)"
   ]
  },
  {
   "cell_type": "markdown",
   "metadata": {},
   "source": [
    "### Fill null values with string 'na'\n",
    "I filled null values with a string of 'na' to consider them as a separate category once I dummified the necessary columns."
   ]
  },
  {
   "cell_type": "code",
   "execution_count": 9,
   "metadata": {
    "ExecuteTime": {
     "end_time": "2021-04-28T13:19:09.870535Z",
     "start_time": "2021-04-28T13:19:08.983090Z"
    }
   },
   "outputs": [
    {
     "data": {
      "text/plain": [
       "side_effect    0\n",
       "category       0\n",
       "gender         0\n",
       "age            0\n",
       "year           0\n",
       "sender_type    0\n",
       "is_consumer    0\n",
       "is_hcp         0\n",
       "drug           0\n",
       "target         0\n",
       "drug_cat       0\n",
       "condition      0\n",
       "rating         0\n",
       "n_reviews      0\n",
       "dtype: int64"
      ]
     },
     "execution_count": 9,
     "metadata": {},
     "output_type": "execute_result"
    }
   ],
   "source": [
    "X.fillna('na', inplace = True)\n",
    "X.isnull().sum()"
   ]
  },
  {
   "cell_type": "markdown",
   "metadata": {},
   "source": [
    "##### Overview"
   ]
  },
  {
   "cell_type": "code",
   "execution_count": 13,
   "metadata": {
    "ExecuteTime": {
     "end_time": "2021-04-22T10:29:46.402518Z",
     "start_time": "2021-04-22T10:29:45.997365Z"
    }
   },
   "outputs": [
    {
     "name": "stdout",
     "output_type": "stream",
     "text": [
      "<class 'pandas.core.frame.DataFrame'>\n",
      "Int64Index: 414879 entries, 5 to 2074392\n",
      "Data columns (total 14 columns):\n",
      " #   Column       Non-Null Count   Dtype  \n",
      "---  ------       --------------   -----  \n",
      " 0   side_effect  414879 non-null  object \n",
      " 1   category     414879 non-null  object \n",
      " 2   gender       414879 non-null  object \n",
      " 3   age          414879 non-null  float64\n",
      " 4   year         414879 non-null  float64\n",
      " 5   sender_type  414879 non-null  object \n",
      " 6   is_consumer  414879 non-null  object \n",
      " 7   is_hcp       414879 non-null  object \n",
      " 8   drug         414879 non-null  object \n",
      " 9   target       414879 non-null  object \n",
      " 10  drug_cat     414879 non-null  object \n",
      " 11  condition    414879 non-null  object \n",
      " 12  rating       414879 non-null  float64\n",
      " 13  n_reviews    414879 non-null  int64  \n",
      "dtypes: float64(3), int64(1), object(10)\n",
      "memory usage: 47.5+ MB\n"
     ]
    }
   ],
   "source": [
    "X.info()"
   ]
  },
  {
   "cell_type": "code",
   "execution_count": 14,
   "metadata": {
    "ExecuteTime": {
     "end_time": "2021-04-22T10:29:46.508200Z",
     "start_time": "2021-04-22T10:29:46.408155Z"
    }
   },
   "outputs": [
    {
     "data": {
      "text/html": [
       "<div>\n",
       "<style scoped>\n",
       "    .dataframe tbody tr th:only-of-type {\n",
       "        vertical-align: middle;\n",
       "    }\n",
       "\n",
       "    .dataframe tbody tr th {\n",
       "        vertical-align: top;\n",
       "    }\n",
       "\n",
       "    .dataframe thead th {\n",
       "        text-align: right;\n",
       "    }\n",
       "</style>\n",
       "<table border=\"1\" class=\"dataframe\">\n",
       "  <thead>\n",
       "    <tr style=\"text-align: right;\">\n",
       "      <th></th>\n",
       "      <th>age</th>\n",
       "      <th>year</th>\n",
       "      <th>rating</th>\n",
       "      <th>n_reviews</th>\n",
       "    </tr>\n",
       "  </thead>\n",
       "  <tbody>\n",
       "    <tr>\n",
       "      <th>count</th>\n",
       "      <td>414879.000000</td>\n",
       "      <td>414879.000000</td>\n",
       "      <td>414879.000000</td>\n",
       "      <td>414879.000000</td>\n",
       "    </tr>\n",
       "    <tr>\n",
       "      <th>mean</th>\n",
       "      <td>48.298878</td>\n",
       "      <td>2006.125596</td>\n",
       "      <td>7.204289</td>\n",
       "      <td>962.753658</td>\n",
       "    </tr>\n",
       "    <tr>\n",
       "      <th>std</th>\n",
       "      <td>19.650410</td>\n",
       "      <td>12.412804</td>\n",
       "      <td>1.318007</td>\n",
       "      <td>2699.863269</td>\n",
       "    </tr>\n",
       "    <tr>\n",
       "      <th>min</th>\n",
       "      <td>0.000000</td>\n",
       "      <td>1963.000000</td>\n",
       "      <td>1.000000</td>\n",
       "      <td>1.000000</td>\n",
       "    </tr>\n",
       "    <tr>\n",
       "      <th>25%</th>\n",
       "      <td>30.000000</td>\n",
       "      <td>1999.000000</td>\n",
       "      <td>6.357798</td>\n",
       "      <td>35.000000</td>\n",
       "    </tr>\n",
       "    <tr>\n",
       "      <th>50%</th>\n",
       "      <td>50.000000</td>\n",
       "      <td>2010.000000</td>\n",
       "      <td>7.270929</td>\n",
       "      <td>176.000000</td>\n",
       "    </tr>\n",
       "    <tr>\n",
       "      <th>75%</th>\n",
       "      <td>60.000000</td>\n",
       "      <td>2016.000000</td>\n",
       "      <td>8.146479</td>\n",
       "      <td>758.000000</td>\n",
       "    </tr>\n",
       "    <tr>\n",
       "      <th>max</th>\n",
       "      <td>100.000000</td>\n",
       "      <td>2020.000000</td>\n",
       "      <td>10.000000</td>\n",
       "      <td>20980.000000</td>\n",
       "    </tr>\n",
       "  </tbody>\n",
       "</table>\n",
       "</div>"
      ],
      "text/plain": [
       "                 age           year         rating      n_reviews\n",
       "count  414879.000000  414879.000000  414879.000000  414879.000000\n",
       "mean       48.298878    2006.125596       7.204289     962.753658\n",
       "std        19.650410      12.412804       1.318007    2699.863269\n",
       "min         0.000000    1963.000000       1.000000       1.000000\n",
       "25%        30.000000    1999.000000       6.357798      35.000000\n",
       "50%        50.000000    2010.000000       7.270929     176.000000\n",
       "75%        60.000000    2016.000000       8.146479     758.000000\n",
       "max       100.000000    2020.000000      10.000000   20980.000000"
      ]
     },
     "execution_count": 14,
     "metadata": {},
     "output_type": "execute_result"
    }
   ],
   "source": [
    "X.describe()"
   ]
  },
  {
   "cell_type": "code",
   "execution_count": 15,
   "metadata": {
    "ExecuteTime": {
     "end_time": "2021-04-22T10:29:46.610944Z",
     "start_time": "2021-04-22T10:29:46.512266Z"
    }
   },
   "outputs": [
    {
     "data": {
      "text/plain": [
       "rash         8609\n",
       "nausea       7957\n",
       "headache     7430\n",
       "dizziness    6730\n",
       "diarrhoea    5967\n",
       "vomiting     5762\n",
       "pruritus     4966\n",
       "dyspnoea     4763\n",
       "malaise      4743\n",
       "urticaria    4161\n",
       "Name: side_effect, dtype: int64"
      ]
     },
     "execution_count": 15,
     "metadata": {},
     "output_type": "execute_result"
    }
   ],
   "source": [
    "X.side_effect.value_counts().head(10)"
   ]
  },
  {
   "cell_type": "code",
   "execution_count": 16,
   "metadata": {
    "ExecuteTime": {
     "end_time": "2021-04-22T10:29:46.693754Z",
     "start_time": "2021-04-22T10:29:46.613625Z"
    }
   },
   "outputs": [
    {
     "data": {
      "text/plain": [
       "clozapine           25141\n",
       "paroxetine           7213\n",
       "varenicline          5358\n",
       "fluoxetine           4393\n",
       "ethinylestradiol     4349\n",
       "paracetamol          4310\n",
       "etanercept           4278\n",
       "bupropion            4233\n",
       "amoxycillin          4227\n",
       "adalimumab           4159\n",
       "Name: drug, dtype: int64"
      ]
     },
     "execution_count": 16,
     "metadata": {},
     "output_type": "execute_result"
    }
   ],
   "source": [
    "X.drug.value_counts().head(10)"
   ]
  },
  {
   "cell_type": "markdown",
   "metadata": {},
   "source": [
    "## Train-test split\n",
    "I performed train-test split at 80/20 split, and included the argument `stratify = y` to retain class distribution in both training and test sets."
   ]
  },
  {
   "cell_type": "code",
   "execution_count": 10,
   "metadata": {
    "ExecuteTime": {
     "end_time": "2021-04-28T13:19:15.177867Z",
     "start_time": "2021-04-28T13:19:13.585190Z"
    }
   },
   "outputs": [
    {
     "name": "stdout",
     "output_type": "stream",
     "text": [
      "(331903, 14) (331903,)\n",
      "(82976, 14) (82976,)\n"
     ]
    }
   ],
   "source": [
    "# train test split\n",
    "from sklearn.model_selection import train_test_split, cross_val_score\n",
    "\n",
    "X_train, X_test, y_train, y_test = train_test_split(\n",
    "    X, y, test_size = 0.2, stratify = y, random_state = 1)\n",
    "\n",
    "print(X_train.shape, y_train.shape)\n",
    "print(X_test.shape, y_test.shape)"
   ]
  },
  {
   "cell_type": "code",
   "execution_count": 11,
   "metadata": {
    "ExecuteTime": {
     "end_time": "2021-04-28T13:19:20.556287Z",
     "start_time": "2021-04-28T13:19:20.532350Z"
    }
   },
   "outputs": [
    {
     "data": {
      "text/html": [
       "<div>\n",
       "<style scoped>\n",
       "    .dataframe tbody tr th:only-of-type {\n",
       "        vertical-align: middle;\n",
       "    }\n",
       "\n",
       "    .dataframe tbody tr th {\n",
       "        vertical-align: top;\n",
       "    }\n",
       "\n",
       "    .dataframe thead th {\n",
       "        text-align: right;\n",
       "    }\n",
       "</style>\n",
       "<table border=\"1\" class=\"dataframe\">\n",
       "  <thead>\n",
       "    <tr style=\"text-align: right;\">\n",
       "      <th></th>\n",
       "      <th>side_effect</th>\n",
       "      <th>category</th>\n",
       "      <th>gender</th>\n",
       "      <th>age</th>\n",
       "      <th>year</th>\n",
       "      <th>sender_type</th>\n",
       "      <th>is_consumer</th>\n",
       "      <th>is_hcp</th>\n",
       "      <th>drug</th>\n",
       "      <th>target</th>\n",
       "      <th>drug_cat</th>\n",
       "      <th>condition</th>\n",
       "      <th>rating</th>\n",
       "      <th>n_reviews</th>\n",
       "    </tr>\n",
       "  </thead>\n",
       "  <tbody>\n",
       "    <tr>\n",
       "      <th>45461</th>\n",
       "      <td>cyanosis</td>\n",
       "      <td>vasc</td>\n",
       "      <td>female</td>\n",
       "      <td>60.0</td>\n",
       "      <td>2017.0</td>\n",
       "      <td>direct</td>\n",
       "      <td>n</td>\n",
       "      <td>y</td>\n",
       "      <td>hydrocortisone</td>\n",
       "      <td>['Glucocorticoid receptor', 'Annexin A1']</td>\n",
       "      <td>68:04.00 — Adrenals</td>\n",
       "      <td>acne, dermatitis, pruritus, hemorrhoids, psori...</td>\n",
       "      <td>7.753846</td>\n",
       "      <td>130</td>\n",
       "    </tr>\n",
       "    <tr>\n",
       "      <th>316836</th>\n",
       "      <td>angioedema</td>\n",
       "      <td>skin</td>\n",
       "      <td>female</td>\n",
       "      <td>40.0</td>\n",
       "      <td>2018.0</td>\n",
       "      <td>indirect</td>\n",
       "      <td>y</td>\n",
       "      <td>n</td>\n",
       "      <td>ascorbic acid</td>\n",
       "      <td>['Hyaluronate lyase', 'DNA', 'Xylose isomerase...</td>\n",
       "      <td>88:12.00 — Vitamin C</td>\n",
       "      <td>dietary supplementation</td>\n",
       "      <td>7.750000</td>\n",
       "      <td>4</td>\n",
       "    </tr>\n",
       "    <tr>\n",
       "      <th>75702</th>\n",
       "      <td>somnolence</td>\n",
       "      <td>nerv</td>\n",
       "      <td>male</td>\n",
       "      <td>60.0</td>\n",
       "      <td>1987.0</td>\n",
       "      <td>direct</td>\n",
       "      <td>n</td>\n",
       "      <td>y</td>\n",
       "      <td>fluvoxamine</td>\n",
       "      <td>['Sodium-dependent serotonin transporter', 'Po...</td>\n",
       "      <td>28:16.04.20 — Selective-serotonin Reuptake Inh...</td>\n",
       "      <td>social anxiety disorder, anxiety and stress, o...</td>\n",
       "      <td>7.177966</td>\n",
       "      <td>236</td>\n",
       "    </tr>\n",
       "    <tr>\n",
       "      <th>337884</th>\n",
       "      <td>uterine hyperstimulation</td>\n",
       "      <td>preg</td>\n",
       "      <td>female</td>\n",
       "      <td>60.0</td>\n",
       "      <td>2009.0</td>\n",
       "      <td>indirect</td>\n",
       "      <td>n</td>\n",
       "      <td>y</td>\n",
       "      <td>dinoprostone</td>\n",
       "      <td>['Prostaglandin E2 receptor EP2 subtype', 'Pro...</td>\n",
       "      <td>na</td>\n",
       "      <td>labor induction</td>\n",
       "      <td>3.800000</td>\n",
       "      <td>10</td>\n",
       "    </tr>\n",
       "    <tr>\n",
       "      <th>173043</th>\n",
       "      <td>illness</td>\n",
       "      <td>genrl</td>\n",
       "      <td>female</td>\n",
       "      <td>60.0</td>\n",
       "      <td>2012.0</td>\n",
       "      <td>indirect</td>\n",
       "      <td>y</td>\n",
       "      <td>n</td>\n",
       "      <td>doxorubicin</td>\n",
       "      <td>['DNA', 'DNA topoisomerase 2-alpha', 'Nucleola...</td>\n",
       "      <td>10:00.00 — Antineoplastic Agents</td>\n",
       "      <td>breast cancer, lymphoma, cancer</td>\n",
       "      <td>8.000000</td>\n",
       "      <td>7</td>\n",
       "    </tr>\n",
       "  </tbody>\n",
       "</table>\n",
       "</div>"
      ],
      "text/plain": [
       "                     side_effect category  gender   age    year sender_type  \\\n",
       "45461                   cyanosis     vasc  female  60.0  2017.0      direct   \n",
       "316836                angioedema     skin  female  40.0  2018.0    indirect   \n",
       "75702                 somnolence     nerv    male  60.0  1987.0      direct   \n",
       "337884  uterine hyperstimulation     preg  female  60.0  2009.0    indirect   \n",
       "173043                   illness    genrl  female  60.0  2012.0    indirect   \n",
       "\n",
       "       is_consumer is_hcp            drug  \\\n",
       "45461            n      y  hydrocortisone   \n",
       "316836           y      n   ascorbic acid   \n",
       "75702            n      y     fluvoxamine   \n",
       "337884           n      y    dinoprostone   \n",
       "173043           y      n     doxorubicin   \n",
       "\n",
       "                                                   target  \\\n",
       "45461           ['Glucocorticoid receptor', 'Annexin A1']   \n",
       "316836  ['Hyaluronate lyase', 'DNA', 'Xylose isomerase...   \n",
       "75702   ['Sodium-dependent serotonin transporter', 'Po...   \n",
       "337884  ['Prostaglandin E2 receptor EP2 subtype', 'Pro...   \n",
       "173043  ['DNA', 'DNA topoisomerase 2-alpha', 'Nucleola...   \n",
       "\n",
       "                                                 drug_cat  \\\n",
       "45461                                 68:04.00 — Adrenals   \n",
       "316836                               88:12.00 — Vitamin C   \n",
       "75702   28:16.04.20 — Selective-serotonin Reuptake Inh...   \n",
       "337884                                                 na   \n",
       "173043                   10:00.00 — Antineoplastic Agents   \n",
       "\n",
       "                                                condition    rating  n_reviews  \n",
       "45461   acne, dermatitis, pruritus, hemorrhoids, psori...  7.753846        130  \n",
       "316836                            dietary supplementation  7.750000          4  \n",
       "75702   social anxiety disorder, anxiety and stress, o...  7.177966        236  \n",
       "337884                                    labor induction  3.800000         10  \n",
       "173043                    breast cancer, lymphoma, cancer  8.000000          7  "
      ]
     },
     "execution_count": 11,
     "metadata": {},
     "output_type": "execute_result"
    }
   ],
   "source": [
    "X_train.head()"
   ]
  },
  {
   "cell_type": "code",
   "execution_count": 12,
   "metadata": {
    "ExecuteTime": {
     "end_time": "2021-04-28T13:19:22.571802Z",
     "start_time": "2021-04-28T13:19:22.560791Z"
    }
   },
   "outputs": [
    {
     "data": {
      "text/plain": [
       "45461     s\n",
       "316836    s\n",
       "75702     n\n",
       "337884    s\n",
       "173043    s\n",
       "Name: severity, dtype: object"
      ]
     },
     "execution_count": 12,
     "metadata": {},
     "output_type": "execute_result"
    }
   ],
   "source": [
    "y_train.head()"
   ]
  },
  {
   "cell_type": "markdown",
   "metadata": {},
   "source": [
    "## Column Transformer - categorical and text columns\n",
    "`ColumnTransformer` allows converting different columns using different methods in one process. After trial and error, I decided the following:\n",
    "\n",
    "##### Text columns:\n",
    "- Create a custom stopword list for NLP, which contain words that appeared top when trialling but appear meaningless, e.g. 'like'.\n",
    "- For `condition` column, `CountVectorizer` with `ngram_range` set to 2 words, with custom stopword list.\n",
    "- For `side_effect` column, `CountVectorizer` with `ngram_range` set to 2 words, with custom stopword list.\n",
    "- For `target` column, `CountVectorizer` with `ngram_range` set to 2 to 3 words, with custom stopword list.\n",
    "\n",
    "##### Categorical columns:\n",
    "- For all other categorical columns, use `OneHotEncoder`.\n",
    "\n",
    "These are all incorporated into a `Pipeline` in the next steps."
   ]
  },
  {
   "cell_type": "code",
   "execution_count": 13,
   "metadata": {
    "ExecuteTime": {
     "end_time": "2021-04-28T13:19:40.053150Z",
     "start_time": "2021-04-28T13:19:39.999187Z"
    }
   },
   "outputs": [],
   "source": [
    "from sklearn.feature_extraction.text import CountVectorizer, TfidfVectorizer\n",
    "from sklearn.preprocessing import OneHotEncoder, MinMaxScaler\n",
    "from sklearn.compose import ColumnTransformer"
   ]
  },
  {
   "cell_type": "code",
   "execution_count": 29,
   "metadata": {
    "ExecuteTime": {
     "end_time": "2021-04-28T13:24:53.754331Z",
     "start_time": "2021-04-28T13:24:53.739907Z"
    }
   },
   "outputs": [],
   "source": [
    "# make custom stopwords list for cvec and tvec\n",
    "# appeared top when trialing but meaningless\n",
    "cvec = CountVectorizer(stop_words = 'english')\n",
    "stopwords = list(cvec.get_stop_words())\n",
    "stopwords.extend(['nan', 'listed', 'othe', 've', 'mg', 'like',\n",
    "                  'just', 'did', 'don', 'receptor'])\n",
    "\n",
    "# create count vectorizer for condition column\n",
    "cvec_condition = CountVectorizer(stop_words = stopwords,\n",
    "                       max_features = 10000,\n",
    "                       strip_accents = 'unicode',\n",
    "                       lowercase = True,\n",
    "                       decode_error = 'replace',\n",
    "                       ngram_range = (2, 2),\n",
    "                       min_df = 0.02)\n",
    "\n",
    "# create count vectorizer for side_effect column\n",
    "cvec_se = CountVectorizer(stop_words = stopwords,\n",
    "                       max_features = 10000,\n",
    "                       strip_accents = 'unicode',\n",
    "                       lowercase = True,\n",
    "                       decode_error = 'replace',\n",
    "                       ngram_range = (2, 2),\n",
    "                       min_df = 0.008)\n",
    "\n",
    "# create count vectorizer for target column\n",
    "cvec_target = CountVectorizer(stop_words = stopwords,\n",
    "                       max_features = 10000,\n",
    "                       strip_accents = 'unicode',\n",
    "                       lowercase = True,\n",
    "                       decode_error = 'replace',\n",
    "                       ngram_range = (2, 3),\n",
    "                       min_df = 0.008)\n",
    "\n",
    "# create onehotencoder for all categorical columns\n",
    "one_hot = OneHotEncoder(sparse=False, handle_unknown='ignore')"
   ]
  },
  {
   "cell_type": "code",
   "execution_count": 22,
   "metadata": {
    "ExecuteTime": {
     "end_time": "2021-04-22T10:29:48.481269Z",
     "start_time": "2021-04-22T10:29:48.471387Z"
    }
   },
   "outputs": [],
   "source": [
    "# # create tfidf vectorizer for review column\n",
    "# tvec_review = TfidfVectorizer(stop_words = stopwords,\n",
    "#                        max_features = 10000,\n",
    "#                        norm = 'l2', \n",
    "#                        strip_accents = 'unicode',\n",
    "#                        lowercase = True,\n",
    "#                        decode_error = 'replace',\n",
    "#                        ngram_range = (2, 2),\n",
    "#                        min_df = 0.4,\n",
    "#                        max_df = 0.9)"
   ]
  },
  {
   "cell_type": "code",
   "execution_count": 16,
   "metadata": {
    "ExecuteTime": {
     "end_time": "2021-04-28T13:19:59.542957Z",
     "start_time": "2021-04-28T13:19:59.538734Z"
    }
   },
   "outputs": [],
   "source": [
    "cats = ['category', 'gender', 'age', 'sender_type', 'is_consumer', 'is_hcp', 'drug', 'drug_cat']\n",
    "texts = ['side_effect', 'target', 'condition'] #'review'\n",
    "nums = ['year', 'rating', 'n_reviews']"
   ]
  },
  {
   "cell_type": "code",
   "execution_count": 30,
   "metadata": {
    "ExecuteTime": {
     "end_time": "2021-04-28T13:24:58.087489Z",
     "start_time": "2021-04-28T13:24:58.083325Z"
    }
   },
   "outputs": [],
   "source": [
    "# create column transformer\n",
    "col_trans = ColumnTransformer([('categories', one_hot, cats),\n",
    "                               ('side_effects', cvec_se, 'side_effect'),\n",
    "                               ('conditions', cvec_condition, 'condition'),\n",
    "                               ('targets', cvec_target, 'target')\n",
    "                               #('reviews', tvec_review, 'review')\n",
    "                              ],\n",
    "                              remainder = 'passthrough',\n",
    "                              sparse_threshold = 0)"
   ]
  },
  {
   "cell_type": "markdown",
   "metadata": {},
   "source": [
    "## MinMaxScaler - numerical columns\n",
    "I scaled the numerical columns and the vectorized text columns using `MinMaxScaler`, so that they fall between the range of 0 and 1. This way, the 0s and 1s from the dummified categorical columns are retained."
   ]
  },
  {
   "cell_type": "code",
   "execution_count": 18,
   "metadata": {
    "ExecuteTime": {
     "end_time": "2021-04-28T13:20:02.278437Z",
     "start_time": "2021-04-28T13:20:02.275461Z"
    }
   },
   "outputs": [],
   "source": [
    "# create scaler \n",
    "scaler = MinMaxScaler()"
   ]
  },
  {
   "cell_type": "markdown",
   "metadata": {},
   "source": [
    "# Class imbalance\n",
    "The target variable is heavily skewed, with about 75% belonging to the class 'severe' side effects, and only 0.05% 'fatal' side effects."
   ]
  },
  {
   "cell_type": "code",
   "execution_count": 26,
   "metadata": {
    "ExecuteTime": {
     "end_time": "2021-04-22T10:29:51.294680Z",
     "start_time": "2021-04-22T10:29:48.591842Z"
    }
   },
   "outputs": [
    {
     "data": {
      "image/png": "[encoded data removed]",
      "text/plain": [
       "<Figure size 720x360 with 1 Axes>"
      ]
     },
     "metadata": {
      "image/png": {
       "height": 329,
       "width": 611
      },
      "needs_background": "light"
     },
     "output_type": "display_data"
    }
   ],
   "source": [
    "# target variable\n",
    "f, ax = plt.subplots(figsize=(10, 5))\n",
    "sns.histplot(df.severity, ax = ax, color = 'steelblue');"
   ]
  },
  {
   "cell_type": "code",
   "execution_count": 27,
   "metadata": {
    "ExecuteTime": {
     "end_time": "2021-04-22T10:29:51.508272Z",
     "start_time": "2021-04-22T10:29:51.298501Z"
    }
   },
   "outputs": [
    {
     "data": {
      "text/plain": [
       "s    0.748524\n",
       "n    0.191863\n",
       "f    0.059613\n",
       "Name: severity, dtype: float64"
      ]
     },
     "execution_count": 27,
     "metadata": {},
     "output_type": "execute_result"
    }
   ],
   "source": [
    "df.severity.value_counts(normalize = True)"
   ]
  },
  {
   "cell_type": "markdown",
   "metadata": {},
   "source": [
    "## Attempt 1 - under-sample classes 's' and 'n'\n",
    "In order to train my models in a way that does not favour the majority class, I have to address the imbalanced classes.\n",
    "\n",
    "Initially, I decided to under-sample the majority class of the training set (class 's') to match the minority class, after performing train-test split at a 70%/30% split.\n",
    "\n",
    "However, as the minority class only accounts for 0.05%, the final training set has fewer data points than the test set. Therefore, my model was not trained properly to obtain significant results."
   ]
  },
  {
   "cell_type": "code",
   "execution_count": 19,
   "metadata": {
    "ExecuteTime": {
     "end_time": "2021-04-28T13:20:08.685851Z",
     "start_time": "2021-04-28T13:20:08.615707Z"
    }
   },
   "outputs": [
    {
     "data": {
      "text/plain": [
       "s    248437\n",
       "n     63680\n",
       "f     19786\n",
       "Name: severity, dtype: int64"
      ]
     },
     "execution_count": 19,
     "metadata": {},
     "output_type": "execute_result"
    }
   ],
   "source": [
    "y_train.value_counts()"
   ]
  },
  {
   "cell_type": "code",
   "execution_count": 20,
   "metadata": {
    "ExecuteTime": {
     "end_time": "2021-04-28T13:20:10.059857Z",
     "start_time": "2021-04-28T13:20:10.035395Z"
    }
   },
   "outputs": [
    {
     "data": {
      "text/plain": [
       "s    62110\n",
       "n    15920\n",
       "f     4946\n",
       "Name: severity, dtype: int64"
      ]
     },
     "execution_count": 20,
     "metadata": {},
     "output_type": "execute_result"
    }
   ],
   "source": [
    "y_test.value_counts()"
   ]
  },
  {
   "cell_type": "code",
   "execution_count": 30,
   "metadata": {
    "ExecuteTime": {
     "end_time": "2021-04-22T10:29:51.578439Z",
     "start_time": "2021-04-22T10:29:51.573078Z"
    }
   },
   "outputs": [
    {
     "name": "stdout",
     "output_type": "stream",
     "text": [
      "Class s training set: 12421.85\n"
     ]
    }
   ],
   "source": [
    "# train set * under-sampled\n",
    "print('Class s training set:', 248437 * 0.05)"
   ]
  },
  {
   "cell_type": "markdown",
   "metadata": {
    "ExecuteTime": {
     "end_time": "2021-04-21T10:18:50.577448Z",
     "start_time": "2021-04-21T10:18:50.570743Z"
    }
   },
   "source": [
    "## Attempt 2 - Combining under-sampling and SMOTE\n",
    "My approach is to:\n",
    "1. Train-test split\n",
    "2. For training set:\n",
    "    - Under-sample majority class (class 's') using `RandomUnderSampler`\n",
    "    - Over-sample the other two classes ('n' and 'f') using `SMOTE` (Synthetic Minority Over-sampling Technique)."
   ]
  },
  {
   "cell_type": "markdown",
   "metadata": {},
   "source": [
    "### SMOTE - over-sample class 'f'\n",
    "I first over-sampled class 'f' to 10% of the majority class."
   ]
  },
  {
   "cell_type": "code",
   "execution_count": 21,
   "metadata": {
    "ExecuteTime": {
     "end_time": "2021-04-28T13:20:18.374525Z",
     "start_time": "2021-04-28T13:20:17.879893Z"
    }
   },
   "outputs": [],
   "source": [
    "from imblearn.over_sampling import SMOTE\n",
    "\n",
    "over = SMOTE(sampling_strategy = {'f': 24844}, random_state = 1)"
   ]
  },
  {
   "cell_type": "markdown",
   "metadata": {},
   "source": [
    "### RUS - under-sample class 's'\n",
    "I then under-sampled class 's' to match the number of data points in class 'n', which is 318400 for this data set."
   ]
  },
  {
   "cell_type": "code",
   "execution_count": 22,
   "metadata": {
    "ExecuteTime": {
     "end_time": "2021-04-28T13:20:19.288303Z",
     "start_time": "2021-04-28T13:20:19.285411Z"
    }
   },
   "outputs": [],
   "source": [
    "# undersample\n",
    "from imblearn.under_sampling import RandomUnderSampler\n",
    "\n",
    "rus = RandomUnderSampler(sampling_strategy = {'s': 63680}, random_state = 1)"
   ]
  },
  {
   "cell_type": "markdown",
   "metadata": {},
   "source": [
    "### Pipeline\n",
    "I now incorporate the `ColumnTransformer`, `SMOTE`, `RandomUnderSampler`, and `MinMaxScaler` into a Pipeline.\n",
    "\n",
    "Because of the sampling methogs, I used the Pipeline from `imblearn` package instead of `scikit-learn`."
   ]
  },
  {
   "cell_type": "code",
   "execution_count": 23,
   "metadata": {
    "ExecuteTime": {
     "end_time": "2021-04-28T13:20:21.069877Z",
     "start_time": "2021-04-28T13:20:21.066261Z"
    }
   },
   "outputs": [],
   "source": [
    "from sklearn.linear_model import LogisticRegression\n",
    "\n",
    "lr = LogisticRegression(max_iter = 1000000)"
   ]
  },
  {
   "cell_type": "code",
   "execution_count": 31,
   "metadata": {
    "ExecuteTime": {
     "end_time": "2021-04-28T13:25:03.155037Z",
     "start_time": "2021-04-28T13:25:03.150449Z"
    }
   },
   "outputs": [],
   "source": [
    "# create pipeline\n",
    "from imblearn.pipeline import Pipeline\n",
    "\n",
    "pipe = Pipeline(steps=[('coltrans', col_trans),\n",
    "                       ('scaler', scaler),\n",
    "                       ('over', over),\n",
    "                       ('under', rus),\n",
    "                       ('model', lr)])"
   ]
  },
  {
   "cell_type": "code",
   "execution_count": 25,
   "metadata": {
    "ExecuteTime": {
     "end_time": "2021-04-28T13:20:25.913352Z",
     "start_time": "2021-04-28T13:20:25.539014Z"
    }
   },
   "outputs": [
    {
     "data": {
      "text/html": [
       "<style>div.sk-top-container {color: black;background-color: white;}div.sk-toggleable {background-color: white;}label.sk-toggleable__label {cursor: pointer;display: block;width: 100%;margin-bottom: 0;padding: 0.2em 0.3em;box-sizing: border-box;text-align: center;}div.sk-toggleable__content {max-height: 0;max-width: 0;overflow: hidden;text-align: left;background-color: #f0f8ff;}div.sk-toggleable__content pre {margin: 0.2em;color: black;border-radius: 0.25em;background-color: #f0f8ff;}input.sk-toggleable__control:checked~div.sk-toggleable__content {max-height: 200px;max-width: 100%;overflow: auto;}div.sk-estimator input.sk-toggleable__control:checked~label.sk-toggleable__label {background-color: #d4ebff;}div.sk-label input.sk-toggleable__control:checked~label.sk-toggleable__label {background-color: #d4ebff;}input.sk-hidden--visually {border: 0;clip: rect(1px 1px 1px 1px);clip: rect(1px, 1px, 1px, 1px);height: 1px;margin: -1px;overflow: hidden;padding: 0;position: absolute;width: 1px;}div.sk-estimator {font-family: monospace;background-color: #f0f8ff;margin: 0.25em 0.25em;border: 1px dotted black;border-radius: 0.25em;box-sizing: border-box;}div.sk-estimator:hover {background-color: #d4ebff;}div.sk-parallel-item::after {content: \"\";width: 100%;border-bottom: 1px solid gray;flex-grow: 1;}div.sk-label:hover label.sk-toggleable__label {background-color: #d4ebff;}div.sk-serial::before {content: \"\";position: absolute;border-left: 1px solid gray;box-sizing: border-box;top: 2em;bottom: 0;left: 50%;}div.sk-serial {display: flex;flex-direction: column;align-items: center;background-color: white;}div.sk-item {z-index: 1;}div.sk-parallel {display: flex;align-items: stretch;justify-content: center;background-color: white;}div.sk-parallel-item {display: flex;flex-direction: column;position: relative;background-color: white;}div.sk-parallel-item:first-child::after {align-self: flex-end;width: 50%;}div.sk-parallel-item:last-child::after {align-self: flex-start;width: 50%;}div.sk-parallel-item:only-child::after {width: 0;}div.sk-dashed-wrapped {border: 1px dashed gray;margin: 0.2em;box-sizing: border-box;padding-bottom: 0.1em;background-color: white;position: relative;}div.sk-label label {font-family: monospace;font-weight: bold;background-color: white;display: inline-block;line-height: 1.2em;}div.sk-label-container {position: relative;z-index: 2;text-align: center;}div.sk-container {display: inline-block;position: relative;}</style><div class=\"sk-top-container\"><div class=\"sk-container\"><div class=\"sk-item sk-dashed-wrapped\"><div class=\"sk-label-container\"><div class=\"sk-label sk-toggleable\"><input class=\"sk-toggleable__control sk-hidden--visually\" id=\"969c88a4-5bf8-43c4-b8bd-4437c3685ef9\" type=\"checkbox\" ><label class=\"sk-toggleable__label\" for=\"969c88a4-5bf8-43c4-b8bd-4437c3685ef9\">Pipeline</label><div class=\"sk-toggleable__content\"><pre>Pipeline(steps=[('coltrans',\n",
       "                 ColumnTransformer(remainder='passthrough', sparse_threshold=0,\n",
       "                                   transformers=[('categories',\n",
       "                                                  OneHotEncoder(handle_unknown='ignore',\n",
       "                                                                sparse=False),\n",
       "                                                  ['category', 'gender', 'age',\n",
       "                                                   'sender_type', 'is_consumer',\n",
       "                                                   'is_hcp', 'drug',\n",
       "                                                   'drug_cat']),\n",
       "                                                 ('side_effects',\n",
       "                                                  CountVectorizer(decode_error='replace',\n",
       "                                                                  max_features=10000,\n",
       "                                                                  min_df=0.012,\n",
       "                                                                  ngram_rang...\n",
       "                                                                              'mostly',\n",
       "                                                                              'us',\n",
       "                                                                              'once',\n",
       "                                                                              'anyway',\n",
       "                                                                              'through',\n",
       "                                                                              'fill',\n",
       "                                                                              'after',\n",
       "                                                                              'go',\n",
       "                                                                              'behind',\n",
       "                                                                              'me',\n",
       "                                                                              'else',\n",
       "                                                                              'mill',\n",
       "                                                                              'anyhow',\n",
       "                                                                              'until', ...],\n",
       "                                                                  strip_accents='unicode'),\n",
       "                                                  'target')])),\n",
       "                ('scaler', MinMaxScaler()),\n",
       "                ('over', SMOTE(random_state=1, sampling_strategy={'f': 24844})),\n",
       "                ('under',\n",
       "                 RandomUnderSampler(random_state=1,\n",
       "                                    sampling_strategy={'s': 63680})),\n",
       "                ('model', LogisticRegression(max_iter=1000000))])</pre></div></div></div><div class=\"sk-serial\"><div class=\"sk-item sk-dashed-wrapped\"><div class=\"sk-label-container\"><div class=\"sk-label sk-toggleable\"><input class=\"sk-toggleable__control sk-hidden--visually\" id=\"32ab151f-1f0c-4fec-9877-9ced8d6f13c7\" type=\"checkbox\" ><label class=\"sk-toggleable__label\" for=\"32ab151f-1f0c-4fec-9877-9ced8d6f13c7\">coltrans: ColumnTransformer</label><div class=\"sk-toggleable__content\"><pre>ColumnTransformer(remainder='passthrough', sparse_threshold=0,\n",
       "                  transformers=[('categories',\n",
       "                                 OneHotEncoder(handle_unknown='ignore',\n",
       "                                               sparse=False),\n",
       "                                 ['category', 'gender', 'age', 'sender_type',\n",
       "                                  'is_consumer', 'is_hcp', 'drug',\n",
       "                                  'drug_cat']),\n",
       "                                ('side_effects',\n",
       "                                 CountVectorizer(decode_error='replace',\n",
       "                                                 max_features=10000,\n",
       "                                                 min_df=0.012,\n",
       "                                                 ngram_range=(2, 2),\n",
       "                                                 stop_words=['four', '...\n",
       "                                 CountVectorizer(decode_error='replace',\n",
       "                                                 max_features=10000,\n",
       "                                                 min_df=0.012,\n",
       "                                                 ngram_range=(2, 3),\n",
       "                                                 stop_words=['four', 'name',\n",
       "                                                             'there', 'herein',\n",
       "                                                             'besides', 'yet',\n",
       "                                                             'would', 'both',\n",
       "                                                             'his', 'no',\n",
       "                                                             'this', 'nothing',\n",
       "                                                             'becomes', 'be',\n",
       "                                                             'last', 'ours',\n",
       "                                                             'mostly', 'us',\n",
       "                                                             'once', 'anyway',\n",
       "                                                             'through', 'fill',\n",
       "                                                             'after', 'go',\n",
       "                                                             'behind', 'me',\n",
       "                                                             'else', 'mill',\n",
       "                                                             'anyhow', 'until', ...],\n",
       "                                                 strip_accents='unicode'),\n",
       "                                 'target')])</pre></div></div></div><div class=\"sk-parallel\"><div class=\"sk-parallel-item\"><div class=\"sk-item\"><div class=\"sk-label-container\"><div class=\"sk-label sk-toggleable\"><input class=\"sk-toggleable__control sk-hidden--visually\" id=\"929bb29e-b224-444a-97a8-9452643b0dbf\" type=\"checkbox\" ><label class=\"sk-toggleable__label\" for=\"929bb29e-b224-444a-97a8-9452643b0dbf\">categories</label><div class=\"sk-toggleable__content\"><pre>['category', 'gender', 'age', 'sender_type', 'is_consumer', 'is_hcp', 'drug', 'drug_cat']</pre></div></div></div><div class=\"sk-serial\"><div class=\"sk-item\"><div class=\"sk-estimator sk-toggleable\"><input class=\"sk-toggleable__control sk-hidden--visually\" id=\"4ff9575e-136e-426b-a5d8-e2bbe8375396\" type=\"checkbox\" ><label class=\"sk-toggleable__label\" for=\"4ff9575e-136e-426b-a5d8-e2bbe8375396\">OneHotEncoder</label><div class=\"sk-toggleable__content\"><pre>OneHotEncoder(handle_unknown='ignore', sparse=False)</pre></div></div></div></div></div></div><div class=\"sk-parallel-item\"><div class=\"sk-item\"><div class=\"sk-label-container\"><div class=\"sk-label sk-toggleable\"><input class=\"sk-toggleable__control sk-hidden--visually\" id=\"2634aec4-3185-4d9e-9db0-f13c1b866470\" type=\"checkbox\" ><label class=\"sk-toggleable__label\" for=\"2634aec4-3185-4d9e-9db0-f13c1b866470\">side_effects</label><div class=\"sk-toggleable__content\"><pre>side_effect</pre></div></div></div><div class=\"sk-serial\"><div class=\"sk-item\"><div class=\"sk-estimator sk-toggleable\"><input class=\"sk-toggleable__control sk-hidden--visually\" id=\"10912622-9b63-40e6-b697-a8ceb0612fe5\" type=\"checkbox\" ><label class=\"sk-toggleable__label\" for=\"10912622-9b63-40e6-b697-a8ceb0612fe5\">CountVectorizer</label><div class=\"sk-toggleable__content\"><pre>CountVectorizer(decode_error='replace', max_features=10000, min_df=0.012,\n",
       "                ngram_range=(2, 2),\n",
       "                stop_words=['four', 'name', 'there', 'herein', 'besides', 'yet',\n",
       "                            'would', 'both', 'his', 'no', 'this', 'nothing',\n",
       "                            'becomes', 'be', 'last', 'ours', 'mostly', 'us',\n",
       "                            'once', 'anyway', 'through', 'fill', 'after', 'go',\n",
       "                            'behind', 'me', 'else', 'mill', 'anyhow', 'until', ...],\n",
       "                strip_accents='unicode')</pre></div></div></div></div></div></div><div class=\"sk-parallel-item\"><div class=\"sk-item\"><div class=\"sk-label-container\"><div class=\"sk-label sk-toggleable\"><input class=\"sk-toggleable__control sk-hidden--visually\" id=\"25f358fd-c74f-469b-b7cc-f7f7c869f388\" type=\"checkbox\" ><label class=\"sk-toggleable__label\" for=\"25f358fd-c74f-469b-b7cc-f7f7c869f388\">conditions</label><div class=\"sk-toggleable__content\"><pre>condition</pre></div></div></div><div class=\"sk-serial\"><div class=\"sk-item\"><div class=\"sk-estimator sk-toggleable\"><input class=\"sk-toggleable__control sk-hidden--visually\" id=\"63b1ed40-72d1-48be-a541-5b9813a26ae8\" type=\"checkbox\" ><label class=\"sk-toggleable__label\" for=\"63b1ed40-72d1-48be-a541-5b9813a26ae8\">CountVectorizer</label><div class=\"sk-toggleable__content\"><pre>CountVectorizer(decode_error='replace', max_features=10000, min_df=0.02,\n",
       "                ngram_range=(2, 2),\n",
       "                stop_words=['four', 'name', 'there', 'herein', 'besides', 'yet',\n",
       "                            'would', 'both', 'his', 'no', 'this', 'nothing',\n",
       "                            'becomes', 'be', 'last', 'ours', 'mostly', 'us',\n",
       "                            'once', 'anyway', 'through', 'fill', 'after', 'go',\n",
       "                            'behind', 'me', 'else', 'mill', 'anyhow', 'until', ...],\n",
       "                strip_accents='unicode')</pre></div></div></div></div></div></div><div class=\"sk-parallel-item\"><div class=\"sk-item\"><div class=\"sk-label-container\"><div class=\"sk-label sk-toggleable\"><input class=\"sk-toggleable__control sk-hidden--visually\" id=\"41554446-1c2f-4b9a-9de5-31030140e9a1\" type=\"checkbox\" ><label class=\"sk-toggleable__label\" for=\"41554446-1c2f-4b9a-9de5-31030140e9a1\">targets</label><div class=\"sk-toggleable__content\"><pre>target</pre></div></div></div><div class=\"sk-serial\"><div class=\"sk-item\"><div class=\"sk-estimator sk-toggleable\"><input class=\"sk-toggleable__control sk-hidden--visually\" id=\"47c44fbb-7ea9-43bd-a573-b86b3f106e1c\" type=\"checkbox\" ><label class=\"sk-toggleable__label\" for=\"47c44fbb-7ea9-43bd-a573-b86b3f106e1c\">CountVectorizer</label><div class=\"sk-toggleable__content\"><pre>CountVectorizer(decode_error='replace', max_features=10000, min_df=0.012,\n",
       "                ngram_range=(2, 3),\n",
       "                stop_words=['four', 'name', 'there', 'herein', 'besides', 'yet',\n",
       "                            'would', 'both', 'his', 'no', 'this', 'nothing',\n",
       "                            'becomes', 'be', 'last', 'ours', 'mostly', 'us',\n",
       "                            'once', 'anyway', 'through', 'fill', 'after', 'go',\n",
       "                            'behind', 'me', 'else', 'mill', 'anyhow', 'until', ...],\n",
       "                strip_accents='unicode')</pre></div></div></div></div></div></div></div></div><div class=\"sk-item\"><div class=\"sk-estimator sk-toggleable\"><input class=\"sk-toggleable__control sk-hidden--visually\" id=\"dfc3fc14-1f01-441f-bb34-dd02f733417a\" type=\"checkbox\" ><label class=\"sk-toggleable__label\" for=\"dfc3fc14-1f01-441f-bb34-dd02f733417a\">MinMaxScaler</label><div class=\"sk-toggleable__content\"><pre>MinMaxScaler()</pre></div></div></div><div class=\"sk-item\"><div class=\"sk-estimator sk-toggleable\"><input class=\"sk-toggleable__control sk-hidden--visually\" id=\"6366bfd4-abda-4835-a260-73241b2160cc\" type=\"checkbox\" ><label class=\"sk-toggleable__label\" for=\"6366bfd4-abda-4835-a260-73241b2160cc\">SMOTE</label><div class=\"sk-toggleable__content\"><pre>SMOTE(random_state=1, sampling_strategy={'f': 24844})</pre></div></div></div><div class=\"sk-item\"><div class=\"sk-estimator sk-toggleable\"><input class=\"sk-toggleable__control sk-hidden--visually\" id=\"251eb61c-75d3-4539-9136-7547cea1871a\" type=\"checkbox\" ><label class=\"sk-toggleable__label\" for=\"251eb61c-75d3-4539-9136-7547cea1871a\">RandomUnderSampler</label><div class=\"sk-toggleable__content\"><pre>RandomUnderSampler(random_state=1, sampling_strategy={'s': 63680})</pre></div></div></div><div class=\"sk-item\"><div class=\"sk-estimator sk-toggleable\"><input class=\"sk-toggleable__control sk-hidden--visually\" id=\"410ba370-c22f-4b23-aa44-1f365f344bd4\" type=\"checkbox\" ><label class=\"sk-toggleable__label\" for=\"410ba370-c22f-4b23-aa44-1f365f344bd4\">LogisticRegression</label><div class=\"sk-toggleable__content\"><pre>LogisticRegression(max_iter=1000000)</pre></div></div></div></div></div></div></div>"
      ],
      "text/plain": [
       "Pipeline(steps=[('coltrans',\n",
       "                 ColumnTransformer(remainder='passthrough', sparse_threshold=0,\n",
       "                                   transformers=[('categories',\n",
       "                                                  OneHotEncoder(handle_unknown='ignore',\n",
       "                                                                sparse=False),\n",
       "                                                  ['category', 'gender', 'age',\n",
       "                                                   'sender_type', 'is_consumer',\n",
       "                                                   'is_hcp', 'drug',\n",
       "                                                   'drug_cat']),\n",
       "                                                 ('side_effects',\n",
       "                                                  CountVectorizer(decode_error='replace',\n",
       "                                                                  max_features=10000,\n",
       "                                                                  min_df=0.012,\n",
       "                                                                  ngram_rang...\n",
       "                                                                              'mostly',\n",
       "                                                                              'us',\n",
       "                                                                              'once',\n",
       "                                                                              'anyway',\n",
       "                                                                              'through',\n",
       "                                                                              'fill',\n",
       "                                                                              'after',\n",
       "                                                                              'go',\n",
       "                                                                              'behind',\n",
       "                                                                              'me',\n",
       "                                                                              'else',\n",
       "                                                                              'mill',\n",
       "                                                                              'anyhow',\n",
       "                                                                              'until', ...],\n",
       "                                                                  strip_accents='unicode'),\n",
       "                                                  'target')])),\n",
       "                ('scaler', MinMaxScaler()),\n",
       "                ('over', SMOTE(random_state=1, sampling_strategy={'f': 24844})),\n",
       "                ('under',\n",
       "                 RandomUnderSampler(random_state=1,\n",
       "                                    sampling_strategy={'s': 63680})),\n",
       "                ('model', LogisticRegression(max_iter=1000000))])"
      ]
     },
     "execution_count": 25,
     "metadata": {},
     "output_type": "execute_result"
    }
   ],
   "source": [
    "# diplay pipeline\n",
    "from sklearn import set_config\n",
    "set_config(display='diagram')   \n",
    "pipe"
   ]
  },
  {
   "cell_type": "markdown",
   "metadata": {},
   "source": [
    "### Logistic Regression + GridSearchCV"
   ]
  },
  {
   "cell_type": "code",
   "execution_count": 26,
   "metadata": {
    "ExecuteTime": {
     "end_time": "2021-04-28T13:21:05.862929Z",
     "start_time": "2021-04-28T13:21:05.855718Z"
    }
   },
   "outputs": [],
   "source": [
    "from sklearn.model_selection import GridSearchCV, cross_val_score"
   ]
  },
  {
   "cell_type": "code",
   "execution_count": null,
   "metadata": {
    "ExecuteTime": {
     "start_time": "2021-04-28T13:25:06.321Z"
    }
   },
   "outputs": [
    {
     "name": "stdout",
     "output_type": "stream",
     "text": [
      "Fitting 5 folds for each of 20 candidates, totalling 100 fits\n"
     ]
    },
    {
     "name": "stderr",
     "output_type": "stream",
     "text": [
      "[Parallel(n_jobs=-1)]: Using backend LokyBackend with 4 concurrent workers.\n"
     ]
    }
   ],
   "source": [
    "# set parameters for GridSearchCV\n",
    "params = {\n",
    "    'model__C': np.logspace(-3, 2, 10),\n",
    "    'model__penalty': ['l2'],\n",
    "    'model__solver': ['saga'],\n",
    "    'model__multi_class': ['ovr', 'multinomial']\n",
    "}\n",
    "\n",
    "# set up GridSearch\n",
    "lr_grid = GridSearchCV(pipe, params, cv = 5,\n",
    "                       n_jobs = -1, verbose = 3)\n",
    "\n",
    "# fit training set\n",
    "lr_grid.fit(X_train, y_train)"
   ]
  },
  {
   "cell_type": "code",
   "execution_count": null,
   "metadata": {},
   "outputs": [],
   "source": [
    "cross_val_score(pipe, X_test, y_test, cv = 5, verbose = 1)"
   ]
  },
  {
   "cell_type": "code",
   "execution_count": null,
   "metadata": {
    "ExecuteTime": {
     "end_time": "2021-02-23T10:25:32.227987Z",
     "start_time": "2021-02-23T10:25:32.071795Z"
    }
   },
   "outputs": [],
   "source": []
  },
  {
   "cell_type": "code",
   "execution_count": null,
   "metadata": {
    "ExecuteTime": {
     "end_time": "2021-02-20T20:29:35.424916Z",
     "start_time": "2021-02-20T20:28:51.205833Z"
    }
   },
   "outputs": [],
   "source": [
    "# try pipeline with dask\n",
    "\n",
    "with joblib.parallel_backend('dask'):\n",
    "    # fit transform X_train\n",
    "    X_train_processed = pipe.fit_transform(X_train)"
   ]
  },
  {
   "cell_type": "code",
   "execution_count": null,
   "metadata": {
    "ExecuteTime": {
     "end_time": "2021-02-20T20:29:35.477666Z",
     "start_time": "2021-02-20T20:29:35.442255Z"
    }
   },
   "outputs": [],
   "source": [
    "X_train_processed = pd.DataFrame(X_train_processed, columns = pipe.named_steps['coltrans'].get_feature_names())"
   ]
  },
  {
   "cell_type": "code",
   "execution_count": null,
   "metadata": {
    "ExecuteTime": {
     "end_time": "2021-02-20T20:29:36.529545Z",
     "start_time": "2021-02-20T20:29:35.488968Z"
    }
   },
   "outputs": [],
   "source": [
    "X_train_processed.info()"
   ]
  },
  {
   "cell_type": "code",
   "execution_count": null,
   "metadata": {
    "ExecuteTime": {
     "end_time": "2021-02-20T20:29:36.591332Z",
     "start_time": "2021-02-20T20:29:36.543137Z"
    }
   },
   "outputs": [],
   "source": [
    "X_train_processed.head()"
   ]
  },
  {
   "cell_type": "code",
   "execution_count": null,
   "metadata": {
    "ExecuteTime": {
     "end_time": "2021-02-20T20:30:23.964960Z",
     "start_time": "2021-02-20T20:30:23.954366Z"
    }
   },
   "outputs": [],
   "source": [
    "[col for col in X_train_processed.columns if 'side_effects' in col]"
   ]
  },
  {
   "cell_type": "code",
   "execution_count": null,
   "metadata": {
    "ExecuteTime": {
     "end_time": "2021-02-20T20:31:42.724239Z",
     "start_time": "2021-02-20T20:30:34.349891Z"
    }
   },
   "outputs": [],
   "source": [
    " # transform X_test\n",
    "with joblib.parallel_backend('dask'):\n",
    "    X_test_processed = pipe.transform(X_test)"
   ]
  },
  {
   "cell_type": "code",
   "execution_count": null,
   "metadata": {
    "ExecuteTime": {
     "end_time": "2021-02-20T20:31:42.937617Z",
     "start_time": "2021-02-20T20:31:42.734173Z"
    }
   },
   "outputs": [],
   "source": [
    "X_test_processed = pd.DataFrame(X_test_processed, columns = pipe.named_steps['coltrans'].get_feature_names())\n",
    "X_test_processed.info()"
   ]
  },
  {
   "cell_type": "code",
   "execution_count": null,
   "metadata": {
    "ExecuteTime": {
     "end_time": "2021-02-20T20:31:42.980683Z",
     "start_time": "2021-02-20T20:31:42.946570Z"
    }
   },
   "outputs": [],
   "source": [
    "X_test_processed.shape, y_test.shape"
   ]
  },
  {
   "cell_type": "code",
   "execution_count": null,
   "metadata": {
    "ExecuteTime": {
     "end_time": "2021-02-20T20:31:42.993219Z",
     "start_time": "2021-02-20T20:31:42.985294Z"
    }
   },
   "outputs": [],
   "source": [
    "X_train_processed.shape, y_train.shape"
   ]
  },
  {
   "cell_type": "code",
   "execution_count": null,
   "metadata": {
    "ExecuteTime": {
     "end_time": "2021-02-20T20:47:34.400160Z",
     "start_time": "2021-02-20T20:31:42.998544Z"
    }
   },
   "outputs": [],
   "source": [
    "# X_train_processed.to_csv('X_train_processed_2.csv', index = False)\n",
    "# X_test_processed.to_csv('X_test_processed_2.csv', index = False)\n",
    "# y_train.to_csv('y_train_2.csv', index = False)\n",
    "# y_test.to_csv('y_test_2.csv', index = False)"
   ]
  },
  {
   "cell_type": "code",
   "execution_count": null,
   "metadata": {
    "ExecuteTime": {
     "end_time": "2021-02-23T15:57:23.802701Z",
     "start_time": "2021-02-23T15:25:58.402404Z"
    }
   },
   "outputs": [],
   "source": [
    "X_train_processed = pd.read_csv('X_train_processed_2.csv')\n",
    "X_test_processed = pd.read_csv('X_test_processed_2.csv')\n",
    "y_train = pd.read_csv('y_train_2.csv')\n",
    "y_test = pd.read_csv('y_test_2.csv')"
   ]
  },
  {
   "cell_type": "code",
   "execution_count": null,
   "metadata": {
    "ExecuteTime": {
     "end_time": "2021-02-23T10:39:41.750164Z",
     "start_time": "2021-02-23T10:39:41.726427Z"
    }
   },
   "outputs": [],
   "source": [
    "from sklearn.linear_model import LogisticRegression\n",
    "from sklearn.neighbors import KNeighborsClassifier\n",
    "from sklearn.model_selection import GridSearchCV, cross_val_score"
   ]
  },
  {
   "cell_type": "code",
   "execution_count": null,
   "metadata": {
    "ExecuteTime": {
     "end_time": "2021-02-21T21:20:52.725769Z",
     "start_time": "2021-02-21T19:49:44.293853Z"
    }
   },
   "outputs": [],
   "source": [
    "lr = LogisticRegression(max_iter = 100000)\n",
    "lr.fit(X_train_processed, y_train)\n",
    "print(cross_val_score(lr, X_train_processed, y_train, cv = 5).mean())"
   ]
  },
  {
   "cell_type": "code",
   "execution_count": null,
   "metadata": {
    "ExecuteTime": {
     "end_time": "2021-02-28T09:35:32.274754Z",
     "start_time": "2021-02-25T15:23:19.809536Z"
    },
    "scrolled": true
   },
   "outputs": [],
   "source": [
    "# create logistic regression model\n",
    "lr = LogisticRegression(max_iter = 100000)\n",
    "\n",
    "# create params grid\n",
    "gs_params = {'penalty': ['l2'],\n",
    "             'solver': ['saga'],\n",
    "             'C': np.logspace(-3, 2, 10),\n",
    "             'multi_class': ['ovr', 'multinomial']}\n",
    "\n",
    "# create gridsearch\n",
    "lr_grid = GridSearchCV(lr, gs_params, n_jobs = 2, cv = 3, verbose = 3)\n",
    "# fit gridsearch on training data\n",
    "lr_grid.fit(X_train_processed, y_train)"
   ]
  },
  {
   "cell_type": "code",
   "execution_count": null,
   "metadata": {
    "ExecuteTime": {
     "end_time": "2021-02-28T09:35:32.387400Z",
     "start_time": "2021-02-28T09:35:32.331795Z"
    }
   },
   "outputs": [],
   "source": [
    "# assign best estimator\n",
    "best_lr = lr_grid.best_estimator_"
   ]
  },
  {
   "cell_type": "code",
   "execution_count": null,
   "metadata": {
    "ExecuteTime": {
     "end_time": "2021-02-28T09:35:32.450290Z",
     "start_time": "2021-02-28T09:35:32.398107Z"
    }
   },
   "outputs": [],
   "source": [
    "joblib.dump(best_lr, 'best_lr.jlib')\n",
    "# best_lr = joblib.load('best_lr.jlib')"
   ]
  },
  {
   "cell_type": "code",
   "execution_count": null,
   "metadata": {
    "ExecuteTime": {
     "end_time": "2021-02-28T09:35:47.008515Z",
     "start_time": "2021-02-28T09:35:32.458822Z"
    }
   },
   "outputs": [],
   "source": [
    "# print best params\n",
    "print('Logreg best parameters: ', lr_grid.best_params_)\n",
    "# print CV score\n",
    "print('Best Score: ', lr_grid.best_score_)\n",
    "# print training score\n",
    "print('Training Score: ', lr_grid.score(X_train_processed, y_train))\n",
    "# score best estimator on testing data\n",
    "print('Test Score: ', lr_grid.score(X_test_processed, y_test))\n",
    "\n",
    "# create a dataframe to look at the coefficients for class 0\n",
    "coef_lr = pd.DataFrame({'feature': X_train_processed.columns,\n",
    "                        'coef': best_lr.coef_[0],\n",
    "                        'abs_coef': np.abs(best_lr.coef_[0])})\n",
    "\n",
    "# sort by absolute value of coefficient (magnitude)\n",
    "coef_lr.sort_values('abs_coef', ascending = False, inplace = True)\n",
    "coef_lr.head()"
   ]
  },
  {
   "cell_type": "code",
   "execution_count": null,
   "metadata": {
    "ExecuteTime": {
     "end_time": "2021-03-01T09:36:52.743953Z",
     "start_time": "2021-03-01T09:36:52.732553Z"
    }
   },
   "outputs": [],
   "source": [
    "# joblib.dump(best_lr, 'best_lr.jlib')"
   ]
  },
  {
   "cell_type": "code",
   "execution_count": null,
   "metadata": {
    "ExecuteTime": {
     "end_time": "2021-03-01T09:23:56.282504Z",
     "start_time": "2021-03-01T09:23:56.272855Z"
    }
   },
   "outputs": [],
   "source": [
    "best_lr.classes_"
   ]
  },
  {
   "cell_type": "code",
   "execution_count": null,
   "metadata": {
    "ExecuteTime": {
     "end_time": "2021-03-01T09:26:39.350910Z",
     "start_time": "2021-03-01T09:26:38.830053Z"
    }
   },
   "outputs": [],
   "source": [
    "coef_lr.set_index('feature', inplace = True)\n",
    "coef_lr.coef.head(20).plot(kind = 'barh', figsize = (10,10), color = 'b')"
   ]
  },
  {
   "cell_type": "code",
   "execution_count": null,
   "metadata": {
    "ExecuteTime": {
     "end_time": "2021-03-01T09:27:19.272207Z",
     "start_time": "2021-03-01T09:27:18.723135Z"
    }
   },
   "outputs": [],
   "source": [
    "coef_lr_n = pd.DataFrame({'feature': X_train_processed.columns,\n",
    "                        'coef': best_lr.coef_[1],\n",
    "                        'abs_coef': np.abs(best_lr.coef_[1])})\n",
    "\n",
    "# sort by absolute value of coefficient (magnitude)\n",
    "coef_lr_n.sort_values('abs_coef', ascending = False, inplace = True)\n",
    "coef_lr_n.set_index('feature', inplace = True)\n",
    "coef_lr_n.coef.head(20).plot(kind = 'barh', figsize = (10,10), color = 'b')"
   ]
  },
  {
   "cell_type": "code",
   "execution_count": null,
   "metadata": {
    "ExecuteTime": {
     "end_time": "2021-03-01T09:29:04.715154Z",
     "start_time": "2021-03-01T09:29:03.976517Z"
    }
   },
   "outputs": [],
   "source": [
    "coef_lr_s = pd.DataFrame({'feature': X_train_processed.columns,\n",
    "                        'coef': best_lr.coef_[2],\n",
    "                        'abs_coef': np.abs(best_lr.coef_[2])})\n",
    "\n",
    "# sort by absolute value of coefficient (magnitude)\n",
    "coef_lr_s.sort_values('abs_coef', ascending = False, inplace = True)\n",
    "coef_lr_s.set_index('feature', inplace = True)\n",
    "coef_lr_s.coef.head(20).plot(kind = 'barh', figsize = (10,10), color = 'b')"
   ]
  },
  {
   "cell_type": "code",
   "execution_count": null,
   "metadata": {
    "ExecuteTime": {
     "end_time": "2021-02-28T09:36:02.942975Z",
     "start_time": "2021-02-28T09:35:47.021389Z"
    }
   },
   "outputs": [],
   "source": [
    "print(classification_report(best_lr.predict(X_train_processed), y_train))\n",
    "plot_confusion_matrix(best_lr, X_train_processed,  y_train, labels = ['n', 's', 'f'], cmap = 'Blues')"
   ]
  },
  {
   "cell_type": "code",
   "execution_count": null,
   "metadata": {
    "ExecuteTime": {
     "end_time": "2021-02-28T09:36:24.752839Z",
     "start_time": "2021-02-28T09:36:02.945928Z"
    }
   },
   "outputs": [],
   "source": [
    "print(classification_report(best_lr.predict(X_test_processed), y_test))\n",
    "plot_confusion_matrix(best_lr, X_test_processed,  y_test, labels = ['n', 's', 'f'], cmap = 'Blues')"
   ]
  },
  {
   "cell_type": "code",
   "execution_count": null,
   "metadata": {
    "ExecuteTime": {
     "end_time": "2021-02-28T09:36:37.609293Z",
     "start_time": "2021-02-28T09:36:24.759351Z"
    }
   },
   "outputs": [],
   "source": [
    "plot_multiclass_roc(best_lr, X_train_processed , y_train, 3, figsize=(16, 10))\n",
    "plot_multiclass_roc(best_lr, X_test_processed , y_test, 3, figsize=(16, 10))"
   ]
  },
  {
   "cell_type": "code",
   "execution_count": null,
   "metadata": {
    "ExecuteTime": {
     "end_time": "2021-02-28T09:36:49.833082Z",
     "start_time": "2021-02-28T09:36:37.619120Z"
    }
   },
   "outputs": [],
   "source": [
    "multiclass_precision_recall(best_lr, X_train_processed, y_train)\n",
    "multiclass_precision_recall(best_lr, X_test_processed, y_test)"
   ]
  },
  {
   "cell_type": "markdown",
   "metadata": {},
   "source": [
    "##### "
   ]
  },
  {
   "cell_type": "code",
   "execution_count": null,
   "metadata": {
    "ExecuteTime": {
     "end_time": "2021-02-23T15:57:24.905571Z",
     "start_time": "2021-02-23T15:57:24.053921Z"
    }
   },
   "outputs": [],
   "source": [
    "y_train.head()"
   ]
  },
  {
   "cell_type": "code",
   "execution_count": null,
   "metadata": {
    "ExecuteTime": {
     "end_time": "2021-02-23T15:59:36.239910Z",
     "start_time": "2021-02-23T15:59:36.225770Z"
    }
   },
   "outputs": [],
   "source": [
    "y_train = np.ravel(y_train)"
   ]
  },
  {
   "cell_type": "code",
   "execution_count": null,
   "metadata": {
    "ExecuteTime": {
     "end_time": "2021-02-23T16:09:44.534567Z",
     "start_time": "2021-02-23T15:59:42.955125Z"
    },
    "scrolled": true
   },
   "outputs": [],
   "source": [
    "# random forest\n",
    "\n",
    "from sklearn.tree import DecisionTreeClassifier\n",
    "from sklearn.ensemble import RandomForestClassifier\n",
    "\n",
    "rf = RandomForestClassifier(max_depth = 15, n_jobs = 2)\n",
    "rf.fit(X_train_processed, y_train)"
   ]
  },
  {
   "cell_type": "code",
   "execution_count": null,
   "metadata": {
    "ExecuteTime": {
     "end_time": "2021-02-23T16:51:13.676853Z",
     "start_time": "2021-02-23T16:09:44.727109Z"
    }
   },
   "outputs": [],
   "source": [
    "cross_val_score(rf, X_train_processed, y_train, cv=5).mean()"
   ]
  },
  {
   "cell_type": "code",
   "execution_count": null,
   "metadata": {
    "ExecuteTime": {
     "end_time": "2021-02-23T16:09:44.700523Z",
     "start_time": "2021-02-23T16:09:44.622428Z"
    }
   },
   "outputs": [],
   "source": [
    "from sklearn.tree import export_graphviz\n",
    "import graphviz\n",
    "\n",
    "from ipywidgets import *\n",
    "from IPython.display import display\n",
    "from IPython.display import Image"
   ]
  },
  {
   "cell_type": "code",
   "execution_count": null,
   "metadata": {
    "ExecuteTime": {
     "end_time": "2021-02-24T03:02:37.690582Z",
     "start_time": "2021-02-23T18:21:59.955595Z"
    }
   },
   "outputs": [],
   "source": [
    "# random forest grid search\n",
    "rf_params = {'n_estimators': [500, 700],\n",
    "             'max_depth': range(5, 25, 5),\n",
    "             'max_features': range(50, 110, 20)}\n",
    "\n",
    "rf_grid = GridSearchCV(rf, rf_params, cv = 3, n_jobs = 2, verbose = 3)\n",
    "rf_grid.fit(X_train_processed, y_train)"
   ]
  },
  {
   "cell_type": "code",
   "execution_count": null,
   "metadata": {
    "ExecuteTime": {
     "end_time": "2021-02-24T03:02:37.708736Z",
     "start_time": "2021-02-24T03:02:37.700320Z"
    }
   },
   "outputs": [],
   "source": [
    "# print best score and parameters\n",
    "print(rf_grid.best_score_)\n",
    "print(rf_grid.best_params_)\n",
    "\n",
    "best_rf = rf_grid.best_estimator_\n",
    "\n",
    "# refit best model, save cross_val_scores then .mean()"
   ]
  },
  {
   "cell_type": "code",
   "execution_count": null,
   "metadata": {
    "ExecuteTime": {
     "end_time": "2021-02-25T09:15:52.769419Z",
     "start_time": "2021-02-25T09:14:03.624542Z"
    }
   },
   "outputs": [],
   "source": [
    "rf_pred_train = best_rf.predict(X_train_processed)\n",
    "rf_pred_test = best_rf.predict(X_test_processed)"
   ]
  },
  {
   "cell_type": "code",
   "execution_count": null,
   "metadata": {
    "ExecuteTime": {
     "end_time": "2021-02-24T09:47:32.213753Z",
     "start_time": "2021-02-24T09:42:54.779865Z"
    }
   },
   "outputs": [],
   "source": [
    "print(best_rf.score(X_train_processed, y_train))\n",
    "print(best_rf.score(X_test_processed, y_test))"
   ]
  },
  {
   "cell_type": "code",
   "execution_count": null,
   "metadata": {
    "ExecuteTime": {
     "end_time": "2021-02-25T09:10:35.733855Z",
     "start_time": "2021-02-25T09:10:35.704516Z"
    }
   },
   "outputs": [],
   "source": [
    "from sklearn.metrics import plot_confusion_matrix, classification_report"
   ]
  },
  {
   "cell_type": "code",
   "execution_count": null,
   "metadata": {
    "ExecuteTime": {
     "end_time": "2021-02-25T09:17:55.030709Z",
     "start_time": "2021-02-25T09:16:36.959412Z"
    }
   },
   "outputs": [],
   "source": [
    "print(classification_report(rf_pred_train, y_train))\n",
    "plot_confusion_matrix(best_rf, X_train_processed,  y_train, labels = ['n', 's', 'f'], cmap = 'Blues')"
   ]
  },
  {
   "cell_type": "code",
   "execution_count": null,
   "metadata": {
    "ExecuteTime": {
     "end_time": "2021-02-25T09:19:56.920781Z",
     "start_time": "2021-02-25T09:18:12.712771Z"
    }
   },
   "outputs": [],
   "source": [
    "print(classification_report(rf_pred_test, y_test))\n",
    "plot_confusion_matrix(best_rf, X_test_processed,  y_test, labels = ['n', 's', 'f'], cmap = 'Blues')"
   ]
  },
  {
   "cell_type": "code",
   "execution_count": null,
   "metadata": {
    "ExecuteTime": {
     "end_time": "2021-02-25T10:44:12.708168Z",
     "start_time": "2021-02-25T10:42:59.462748Z"
    }
   },
   "outputs": [],
   "source": [
    "from sklearn.metrics import roc_curve, auc, roc_auc_score, plot_roc_curve, plot_precision_recall_curve\n",
    "def plot_multiclass_roc(clf, X_test, y_test, n_classes, figsize=(17, 6)):\n",
    "    y_score = clf.predict_proba(X_test)\n",
    "\n",
    "    # structures\n",
    "    fpr = dict()\n",
    "    tpr = dict()\n",
    "    roc_auc = dict()\n",
    "\n",
    "    # calculate dummies once\n",
    "    y_test_dummies = pd.get_dummies(y_test, drop_first=False).values\n",
    "    for i, y in enumerate(clf.classes_):\n",
    "        fpr[i], tpr[i], _ = roc_curve(y_test_dummies[:, i], y_score[:, i])\n",
    "        roc_auc[i] = auc(fpr[i], tpr[i])\n",
    "\n",
    "    # roc for each class\n",
    "    fig, ax = plt.subplots(figsize=figsize)\n",
    "    ax.plot([0, 1], [0, 1], 'k--')\n",
    "    ax.set_xlim([0.0, 1.0])\n",
    "    ax.set_ylim([0.0, 1.05])\n",
    "    ax.set_xlabel('False Positive Rate')\n",
    "    ax.set_ylabel('True Positive Rate')\n",
    "    ax.set_title('Receiver operating characteristic curve')\n",
    "    for i, y in enumerate(clf.classes_):\n",
    "        ax.plot(fpr[i], tpr[i], label='ROC curve (area = %0.2f) for label %s' % (roc_auc[i], y))\n",
    "    ax.legend(loc=\"best\")\n",
    "    ax.grid(alpha=.4)\n",
    "    sns.despine()\n",
    "    plt.show()\n",
    "\n",
    "plot_multiclass_roc(best_rf, X_test_processed , y_test, 3, figsize=(16, 10))"
   ]
  },
  {
   "cell_type": "code",
   "execution_count": null,
   "metadata": {
    "ExecuteTime": {
     "end_time": "2021-02-25T14:07:26.813065Z",
     "start_time": "2021-02-25T14:06:35.517369Z"
    }
   },
   "outputs": [],
   "source": [
    "plot_multiclass_roc(best_rf, X_train_processed , y_train, 3, figsize=(16, 10))"
   ]
  },
  {
   "cell_type": "code",
   "execution_count": null,
   "metadata": {
    "ExecuteTime": {
     "end_time": "2021-02-25T10:03:51.382508Z",
     "start_time": "2021-02-25T10:03:51.343238Z"
    }
   },
   "outputs": [],
   "source": [
    "best_rf.classes_"
   ]
  },
  {
   "cell_type": "code",
   "execution_count": null,
   "metadata": {
    "ExecuteTime": {
     "end_time": "2021-02-25T10:59:41.447031Z",
     "start_time": "2021-02-25T10:58:22.818445Z"
    }
   },
   "outputs": [],
   "source": [
    "# https://stackoverflow.com/questions/56090541/how-to-plot-precision-and-recall-of-multiclass-classifier\n",
    "\n",
    "from sklearn.metrics import precision_recall_curve\n",
    "def multiclass_precision_recall(model, X_test, y_test):\n",
    "    y_score = model.predict_proba(X_test)\n",
    "    y_test_dummies = pd.get_dummies(y_test, drop_first=False).values\n",
    "    precision = dict()\n",
    "    recall = dict()\n",
    "    for i, y in enumerate(model.classes_):\n",
    "        precision[i], recall[i], _ = precision_recall_curve(y_test_dummies[:, i],\n",
    "                                                            y_score[:, i])\n",
    "        plt.plot(recall[i], precision[i], lw=2, label='class {}'.format(y))\n",
    "\n",
    "    plt.xlabel(\"recall\")\n",
    "    plt.ylabel(\"precision\")\n",
    "    plt.legend(loc=\"best\")\n",
    "    plt.title(\"precision vs. recall curve\")\n",
    "    plt.show()\n",
    "multiclass_precision_recall(best_rf, X_test_processed, y_test)"
   ]
  },
  {
   "cell_type": "code",
   "execution_count": null,
   "metadata": {
    "ExecuteTime": {
     "end_time": "2021-02-25T14:09:10.863939Z",
     "start_time": "2021-02-25T14:08:24.272004Z"
    }
   },
   "outputs": [],
   "source": [
    "multiclass_precision_recall(best_rf, X_train_processed, y_train)"
   ]
  },
  {
   "cell_type": "code",
   "execution_count": null,
   "metadata": {
    "ExecuteTime": {
     "end_time": "2021-02-25T10:52:11.885940Z",
     "start_time": "2021-02-25T10:52:11.598433Z"
    }
   },
   "outputs": [],
   "source": [
    "rf_features = np.mean([\n",
    "    tree.feature_importances_ for tree in best_rf], axis = 0)\n",
    "rf_feature_df = pd.DataFrame({'importances': rf_features}, index = X_train_processed.columns)\n",
    "rf_feature_df.sort_values('importances', ascending = False).head(20)"
   ]
  },
  {
   "cell_type": "code",
   "execution_count": null,
   "metadata": {
    "ExecuteTime": {
     "end_time": "2021-02-25T10:52:39.210809Z",
     "start_time": "2021-02-25T10:52:37.897327Z"
    }
   },
   "outputs": [],
   "source": [
    "rf_feature_df.sort_values('importances', ascending = False).head(20).plot(kind = 'barh', figsize = (10, 10), color = 'b')"
   ]
  },
  {
   "cell_type": "code",
   "execution_count": null,
   "metadata": {
    "ExecuteTime": {
     "end_time": "2021-02-24T03:02:39.271138Z",
     "start_time": "2021-02-24T03:02:37.716459Z"
    }
   },
   "outputs": [],
   "source": [
    "import joblib\n",
    "joblib.dump(best_rf, 'best_rf.jlib')"
   ]
  },
  {
   "cell_type": "code",
   "execution_count": null,
   "metadata": {
    "ExecuteTime": {
     "end_time": "2021-02-24T03:04:56.818106Z",
     "start_time": "2021-02-24T03:02:39.275941Z"
    }
   },
   "outputs": [],
   "source": [
    "# decision tree depth 5\n",
    "dtc = DecisionTreeClassifier(max_depth = 5)\n",
    "dtc.fit(X_train_processed, y_train)\n",
    "dtc_scores = cross_val_score(dtc, X_train_processed, y_train, cv = 5)\n",
    "print(dtc_scores.mean())"
   ]
  },
  {
   "cell_type": "code",
   "execution_count": null,
   "metadata": {
    "ExecuteTime": {
     "end_time": "2021-02-24T09:18:41.609099Z",
     "start_time": "2021-02-24T08:58:15.881952Z"
    }
   },
   "outputs": [],
   "source": [
    "# then grid search decision tree\n",
    "# random forest grid search\n",
    "dtc2 = DecisionTreeClassifier()\n",
    "\n",
    "dt_params = {'max_depth': range(5, 25, 5),\n",
    "             'max_features': range(50, 110, 20)}\n",
    "\n",
    "dt_grid = GridSearchCV(dtc2, dt_params, cv = 5, n_jobs = 2, verbose = 3)\n",
    "dt_grid.fit(X_train_processed, y_train)"
   ]
  },
  {
   "cell_type": "code",
   "execution_count": null,
   "metadata": {
    "ExecuteTime": {
     "end_time": "2021-02-24T09:18:41.672638Z",
     "start_time": "2021-02-24T09:18:41.630705Z"
    }
   },
   "outputs": [],
   "source": [
    "# print best score and parameters\n",
    "print(dt_grid.best_score_)\n",
    "print(dt_grid.best_params_)\n",
    "\n",
    "best_dt = dt_grid.best_estimator_\n",
    "\n",
    "# refit best model, save cross_val_scores then .mean()"
   ]
  },
  {
   "cell_type": "code",
   "execution_count": null,
   "metadata": {
    "ExecuteTime": {
     "end_time": "2021-02-24T09:18:41.809286Z",
     "start_time": "2021-02-24T09:18:41.702786Z"
    }
   },
   "outputs": [],
   "source": [
    "joblib.dump(best_dt, 'best_dt.jlib')"
   ]
  },
  {
   "cell_type": "code",
   "execution_count": null,
   "metadata": {
    "ExecuteTime": {
     "end_time": "2021-02-24T09:48:22.337358Z",
     "start_time": "2021-02-24T09:47:32.250036Z"
    }
   },
   "outputs": [],
   "source": [
    "print(best_dt.score(X_train_processed, y_train))\n",
    "print(best_dt.score(X_test_processed, y_test))"
   ]
  },
  {
   "cell_type": "code",
   "execution_count": null,
   "metadata": {
    "ExecuteTime": {
     "end_time": "2021-02-25T09:22:51.379905Z",
     "start_time": "2021-02-25T09:22:12.043094Z"
    }
   },
   "outputs": [],
   "source": [
    "print(classification_report(best_dt.predict(X_train_processed), y_train))\n",
    "plot_confusion_matrix(best_dt, X_train_processed,  y_train, labels = ['n', 's', 'f'], cmap = 'Blues')"
   ]
  },
  {
   "cell_type": "code",
   "execution_count": null,
   "metadata": {
    "ExecuteTime": {
     "end_time": "2021-02-25T09:23:51.545425Z",
     "start_time": "2021-02-25T09:22:51.417373Z"
    }
   },
   "outputs": [],
   "source": [
    "print(classification_report(best_dt.predict(X_test_processed), y_test))\n",
    "plot_confusion_matrix(best_dt, X_test_processed,  y_test, labels = ['n', 's', 'f'], cmap = 'Blues')"
   ]
  },
  {
   "cell_type": "code",
   "execution_count": null,
   "metadata": {
    "ExecuteTime": {
     "end_time": "2021-02-25T10:44:32.406598Z",
     "start_time": "2021-02-25T10:44:12.717711Z"
    }
   },
   "outputs": [],
   "source": [
    "plot_multiclass_roc(best_dt, X_test_processed, y_test, 3, figsize = (10, 6))"
   ]
  },
  {
   "cell_type": "code",
   "execution_count": null,
   "metadata": {
    "ExecuteTime": {
     "end_time": "2021-02-25T14:10:25.962068Z",
     "start_time": "2021-02-25T14:10:14.785529Z"
    },
    "scrolled": false
   },
   "outputs": [],
   "source": [
    "plot_multiclass_roc(best_dt, X_train_processed, y_train, 3, figsize = (10, 6))"
   ]
  },
  {
   "cell_type": "code",
   "execution_count": null,
   "metadata": {
    "ExecuteTime": {
     "end_time": "2021-02-25T11:00:52.154891Z",
     "start_time": "2021-02-25T11:00:35.676122Z"
    }
   },
   "outputs": [],
   "source": [
    "multiclass_precision_recall(best_dt, X_test_processed, y_test)"
   ]
  },
  {
   "cell_type": "code",
   "execution_count": null,
   "metadata": {
    "ExecuteTime": {
     "end_time": "2021-02-25T14:11:54.649223Z",
     "start_time": "2021-02-25T14:11:42.242998Z"
    }
   },
   "outputs": [],
   "source": [
    "multiclass_precision_recall(best_dt, X_train_processed, y_train)"
   ]
  },
  {
   "cell_type": "code",
   "execution_count": null,
   "metadata": {
    "ExecuteTime": {
     "end_time": "2021-02-25T10:55:18.682998Z",
     "start_time": "2021-02-25T10:55:18.649650Z"
    }
   },
   "outputs": [],
   "source": [
    "dt_feature_df = pd.DataFrame({'importances': best_dt.feature_importances_}, index = X_train_processed.columns)\n",
    "dt_feature_df.sort_values('importances', ascending = False).head(20)"
   ]
  },
  {
   "cell_type": "code",
   "execution_count": null,
   "metadata": {
    "ExecuteTime": {
     "end_time": "2021-02-25T10:55:54.030122Z",
     "start_time": "2021-02-25T10:55:53.018042Z"
    }
   },
   "outputs": [],
   "source": [
    "dt_feature_df.sort_values('importances', ascending = False).head(20).plot(kind = 'barh', figsize = (10, 10), color = 'b')"
   ]
  },
  {
   "cell_type": "code",
   "execution_count": null,
   "metadata": {
    "ExecuteTime": {
     "end_time": "2021-02-24T10:08:35.584620Z",
     "start_time": "2021-02-24T10:08:35.572716Z"
    }
   },
   "outputs": [],
   "source": [
    "# AdaBoost max depth 3\n",
    "\n",
    "from sklearn.ensemble import AdaBoostClassifier, GradientBoostingClassifier"
   ]
  },
  {
   "cell_type": "code",
   "execution_count": null,
   "metadata": {
    "ExecuteTime": {
     "end_time": "2021-02-24T13:26:18.173849Z",
     "start_time": "2021-02-24T10:10:41.329975Z"
    }
   },
   "outputs": [],
   "source": [
    "base_estimator = DecisionTreeClassifier(max_depth=3, max_features=0.3)\n",
    "ada = AdaBoostClassifier(base_estimator=base_estimator,\n",
    "                           n_estimators=100,\n",
    "                           random_state=1)\n",
    "ada.fit(X_train_processed, y_train)\n",
    "\n",
    "print(ada.score(X_train_processed, y_train))\n",
    "print(cross_val_score(ada, X_train_processed, y_train, cv=5).mean())\n",
    "print(ada.score(X_test_processed, y_test))"
   ]
  },
  {
   "cell_type": "code",
   "execution_count": null,
   "metadata": {
    "ExecuteTime": {
     "end_time": "2021-02-24T15:04:59.150980Z",
     "start_time": "2021-02-24T15:04:58.835547Z"
    }
   },
   "outputs": [],
   "source": [
    "joblib.dump(ada, 'ada.jlib')"
   ]
  },
  {
   "cell_type": "code",
   "execution_count": null,
   "metadata": {
    "ExecuteTime": {
     "end_time": "2021-02-24T15:03:36.676179Z",
     "start_time": "2021-02-24T13:33:17.465307Z"
    }
   },
   "outputs": [],
   "source": [
    "plt.plot(list(ada.staged_score(X_train_processed, y_train)),\n",
    "         label='training score', lw=2)\n",
    "plt.plot(list(ada.staged_score(X_test_processed, y_test)), label='test score', lw=2)\n",
    "plt.xlabel('iteration')\n",
    "plt.ylabel('score')\n",
    "plt.legend()\n",
    "plt.show()"
   ]
  },
  {
   "cell_type": "code",
   "execution_count": null,
   "metadata": {
    "ExecuteTime": {
     "end_time": "2021-02-25T11:40:20.395228Z",
     "start_time": "2021-02-25T11:10:24.368872Z"
    }
   },
   "outputs": [],
   "source": [
    "print(classification_report(ada.predict(X_train_processed), y_train))\n",
    "plot_confusion_matrix(ada, X_train_processed,  y_train, labels = ['n', 's', 'f'], cmap = 'Blues')"
   ]
  },
  {
   "cell_type": "code",
   "execution_count": null,
   "metadata": {
    "ExecuteTime": {
     "end_time": "2021-02-25T12:42:52.023459Z",
     "start_time": "2021-02-25T11:40:20.426000Z"
    }
   },
   "outputs": [],
   "source": [
    "print(classification_report(ada.predict(X_test_processed), y_test))\n",
    "plot_confusion_matrix(ada, X_test_processed,  y_test, labels = ['n', 's', 'f'], cmap = 'Blues')"
   ]
  },
  {
   "cell_type": "code",
   "execution_count": null,
   "metadata": {
    "ExecuteTime": {
     "end_time": "2021-02-25T13:06:38.528067Z",
     "start_time": "2021-02-25T12:42:52.040683Z"
    }
   },
   "outputs": [],
   "source": [
    "plot_multiclass_roc(ada, X_test_processed, y_test, 3, figsize = (10, 6))"
   ]
  },
  {
   "cell_type": "code",
   "execution_count": null,
   "metadata": {
    "ExecuteTime": {
     "end_time": "2021-02-25T14:29:02.787334Z",
     "start_time": "2021-02-25T14:15:43.896299Z"
    },
    "scrolled": false
   },
   "outputs": [],
   "source": [
    "plot_multiclass_roc(ada, X_train_processed, y_train, 3, figsize = (10, 6))"
   ]
  },
  {
   "cell_type": "code",
   "execution_count": null,
   "metadata": {
    "ExecuteTime": {
     "end_time": "2021-02-25T13:33:27.982393Z",
     "start_time": "2021-02-25T13:06:38.540812Z"
    }
   },
   "outputs": [],
   "source": [
    "multiclass_precision_recall(ada, X_test_processed, y_test)"
   ]
  },
  {
   "cell_type": "code",
   "execution_count": null,
   "metadata": {
    "ExecuteTime": {
     "end_time": "2021-02-25T14:40:07.493417Z",
     "start_time": "2021-02-25T14:29:02.806114Z"
    }
   },
   "outputs": [],
   "source": [
    "multiclass_precision_recall(ada, X_train_processed, y_train)"
   ]
  },
  {
   "cell_type": "code",
   "execution_count": null,
   "metadata": {
    "ExecuteTime": {
     "end_time": "2021-02-25T13:33:28.122568Z",
     "start_time": "2021-02-25T13:33:27.996163Z"
    }
   },
   "outputs": [],
   "source": [
    "ada_feature_df = pd.DataFrame({'importances': ada.feature_importances_}, index = X_train_processed.columns)\n",
    "ada_feature_df.sort_values('importances', ascending = False).head(20)"
   ]
  },
  {
   "cell_type": "code",
   "execution_count": null,
   "metadata": {
    "ExecuteTime": {
     "end_time": "2021-02-25T13:33:30.205965Z",
     "start_time": "2021-02-25T13:33:28.176007Z"
    }
   },
   "outputs": [],
   "source": [
    "ada_feature_df.sort_values('importances', ascending = False).head(20).plot(kind = 'barh', figsize = (10, 10), color = 'b')"
   ]
  },
  {
   "cell_type": "code",
   "execution_count": null,
   "metadata": {},
   "outputs": [],
   "source": []
  },
  {
   "cell_type": "code",
   "execution_count": null,
   "metadata": {
    "ExecuteTime": {
     "end_time": "2021-02-24T15:06:53.116520Z",
     "start_time": "2021-02-24T15:06:51.345963Z"
    }
   },
   "outputs": [],
   "source": [
    "from sklearn.experimental import enable_hist_gradient_boosting\n",
    "from sklearn.ensemble import HistGradientBoostingClassifier"
   ]
  },
  {
   "cell_type": "code",
   "execution_count": null,
   "metadata": {
    "ExecuteTime": {
     "end_time": "2021-02-24T17:27:58.754758Z",
     "start_time": "2021-02-24T15:51:21.498945Z"
    }
   },
   "outputs": [],
   "source": [
    "hb = HistGradientBoostingClassifier(max_depth = 3)\n",
    "\n",
    "hb.fit(X_train_processed, y_train)\n",
    "hb_scores = cross_val_score(hb, X_train_processed, y_train, cv=5)\n",
    "\n",
    "print(hb_scores.mean())\n",
    "print(ada.score(X_train_processed, y_train))\n",
    "print(ada.score(X_test_processed, y_test))"
   ]
  },
  {
   "cell_type": "code",
   "execution_count": null,
   "metadata": {
    "ExecuteTime": {
     "end_time": "2021-02-24T18:53:18.895751Z",
     "start_time": "2021-02-24T18:53:18.643150Z"
    }
   },
   "outputs": [],
   "source": [
    "joblib.dump(hb, 'histboost.joblib')"
   ]
  },
  {
   "cell_type": "code",
   "execution_count": null,
   "metadata": {},
   "outputs": [],
   "source": []
  },
  {
   "cell_type": "code",
   "execution_count": null,
   "metadata": {},
   "outputs": [],
   "source": []
  },
  {
   "cell_type": "code",
   "execution_count": null,
   "metadata": {},
   "outputs": [],
   "source": []
  },
  {
   "cell_type": "code",
   "execution_count": null,
   "metadata": {
    "ExecuteTime": {
     "end_time": "2021-02-24T18:54:25.558061Z",
     "start_time": "2021-02-24T18:54:25.523438Z"
    }
   },
   "outputs": [],
   "source": [
    "# Naive Bayes\n",
    "from sklearn import naive_bayes"
   ]
  },
  {
   "cell_type": "code",
   "execution_count": null,
   "metadata": {
    "ExecuteTime": {
     "end_time": "2021-02-24T19:56:14.954305Z",
     "start_time": "2021-02-24T19:42:50.596022Z"
    }
   },
   "outputs": [],
   "source": [
    "nb = naive_bayes.MultinomialNB()\n",
    "\n",
    "alphas = {'alpha': np.linspace(0.0001, 1.0, 10)}\n",
    "nb_grid = GridSearchCV(nb, alphas, cv = 5, n_jobs = 2, verbose = 3)\n",
    "nb_grid.fit(X_train_processed, y_train)\n",
    "\n",
    "print(nb_grid.best_score_)\n",
    "print(nb_grid.best_params_)\n",
    "best_nb = nb_grid.best_estimator_\n",
    "print(best_nb.score(X_train_processed, y_train))\n",
    "print(best_nb.score(X_test_processed, y_test))\n",
    "# nb_scores = cross_val_score(nb, X_train_processed, y_train, cv=5)\n",
    "# print(nb_scores.mean())\n",
    "# print(nb.score(X_train_processed, y_train))\n",
    "# print(nb.score(X_test_processed, y_test))"
   ]
  },
  {
   "cell_type": "code",
   "execution_count": null,
   "metadata": {
    "ExecuteTime": {
     "end_time": "2021-02-25T14:51:48.840268Z",
     "start_time": "2021-02-25T14:51:14.330833Z"
    }
   },
   "outputs": [],
   "source": [
    "print(classification_report(best_nb.predict(X_train_processed), y_train))\n",
    "plot_confusion_matrix(best_nb, X_train_processed,  y_train, labels = ['n', 's', 'f'], cmap = 'Blues')"
   ]
  },
  {
   "cell_type": "code",
   "execution_count": null,
   "metadata": {
    "ExecuteTime": {
     "end_time": "2021-02-25T14:52:56.945076Z",
     "start_time": "2021-02-25T14:51:48.869967Z"
    }
   },
   "outputs": [],
   "source": [
    "print(classification_report(best_nb.predict(X_test_processed), y_test))\n",
    "plot_confusion_matrix(best_nb, X_test_processed,  y_test, labels = ['n', 's', 'f'], cmap = 'Blues')"
   ]
  },
  {
   "cell_type": "code",
   "execution_count": null,
   "metadata": {
    "ExecuteTime": {
     "end_time": "2021-02-25T14:56:56.414969Z",
     "start_time": "2021-02-25T14:56:09.617746Z"
    }
   },
   "outputs": [],
   "source": [
    "plot_multiclass_roc(best_nb, X_test_processed, y_test, 3, figsize = (10, 6))\n",
    "multiclass_precision_recall(best_nb, X_test_processed, y_test)"
   ]
  },
  {
   "cell_type": "code",
   "execution_count": null,
   "metadata": {
    "ExecuteTime": {
     "end_time": "2021-02-25T14:57:14.988887Z",
     "start_time": "2021-02-25T14:56:56.437296Z"
    }
   },
   "outputs": [],
   "source": [
    "plot_multiclass_roc(best_nb, X_train_processed, y_train, 3, figsize = (10, 6))\n",
    "multiclass_precision_recall(best_nb, X_train_processed, y_train)"
   ]
  },
  {
   "cell_type": "code",
   "execution_count": null,
   "metadata": {
    "ExecuteTime": {
     "end_time": "2021-02-25T15:04:27.492369Z",
     "start_time": "2021-02-25T15:04:27.476227Z"
    }
   },
   "outputs": [],
   "source": [
    "best_nb.classes_"
   ]
  },
  {
   "cell_type": "code",
   "execution_count": null,
   "metadata": {
    "ExecuteTime": {
     "end_time": "2021-02-25T15:18:58.917385Z",
     "start_time": "2021-02-25T15:18:58.891802Z"
    }
   },
   "outputs": [],
   "source": [
    "np.exp(best_nb.feature_log_prob_[0])"
   ]
  },
  {
   "cell_type": "code",
   "execution_count": null,
   "metadata": {
    "ExecuteTime": {
     "end_time": "2021-02-25T15:19:32.855269Z",
     "start_time": "2021-02-25T15:19:32.802822Z"
    }
   },
   "outputs": [],
   "source": [
    "nb_feature_df = pd.DataFrame({'class_f': np.exp(best_nb.feature_log_prob_[0]),\n",
    "                              'class_n': np.exp(best_nb.feature_log_prob_[1]),\n",
    "                              'class_s': np.exp(best_nb.feature_log_prob_[2])},\n",
    "                             index = X_train_processed.columns)\n",
    "nb_feature_df.head()"
   ]
  },
  {
   "cell_type": "code",
   "execution_count": null,
   "metadata": {
    "ExecuteTime": {
     "end_time": "2021-02-25T15:19:38.085950Z",
     "start_time": "2021-02-25T15:19:36.864690Z"
    },
    "scrolled": false
   },
   "outputs": [],
   "source": [
    "nb_feature_df['class_f'].sort_values(ascending = False).head(20).plot(kind = 'barh', figsize = (10, 10), color = 'b')"
   ]
  },
  {
   "cell_type": "code",
   "execution_count": null,
   "metadata": {
    "ExecuteTime": {
     "end_time": "2021-02-25T15:19:40.912296Z",
     "start_time": "2021-02-25T15:19:39.859589Z"
    }
   },
   "outputs": [],
   "source": [
    "nb_feature_df['class_s'].sort_values(ascending = False).head(20).plot(kind = 'barh', figsize = (10, 10), color = 'b')"
   ]
  },
  {
   "cell_type": "code",
   "execution_count": null,
   "metadata": {
    "ExecuteTime": {
     "end_time": "2021-02-25T15:19:41.969425Z",
     "start_time": "2021-02-25T15:19:40.923916Z"
    }
   },
   "outputs": [],
   "source": [
    "nb_feature_df['class_n'].sort_values(ascending = False).head(20).plot(kind = 'barh', figsize = (10, 10), color = 'b')"
   ]
  },
  {
   "cell_type": "code",
   "execution_count": null,
   "metadata": {},
   "outputs": [],
   "source": []
  },
  {
   "cell_type": "code",
   "execution_count": null,
   "metadata": {
    "ExecuteTime": {
     "end_time": "2021-02-24T20:03:27.624606Z",
     "start_time": "2021-02-24T20:03:27.621492Z"
    }
   },
   "outputs": [],
   "source": [
    "# SVC\n",
    "from sklearn.svm import SVC"
   ]
  },
  {
   "cell_type": "code",
   "execution_count": null,
   "metadata": {
    "ExecuteTime": {
     "end_time": "2021-02-24T21:18:22.612928Z",
     "start_time": "2021-02-24T21:15:52.779550Z"
    }
   },
   "outputs": [],
   "source": [
    "svc = SVC()\n",
    "params = {'kernel': ['rbf', 'sigmoid'],\n",
    "          'C': np.logspace(-4, 2, 10),\n",
    "          'gamma': ['scale', 'auto']}\n",
    "\n",
    "svc_grid = GridSearchCV(svc, params, cv = 3, verbose = 3, n_jobs = -2)\n",
    "svc_grid.fit(X_train_processed, y_train)\n",
    "\n",
    "print(svc_grid.best_params_)\n",
    "print(svc_grid.best_score_)\n",
    "\n",
    "best_svc = svc_grid.best_estimator_\n",
    "\n",
    "print(best_svc.score(X_train_processed, y_train))\n",
    "print(best_svc.score(X_test_processed, y_test))"
   ]
  },
  {
   "cell_type": "code",
   "execution_count": null,
   "metadata": {
    "ExecuteTime": {
     "end_time": "2021-02-24T21:15:33.156751Z",
     "start_time": "2021-02-24T20:06:00.019Z"
    }
   },
   "outputs": [],
   "source": [
    "joblib.dump(best_svc, 'best_svc.jlib')"
   ]
  },
  {
   "cell_type": "code",
   "execution_count": null,
   "metadata": {},
   "outputs": [],
   "source": []
  },
  {
   "cell_type": "code",
   "execution_count": null,
   "metadata": {},
   "outputs": [],
   "source": []
  },
  {
   "cell_type": "code",
   "execution_count": null,
   "metadata": {},
   "outputs": [],
   "source": []
  },
  {
   "cell_type": "code",
   "execution_count": null,
   "metadata": {
    "ExecuteTime": {
     "end_time": "2021-02-22T14:01:01.647837Z",
     "start_time": "2021-02-21T22:43:19.178Z"
    }
   },
   "outputs": [],
   "source": [
    "# knn\n",
    "knn_params = {'n_neighbors': range(3, 303, 50)\n",
    "                'weights': ['uniform', 'distance'],\n",
    "                'metric': ['euclidean', 'manhattan']}\n",
    "\n",
    "knn = KNeighborsClassifier(max_iteration = 10000)\n",
    "\n",
    "knn_grid = GridSearchCV(knn, knn_params, n_jobs = -2, cv = 5, verbose = 3)\n",
    "# fit grid search\n",
    "knn_grid.fit(X_train_processed, y_train)\n",
    "\n",
    "# save best estimate\n",
    "best_knn = knn_gridsearch.best_estimator_\n",
    "\n",
    "# print best parameters chosen\n",
    "print('KNN best parameters: ', knn_grid.best_params_)\n",
    "# print best score (mean cv score)\n",
    "print('Best Score: ', knn_grid.best_score_)\n",
    "# print training and test scores\n",
    "print('Training score: ', knn_grid.score(X_train_processed, y_train))\n",
    "print('Test score: ', knn_grid.score(X_test_processed, y_test))\n"
   ]
  },
  {
   "cell_type": "code",
   "execution_count": null,
   "metadata": {
    "ExecuteTime": {
     "end_time": "2021-02-22T14:01:01.671070Z",
     "start_time": "2021-02-21T22:43:23.435Z"
    }
   },
   "outputs": [],
   "source": [
    "joblib.dump(best_knn, 'best_knn.jlib')\n",
    "# best_knn = joblib.load('best_knn.jlib')"
   ]
  },
  {
   "cell_type": "code",
   "execution_count": null,
   "metadata": {},
   "outputs": [],
   "source": [
    "# decision tree\n",
    "with joblib.parallel_backend('dask'):\n",
    "    decisiontree"
   ]
  },
  {
   "cell_type": "code",
   "execution_count": null,
   "metadata": {},
   "outputs": [],
   "source": [
    "# random forest"
   ]
  },
  {
   "cell_type": "code",
   "execution_count": null,
   "metadata": {},
   "outputs": [],
   "source": [
    "# svm"
   ]
  }
 ],
 "metadata": {
  "kernelspec": {
   "display_name": "Python 3",
   "language": "python",
   "name": "python3"
  },
  "language_info": {
   "codemirror_mode": {
    "name": "ipython",
    "version": 3
   },
   "file_extension": ".py",
   "mimetype": "text/x-python",
   "name": "python",
   "nbconvert_exporter": "python",
   "pygments_lexer": "ipython3",
   "version": "3.8.5"
  },
  "latex_envs": {
   "LaTeX_envs_menu_present": true,
   "autoclose": false,
   "autocomplete": true,
   "bibliofile": "biblio.bib",
   "cite_by": "apalike",
   "current_citInitial": 1,
   "eqLabelWithNumbers": true,
   "eqNumInitial": 1,
   "hotkeys": {
    "equation": "Ctrl-E",
    "itemize": "Ctrl-I"
   },
   "labels_anchors": false,
   "latex_user_defs": false,
   "report_style_numbering": false,
   "user_envs_cfg": false
  },
  "nbTranslate": {
   "displayLangs": [
    "*"
   ],
   "hotkey": "alt-t",
   "langInMainMenu": true,
   "sourceLang": "en",
   "targetLang": "fr",
   "useGoogleTranslate": true
  },
  "toc": {
   "base_numbering": 1,
   "nav_menu": {},
   "number_sections": true,
   "sideBar": true,
   "skip_h1_title": false,
   "title_cell": "Table of Contents",
   "title_sidebar": "Contents",
   "toc_cell": false,
   "toc_position": {},
   "toc_section_display": true,
   "toc_window_display": false
  }
 },
 "nbformat": 4,
 "nbformat_minor": 4
}
